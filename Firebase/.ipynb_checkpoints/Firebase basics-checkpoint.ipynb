{
 "cells": [
  {
   "cell_type": "markdown",
   "id": "239fbe80",
   "metadata": {},
   "source": [
    "### Instalacja Firebase"
   ]
  },
  {
   "cell_type": "code",
   "execution_count": null,
   "id": "738477a0",
   "metadata": {},
   "outputs": [],
   "source": [
    "## na stronie firebase postępować zgodnie ze wskazówkami czyli:\n",
    "## add project -> disable google analytics (opcjonalnie można zostawić) -> create project\n",
    "## w menu po lewej (rozwijane menu) wybieramy create build realtime database, wybieramy serwer, test mode\n",
    "## po zakończeniu przygotowania bazy danych wybieramy czy chcemy appkę iOs, Android lub Webową\n",
    "## wpisujemy nazwę appki i naciskamy register\n",
    "## pojawi się instrukcja implementacji WAŻNE: jeżeli firebaseConfig nie posiada \"databaseURL: ...\" to znaczy, że nie mamy \n",
    "## zainicjowane realtime database (wróć do 3 linijki)\n",
    "\n",
    "## instalujemy firebase w projekcie\n",
    "npm install firebase\n",
    "\n",
    "\n"
   ]
  },
  {
   "cell_type": "code",
   "execution_count": null,
   "id": "0df75ba0",
   "metadata": {},
   "outputs": [],
   "source": [
    "## importujemy dodatkowo (oprócz tego co jest w instrukcji implementacji)\n",
    "import { getDatabase, ref, push} from 'firebase/database'\n",
    "\n",
    "## pod poniższym kodem dopisujemy\n",
    "const app = initializeApp(firebaseConfig)\n",
    "const database = getDatbase(app)\n",
    "const itemsInDB = ref(database, \"someItems\") # <-- items to nazwa kolumny do której będziemy dodawać nowe wartości\n",
    "\n",
    "## wówczas jeżeli mamy tak skonfigurowaną bazę to możemy np po kliknięciu dodać nowy rekord\n",
    "function handleClick() {\n",
    "    push(itemsInDB, formData)  # formData to np wartość z pola input.\n",
    "}"
   ]
  },
  {
   "cell_type": "markdown",
   "id": "5a664cac",
   "metadata": {},
   "source": [
    "### Pobieranie danych"
   ]
  },
  {
   "cell_type": "code",
   "execution_count": null,
   "id": "f30ffbef",
   "metadata": {},
   "outputs": [],
   "source": [
    "## do importu firebase/databse dodajemy onValue\n",
    "import {..., onValue} from \"firebase/database\"\n",
    "\n",
    "onValue(itemsInDB, function(snapshot) { ##najpierw podajemy w parametrach bazę danych, a następnie funkcję z parametrem snapshot\n",
    "    ## snapshot jest listą obiektów (entries) składającą sie z key, value, ale\n",
    "    ## aby uzyskać do nich dostęp to musimy przykładowo zrobić jak niżej\n",
    "    let itemsArray = Object.entries(snapshot.val().map(item => { ## ważny jest snapshot.val()\n",
    "        console.log(\"key\", item[0]) ## key to będzie wygenerowany przez firebase id\n",
    "        console.log(\"value\", item[1]) ## value to będzie dana z bazy\n",
    "    }))\n",
    "})\n",
    "\n",
    "## aby sprawdzić czy są jakieś wpisy można użyć funkcji\n",
    "if (snapshot.exists() {\n",
    "    # do something\n",
    "})\n",
    "\n",
    "# w projekcie React np. w custom hook\n",
    "const [fetchedData, setFetchedData] = useState([])\n",
    "\n",
    "async function getRecipesData() {\n",
    "        onValue(recipesInDB, (snapshot) => {\n",
    "            const data = snapshot.val();\n",
    "            setFechtedData(data)\n",
    "        })\n",
    "    }"
   ]
  },
  {
   "cell_type": "markdown",
   "id": "927122ad",
   "metadata": {},
   "source": [
    "### Usuwanie danych"
   ]
  },
  {
   "cell_type": "code",
   "execution_count": null,
   "id": "ef51e36f",
   "metadata": {},
   "outputs": [],
   "source": [
    "## importujemy remove z \"firebase/database\" i przypisujemy do zmiennej\n",
    "let itemToDelete = ref(database, `someItems/${id}`) ## id wpisu który chcemy usunąć\n",
    "remove(itemToDelete)"
   ]
  }
 ],
 "metadata": {
  "kernelspec": {
   "display_name": "Python 3 (ipykernel)",
   "language": "python",
   "name": "python3"
  },
  "language_info": {
   "codemirror_mode": {
    "name": "ipython",
    "version": 3
   },
   "file_extension": ".py",
   "mimetype": "text/x-python",
   "name": "python",
   "nbconvert_exporter": "python",
   "pygments_lexer": "ipython3",
   "version": "3.11.2"
  }
 },
 "nbformat": 4,
 "nbformat_minor": 5
}
