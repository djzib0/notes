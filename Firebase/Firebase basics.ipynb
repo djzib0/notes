{
 "cells": [
  {
   "cell_type": "markdown",
   "id": "ecba6826",
   "metadata": {},
   "source": [
    "### Instalacja Firebase"
   ]
  },
  {
   "cell_type": "code",
   "execution_count": null,
   "id": "699c0a69",
   "metadata": {},
   "outputs": [],
   "source": [
    "## na stronie firebase postępować zgodnie ze wskazówkami czyli:\n",
    "## add project -> disable google analytics (opcjonalnie można zostawić) -> create project\n",
    "## w menu po lewej (rozwijane menu) wybieramy create build realtime database, wybieramy serwer, test mode\n",
    "## po zakończeniu przygotowania bazy danych wybieramy czy chcemy appkę iOs, Android lub Webową\n",
    "## wpisujemy nazwę appki i naciskamy register\n",
    "## pojawi się instrukcja implementacji WAŻNE: jeżeli firebaseConfig nie posiada \"databaseURL: ...\" to znaczy, że nie mamy \n",
    "## zainicjowane realtime database (wróć do 3 linijki)\n",
    "\n",
    "## ostatania linijki z implementacji to:\n",
    "\n",
    "## importujemy dodatkowo (oprócz tego co jest w instrukcji implementacji)\n",
    "import { getDatabase, ref, push} from 'firebase/database'\n",
    "\n",
    "## pod poniższym kodem dopisujemy\n",
    "const app = initializeApp(firebaseConfig)\n",
    "const database = getDatbase(app)\n",
    "const itemsInDB = ref(database, \"items\") # <-- items to nazwa kolumny do której będziemy dodawać nowe wartości\n",
    "\n",
    "## wówczas jeżeli mamy tak skonfigurowaną bazę to możemy np po kliknięciu dodać nowy rekord\n",
    "function handleClick() {\n",
    "    push(itemsInDB, formData)  # formData to np wartość z pola input.\n",
    "}\n",
    "\n",
    "\n"
   ]
  }
 ],
 "metadata": {
  "kernelspec": {
   "display_name": "Python 3 (ipykernel)",
   "language": "python",
   "name": "python3"
  },
  "language_info": {
   "codemirror_mode": {
    "name": "ipython",
    "version": 3
   },
   "file_extension": ".py",
   "mimetype": "text/x-python",
   "name": "python",
   "nbconvert_exporter": "python",
   "pygments_lexer": "ipython3",
   "version": "3.11.2"
  }
 },
 "nbformat": 4,
 "nbformat_minor": 5
}
