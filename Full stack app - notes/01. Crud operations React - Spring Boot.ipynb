{
 "cells": [
  {
   "cell_type": "markdown",
   "id": "02450859",
   "metadata": {},
   "source": [
    "Jeżeli chcemy testować aplikację lokalnie to w projekcie React dopisujemy w pliku package.json"
   ]
  },
  {
   "cell_type": "code",
   "execution_count": null,
   "id": "3b0e92af",
   "metadata": {},
   "outputs": [],
   "source": [
    " \"proxy\": \"http://localhost:8080/\""
   ]
  },
  {
   "cell_type": "markdown",
   "id": "f478e97c",
   "metadata": {},
   "source": [
    "### Metoda GET\n",
    "\n",
    "Zależało mi na pobraniu danych użytownika, oraz po pobraniu ustawień użytkownika, na podstawie pobranego id użytkownika.\n",
    "Pomimo kilku prób i błędów, udało się w końcu napisać działający poprawnie kod. Do tego użyłem dwóch useEffect. Jeden pobierał dane użytkownika i zapisywał je w useState, drugi useEffect po zmianie w useState uruchamiał kod do pobrania danych ustawień."
   ]
  },
  {
   "cell_type": "code",
   "execution_count": null,
   "id": "46806083",
   "metadata": {},
   "outputs": [],
   "source": [
    "export default function App() {\n",
    "\n",
    "  const [authUser, setAuthUser] = useState();\n",
    "  const [settings, setSettings] = useState();\n",
    "\n",
    "  // fetching data\n",
    "  const [users, setUsers] = useState([]);\n",
    "  const [loading, setLoading] = useState(false)\n",
    "  const [error, setError] = useState(null)\n",
    "\n",
    "  \n",
    "  useEffect(() => {\n",
    "    setLoading(true)\n",
    "    fetch(`/data/users/${1}`)\n",
    "    .then(res =>  {\n",
    "      if (!res.ok) { # throw an error, for example you can pass the error.message to another component to display it\n",
    "        throw {\n",
    "          message: \"Failed to fetch users\",\n",
    "          statusText: res.statusText,\n",
    "          status: res.status\n",
    "        }\n",
    "      }\n",
    "      return res.json()})\n",
    "    .then(data => {\n",
    "      console.log(data  + \" data\")\n",
    "      setAuthUser(data)\n",
    "    })\n",
    "    .catch(err => setError(err))\n",
    "    .finally(setLoading(false))\n",
    "  }, [])\n",
    "  \n",
    "  useEffect(() => {\n",
    "    if (authUser) {\n",
    "      fetch(`/data/settings/user/${authUser.appUserId}`)\n",
    "      .then(res => res.json())\n",
    "      .then(settingsData => setSettings(settingsData))\n",
    "    }\n",
    "  }, [authUser])\n",
    "  \n",
    "  console.log(settings)\n",
    "  return (\n",
    "    <div className=\"App\">\n",
    "      <AuthUserContext.Provider value={{authUser, loading, error}}>\n",
    "        <Routes>\n",
    "          <Route element={<MainLayout />}>\n",
    "            <Route path=\"/\" element={<Main />} />\n",
    "            <Route path='/settings' element={<Settings />} />\n",
    "          </Route>\n",
    "        </Routes>\n",
    "      </AuthUserContext.Provider>\n",
    "    </div>\n",
    "  );\n",
    "}\n",
    "\n",
    "export { AuthUserContext } ;"
   ]
  }
 ],
 "metadata": {
  "kernelspec": {
   "display_name": "Python 3 (ipykernel)",
   "language": "python",
   "name": "python3"
  },
  "language_info": {
   "codemirror_mode": {
    "name": "ipython",
    "version": 3
   },
   "file_extension": ".py",
   "mimetype": "text/x-python",
   "name": "python",
   "nbconvert_exporter": "python",
   "pygments_lexer": "ipython3",
   "version": "3.11.2"
  }
 },
 "nbformat": 4,
 "nbformat_minor": 5
}
