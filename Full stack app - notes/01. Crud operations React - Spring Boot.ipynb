{
 "cells": [
  {
   "cell_type": "markdown",
   "id": "02450859",
   "metadata": {},
   "source": [
    "Jeżeli chcemy testować aplikację lokalnie to w projekcie React dopisujemy w pliku package.json"
   ]
  },
  {
   "cell_type": "code",
   "execution_count": null,
   "id": "3b0e92af",
   "metadata": {},
   "outputs": [],
   "source": [
    " \"proxy\": \"http://localhost:8080/\""
   ]
  },
  {
   "cell_type": "markdown",
   "id": "f478e97c",
   "metadata": {},
   "source": [
    "Metoda GET"
   ]
  }
 ],
 "metadata": {
  "kernelspec": {
   "display_name": "Python 3 (ipykernel)",
   "language": "python",
   "name": "python3"
  },
  "language_info": {
   "codemirror_mode": {
    "name": "ipython",
    "version": 3
   },
   "file_extension": ".py",
   "mimetype": "text/x-python",
   "name": "python",
   "nbconvert_exporter": "python",
   "pygments_lexer": "ipython3",
   "version": "3.11.2"
  }
 },
 "nbformat": 4,
 "nbformat_minor": 5
}
