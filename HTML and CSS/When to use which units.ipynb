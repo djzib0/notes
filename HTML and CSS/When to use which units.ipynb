{
 "cells": [
  {
   "cell_type": "markdown",
   "id": "98879cf9",
   "metadata": {},
   "source": [
    "### Kiedy używać rem?"
   ]
  },
  {
   "cell_type": "markdown",
   "id": "e5f7f419",
   "metadata": {},
   "source": [
    "Rem najlepiej używać dla font-size - unikniemy nakładania się linii/czcionek itp."
   ]
  },
  {
   "cell_type": "markdown",
   "id": "8d28c63f",
   "metadata": {},
   "source": [
    "### Kiedy używać em?"
   ]
  },
  {
   "cell_type": "markdown",
   "id": "284fbadf",
   "metadata": {},
   "source": [
    "Em najlepiej używać dla padding i margin - pozwoli to na lepszą "
   ]
  },
  {
   "cell_type": "markdown",
   "id": "3eb0d488",
   "metadata": {},
   "source": [
    "### Jakiej jednostki używać dla line-height?"
   ]
  },
  {
   "cell_type": "markdown",
   "id": "9fa37865",
   "metadata": {},
   "source": [
    "Najlepiej używać bezjednostkowej wartości czyli \"line-height: 1.5;\""
   ]
  },
  {
   "cell_type": "markdown",
   "id": "35b8cedc",
   "metadata": {},
   "source": [
    "### Jakiej jednostki używać dla \"width\"?"
   ]
  },
  {
   "cell_type": "markdown",
   "id": "8aa3ef2d",
   "metadata": {},
   "source": [
    "Dla \"width\" najlepiej używać \"procentowej\" wartości."
   ]
  },
  {
   "cell_type": "markdown",
   "id": "ece61360",
   "metadata": {},
   "source": [
    "### Kiedy używać \"px\"?"
   ]
  },
  {
   "cell_type": "markdown",
   "id": "9ff22bf3",
   "metadata": {},
   "source": [
    "px najlepiej używać dla max-width."
   ]
  },
  {
   "cell_type": "code",
   "execution_count": null,
   "id": "ab1abb31",
   "metadata": {},
   "outputs": [],
   "source": []
  }
 ],
 "metadata": {
  "kernelspec": {
   "display_name": "Python 3 (ipykernel)",
   "language": "python",
   "name": "python3"
  },
  "language_info": {
   "codemirror_mode": {
    "name": "ipython",
    "version": 3
   },
   "file_extension": ".py",
   "mimetype": "text/x-python",
   "name": "python",
   "nbconvert_exporter": "python",
   "pygments_lexer": "ipython3",
   "version": "3.10.4"
  }
 },
 "nbformat": 4,
 "nbformat_minor": 5
}
