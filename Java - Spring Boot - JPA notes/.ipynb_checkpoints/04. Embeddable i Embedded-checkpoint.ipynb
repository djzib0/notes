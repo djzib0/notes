{
 "cells": [
  {
   "cell_type": "markdown",
   "id": "19ae1bfa",
   "metadata": {},
   "source": [
    "### Embbedable i embedded\n",
    "\n",
    "Chcemy aby model opisujący opiekuna studenta nie był modelem encji w bazie danych, tylko osobną klasą.\n",
    "W tym celu tworzymy nową klasę w pakiecie entity"
   ]
  },
  {
   "cell_type": "code",
   "execution_count": null,
   "id": "2fce3133",
   "metadata": {},
   "outputs": [],
   "source": [
    "@Embeddable ## We set the class a @Embeddable\n",
    "@Data\n",
    "@AllArgsConstructor\n",
    "@NoArgsConstructor\n",
    "@Builder\n",
    "@AttributeOverrides({  ## we set here overrides for column names\n",
    "        @AttributeOverride(\n",
    "                name = \"name\",  ## we have String name which represents the database existing column guardian_name\n",
    "                column = @Column(name = \"guardian_name\") ## we point out which column in db attribute refers to\n",
    "        ),\n",
    "        @AttributeOverride(\n",
    "                name = \"email\",\n",
    "                column = @Column(name = \"guardian_email\")\n",
    "        ),\n",
    "        @AttributeOverride(\n",
    "                name = \"mobile\",\n",
    "                column = @Column(name = \"guardian_mobile\")\n",
    "        )\n",
    "\n",
    "})\n",
    "public class Guardian {\n",
    "\n",
    "    private String name;\n",
    "    private String email;\n",
    "    private String mobile;\n",
    "}"
   ]
  },
  {
   "cell_type": "markdown",
   "id": "9510daca",
   "metadata": {},
   "source": [
    "In Student entity class we have to change the attributes."
   ]
  },
  {
   "cell_type": "code",
   "execution_count": null,
   "id": "d86f0c0e",
   "metadata": {},
   "outputs": [],
   "source": [
    "@Entity\n",
    "@Data\n",
    "@AllArgsConstructor\n",
    "@NoArgsConstructor\n",
    "@Builder\n",
    "@Table(\n",
    "        name = \"tbl_student\",\n",
    "        uniqueConstraints = @UniqueConstraint(\n",
    "                name = \"emailid_unique\",\n",
    "                columnNames = \"email_address\"\n",
    "        )\n",
    ")\n",
    "public class Student {\n",
    "\n",
    "    @Id\n",
    "    @SequenceGenerator(\n",
    "            name = \"student_sequence\",\n",
    "            sequenceName = \"student_sequence\",\n",
    "            allocationSize = 1\n",
    "    )\n",
    "    @GeneratedValue(\n",
    "            strategy = GenerationType.SEQUENCE,\n",
    "            generator = \"student_sequence\"\n",
    "    )\n",
    "    private Long studentId;\n",
    "    private String firstName;\n",
    "    private String lastName;\n",
    "\n",
    "    @Column(\n",
    "            name = \"email_address\",\n",
    "            nullable = false\n",
    "    )\n",
    "    private String email;\n",
    "\n",
    "//    private String guardianName;  ## remove this line\n",
    "//    private String guardianEmail; ## remove this line\n",
    "//    private String guardianMobile;## remove this line\n",
    "\n",
    "    @Embedded  ## we set this as Embedded \n",
    "    private Guardian guardian;\n",
    "}"
   ]
  },
  {
   "cell_type": "markdown",
   "id": "9495c1a5",
   "metadata": {},
   "source": [
    "In the repository test file we can test our embedded class."
   ]
  },
  {
   "cell_type": "code",
   "execution_count": null,
   "id": "9371ec09",
   "metadata": {},
   "outputs": [],
   "source": [
    "@Test\n",
    "    public void saveStudentWithGuardian() {\n",
    "\n",
    "        Guardian guardian = Guardian.builder()\n",
    "                .name(\"GuardianName\")\n",
    "                .email(\"mm@gmail.com\")\n",
    "                .mobile(\"123123432\")\n",
    "                .build();\n",
    "\n",
    "\n",
    "        Student student = Student.builder()\n",
    "                .firstName(\"Tony\")\n",
    "                .lastName(\"Soprano\")\n",
    "                .email(\"ts@gmail.com\")\n",
    "                .guardian(guardian)\n",
    "                .build();\n",
    "\n",
    "        studentRepository.save(student);\n",
    "    }"
   ]
  }
 ],
 "metadata": {
  "kernelspec": {
   "display_name": "Python 3 (ipykernel)",
   "language": "python",
   "name": "python3"
  },
  "language_info": {
   "codemirror_mode": {
    "name": "ipython",
    "version": 3
   },
   "file_extension": ".py",
   "mimetype": "text/x-python",
   "name": "python",
   "nbconvert_exporter": "python",
   "pygments_lexer": "ipython3",
   "version": "3.11.2"
  }
 },
 "nbformat": 4,
 "nbformat_minor": 5
}
