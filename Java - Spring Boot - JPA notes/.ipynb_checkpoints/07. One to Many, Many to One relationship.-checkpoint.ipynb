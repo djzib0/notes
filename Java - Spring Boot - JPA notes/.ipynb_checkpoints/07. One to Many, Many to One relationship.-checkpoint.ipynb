{
 "cells": [
  {
   "cell_type": "markdown",
   "id": "abbe7439",
   "metadata": {},
   "source": [
    "#### One to Many, Many to One - relacje.\n",
    "\n",
    "Aby stworzyć relację jeden do wielu należy stworzyć model encji jak niżej.\n",
    "Zakładamy, że jeden nauczyciel może prowadzić wiele kursów."
   ]
  },
  {
   "cell_type": "code",
   "execution_count": null,
   "id": "9229e7cb",
   "metadata": {},
   "outputs": [],
   "source": [
    "@Entity\n",
    "@Data\n",
    "@Builder\n",
    "@AllArgsConstructor\n",
    "@NoArgsConstructor\n",
    "public class Teacher {\n",
    "\n",
    "    @Id\n",
    "    @SequenceGenerator(\n",
    "            name = \"teacher_sequence\",\n",
    "            sequenceName = \"teacher_sequence\",\n",
    "            allocationSize = 1\n",
    "    )\n",
    "    @GeneratedValue\n",
    "            (\n",
    "                    strategy = GenerationType.SEQUENCE,\n",
    "                    generator = \"teacher_sequence\"\n",
    "            )\n",
    "    private Long teacherId;\n",
    "    private String firstName;\n",
    "    private String lastName;\n",
    "\n",
    "    @OneToMany(  ## one teacher can teach many courses\n",
    "            cascade = CascadeType.ALL\n",
    "    )\n",
    "    @JoinColumn(\n",
    "            name = \"teacher_id\",  ## creates foreign key column with this name\n",
    "            referencedColumnName = \"teacherId\"  ## refers to attribute joinining column will be done\n",
    "    )\n",
    "    private List<Course> courses;\n",
    "}"
   ]
  },
  {
   "cell_type": "markdown",
   "id": "3d192266",
   "metadata": {},
   "source": [
    "Zakładamy, że mamy wiele kursów, ale każdy kurs może być prowadzony tylko przez jednego nauczyciela."
   ]
  },
  {
   "cell_type": "code",
   "execution_count": null,
   "id": "3a4613b8",
   "metadata": {},
   "outputs": [],
   "source": [
    "@Entity\n",
    "@Data\n",
    "@AllArgsConstructor\n",
    "@NoArgsConstructor\n",
    "@Builder\n",
    "public class Course {\n",
    "\n",
    "    @Id\n",
    "    @SequenceGenerator(\n",
    "            name = \"course_sequence\",\n",
    "            sequenceName = \"course_sequence\",\n",
    "            allocationSize = 1\n",
    "    )\n",
    "    @GeneratedValue(\n",
    "            strategy = GenerationType.SEQUENCE,\n",
    "            generator = \"course_sequence\"\n",
    "    )\n",
    "    private Long courseId;\n",
    "    private String title;\n",
    "    private Integer credit;\n",
    "\n",
    "    @OneToOne(\n",
    "            mappedBy = \"course\",\n",
    "            fetch = FetchType.LAZY\n",
    "    )\n",
    "    private CourseMaterial courseMaterial;\n",
    "\n",
    "    @ManyToOne(\n",
    "            cascade = CascadeType.ALL\n",
    "    )\n",
    "    @JoinColumn(\n",
    "            name = \"teacher_id\", ## creates foreign key column with this name\n",
    "            referencedColumnName = \"teacherId\" ## refers to attribute joinining column will be done\n",
    "    )\n",
    "    private Teacher teacher;\n",
    "}"
   ]
  }
 ],
 "metadata": {
  "kernelspec": {
   "display_name": "Python 3 (ipykernel)",
   "language": "python",
   "name": "python3"
  },
  "language_info": {
   "codemirror_mode": {
    "name": "ipython",
    "version": 3
   },
   "file_extension": ".py",
   "mimetype": "text/x-python",
   "name": "python",
   "nbconvert_exporter": "python",
   "pygments_lexer": "ipython3",
   "version": "3.11.2"
  }
 },
 "nbformat": 4,
 "nbformat_minor": 5
}
