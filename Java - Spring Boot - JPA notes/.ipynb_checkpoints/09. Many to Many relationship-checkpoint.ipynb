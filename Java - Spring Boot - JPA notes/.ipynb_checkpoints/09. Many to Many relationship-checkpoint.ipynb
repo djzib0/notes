{
 "cells": [
  {
   "cell_type": "markdown",
   "id": "cb933bf9",
   "metadata": {},
   "source": [
    "### Relacja Many to Many\n",
    "\n",
    "Dla relacji \"Many to Many\" tworzymy nową tabelę w bazie danych. Aby ją stworzyć dodajemy do klasy Course poniższy kod."
   ]
  },
  {
   "cell_type": "code",
   "execution_count": null,
   "id": "3e6899d1",
   "metadata": {},
   "outputs": [],
   "source": [
    "@Entity\n",
    "@Data\n",
    "@AllArgsConstructor\n",
    "@NoArgsConstructor\n",
    "@Builder\n",
    "public class Course {\n",
    "\n",
    "    @Id\n",
    "    @SequenceGenerator(\n",
    "            name = \"course_sequence\",\n",
    "            sequenceName = \"course_sequence\",\n",
    "            allocationSize = 1\n",
    "    )\n",
    "    @GeneratedValue(\n",
    "            strategy = GenerationType.SEQUENCE,\n",
    "            generator = \"course_sequence\"\n",
    "    )\n",
    "    private Long courseId;\n",
    "    \n",
    "    \n",
    "    ## ...snippet...\n",
    "\n",
    "    @ManyToMany(\n",
    "            cascade = CascadeType.ALL\n",
    "    )\n",
    "    \n",
    "    ## create Many To Many relationship\n",
    "    @JoinTable(\n",
    "            name = \"student_course_map\",  ## defines name of the table\n",
    "            joinColumns = @JoinColumn(  ## sets the columns which will be joined \n",
    "                    name = \"course_id\", ## defines the name of the column in the table, which will keep courseId records\n",
    "                    referencedColumnName = \"courseId\" ## reference to column from Course class\n",
    "            ),\n",
    "            inverseJoinColumns = @JoinColumn(\n",
    "                    name = \"student_id\", ## defines the name of the column in the table, which will keep studentId records\n",
    "                    referencedColumnName = \"studentId\" ## reference to column from Student class\n",
    "            )\n",
    "    )\n",
    "    private List<Student> students;\n",
    "\n",
    "    public void addStudent(Student student) {\n",
    "        if (students == null) students = new ArrayList<>();\n",
    "        students.add(student);\n",
    "    }\n",
    "}"
   ]
  }
 ],
 "metadata": {
  "kernelspec": {
   "display_name": "Python 3 (ipykernel)",
   "language": "python",
   "name": "python3"
  },
  "language_info": {
   "codemirror_mode": {
    "name": "ipython",
    "version": 3
   },
   "file_extension": ".py",
   "mimetype": "text/x-python",
   "name": "python",
   "nbconvert_exporter": "python",
   "pygments_lexer": "ipython3",
   "version": "3.11.2"
  }
 },
 "nbformat": 4,
 "nbformat_minor": 5
}
