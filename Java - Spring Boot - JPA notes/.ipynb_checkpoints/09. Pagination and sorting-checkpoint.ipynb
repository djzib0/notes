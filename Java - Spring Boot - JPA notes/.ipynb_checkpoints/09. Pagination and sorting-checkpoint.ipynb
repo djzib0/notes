{
 "cells": [
  {
   "cell_type": "markdown",
   "id": "dd95d5aa",
   "metadata": {},
   "source": [
    "### Stronnicowanie i sortowanie wyników\n",
    "\n",
    "Aby skorzystać ze stronnicowania należy użyć poniższego kodu. (w pliku testowym, lub np w serwisie)."
   ]
  },
  {
   "cell_type": "code",
   "execution_count": null,
   "id": "cd73cfbe",
   "metadata": {},
   "outputs": [],
   "source": [
    "public void findAllPagination() {\n",
    "    Pageable firstPageWithThreeRecords = PageRequest.of(0, 3); # we pass two arguments pageNumber and pageSize\n",
    "\n",
    "    #build-in method to get total number of elements\n",
    "    long totalElements = courseRepository.findAll(firstPageWithThreeRecords).getTotalElements();\n",
    "\n",
    "    #build-in method to get total number of pages\n",
    "    long totalPages = courseRepository.findAll(firstPageWithThreeRecords).getTotalPages();\n",
    "\n",
    "    #creates a list base on the set pagination\n",
    "    List<Course> courses = courseRepository.findAll(firstPageWithThreeRecords).getContent();\n",
    "\n",
    "    System.out.println(\"totalPages = \" + totalPages);\n",
    "    System.out.println(\"totalElements = \" + totalElements);\n",
    "    System.out.println(\"courses = \" + courses);"
   ]
  },
  {
   "cell_type": "markdown",
   "id": "d8d7639a",
   "metadata": {},
   "source": [
    "Do sortowania stosujemy rozwiązanie jak niżej."
   ]
  },
  {
   "cell_type": "code",
   "execution_count": null,
   "id": "6b71da0c",
   "metadata": {},
   "outputs": [],
   "source": [
    "@Test\n",
    "    public void findAllSorting() {\n",
    "        # example of sorting by specific column\n",
    "        Pageable sortByTitle =\n",
    "                PageRequest.of(\n",
    "                        0,\n",
    "                        2,\n",
    "                        Sort.by(\"title\")\n",
    "                );\n",
    "\n",
    "        # example of sorting with descending order\n",
    "        Pageable sortByCreditDesc =\n",
    "                PageRequest.of(\n",
    "                        0,\n",
    "                        2,\n",
    "                        Sort.by(\"credit\").descending()\n",
    "                );\n",
    "        \n",
    "\n",
    "        # example of sorting by two or more columns\n",
    "        Pageable sortByTitleAndCreditDesc =\n",
    "                PageRequest.of(\n",
    "                        0,\n",
    "                        2,\n",
    "                        Sort.by(\"title\").descending()\n",
    "                        .and(Sort.by(\"credit\"))\n",
    "                );\n",
    "\n",
    "        List<Course> courses = courseRepository.findAll(sortByTitleAndCreditDesc).getContent();\n",
    "\n",
    "        System.out.println(\"course + \" + courses);\n",
    "    }"
   ]
  }
 ],
 "metadata": {
  "kernelspec": {
   "display_name": "Python 3 (ipykernel)",
   "language": "python",
   "name": "python3"
  },
  "language_info": {
   "codemirror_mode": {
    "name": "ipython",
    "version": 3
   },
   "file_extension": ".py",
   "mimetype": "text/x-python",
   "name": "python",
   "nbconvert_exporter": "python",
   "pygments_lexer": "ipython3",
   "version": "3.11.2"
  }
 },
 "nbformat": 4,
 "nbformat_minor": 5
}
