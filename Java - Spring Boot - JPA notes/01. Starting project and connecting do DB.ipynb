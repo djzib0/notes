{
 "cells": [
  {
   "cell_type": "markdown",
   "id": "7d979d06",
   "metadata": {},
   "source": [
    "### Inicjalizacja projektu i połączenie się z MySQL\n",
    "\n",
    "Projekt inicjalizujemy poprzez wygenerowanie pliku na stronie https://start.spring.io/.\n",
    "Wybieramy zależności jakie chcemy dodać do projektu. W tym przypadku są to:\n",
    "\n",
    "Spring Web, MySQL, JPA, Lombok.\n",
    "\n",
    "Następnie po uruchomieniu katalogu w IntelliJ IDE, dodajemy do application.properties"
   ]
  },
  {
   "cell_type": "code",
   "execution_count": null,
   "id": "0e06cc76",
   "metadata": {},
   "outputs": [],
   "source": [
    "spring.jpa.hibernate.ddl-auto=update\n",
    "spring.datasource.url=jdbc:mysql://127.0.0.1:3306/schemaName  ## address of database \"deptdb\"\n",
    "spring.datasource.username=root\n",
    "spring.datasource.password=password\n",
    "spring.datasource.driverClassName=com.mysql.cj.jdbc.Driver\n",
    "\n",
    "# application.properties\n",
    "spring.jpa.properties.hibernate.dialect=org.hibernate.dialect.MySQLDialect\n",
    "spring.jpa.generate-ddl=true\n",
    "spring.jpa.show-sql = true"
   ]
  },
  {
   "cell_type": "markdown",
   "id": "46ff7990",
   "metadata": {},
   "source": [
    "Jeżeli nie mamy w konfiguracji build.gradle to dodajemy:"
   ]
  },
  {
   "cell_type": "code",
   "execution_count": null,
   "id": "cae7576e",
   "metadata": {},
   "outputs": [],
   "source": [
    " runtimeOnly 'com.microsoft.sqlserver:mssql-jdbc'\n",
    "    runtimeOnly 'com.mysql:mysql-connector-j'"
   ]
  }
 ],
 "metadata": {
  "kernelspec": {
   "display_name": "Python 3 (ipykernel)",
   "language": "python",
   "name": "python3"
  },
  "language_info": {
   "codemirror_mode": {
    "name": "ipython",
    "version": 3
   },
   "file_extension": ".py",
   "mimetype": "text/x-python",
   "name": "python",
   "nbconvert_exporter": "python",
   "pygments_lexer": "ipython3",
   "version": "3.11.2"
  }
 },
 "nbformat": 4,
 "nbformat_minor": 5
}
