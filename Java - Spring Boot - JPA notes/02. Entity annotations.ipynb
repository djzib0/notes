{
 "cells": [
  {
   "cell_type": "markdown",
   "id": "eff9b396",
   "metadata": {},
   "source": [
    "### Adnotacje dla modelu reprezentującego tabelę w bazie danych\n"
   ]
  },
  {
   "cell_type": "code",
   "execution_count": null,
   "id": "12971e1f",
   "metadata": {},
   "outputs": [],
   "source": [
    "import jakarta.persistence.*;\n",
    "import lombok.*;\n",
    "\n",
    "@Entity\n",
    "@Data\n",
    "@AllArgsConstructor\n",
    "@NoArgsConstructor\n",
    "@Builder\n",
    "@Table(\n",
    "        name = \"tbl_student\",  ## table name which will be created after app start, without it default name would be Student\n",
    "        uniqueConstraints = @UniqueConstraint(\n",
    "                name = \"emailid_unique\",  ## name of the constraint\n",
    "                columnNames = \"email_address\" ## refers to column which will have constraint \n",
    "        )\n",
    ")\n",
    "public class Student {\n",
    "\n",
    "    @Id   # sets studentId as a primary key.\n",
    "    @SequenceGenerator(  ## defines sequence\n",
    "            name = \"student_sequence\",  ## sets name of the generator\n",
    "            sequenceName = \"student_sequence\", ## sets name of the sequence\n",
    "            allocationSize = 1  ## The number of values to allocate in memory for each trip to the database\n",
    "    )\n",
    "    @GeneratedValue( ## define how to primary keys should be generated\n",
    "            strategy = GenerationType.SEQUENCE, ## because we set SequenceGenerator so we have to use SEQUENCE type\n",
    "            generator = \"student_sequence\" ## we use the same name as we set in SequenceGenerator sequenceName\n",
    "    )\n",
    "    private Long studentId;\n",
    "    private String firstName;\n",
    "    private String lastName;\n",
    "\n",
    "    @Column(   ## sets the name of the column, it is the same as the columnNames in constraints columnNames\n",
    "            name = \"email_address\",\n",
    "            nullable = false\n",
    "    )\n",
    "    private String email;\n",
    "    private String guardianName;\n",
    "    private String guardianEmail;\n",
    "    private String guardianMobile;\n",
    "}"
   ]
  }
 ],
 "metadata": {
  "kernelspec": {
   "display_name": "Python 3 (ipykernel)",
   "language": "python",
   "name": "python3"
  },
  "language_info": {
   "codemirror_mode": {
    "name": "ipython",
    "version": 3
   },
   "file_extension": ".py",
   "mimetype": "text/x-python",
   "name": "python",
   "nbconvert_exporter": "python",
   "pygments_lexer": "ipython3",
   "version": "3.11.2"
  }
 },
 "nbformat": 4,
 "nbformat_minor": 5
}
