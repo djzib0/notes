{
 "cells": [
  {
   "cell_type": "markdown",
   "id": "71273c73",
   "metadata": {},
   "source": [
    "### Tworzenie repozytorium i dodanie testowej encji\n",
    "\n",
    "Tworzymy pakiet repository.StudentRepository"
   ]
  },
  {
   "cell_type": "code",
   "execution_count": null,
   "id": "35e82669",
   "metadata": {},
   "outputs": [],
   "source": [
    "import org.springframework.data.jpa.repository.JpaRepository;\n",
    "import org.springframework.stereotype.Repository;\n",
    "\n",
    "@Repository\n",
    "public interface StudentRepository extends JpaRepository<Student, Long> { \n",
    "    ## JpaRepository takes two arguments, entity class and type of variable which is set as a primary key (@Id)\n",
    "}"
   ]
  },
  {
   "cell_type": "markdown",
   "id": "28edc11b",
   "metadata": {},
   "source": [
    "Tworzymy test dla metody StudentRepository"
   ]
  },
  {
   "cell_type": "code",
   "execution_count": null,
   "id": "91adfafc",
   "metadata": {},
   "outputs": [],
   "source": [
    "@SpringBootTest\n",
    "class StudentRepositoryTest {\n",
    "\n",
    "    @Autowired\n",
    "    private StudentRepository studentRepository;\n",
    "\n",
    "    @Test\n",
    "    public void saveStudent() {\n",
    "        Student student = Student.builder()\n",
    "                .email(\"test@wp.pl\")\n",
    "                .firstName(\"Piotr\")\n",
    "                .lastName(\"Sabatura\")\n",
    "                .guardianName(\"Nikhil\")\n",
    "                .guardianEmail(\"nikhil@gmail.com\")\n",
    "                .guardianMobile(\"999888777\")\n",
    "                .build();\n",
    "\n",
    "        studentRepository.save(student);\n",
    "    }\n",
    "\n",
    "    @Test\n",
    "    public void printAllStudent() {\n",
    "        List<Student> studentList = studentRepository.findAll();\n",
    "\n",
    "        System.out.println(\"studentList = \" + studentList);\n",
    "    }\n",
    "}"
   ]
  }
 ],
 "metadata": {
  "kernelspec": {
   "display_name": "Python 3 (ipykernel)",
   "language": "python",
   "name": "python3"
  },
  "language_info": {
   "codemirror_mode": {
    "name": "ipython",
    "version": 3
   },
   "file_extension": ".py",
   "mimetype": "text/x-python",
   "name": "python",
   "nbconvert_exporter": "python",
   "pygments_lexer": "ipython3",
   "version": "3.11.2"
  }
 },
 "nbformat": 4,
 "nbformat_minor": 5
}
