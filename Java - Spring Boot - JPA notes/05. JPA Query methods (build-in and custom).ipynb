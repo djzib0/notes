{
 "cells": [
  {
   "cell_type": "markdown",
   "id": "416c69e3",
   "metadata": {},
   "source": [
    "### JPA Query methods (build-in and custom)\n",
    "\n",
    "JPA ma wbudowane metody, które są \"tłu\n",
    "maczone\" na zapytanie SQL\n",
    "Metody te tworzymy przy pomocy zapisu odnoszącego się do stworzonych przez siebie modeli encji.\n",
    "\n",
    "Np. mamy encję Student, która ma atrybut firstName. Chcemy znaleźć encję po atrybucie firstName więc w repozytorium tworzymy metodę o nazwie findByFirstName. Zapis ten jest \"tłumaczony\" przez JPA na język SQL - SELECT students WHERE first_name = ?\n",
    "\n",
    "Wbudowane metody możemy znaleźć na stronie https://docs.spring.io/spring-data/jpa/reference/jpa/query-methods.html\n"
   ]
  },
  {
   "cell_type": "code",
   "execution_count": null,
   "id": "b016ab71",
   "metadata": {},
   "outputs": [],
   "source": [
    "@Repository\n",
    "public interface StudentRepository extends JpaRepository<Student, Long> {\n",
    "\n",
    "    List<Student> findByFirstName(String firstName);\n",
    "\n",
    "    List<Student> findByFirstNameContaining(String name);\n",
    "\n",
    "    List<Student> findByLastNameNotNull();\n",
    "\n",
    "    List<Student> findByGuardianName(String guardianName);\n",
    "\n",
    "    List<Student> findByFirstNameAndLastName(String firstName, String lastName);\n",
    "    List<Student> findByFirstNameAndLastNameContaining(String firstName, String lastName);\n",
    "}"
   ]
  },
  {
   "cell_type": "markdown",
   "id": "2c393e03",
   "metadata": {},
   "source": [
    "#### Własne zapytania\n",
    "\n",
    "Możemy tworzyć własne zapytania poprzed dodanie adnotacji @Query"
   ]
  },
  {
   "cell_type": "code",
   "execution_count": null,
   "id": "2cc6a573",
   "metadata": {},
   "outputs": [],
   "source": [
    "@Repository\n",
    "public interface StudentRepository extends JpaRepository<Student, Long> {\n",
    "\n",
    "    ## JPQL\n",
    "    @Query(\"select s from Student s where s.email = ?1\") ## ?1 is a positional parameter for query\n",
    "    Student getStudentByEmailAddress(String email);\n",
    "\n",
    "    @Query(\"select s.firstName from Student s where s.email = ?1\") ## s.firstName - it refers to attribute name in entity class\n",
    "    String getStudentFirstNameByEmailAddress(String email);\n",
    "}"
   ]
  },
  {
   "cell_type": "markdown",
   "id": "5b6b744a",
   "metadata": {},
   "source": [
    "Można też tworzy natywne zapytania (takie jak oryginalne SQL).\n",
    "Aby z nich korzystać należy napisać kod jak niżej"
   ]
  },
  {
   "cell_type": "code",
   "execution_count": null,
   "id": "7dfa149a",
   "metadata": {},
   "outputs": [],
   "source": [
    "@Repository\n",
    "public interface StudentRepository extends JpaRepository<Student, Long> {\n",
    "\n",
    "    //Native\n",
    "    @Query(\n",
    "            value = \"select * from tbl_student s where s.email_address = ?1\",\n",
    "            nativeQuery = true\n",
    "    )\n",
    "    Student getStudentByEmailAddressNative(String email);\n",
    "}"
   ]
  },
  {
   "cell_type": "markdown",
   "id": "f60cfb07",
   "metadata": {},
   "source": [
    "Przy pisaniu zapytań możemy użyć również nazw jako parametr zamiast ?1, ?2 itd.\n",
    "Wówczas zapytanie wygląda jak niżej"
   ]
  },
  {
   "cell_type": "code",
   "execution_count": null,
   "id": "3060ff0f",
   "metadata": {},
   "outputs": [],
   "source": [
    "@Repository\n",
    "public interface StudentRepository extends JpaRepository<Student, Long> {\n",
    "\n",
    "    //Native Named Param\n",
    "    @Query(\n",
    "            value = \"select * from tbl_student s where s.email_address = :email\",  ## taka sama nazwa jak @Param poniżej\n",
    "            nativeQuery = true\n",
    "    )\n",
    "    Student getStudentByEmailAddressNativeNamedParam(@Param(\"email\") String email);\n",
    "}"
   ]
  },
  {
   "cell_type": "markdown",
   "id": "8ab05425",
   "metadata": {},
   "source": [
    "Repozytorium możemy używać nie tylko do pobierania danych, ale również do ich modyfikowania."
   ]
  },
  {
   "cell_type": "code",
   "execution_count": null,
   "id": "fd047968",
   "metadata": {},
   "outputs": [],
   "source": [
    "@Repository\n",
    "public interface StudentRepository extends JpaRepository<Student, Long> {\n",
    "\n",
    "    @Modifying     ## we have to add annotation Modifying and Transactional\n",
    "    @Transactional\n",
    "    @Query(\n",
    "            value = \"update tbl_student set first_name = ?1 where email_address = ?2\",\n",
    "            nativeQuery = true\n",
    "    )\n",
    "    int updateStudentNameByEmail(String firstName, String email);\n",
    "}"
   ]
  }
 ],
 "metadata": {
  "kernelspec": {
   "display_name": "Python 3 (ipykernel)",
   "language": "python",
   "name": "python3"
  },
  "language_info": {
   "codemirror_mode": {
    "name": "ipython",
    "version": 3
   },
   "file_extension": ".py",
   "mimetype": "text/x-python",
   "name": "python",
   "nbconvert_exporter": "python",
   "pygments_lexer": "ipython3",
   "version": "3.11.2"
  }
 },
 "nbformat": 4,
 "nbformat_minor": 5
}
