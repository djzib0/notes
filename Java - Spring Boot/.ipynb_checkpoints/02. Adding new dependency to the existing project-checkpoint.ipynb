{
 "cells": [
  {
   "cell_type": "markdown",
   "id": "7d8c7cc2",
   "metadata": {},
   "source": [
    "### Dodawanie nowej zależności do istniejącego projektu\n",
    "\n",
    "Na stronie start.spring.io dodajemy nowe zależności (np. JPA i H2 do bazy danych). Klikamy na explore, kopiujemy interesujący nas kod\n",
    "\n",
    "dependencies {\n",
    "  implementation 'org.springframework.boot:spring-boot-starter-data-jpa'\n",
    "  runtimeOnly 'com.h2database:h2'\n",
    "}\n",
    "\n",
    "i kopiujemy go do pliku build.gradle (w głównym katalogu projektu)\n",
    "\n",
    "#### Aby ustawić konsolę H2 w pliku ..src/main/resources/application.properties - należy dodać kod spring.h2.console.enabled=true\n",
    "\n",
    "Konsolę H2 znajdziemy pod adresem http://localhost:8080/h2-console/\n",
    "\n",
    "JDBC URL - wpisujemy \"adres\", który wyświetli się w logach podczas uruchamiania kodu projektu."
   ]
  }
 ],
 "metadata": {
  "kernelspec": {
   "display_name": "Python 3 (ipykernel)",
   "language": "python",
   "name": "python3"
  },
  "language_info": {
   "codemirror_mode": {
    "name": "ipython",
    "version": 3
   },
   "file_extension": ".py",
   "mimetype": "text/x-python",
   "name": "python",
   "nbconvert_exporter": "python",
   "pygments_lexer": "ipython3",
   "version": "3.11.2"
  }
 },
 "nbformat": 4,
 "nbformat_minor": 5
}
