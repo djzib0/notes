{
 "cells": [
  {
   "cell_type": "markdown",
   "id": "6029e510",
   "metadata": {},
   "source": [
    "### Tworzenie, edycja i usuwanie encji\n",
    "\n",
    "W pliku PostController dopisujemy metody"
   ]
  },
  {
   "cell_type": "code",
   "execution_count": null,
   "id": "0244030d",
   "metadata": {},
   "outputs": [],
   "source": [
    "## adding new post\n",
    "@PostMapping(\"/posts\")\n",
    "public Post addPost(@RequestBody Post post) {\n",
    "    return postService.addPost(post);\n",
    "}\n",
    "\n",
    "## editing new post\n",
    "@PutMapping(\"/posts\")\n",
    "public Post editPost(@RequestBody Post post) {\n",
    "    return postService.editPost(post);\n",
    "}\n",
    "\n",
    "## removing existing post\n",
    "@DeleteMapping(\"/posts/{1}\")\n",
    "public void deletePost(@PathVariable Integer id) {\n",
    "    postService.deletePost(id);\n",
    "}"
   ]
  },
  {
   "cell_type": "markdown",
   "id": "894620be",
   "metadata": {},
   "source": [
    "W pliku PostService dopisujemy metody jak niżej:"
   ]
  },
  {
   "cell_type": "code",
   "execution_count": null,
   "id": "07722e68",
   "metadata": {},
   "outputs": [],
   "source": [
    "public Post addPost(Post post) {\n",
    "    return postRepository.save(post); ## .save is a build-in method\n",
    "}\n",
    "\n",
    "@Transactional\n",
    "public Post editPost(Post post) {\n",
    "    # check if post you want to edit exists\n",
    "    Post postEdited = postRepository.findById(post.getId().orElseThrow);\n",
    "    postEdited.setTitle(post.getTitle());\n",
    "    postEdited.setContent(post.getContent());\n",
    "    ## Hibernate checks any changes in entity, it means that the below return statement may be omitted\n",
    "    ## return postRepository.save(post);\n",
    "    \n",
    "    ## we can return only postEdited\n",
    "    return postEdited;\n",
    "}\n",
    "\n",
    "public void deletePost(Integer id) {\n",
    "    postRepository.deleteById(id);\n",
    "}"
   ]
  },
  {
   "cell_type": "markdown",
   "id": "91969c2f",
   "metadata": {},
   "source": [
    "W modelu Post dodajemy adnotację jak niżej. W modelu Comment tak samo."
   ]
  },
  {
   "cell_type": "code",
   "execution_count": null,
   "id": "5df1120c",
   "metadata": {},
   "outputs": [],
   "source": [
    "public class Post {\n",
    "    \n",
    "    @Id\n",
    "    @GeneratedValue(strategy = GenerationType.IDENTITY) ## this setting allows to add new entity with the correct id\n",
    "    ## it didn't work correctly when I tried to add new item to db when some default data was already in the db\n",
    "    ## I solved it by adding default data starting from id=0 and by adding AUTO_INCREMENT in schema.sql\n",
    "    ## maybe later I will find out how exactly this annotation works, or how to use it properly.\n",
    "    private long id;\n",
    "    private String title;\n",
    "    private String content;\n",
    "    private LocalDateTime created;\n",
    "    @OneToMany(cascade = Cascade.Type.REMOVE) ## define behavior of comments with deleted entity foreign key ->\n",
    "    ## it worked with my h2 database, but in the tutorial it didn't work.\n",
    "    @JoinColumn(name = 'postId', updatable = false, insertable = true) # updatable and insertable flag - when you edit a post\n",
    "    ## it will prevent from deleting comments related to edited post!\n",
    "    private List<Comment> comment;\n",
    "}\n",
    "\n"
   ]
  }
 ],
 "metadata": {
  "kernelspec": {
   "display_name": "Python 3 (ipykernel)",
   "language": "python",
   "name": "python3"
  },
  "language_info": {
   "codemirror_mode": {
    "name": "ipython",
    "version": 3
   },
   "file_extension": ".py",
   "mimetype": "text/x-python",
   "name": "python",
   "nbconvert_exporter": "python",
   "pygments_lexer": "ipython3",
   "version": "3.11.2"
  }
 },
 "nbformat": 4,
 "nbformat_minor": 5
}
