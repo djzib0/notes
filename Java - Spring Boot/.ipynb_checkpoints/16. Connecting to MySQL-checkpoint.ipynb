{
 "cells": [
  {
   "cell_type": "markdown",
   "id": "76285937",
   "metadata": {},
   "source": [
    "### Połączenie z bazą danych MySQL\n",
    "\n",
    "Aby nawiązać połączenie z bazą danych w pliku application.properties dodajemy konfigurację jak niżej:"
   ]
  },
  {
   "cell_type": "code",
   "execution_count": null,
   "id": "1d1ecb12",
   "metadata": {},
   "outputs": [],
   "source": [
    "spring.jpa.hibernate.ddl-auto=update\n",
    "spring.datasource.url=jdbc:mysql://127.0.0.1:3306/schemaName  ## address of database \"deptdb\"\n",
    "spring.datasource.username=root\n",
    "spring.datasource.password=password\n",
    "spring.datasource.driverClassName=com.mysql.cj.jdbc.Driver\n",
    "\n",
    "# application.properties\n",
    "spring.jpa.properties.hibernate.dialect=org.hibernate.dialect.MySQLDialect\n",
    "spring.jpa.generate-ddl=true\n",
    "spring.jpa.show-sql = true"
   ]
  },
  {
   "cell_type": "markdown",
   "id": "78051a3a",
   "metadata": {},
   "source": [
    "Dodajemy zależności do build.gradle"
   ]
  },
  {
   "cell_type": "code",
   "execution_count": null,
   "id": "b9e9961e",
   "metadata": {},
   "outputs": [],
   "source": [
    "    runtimeOnly 'com.microsoft.sqlserver:mssql-jdbc'\n",
    "    runtimeOnly 'com.mysql:mysql-connector-j'"
   ]
  }
 ],
 "metadata": {
  "kernelspec": {
   "display_name": "Python 3 (ipykernel)",
   "language": "python",
   "name": "python3"
  },
  "language_info": {
   "codemirror_mode": {
    "name": "ipython",
    "version": 3
   },
   "file_extension": ".py",
   "mimetype": "text/x-python",
   "name": "python",
   "nbconvert_exporter": "python",
   "pygments_lexer": "ipython3",
   "version": "3.11.2"
  }
 },
 "nbformat": 4,
 "nbformat_minor": 5
}
