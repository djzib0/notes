{
 "cells": [
  {
   "cell_type": "markdown",
   "id": "1ecad5e5",
   "metadata": {},
   "source": [
    "### Creating own methods in Spring Data\n",
    "\n",
    "Standardowa metoda tworzenia własnych metod w pliku PostRepository"
   ]
  },
  {
   "cell_type": "code",
   "execution_count": null,
   "id": "31e8f975",
   "metadata": {},
   "outputs": [],
   "source": [
    "@Repository\n",
    "public interface PostRepository extends JpaRepository<Post, Long> {\n",
    "\n",
    "    @Query(\"select p from Post p where title = ?1 \") # ten kod jest zapytaniem do bazy danych\n",
    "    List<Post> findAllByTitle(String title);\n",
    "}"
   ]
  },
  {
   "cell_type": "markdown",
   "id": "fbb20b0e",
   "metadata": {},
   "source": [
    "Druga metoda to"
   ]
  },
  {
   "cell_type": "code",
   "execution_count": null,
   "id": "45ecf568",
   "metadata": {},
   "outputs": [],
   "source": [
    "@Repository\n",
    "public interface PostRepository extends JpaRepository<Post, Long> {\n",
    "\n",
    "    @Query(\"select p from Post p where title = :title \") # ten kod jest zapytaniem do bazy danych\n",
    "    List<Post> findAllByTitle(@Param(\"title\") String title);\n",
    "}"
   ]
  },
  {
   "cell_type": "markdown",
   "id": "f534c862",
   "metadata": {},
   "source": [
    "Możemy ominąć wstawianie @Param jak niżej, ale musimy skonfigurować plik build.gradle"
   ]
  },
  {
   "cell_type": "code",
   "execution_count": null,
   "id": "73ca3a0f",
   "metadata": {},
   "outputs": [],
   "source": [
    "## for Java 8 or higher you can ommit @Param but you have to config it in build.gradle file\n",
    "\n",
    "@Repository\n",
    "public interface PostRepository extends JpaRepository<Post, Long> {\n",
    "\n",
    "    @Query(\"select p from Post p where title = :title \") # ten kod jest zapytaniem do bazy danych\n",
    "    List<Post> findAllByTitle(String title);\n",
    "}"
   ]
  },
  {
   "cell_type": "markdown",
   "id": "83d8e2e8",
   "metadata": {},
   "source": [
    "Do konfiguracji build.gradle należy dodać poniższy kod, oraz w ustawieniach IntelliJ ustawić\n",
    "\n",
    "Setting -> Build -> Compiler -> Java Compiler i w polu Additional command line parameters wpisać \"-parameters\"\n",
    "\n",
    "Po wprowadzonych zmianach przebudować projekt gradle (po prawej stronie ikonka stworka gradle) oraz Project -> Build -> Rebuild\n"
   ]
  },
  {
   "cell_type": "code",
   "execution_count": null,
   "id": "6b7a1a7f",
   "metadata": {},
   "outputs": [],
   "source": [
    "compileJava {\n",
    "\toptions.compilerArgs << '-parameters'\n",
    "}"
   ]
  },
  {
   "cell_type": "markdown",
   "id": "5dd4180f",
   "metadata": {},
   "source": [
    "Adnotacja @Query pozwala nam pisać bardziej skomplikowane zapytania do bazy danych, natomiast do prostych zapytań Spring Data wprowadził konwencję nazw."
   ]
  },
  {
   "cell_type": "code",
   "execution_count": null,
   "id": "f6383534",
   "metadata": {},
   "outputs": [],
   "source": [
    "List<Post> findAllByTitle(String title); \n",
    "\n",
    "# findByLastNameAndFirstName = \"@Query(\"select p from table_name p where table_name.firstname = ?1 and table_name.lastname = ?2\")\"\n",
    "\n",
    "# więcej info w \"Query Creation\" w dokumentacji Spring Data JPA."
   ]
  }
 ],
 "metadata": {
  "kernelspec": {
   "display_name": "Python 3 (ipykernel)",
   "language": "python",
   "name": "python3"
  },
  "language_info": {
   "codemirror_mode": {
    "name": "ipython",
    "version": 3
   },
   "file_extension": ".py",
   "mimetype": "text/x-python",
   "name": "python",
   "nbconvert_exporter": "python",
   "pygments_lexer": "ipython3",
   "version": "3.11.2"
  }
 },
 "nbformat": 4,
 "nbformat_minor": 5
}
