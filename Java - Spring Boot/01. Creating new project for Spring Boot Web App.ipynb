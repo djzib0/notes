{
 "cells": [
  {
   "cell_type": "markdown",
   "id": "05b66a16",
   "metadata": {},
   "source": [
    "### Jak stworzyć nowy projekt?\n",
    "\n",
    "1. Wchodzimy na stronę https://start.spring.io/ , gdzie znajdziemy Spring Initilizr, który służy do konfiguracji nowego projektu.\n",
    "\n",
    "Wybieramy Project, Language, wersję Spring Boota (zalecali najnowszą, ale nie Snapshot!), wersję Java.\n",
    "Dodatkowo definiujemy nazwy itp.\n",
    "\n",
    "Dodajemy też dependencies, i np. dla aplikacji webowej dodajemy dependency Spring Web.\n",
    "\n",
    "Projekt uruchamiamy w IntelliJ, i jeżeli wszystko zrobiliśmy poprawnie to powinien się automatycznie skonfigurować po uruchomieniu.\n"
   ]
  },
  {
   "cell_type": "markdown",
   "id": "8dad7e5a",
   "metadata": {},
   "source": [
    "2. Po uruchomieniu, możemy wejść w ścieżkę ../src/main/java (na koniec całej ścieżki), gdzie znajdziemy plik RestApiApplication.java (nazwa aplikacji w tym przypadku to RestApi, nazwa pliku wygenerowała się automatycznie).\n",
    "\n",
    "Po uruchomieniu kodu, uruchomi się serwer Spring Boot-a pod domyślnym adresem http://localhost:8080/\n"
   ]
  },
  {
   "cell_type": "markdown",
   "id": "cb893738",
   "metadata": {},
   "source": [
    "###### W pliku application.properties wpisujemy konfigurację."
   ]
  },
  {
   "cell_type": "code",
   "execution_count": null,
   "id": "34b02b5d",
   "metadata": {},
   "outputs": [],
   "source": [
    "spring.h2.console.enabled=true\n",
    "\n",
    "spring.datasource.url=jdbc:h2:mem:testdb\n",
    "spring.datasource.driverClassName=org.h2.Driver\n",
    "spring.datasource.username=sa\n",
    "spring.datasource.password=\n",
    "spring.jpa.database-platform=org.hibernate.dialect.H2Dialect\n",
    "\n",
    "spring.jpa.show-sql=true\n",
    "\n",
    "spring.jpa.hibernate.ddl-auto=none \n",
    "\n",
    "// if it won't work please use spring.jpa.hibernate.ddl-auto=update\n",
    "// or spring.jpa.hibernate.ddl-auto=enabled \n",
    "// don't know exactly what it does :("
   ]
  }
 ],
 "metadata": {
  "kernelspec": {
   "display_name": "Python 3 (ipykernel)",
   "language": "python",
   "name": "python3"
  },
  "language_info": {
   "codemirror_mode": {
    "name": "ipython",
    "version": 3
   },
   "file_extension": ".py",
   "mimetype": "text/x-python",
   "name": "python",
   "nbconvert_exporter": "python",
   "pygments_lexer": "ipython3",
   "version": "3.11.2"
  }
 },
 "nbformat": 4,
 "nbformat_minor": 5
}
