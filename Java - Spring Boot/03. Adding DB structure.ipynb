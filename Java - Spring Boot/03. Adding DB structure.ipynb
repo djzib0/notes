{
 "cells": [
  {
   "cell_type": "markdown",
   "id": "c438c8a3",
   "metadata": {},
   "source": [
    "### Dodawanie struktury bazy danych\n",
    "\n",
    "w katalogu resources dodajemy plik schema.sql w którym umieszczamy kod SQL-owy.\n",
    "\n",
    "Plik schema.sql, który tworzy nową tabelę:"
   ]
  },
  {
   "cell_type": "code",
   "execution_count": null,
   "id": "c5ba43e8",
   "metadata": {},
   "outputs": [],
   "source": [
    "CREATE TABLE post (\n",
    "    id BIGINT AUTO_INCREMENT PRIMARY KEY,\n",
    "    title VARCHAR(40) NOT NULL,\n",
    "    content VARCHAR(40) NOT NULL\n",
    ");"
   ]
  },
  {
   "cell_type": "markdown",
   "id": "4c60e654",
   "metadata": {},
   "source": [
    "Plik data.sql, który dodaje dane do DB."
   ]
  },
  {
   "cell_type": "code",
   "execution_count": null,
   "id": "650f6ed6",
   "metadata": {},
   "outputs": [],
   "source": [
    "INSERT INTO post(id, title, content) VALUES(1, 'Test post 1', 'Content 1'); ## ważne!!!! wartości w pojedynczym cudzysłowie!!!!"
   ]
  },
  {
   "cell_type": "code",
   "execution_count": null,
   "id": "0bb7815b",
   "metadata": {},
   "outputs": [],
   "source": []
  }
 ],
 "metadata": {
  "kernelspec": {
   "display_name": "Python 3 (ipykernel)",
   "language": "python",
   "name": "python3"
  },
  "language_info": {
   "codemirror_mode": {
    "name": "ipython",
    "version": 3
   },
   "file_extension": ".py",
   "mimetype": "text/x-python",
   "name": "python",
   "nbconvert_exporter": "python",
   "pygments_lexer": "ipython3",
   "version": "3.11.2"
  }
 },
 "nbformat": 4,
 "nbformat_minor": 5
}
