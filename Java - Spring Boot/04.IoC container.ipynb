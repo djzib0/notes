{
 "cells": [
  {
   "cell_type": "markdown",
   "id": "8db55503",
   "metadata": {},
   "source": [
    "### Tworzenie kontenera IoC.\n",
    "\n",
    "Tworzymy pakiet i klasę w ../src/main/java/controller.HelloController\n",
    "\n",
    "Dodajemy adnotację @RestController i @GetMapping"
   ]
  },
  {
   "cell_type": "code",
   "execution_count": null,
   "id": "d5b7b16f",
   "metadata": {},
   "outputs": [],
   "source": [
    "import org.springframework.web.bind.annotation.GetMapping;\n",
    "import org.springframework.web.bind.annotation.RestController;\n",
    "# powyższe importy powinny się same dodać w IntelliJ (pod dodaniu adnotacji @RestController oraz @GetMapping)\n",
    "\n",
    "@RestController\n",
    "public class HelloController {\n",
    "    \n",
    "    @GetMapping\n",
    "    public String hello() {\n",
    "        return \"Hello World\";\n",
    "    }\n",
    "}"
   ]
  },
  {
   "cell_type": "markdown",
   "id": "63d9f0a6",
   "metadata": {},
   "source": [
    "Teraz pod adresem http://localhost:8080/ wyświetli się nam \"Hello World\""
   ]
  },
  {
   "cell_type": "markdown",
   "id": "5df6830d",
   "metadata": {},
   "source": [
    "Ten sam efekt możemy uzyskać poprzez wstrzykiwanie \"serwisów\".\n",
    "\n",
    "Tworzymy pakiet i klasę w ../src/main/service.HelloService"
   ]
  },
  {
   "cell_type": "code",
   "execution_count": null,
   "id": "adf3f24c",
   "metadata": {},
   "outputs": [],
   "source": [
    "import org.springframework.stereotype.Service;\n",
    "\n",
    "@Service\n",
    "public class HelloService {\n",
    "\n",
    "    public String hello() {\n",
    "        return \"Hello Service World\";\n",
    "    }\n",
    "}"
   ]
  },
  {
   "cell_type": "markdown",
   "id": "774397e4",
   "metadata": {},
   "source": [
    "Wówczas w pliku HelloController kod wygląda jak niżej"
   ]
  },
  {
   "cell_type": "code",
   "execution_count": null,
   "id": "4d1efb7c",
   "metadata": {},
   "outputs": [],
   "source": [
    "@RestController\n",
    "public class HelloController {\n",
    "\n",
    "    @Autowired\n",
    "    private HelloService helloService;\n",
    "\n",
    "    @GetMapping\n",
    "    public String hello() {\n",
    "        return helloService.hello();\n",
    "    }\n",
    "}"
   ]
  },
  {
   "cell_type": "markdown",
   "id": "24033d45",
   "metadata": {},
   "source": [
    "Drugi sposób to \"wstrzykiwanie\" przez settera."
   ]
  },
  {
   "cell_type": "code",
   "execution_count": null,
   "id": "a70143e6",
   "metadata": {},
   "outputs": [],
   "source": [
    "@RestController\n",
    "public class HelloController {\n",
    "\n",
    "    private HelloService helloService;\n",
    "    \n",
    "    @Autowired\n",
    "    public void setHelloService(HelloService helloService) {\n",
    "        this.helloService = helloService;\n",
    "    }\n",
    "\n",
    "    @GetMapping\n",
    "    public String hello() {\n",
    "        return helloService.hello();\n",
    "    }\n",
    "}"
   ]
  },
  {
   "cell_type": "markdown",
   "id": "4e7b8f3f",
   "metadata": {},
   "source": [
    "Kolejny sposób i najbardziej zalecany, to \"wstrzykiwanie\" przez konstruktora."
   ]
  },
  {
   "cell_type": "code",
   "execution_count": null,
   "id": "6b7eabe3",
   "metadata": {},
   "outputs": [],
   "source": [
    "@RestController\n",
    "public class HelloController {\n",
    "\n",
    "    private final HelloService helloService;  # we can set this variable as a final\n",
    "\n",
    "    @Autowired # add annotation to the constructor (in Spring 4.3 or higher it's not necessary anymore)\n",
    "    public HelloController(HelloService helloService) { \n",
    "        this.helloService = helloService;\n",
    "    }\n",
    "\n",
    "    @GetMapping\n",
    "    public String hello() {\n",
    "        return helloService.hello();\n",
    "    }\n",
    "}"
   ]
  }
 ],
 "metadata": {
  "kernelspec": {
   "display_name": "Python 3 (ipykernel)",
   "language": "python",
   "name": "python3"
  },
  "language_info": {
   "codemirror_mode": {
    "name": "ipython",
    "version": 3
   },
   "file_extension": ".py",
   "mimetype": "text/x-python",
   "name": "python",
   "nbconvert_exporter": "python",
   "pygments_lexer": "ipython3",
   "version": "3.11.2"
  }
 },
 "nbformat": 4,
 "nbformat_minor": 5
}
