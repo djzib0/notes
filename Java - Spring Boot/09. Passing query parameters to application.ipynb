{
 "cells": [
  {
   "cell_type": "markdown",
   "id": "947e2b04",
   "metadata": {},
   "source": [
    "### Przekazywanie parametrów z zapytania do aplikacji\n",
    "\n",
    "W postService w metodzie getPost() dopisujemy parametr \"int page\" oraz \"zabezpieczenie\" przed ujemną wartością parametru \"page\".\n",
    "Inicjalizujemy również stałą PAGE_SIZE."
   ]
  },
  {
   "cell_type": "code",
   "execution_count": null,
   "id": "5c0e4c53",
   "metadata": {},
   "outputs": [],
   "source": [
    "...\n",
    "\n",
    "public final static PAGE_SIZE = 20;\n",
    "\n",
    "public List<Post> getPosts(Integer page) {\n",
    "    # we want to be sure it's always a positive number, if negative number is passed, set page to 0\n",
    "    int pageNumber = page!= null && page >= 0 ? page : 0; \n",
    "    return postRepository.findAllPosts(PageRequest.of(pageNumber, PAGE_SIZE))\n",
    "    \n",
    "}"
   ]
  },
  {
   "cell_type": "markdown",
   "id": "2d98e18c",
   "metadata": {},
   "source": [
    "W pliku PostController dodajemy parametr do metody getPost z adnotacją @RequestParam"
   ]
  },
  {
   "cell_type": "code",
   "execution_count": null,
   "id": "546b1361",
   "metadata": {},
   "outputs": [],
   "source": [
    "@GetMapping(\"/posts\")\n",
    "public List<Post> getPosts(@RequestParam(required = false) int page) {\n",
    "    return postService.getPosts(page);\n",
    "}"
   ]
  }
 ],
 "metadata": {
  "kernelspec": {
   "display_name": "Python 3 (ipykernel)",
   "language": "python",
   "name": "python3"
  },
  "language_info": {
   "codemirror_mode": {
    "name": "ipython",
    "version": 3
   },
   "file_extension": ".py",
   "mimetype": "text/x-python",
   "name": "python",
   "nbconvert_exporter": "python",
   "pygments_lexer": "ipython3",
   "version": "3.11.2"
  }
 },
 "nbformat": 4,
 "nbformat_minor": 5
}
