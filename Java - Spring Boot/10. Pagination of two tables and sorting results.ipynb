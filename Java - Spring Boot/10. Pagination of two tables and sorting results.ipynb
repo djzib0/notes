{
 "cells": [
  {
   "cell_type": "markdown",
   "id": "329362ea",
   "metadata": {},
   "source": [
    "###  Stronicowanie wyników z dwóch tabel przy pomocy frazy kluczowej IN\n",
    "\n",
    "Dzięki temu optymalizuje to działanie aplikacji i zapytań do bazy danych.\n",
    "\n",
    "\n",
    "W kontrolerze dodajemy metodę, która pozwoli pobrać listę postów wraz z komentarzami."
   ]
  },
  {
   "cell_type": "code",
   "execution_count": null,
   "id": "3bf7238d",
   "metadata": {},
   "outputs": [],
   "source": [
    "@GetMapping(\"/posts/comments\")\n",
    "public List<Post> getPostsWithComments(@RequestParam(required = false) int page) {\n",
    "    int pageNumber = page >= 0 ? page : 0;\n",
    "    return postService.getPostsWithComments(pageNumber);\n",
    "    \n",
    "}"
   ]
  },
  {
   "cell_type": "markdown",
   "id": "a1c94821",
   "metadata": {},
   "source": [
    "Żeby pobrać komentarze do powyższej listy postów, musimy stworzyć repository CommentRepository"
   ]
  },
  {
   "cell_type": "code",
   "execution_count": null,
   "id": "1f59486f",
   "metadata": {},
   "outputs": [],
   "source": [
    "@Repository\n",
    "public interface CommentRepository extends CrudRepository<Comment, Long> {\n",
    "\n",
    "    @Query  # is this query necessary? I think it's not because we use \"method name queries\".\n",
    "    List<Comment> findAllByPostIdIn(List<Long> ids);\n",
    "}"
   ]
  },
  {
   "cell_type": "markdown",
   "id": "48f6947f",
   "metadata": {},
   "source": [
    "Wstrzykujemy CommentRepository do serwisu"
   ]
  },
  {
   "cell_type": "code",
   "execution_count": null,
   "id": "4416cbdd",
   "metadata": {},
   "outputs": [],
   "source": [
    "private final CommentRepository commentRepository;\n",
    "\n",
    "## and we add it to constructor"
   ]
  },
  {
   "cell_type": "markdown",
   "id": "5c209497",
   "metadata": {},
   "source": [
    "W serwisie PostService dodajemy metodę getPostsWithComments, w której wyciągamy listę Postów, oraz listę \"id\" (w tym przypadku jest to typ Long czyli \"List< Long>\")"
   ]
  },
  {
   "cell_type": "code",
   "execution_count": null,
   "id": "905e4180",
   "metadata": {},
   "outputs": [],
   "source": [
    "public List<Post> getPostsWithComments(int page) {\n",
    "    \n",
    "    # 1. Get all posts from required page\n",
    "    # 2. Make a list of all ids from the list of all posts\n",
    "    # 3. Make a list of all comments fin\n",
    "    \n",
    "    # getting list of all posts\n",
    "    List<Post> allPosts = postRespository.findAllPosts(PageRequest.of(page, PAGE_SIZE));\n",
    "    # getting list of all posts ids\n",
    "    List<Long> ids = allPosts.stream()\n",
    "            .map(Post::getId)\n",
    "            .collect(Collectors.toList());\n",
    "    # we pass as a parameter the list of ids to commentRepository\n",
    "    List<Comment> comments = commentRepository.findAllByPostIdIn(ids)\n",
    "    \n",
    "    # now we have to connect comments with correct posts\n",
    "    allPosts.forEach(post -> post.setComment(extractComments(comments, post.getId()))); # extractComments method must be created\n",
    "    return allPosts;\n",
    "}"
   ]
  },
  {
   "cell_type": "code",
   "execution_count": null,
   "id": "62fef2d7",
   "metadata": {},
   "outputs": [],
   "source": [
    "private List<Comment> extractComment(List<Comment> comments, long id) {\n",
    "    return comments.stream()\n",
    "            .filter(comment -> comment.getPostId() == id) ## if we don't have this field in model we have to add it!\n",
    "            .collect(Collectors.toList());\n",
    "    ## also in the Post entity we have to change from @JoinColumn(name = \"post_id\") to (name = \"postId\")!!!!!!!!!!!!\n",
    "}"
   ]
  }
 ],
 "metadata": {
  "kernelspec": {
   "display_name": "Python 3 (ipykernel)",
   "language": "python",
   "name": "python3"
  },
  "language_info": {
   "codemirror_mode": {
    "name": "ipython",
    "version": 3
   },
   "file_extension": ".py",
   "mimetype": "text/x-python",
   "name": "python",
   "nbconvert_exporter": "python",
   "pygments_lexer": "ipython3",
   "version": "3.11.2"
  }
 },
 "nbformat": 4,
 "nbformat_minor": 5
}
