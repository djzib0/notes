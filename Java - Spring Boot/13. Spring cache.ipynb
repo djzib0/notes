{
 "cells": [
  {
   "cell_type": "markdown",
   "id": "61710210",
   "metadata": {},
   "source": [
    "### Spring cache\n",
    "\n",
    "Aby przyśpieszyć działanie aplikacji, i zredukować ilość zapytań tych samych zapytań do bazy danych, możemy przechowywać wyniki zapytań w pamięci podręcznej, w pamięci RAM lub na dysku. \n",
    "\n",
    "Aby móc cache-ować wyniki zapytań w Spring Boot należy dodać adnotację @EnableCaching w pliku ...Application oraz adnotację @Cacheable do metody w serwisie. Adnotacja ma kilka parametrów. My dodamy cacheNames aby skonfigurować nazwę cache."
   ]
  },
  {
   "cell_type": "code",
   "execution_count": null,
   "id": "47a4a9dd",
   "metadata": {},
   "outputs": [],
   "source": [
    "## in ...application\n",
    "@SpringBootApplication\n",
    "@EnabledCaching\n",
    "public class ....() {\n",
    "    ...\n",
    "}\n",
    "\n",
    "## in service\n",
    "@Cacheable(cacheNames = \"PostsWithComments\")\n",
    "public List<Post> getPostsWithComments(int page, Sort.Direction sort) {\n",
    "    List<Post> allPosts = postRepository.findAllPosts(\n",
    "            PageRequest.of(page, PAGE_SIZE,\n",
    "                    Sort.by(sort, \"id\")\n",
    "            )\n",
    "    );\n",
    "    List<Long> ids = allPosts.stream()\n",
    "            .map(Post::getId)\n",
    "            .collect(Collectors.toList());\n",
    "    List<Comment> comments = commentRepository.findAllByPostIdIn(ids);\n",
    "    allPosts.forEach(post -> post.setComment(extractComments(comments, post.getId())));\n",
    "    return allPosts;\n",
    "}"
   ]
  },
  {
   "cell_type": "markdown",
   "id": "28d33359",
   "metadata": {},
   "source": [
    "Cache już działa, ale nie mamy łatwej możliwości zarządzanie wpisami w tym cache-u (np. usunąć cache po upływie jakiegoś czasu).\n",
    "Aby nie musieć robić tego \"ręcznie\" możemy użyć zewnętrznych Providerów. Wystarczy dodać odpowiednią konfigurację.\n",
    "\n",
    "W tym przykładzie skorzystamy z Hazelcast.\n",
    "\n",
    "EHCACHE. (NIE DZIAŁA! NIE JEST JUŻ W CacheConfiguations.java!!!!!!! Czyżby Spring zrezygnował z tego providera?)\n",
    "\n",
    "Najpierw dodajemy do build.gradle nowe zależności."
   ]
  },
  {
   "cell_type": "code",
   "execution_count": null,
   "id": "4abbd383",
   "metadata": {},
   "outputs": [],
   "source": [
    "    implementation 'org.ehcache:ehcache:3.10.8'\n",
    "    implementation 'javax.cache:cache-api:1.1.0'\n",
    "    \n",
    "    ## for hazelcast \n",
    "    implementation 'org.springframework.boot:spring-boot-starter-cache'\n",
    "    implementation 'com.hazelcast:hazelcast-all:4.2.4'"
   ]
  },
  {
   "cell_type": "markdown",
   "id": "950f26c6",
   "metadata": {},
   "source": [
    "Kiedy edytujemy jakiś Post, możemy zaktualizować go w cache-u."
   ]
  },
  {
   "cell_type": "code",
   "execution_count": null,
   "id": "626d4f83",
   "metadata": {},
   "outputs": [],
   "source": [
    "@Cacheable(value = \"Person\", key = \"#id\") ## wówczas jak będziemy wywoływać po kluczu id, to odniesiemy się do zapisu w cache-u\n",
    "public Post getPost(Integer id) {\n",
    "    return PostRepository.findById(id).orElseThrow();\n",
    "}\n"
   ]
  },
  {
   "cell_type": "markdown",
   "id": "9b8b0806",
   "metadata": {},
   "source": [
    "Kiedy edytujemy jakiś wpis, to możemy zaktualizować również ten wpis w cache-u."
   ]
  },
  {
   "cell_type": "code",
   "execution_count": null,
   "id": "39e72930",
   "metadata": {},
   "outputs": [],
   "source": [
    "@Transactional\n",
    "@CachePut(value = \"SinglePost\", key = \"#result.id\") ## updates the entry found by id in cache memory\n",
    "@CacheEvict(value = \"PostsWithComments\", allEntries = true) ## remove the cached list of entries, new cache will be created\n",
    "## when GET new data from the endpoint getPostsWithComments\n",
    "public Post editPost(Post post) {\n",
    "    Post postEdited = postRepository.findById(post.getId()).orElseThrow();\n",
    "    postEdited.setTitle(post.getTitle());\n",
    "    postEdited.setContent(post.getContent());\n",
    "    return postEdited;\n",
    "}"
   ]
  }
 ],
 "metadata": {
  "kernelspec": {
   "display_name": "Python 3 (ipykernel)",
   "language": "python",
   "name": "python3"
  },
  "language_info": {
   "codemirror_mode": {
    "name": "ipython",
    "version": 3
   },
   "file_extension": ".py",
   "mimetype": "text/x-python",
   "name": "python",
   "nbconvert_exporter": "python",
   "pygments_lexer": "ipython3",
   "version": "3.11.2"
  }
 },
 "nbformat": 4,
 "nbformat_minor": 5
}
