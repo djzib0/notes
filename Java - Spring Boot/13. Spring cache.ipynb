{
 "cells": [
  {
   "cell_type": "markdown",
   "id": "61710210",
   "metadata": {},
   "source": [
    "### Spring cache\n",
    "\n",
    "Aby przyśpieszyć działanie aplikacji, i zredukować ilość zapytań tych samych zapytań do bazy danych, możemy przechowywać wyniki zapytań w pamięci podręcznej, w pamięci RAM lub na dysku. \n",
    "\n",
    "Aby móc cache-ować wyniki zapytań w Spring Boot należy dodać adnotację @Cacheable do metody w serwisie. Adnotacja ma kilka parametrów. My dodamy cacheNames aby skonfigurować nazwę cache."
   ]
  },
  {
   "cell_type": "code",
   "execution_count": null,
   "id": "47a4a9dd",
   "metadata": {},
   "outputs": [],
   "source": [
    "@Cacheable(cacheNames = \"PostsWithComments\")\n",
    "public List<Post> getPostsWithComments(int page, Sort.Direction sort) {\n",
    "    List<Post> allPosts = postRepository.findAllPosts(\n",
    "            PageRequest.of(page, PAGE_SIZE,\n",
    "                    Sort.by(sort, \"id\")\n",
    "            )\n",
    "    );\n",
    "    List<Long> ids = allPosts.stream()\n",
    "            .map(Post::getId)\n",
    "            .collect(Collectors.toList());\n",
    "    List<Comment> comments = commentRepository.findAllByPostIdIn(ids);\n",
    "    allPosts.forEach(post -> post.setComment(extractComments(comments, post.getId())));\n",
    "    return allPosts;\n",
    "}"
   ]
  },
  {
   "cell_type": "markdown",
   "id": "28d33359",
   "metadata": {},
   "source": [
    "Cache już działa, ale nie mamy łatwej możliwości zarządzanie wpisami w tym cashu (np. usunąć cache po upływie jakiegoś czasu).\n",
    "Aby nie musieć robić tego \"ręcznie\" możemy użyć zewnętrznych Providerów. Wystarczy dodać odpowiednią konfigurację.\n",
    "\n",
    "W tym przykładzie skorzystamy z EHCACHE. (NIE DZIAŁA! NIE JEST JUŻ W CacheConfiguations.java!!!!!!! Czyżby Spring zrezygnował z tego providera?)\n",
    "\n",
    "Najpierw dodajemy do build.gradle nowe zależności."
   ]
  },
  {
   "cell_type": "code",
   "execution_count": null,
   "id": "4abbd383",
   "metadata": {},
   "outputs": [],
   "source": [
    "\timplementation 'org.ehcache:ehcache:3.10.8'\n",
    "\timplementation 'javax.cache:cache-api:1.1.0'"
   ]
  },
  {
   "cell_type": "markdown",
   "id": "39b6b4cf",
   "metadata": {},
   "source": [
    "A do pliku application.properties dopisujemy"
   ]
  },
  {
   "cell_type": "code",
   "execution_count": null,
   "id": "7d4dd236",
   "metadata": {},
   "outputs": [],
   "source": [
    "spring.cache.jcache.config = classpath:ehcache.xml"
   ]
  },
  {
   "cell_type": "markdown",
   "id": "d81f9484",
   "metadata": {},
   "source": [
    "Tworzymy plik ehcache.xml w katalogu resources (tam gdzie schema, data i application.properties)"
   ]
  },
  {
   "cell_type": "code",
   "execution_count": null,
   "id": "53bbf2cb",
   "metadata": {},
   "outputs": [],
   "source": [
    "<config\n",
    "        xmlns:xsi='http://www.w3.org/2001/XMLSchema-instance'\n",
    "        xmlns='http://www.ehcache.org/v3'\n",
    "        xsi:schemaLocation=\"http://www.kehcache.org/v3 http://www.ehcache.org/schema/ehcache-core.xsd\">\n",
    "    \n",
    "    <cache-template name=\"default\">\n",
    "        <expiry>\n",
    "            <ttl unit=\"hours\">1</ttl>\n",
    "        </expiry>\n",
    "        <heap unit=\"entries\">1000</heap>\n",
    "    </cache-template>\n",
    "\n",
    "    <cache alias=\"PostWithComments\" uses-template=\"default\"/>\n",
    "\n",
    "    <cache alias=\"SinglePost\"\n",
    "        <expiry>\n",
    "            <ttl unit=\"hours\">4</ttl>\n",
    "        </expiry>\n",
    "        <heap unit=\"entries\">500</heap>\n",
    "    </cache>\n",
    "</config>"
   ]
  },
  {
   "cell_type": "markdown",
   "id": "950f26c6",
   "metadata": {},
   "source": []
  }
 ],
 "metadata": {
  "kernelspec": {
   "display_name": "Python 3 (ipykernel)",
   "language": "python",
   "name": "python3"
  },
  "language_info": {
   "codemirror_mode": {
    "name": "ipython",
    "version": 3
   },
   "file_extension": ".py",
   "mimetype": "text/x-python",
   "name": "python",
   "nbconvert_exporter": "python",
   "pygments_lexer": "ipython3",
   "version": "3.11.2"
  }
 },
 "nbformat": 4,
 "nbformat_minor": 5
}
