{
 "cells": [
  {
   "cell_type": "markdown",
   "id": "75b751ca",
   "metadata": {},
   "source": [
    "### Hibernate validation\n",
    "\n",
    "W celu walidacji poprawności danych musimy dodać zależność do pliku build.gradle."
   ]
  },
  {
   "cell_type": "code",
   "execution_count": null,
   "id": "16400b07",
   "metadata": {},
   "outputs": [],
   "source": [
    "dependencies {\n",
    "  implementation 'org.springframework.boot:spring-boot-starter-validation'\n",
    "  testImplementation 'org.springframework.boot:spring-boot-starter-test' ## this dependendcy probably is already added\n",
    "}"
   ]
  },
  {
   "cell_type": "markdown",
   "id": "33fc40fc",
   "metadata": {},
   "source": [
    "W pliku modelu dodajemy adnotację @NotBlank"
   ]
  },
  {
   "cell_type": "code",
   "execution_count": null,
   "id": "42496a8d",
   "metadata": {},
   "outputs": [],
   "source": [
    "public class Department {\n",
    "\n",
    "    @Id\n",
    "    @GeneratedValue(strategy = GenerationType.IDENTITY)\n",
    "    private Long id;\n",
    "\n",
    "    @NotBlank(message = \"Please Add Department Name\") ## there are many more, please read a documentation for more possibilities\n",
    "    private String departmentName;\n",
    "    private String departmentAddress;\n",
    "    private String departmentCode;\n",
    "    \n",
    "}"
   ]
  }
 ],
 "metadata": {
  "kernelspec": {
   "display_name": "Python 3 (ipykernel)",
   "language": "python",
   "name": "python3"
  },
  "language_info": {
   "codemirror_mode": {
    "name": "ipython",
    "version": 3
   },
   "file_extension": ".py",
   "mimetype": "text/x-python",
   "name": "python",
   "nbconvert_exporter": "python",
   "pygments_lexer": "ipython3",
   "version": "3.11.2"
  }
 },
 "nbformat": 4,
 "nbformat_minor": 5
}
