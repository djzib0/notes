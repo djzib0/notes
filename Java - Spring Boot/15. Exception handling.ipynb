{
 "cells": [
  {
   "cell_type": "markdown",
   "id": "45099e21",
   "metadata": {},
   "source": [
    "### Obsługa wyjątków\n",
    "\n",
    "Tworzymy sobie pakiet z plikiem do obsługi wyjątków. Np. error.PostNotFoundException, który rozszerza klasę Exception.\n",
    "Następnie nadpisujemy metody klasy Exception (\"alt + insert\" w IntelliJ)."
   ]
  },
  {
   "cell_type": "code",
   "execution_count": null,
   "id": "4c3e6ae6",
   "metadata": {},
   "outputs": [],
   "source": [
    "public class PostNotFoundException extends Exception {\n",
    "    public PostNotFoundException() {\n",
    "        super();\n",
    "    }\n",
    "\n",
    "    public PostNotFoundException(String message) {\n",
    "        super(message);\n",
    "    }\n",
    "\n",
    "    public PostNotFoundException(String message, Throwable cause) {\n",
    "        super(message, cause);\n",
    "    }\n",
    "\n",
    "    public PostNotFoundException(Throwable cause) {\n",
    "        super(cause);\n",
    "    }\n",
    "\n",
    "    protected PostNotFoundException(String message, Throwable cause, boolean enableSuppression, boolean writableStackTrace) {\n",
    "        super(message, cause, enableSuppression, writableStackTrace);\n",
    "    }\n",
    "}"
   ]
  },
  {
   "cell_type": "markdown",
   "id": "dcaafafa",
   "metadata": {},
   "source": [
    "W serwisie modyfikujemy metodę aby mogła obsłużyć błąd np. w przypadku gdy nie ma takiego wpisu w bazie danych. Zwróć uwagę na dodanie \"throw\" do obsługi wyjątku w serwisie jak i w metodzie Controllera. Przykład poniżej."
   ]
  },
  {
   "cell_type": "code",
   "execution_count": null,
   "id": "a978619b",
   "metadata": {},
   "outputs": [],
   "source": [
    "public Post getPostById(Long id) throws PostNotFoundException {\n",
    "    Optional<Post> post = new postRepository.findById(id);\n",
    "    \n",
    "    if (!post.isPresent()) {\n",
    "        throw new PostNotFoundException(\"Post is not found\");\n",
    "    }\n",
    "    \n",
    "    return post.get();\n",
    "}\n",
    "\n",
    "################## In Controller ################\n",
    "@GetMapping(\"/posts/{id}\")\n",
    "public Post getPostById(@PathVariable(\"id\") Long id) throws PostNotFoundException  {\n",
    "    return postService.getPostById(id)\n",
    "}"
   ]
  },
  {
   "cell_type": "markdown",
   "id": "0d8d55f0",
   "metadata": {},
   "source": [
    "Następnie tworzymy model (\"Entity\") reprezentujący obiekt JSON, który chcemy zwrócić po obsłudze błędu."
   ]
  },
  {
   "cell_type": "code",
   "execution_count": null,
   "id": "4279c185",
   "metadata": {},
   "outputs": [],
   "source": [
    "@Getter\n",
    "@Setter\n",
    "@NoArgsConstructor\n",
    "public class ErrorMessage {\n",
    "\n",
    "    private HttpStatus status;\n",
    "    private String message;\n",
    "\n",
    "    public ErrorMessage(HttpStatus status, String message) {\n",
    "        this.status = status;\n",
    "        this.message = message;\n",
    "    }\n",
    "}"
   ]
  },
  {
   "cell_type": "markdown",
   "id": "41b7aeca",
   "metadata": {},
   "source": [
    "Wracamy do pakietu error, gdzie tworzymy plik RestResponseEntityExceptionHandler, który zwraca odpowiedź w postaci obiektu JSON."
   ]
  },
  {
   "cell_type": "code",
   "execution_count": null,
   "id": "d46f5b72",
   "metadata": {},
   "outputs": [],
   "source": [
    "@ControllerAdvice\n",
    "@ResponseStatus\n",
    "public class RestResponseEntityExceptionHandler extends ResponseEntityExceptionHandler {\n",
    "\n",
    "    @ExceptionHandler(PostNotFoundException.class) ## here we add the class which handles exception\n",
    "    public ResponseEntity<ErrorMessage> postNotFoundException(PostNotFoundException exception, WebRequest request) {\n",
    "        ErrorMessage message = new ErrorMessage(HttpStatus.NOT_FOUND, exception.getMessage());\n",
    "\n",
    "        return ResponseEntity.status(HttpStatus.NOT_FOUND).body(message);\n",
    "    }"
   ]
  }
 ],
 "metadata": {
  "kernelspec": {
   "display_name": "Python 3 (ipykernel)",
   "language": "python",
   "name": "python3"
  },
  "language_info": {
   "codemirror_mode": {
    "name": "ipython",
    "version": 3
   },
   "file_extension": ".py",
   "mimetype": "text/x-python",
   "name": "python",
   "nbconvert_exporter": "python",
   "pygments_lexer": "ipython3",
   "version": "3.11.2"
  }
 },
 "nbformat": 4,
 "nbformat_minor": 5
}
