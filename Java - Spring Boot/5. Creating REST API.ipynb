{
 "cells": [
  {
   "cell_type": "markdown",
   "id": "78817386",
   "metadata": {},
   "source": [
    "### Tworzenie REST API\n",
    "\n",
    "Na potrzeby testów do pliku schema.sql wpisujemy"
   ]
  },
  {
   "cell_type": "code",
   "execution_count": null,
   "id": "4a42ef5b",
   "metadata": {},
   "outputs": [],
   "source": [
    "CREATE TABLE post (\n",
    "    id BIGINT AUTO_INCREMENT PRIMARY KEY,\n",
    "    title VARCHAR(40) NOT NULL,\n",
    "    content VARCHAR(40) NOT NULL,\n",
    "    created TIMESTAMP\n",
    ");\n",
    "\n",
    "CREATE TABLE comment (\n",
    "    id BIGINT AUTO_INCREMENT PRIMARY KEY,\n",
    "    post_id BIGINT NOT NULL,\n",
    "    content VARCHAR(2000) NULL,\n",
    "    created TIMESTAMP\n",
    ");\n",
    "\n",
    "ALTER TABLE comment\n",
    "    ADD CONSTRAINT comment_post_id\n",
    "    FOREIGN KEY (post_id) REFERENCES post(id);"
   ]
  },
  {
   "cell_type": "markdown",
   "id": "56028a42",
   "metadata": {},
   "source": [
    "A w pliku build.gradle dodajemy następyjący kod i uruchamiamy ten plik!\n",
    "Dzięki temu zapiszemy w pliku data.sql kod, który doda testowe wartości do bazy danych."
   ]
  },
  {
   "cell_type": "code",
   "execution_count": null,
   "id": "c6f5166a",
   "metadata": {},
   "outputs": [],
   "source": [
    "task generatePostsAndComments() {\n",
    "    doLast {\n",
    "    File dataSql = file(\"src/main/resources/data.sql\")\n",
    "        dataSql.write(\"\")\n",
    "    // posts\n",
    "    for (int i = 1; i < 100; i++) {\n",
    "        dataSql.append(\"insert into post(id, title, content, created) \" +\n",
    "            \"values (${i}, 'Test post ${i}', 'Content ${i}', '\" + LocalDateTime.now().minusDays(100 - i) + \"');\\n\")\n",
    "    }\n",
    "\n",
    "    //comments\n",
    "    for (int i = 1; i < 100; i++ ) {\n",
    "        int postId = 1 + i / 10;\n",
    "        dataSql.append(\"insert into comment(id, post_id, content, created) \" +\n",
    "            \"values (${i}, ${postId}, 'Comment ${i}', '\" + LocalDateTime.now().minusDays(100 - i) + \"');\\n\")\n",
    "        }\n",
    "    }\n",
    "}"
   ]
  },
  {
   "cell_type": "markdown",
   "id": "ada23a27",
   "metadata": {},
   "source": [
    "Tworzymy nowy pakiet z interfejsem ../repository.PostRepository"
   ]
  },
  {
   "cell_type": "code",
   "execution_count": null,
   "id": "6032b4ed",
   "metadata": {},
   "outputs": [],
   "source": [
    "import org.springframework.data.jpa.repository.JpaRepository;\n",
    "import org.springframework.stereotype.Repository;\n",
    "import pl.piotrfolio.restapi.model.Post;\n",
    "\n",
    "@Repository\n",
    "public interface PostRepository extends JpaRepository<Post, Long> {\n",
    "}"
   ]
  },
  {
   "cell_type": "markdown",
   "id": "76f6c24a",
   "metadata": {},
   "source": [
    "Tworzymy plik PostController w utworzonym wcześniej pakiecie .../controller/"
   ]
  },
  {
   "cell_type": "code",
   "execution_count": null,
   "id": "7a3c9804",
   "metadata": {},
   "outputs": [],
   "source": [
    "@RestController\n",
    "public class PostController {\n",
    "\n",
    "    @GetMapping(\"/posts\")\n",
    "    public List<Post> getPosts() {\n",
    "        return postService.getPosts();\n",
    "    }\n",
    "\n",
    "    @GetMapping(\"/posts/{id}\")\n",
    "    public Post getSinglePost(@PathVariable long id) {  ## long id z modelu Post\n",
    "        return postService.getSinglePost(id);;\n",
    "    }\n",
    "}"
   ]
  },
  {
   "cell_type": "markdown",
   "id": "7756be1e",
   "metadata": {},
   "source": [
    "Tworzymy nowy pakiet z klasą \"model.Post\", który ma takie same pola (zmienne) jak tabela w bazie danych.\n",
    "Tworzymy również gettery i settery."
   ]
  },
  {
   "cell_type": "code",
   "execution_count": null,
   "id": "551c6db6",
   "metadata": {},
   "outputs": [],
   "source": [
    "@Entity\n",
    "public class Post {\n",
    "\n",
    "    @Id  ## tutaj musi być import jakarta.persistence.Id; inaczej nie będzie działać!!\n",
    "    private long id;\n",
    "    \n",
    "    private String title;\n",
    "    private String content;\n",
    "    private LocalDateTime created;\n",
    "\n",
    "    public long getId() {\n",
    "        return id;\n",
    "    }\n",
    "\n",
    "    public String getTitle() {\n",
    "        return title;\n",
    "    }\n",
    "\n",
    "    public String getContent() {\n",
    "        return content;\n",
    "    }\n",
    "\n",
    "    public LocalDateTime getCreated() {\n",
    "        return created;\n",
    "    }\n",
    "\n",
    "    public void setId(long id) {\n",
    "        this.id = id;\n",
    "    }\n",
    "\n",
    "    public void setTitle(String title) {\n",
    "        this.title = title;\n",
    "    }\n",
    "\n",
    "    public void setContent(String content) {\n",
    "        this.content = content;\n",
    "    }\n",
    "\n",
    "    public void setCreated(LocalDateTime created) {\n",
    "        this.created = created;\n",
    "    }\n",
    "}"
   ]
  },
  {
   "cell_type": "markdown",
   "id": "09dc6928",
   "metadata": {},
   "source": [
    "Tworzymy nowy serwis PostService w ../service. Serwis pozwala na implementowanie CRUD-owych metod do komunikowania się z bazą danych."
   ]
  },
  {
   "cell_type": "code",
   "execution_count": null,
   "id": "10ec3a23",
   "metadata": {},
   "outputs": [],
   "source": [
    "import org.springframework.stereotype.Service;\n",
    "import pl.piotrfolio.restapi.model.Post;\n",
    "import pl.piotrfolio.restapi.repository.PostRepository;\n",
    "\n",
    "import java.util.List;\n",
    "\n",
    "@Service\n",
    "//@RequiredArgsConstructor\n",
    "public class PostService {\n",
    "\n",
    "    private final PostRepository postRepository;\n",
    "\n",
    "    public PostService(PostRepository postRepository) {\n",
    "        this.postRepository = postRepository;\n",
    "    }\n",
    "\n",
    "    public List<Post> getPosts() {\n",
    "        return postRepository.findAll();\n",
    "    }\n",
    "\n",
    "    public Post getSinglePost(long id) {\n",
    "        return postRepository.findById(id).orElseThrow();\n",
    "    }\n",
    "}"
   ]
  },
  {
   "cell_type": "markdown",
   "id": "42289c28",
   "metadata": {},
   "source": [
    "Tworzymy nową encję (model) dla sekcji Comment"
   ]
  },
  {
   "cell_type": "code",
   "execution_count": null,
   "id": "b41e497a",
   "metadata": {},
   "outputs": [],
   "source": [
    "@Entity\n",
    "@Getter  ## annotation from Lombok\n",
    "@Setter  ## annotation from Lombok\n",
    "public class Comment {\n",
    "\n",
    "    @Id\n",
    "    private long id;\n",
    "    private String content;\n",
    "    private LocalDateTime created;\n",
    "}\n",
    "\n",
    "## there is no variable for foreign key field, it's not necessary because it will be \"implemented\" in Post model\n",
    "## it's not necessary because it only represents the model to display when fetched from API. "
   ]
  },
  {
   "cell_type": "markdown",
   "id": "2b8de15b",
   "metadata": {},
   "source": [
    "W modelu Post dopisujemy "
   ]
  },
  {
   "cell_type": "code",
   "execution_count": null,
   "id": "4645e2db",
   "metadata": {},
   "outputs": [],
   "source": [
    "@Id\n",
    "    private long id;\n",
    "\n",
    "    private String title;\n",
    "    private String content;\n",
    "    private LocalDateTime created;\n",
    "\n",
    "    ## we have to add annotation \n",
    "    @OneToMany\n",
    "    @JoinColumn(name = \"post_id\") # name of the column with a foreign key in Comment model.\n",
    "    ## in the later stage, if we want to use it\n",
    "    private List<Comment> comment;"
   ]
  }
 ],
 "metadata": {
  "kernelspec": {
   "display_name": "Python 3 (ipykernel)",
   "language": "python",
   "name": "python3"
  },
  "language_info": {
   "codemirror_mode": {
    "name": "ipython",
    "version": 3
   },
   "file_extension": ".py",
   "mimetype": "text/x-python",
   "name": "python",
   "nbconvert_exporter": "python",
   "pygments_lexer": "ipython3",
   "version": "3.11.2"
  }
 },
 "nbformat": 4,
 "nbformat_minor": 5
}
