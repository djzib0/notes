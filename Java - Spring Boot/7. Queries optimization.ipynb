{
 "cells": [
  {
   "cell_type": "markdown",
   "id": "efe2f84b",
   "metadata": {},
   "source": [
    "### Optymalizacja zapytań\n",
    "\n",
    "Standardowo w przypadku \"Posta\" przy pobraniu wszystkich danych, wygeneruje się dodatkowo zapytanie dla każdego \"Posta\", które pobierzę listę komentarzy. Jest to proces mało wydajny ze względu na dużą liczbę zapytań do bazy.\n",
    "\n",
    "Można to zoptymalizować pisząc nową metodę z własnym zapytaniem do bazy danych, w intefejsie PostRepository"
   ]
  },
  {
   "cell_type": "code",
   "execution_count": null,
   "id": "4ba7e6fd",
   "metadata": {},
   "outputs": [],
   "source": [
    "@Query(\"select p from Post p\" +\n",
    "           \" left join fetch p.comment\")\n",
    "    List<Post> findAllPosts();"
   ]
  },
  {
   "cell_type": "markdown",
   "id": "4239d50d",
   "metadata": {},
   "source": [
    "Po implementacji, możemy wykorzystać tę metodę w servie PostService."
   ]
  },
  {
   "cell_type": "code",
   "execution_count": null,
   "id": "9027eb8e",
   "metadata": {},
   "outputs": [],
   "source": [
    "public List<Post> getPosts() {\n",
    "        return postRepository.findAllPosts();\n",
    "    }"
   ]
  }
 ],
 "metadata": {
  "kernelspec": {
   "display_name": "Python 3 (ipykernel)",
   "language": "python",
   "name": "python3"
  },
  "language_info": {
   "codemirror_mode": {
    "name": "ipython",
    "version": 3
   },
   "file_extension": ".py",
   "mimetype": "text/x-python",
   "name": "python",
   "nbconvert_exporter": "python",
   "pygments_lexer": "ipython3",
   "version": "3.11.2"
  }
 },
 "nbformat": 4,
 "nbformat_minor": 5
}
