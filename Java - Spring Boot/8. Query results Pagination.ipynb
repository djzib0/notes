{
 "cells": [
  {
   "cell_type": "markdown",
   "id": "aaa39a38",
   "metadata": {},
   "source": [
    "### Stronicowanie wyników w Spring Data\n",
    "\n",
    "W interfejsie PostRepository dodajemy atrybut \"Pageable page\"\n"
   ]
  },
  {
   "cell_type": "code",
   "execution_count": null,
   "id": "2e88388c",
   "metadata": {},
   "outputs": [],
   "source": [
    "@Query(\"select p from Post p\" +\n",
    "    \" left join fetch p.comment\")\n",
    "List<Post> findAllPosts(Pageable page);"
   ]
  },
  {
   "cell_type": "markdown",
   "id": "e042f953",
   "metadata": {},
   "source": [
    "Natomiast w PostService dodajemy argumenty do metody"
   ]
  },
  {
   "cell_type": "code",
   "execution_count": null,
   "id": "529ab4db",
   "metadata": {},
   "outputs": [],
   "source": [
    "public List<Post> getPosts() {\n",
    "    return postRepository.findAllPosts(PageRequest.of(0, 5)); # define page it should start and size of the \"page\"\n",
    "}"
   ]
  }
 ],
 "metadata": {
  "kernelspec": {
   "display_name": "Python 3 (ipykernel)",
   "language": "python",
   "name": "python3"
  },
  "language_info": {
   "codemirror_mode": {
    "name": "ipython",
    "version": 3
   },
   "file_extension": ".py",
   "mimetype": "text/x-python",
   "name": "python",
   "nbconvert_exporter": "python",
   "pygments_lexer": "ipython3",
   "version": "3.11.2"
  }
 },
 "nbformat": 4,
 "nbformat_minor": 5
}
