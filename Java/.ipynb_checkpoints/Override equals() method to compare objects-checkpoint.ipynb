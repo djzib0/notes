{
 "cells": [
  {
   "cell_type": "markdown",
   "id": "15460679",
   "metadata": {},
   "source": [
    "If we compare two different instances we will get false. However we can override it and make sure that it will return true for difference instances, but which has the same \"values\""
   ]
  },
  {
   "cell_type": "code",
   "execution_count": null,
   "id": "5642f3a9",
   "metadata": {},
   "outputs": [],
   "source": [
    "Book bookObject = new Book(\"Book object\", 2000, \"...\");\n",
    "Book anotherBookObject = bookObject;\n",
    "\n",
    "if (bookObject.equals(anotherBookObject)) {\n",
    "    System.out.println(\"The books are the same\");\n",
    "} else {\n",
    "    System.out.println(\"The books aren't the same\");\n",
    "}\n",
    "\n",
    "// we now create an object with the same content that's nonetheless its own object\n",
    "anotherBookObject = new Book(\"Book object\", 2000, \"...\");\n",
    "\n",
    "if (bookObject.equals(anotherBookObject)) {\n",
    "    System.out.println(\"The books are the same\");\n",
    "} else {\n",
    "    System.out.println(\"The books aren't the same\");\n",
    "}"
   ]
  },
  {
   "cell_type": "markdown",
   "id": "0aa9a3f4",
   "metadata": {},
   "source": [
    "Above code will return false."
   ]
  },
  {
   "cell_type": "code",
   "execution_count": null,
   "id": "071856ae",
   "metadata": {},
   "outputs": [],
   "source": [
    "public class Book {\n",
    "    private String name;\n",
    "    private String content;\n",
    "    private int published;\n",
    "\n",
    "    public Book(String name, int published, String content) {\n",
    "        this.name = name;\n",
    "        this.published = published;\n",
    "        this.content = content;\n",
    "    }\n",
    "    \n",
    "#     ...\n",
    "\n",
    "    @Override\n",
    "    public boolean equals(Object comparedObject) {\n",
    "        // if the variables are located in the same place, they're the same\n",
    "        if (this == comparedObject) {\n",
    "            return true;\n",
    "        }\n",
    "\n",
    "        // if comparedObject is not of type Book, the objects aren't the same\n",
    "        if (!(comparedObject instanceof Book)) {\n",
    "            return false;\n",
    "        }\n",
    "\n",
    "        // let's convert the object to a Book-object\n",
    "        Book comparedBook = (Book) comparedObject;\n",
    "\n",
    "        // if the instance variables of the objects are the same, so are the objects\n",
    "        if (this.name.equals(comparedBook.name) &&\n",
    "            this.published == comparedBook.published &&\n",
    "            this.content.equals(comparedBook.content)) {\n",
    "            return true;\n",
    "        }\n",
    "\n",
    "        // otherwise, the objects aren't the same\n",
    "        return false;\n",
    "    }\n",
    "}"
   ]
  },
  {
   "cell_type": "markdown",
   "id": "217098cb",
   "metadata": {},
   "source": [
    "In main we can now create two instances of Book class, and compare them."
   ]
  },
  {
   "cell_type": "code",
   "execution_count": null,
   "id": "04a5470e",
   "metadata": {},
   "outputs": [],
   "source": [
    "Book bookObject = new Book(\"Book Object\", 2000, \"...\");\n",
    "Book anotherBookObject = new Book(\"Book Object\", 2000, \"...\");\n",
    "\n",
    "if (bookObject.equals(anotherBookObject)) {\n",
    "    System.out.println(\"The books are the same\");\n",
    "} else {\n",
    "    System.out.println(\"The books aren't the same\");\n",
    "}"
   ]
  }
 ],
 "metadata": {
  "kernelspec": {
   "display_name": "Python 3 (ipykernel)",
   "language": "python",
   "name": "python3"
  },
  "language_info": {
   "codemirror_mode": {
    "name": "ipython",
    "version": 3
   },
   "file_extension": ".py",
   "mimetype": "text/x-python",
   "name": "python",
   "nbconvert_exporter": "python",
   "pygments_lexer": "ipython3",
   "version": "3.11.2"
  }
 },
 "nbformat": 4,
 "nbformat_minor": 5
}
