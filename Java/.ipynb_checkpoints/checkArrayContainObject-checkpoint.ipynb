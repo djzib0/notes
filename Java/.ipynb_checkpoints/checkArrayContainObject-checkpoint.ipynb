{
 "cells": [
  {
   "cell_type": "markdown",
   "id": "e0a72d30",
   "metadata": {},
   "source": [
    "### How to check if the same \"element\" is in the ArrayList"
   ]
  },
  {
   "cell_type": "markdown",
   "id": "3ac7094c",
   "metadata": {},
   "source": [
    "It compares not only the object, but also attributes (values of variables) of the objects."
   ]
  },
  {
   "cell_type": "code",
   "execution_count": null,
   "id": "c7d72c8c",
   "metadata": {},
   "outputs": [],
   "source": [
    "public class Book {\n",
    "    private String title;\n",
    "    private int publishYear;\n",
    "    \n",
    "    public Book(String title, int publishYear) {\n",
    "        this.title = title;\n",
    "        this.publishYear = publishYear;\n",
    "    }\n",
    "    ## to check if the item is in the array, we have tu use \n",
    "    ## below method \n",
    "    public boolean equals(Object compared) {\n",
    "        ## if the variables are located in the same position, they are equal\n",
    "        if (this == compared) {\n",
    "            return true;\n",
    "        }\n",
    "        \n",
    "        ## if the compared object is not of type Book, the objects are not equal\n",
    "        if (!(compared instanceOf Book)) {\n",
    "            return false;\n",
    "        }\n",
    "        \n",
    "        ## convert the object to a Book object\n",
    "        Book comparedBook = (Book) compared;\n",
    "        \n",
    "        ## if the values of the object variables are equal, the objects are, too\n",
    "        return this.title.equals(comparedBook.title) && this.publishYear == comparedBook.publishYear;\n",
    "    }\n",
    "    \n",
    "    public static void main(String[] args) {\n",
    "        ArrayList<Book> books = new ArrayList<>();\n",
    "    }\n",
    "    \n",
    "    Scanner inputScanner = new Scanner(System.in);\n",
    "\n",
    "    while (true) {\n",
    "        System.out.println(\"Enter title: \");\n",
    "        String title = inputScanner.nextLine();;\n",
    "        if (title.equals(\"\")) {\n",
    "            break;\n",
    "        }\n",
    "        \n",
    "        System.out.println(\"Enter publish year: \");\n",
    "        int publishYear = Integer.valueOf(inputScanner.nextLine());\n",
    "\n",
    "        Book newBook = new Book(title, publishYear);\n",
    "        if (books.contains(newBook)) {\n",
    "            System.out.println(\"There is already a book with given parameteres\");\n",
    "        } else {\n",
    "            System.out.println(\"Book is added.\");\n",
    "            books.add(newBook);\n",
    "        }\n",
    "    }\n",
    "\n",
    "}"
   ]
  }
 ],
 "metadata": {
  "kernelspec": {
   "display_name": "Python 3 (ipykernel)",
   "language": "python",
   "name": "python3"
  },
  "language_info": {
   "codemirror_mode": {
    "name": "ipython",
    "version": 3
   },
   "file_extension": ".py",
   "mimetype": "text/x-python",
   "name": "python",
   "nbconvert_exporter": "python",
   "pygments_lexer": "ipython3",
   "version": "3.11.2"
  }
 },
 "nbformat": 4,
 "nbformat_minor": 5
}
