{
 "cells": [
  {
   "cell_type": "markdown",
   "id": "37cedbf3",
   "metadata": {},
   "source": [
    "### Klasy abstrakcyjne"
   ]
  },
  {
   "cell_type": "markdown",
   "id": "65bfafab",
   "metadata": {},
   "source": [
    "Klasa abstrakcyjna to specjalny rodzaj klasy, który wyróżna się tym, że nie można stworzyć instancji tej klasy, a jedynie podklasę, która będzie po niej dziedziczyła."
   ]
  },
  {
   "cell_type": "code",
   "execution_count": null,
   "id": "8ea4176a",
   "metadata": {},
   "outputs": [],
   "source": [
    "### Przykładowa klasa abstrakcyjna\n",
    "public abstract class Pet {\n",
    "    # instance variable like in normal class.\n",
    "    private String name;\n",
    "    \n",
    "    # we can define methods like in the normal class.\n",
    "    public String getName() {\n",
    "        return this.name;\n",
    "    }\n",
    "    \n",
    "    # or we can define abstract methods like below\n",
    "    # no curly brackets!\n",
    "    public abstract void introduceYourself();\n",
    "    # above method doesn't have any body. It forces any subclass to implement this method.\n",
    "    # otherwise it won't work!\n",
    "}\n",
    "\n",
    "##############################\n",
    "# Example subclass of abstract class\n",
    "public class Dog extends Pet {\n",
    "    private String dogRace;\n",
    "    \n",
    "    public Dog(String name, String dogRace) {\n",
    "        super(name); # initialize constructor of abstract class Pet\n",
    "        this.dogRace = dogRace; # initialize instance variable for new Dog class\n",
    "    }\n",
    "    \n",
    "    # we have to override the method from abstract Pet class\n",
    "    # but only the one which are marked as a abstract! (i.e public abstract...)\n",
    "    @Override\n",
    "    public void introduceYourself() {\n",
    "        System.out.println(\"Dog's name is: \" + this.getName()) # we can use methods inherited from abstract class\n",
    "    }\n",
    "}"
   ]
  },
  {
   "cell_type": "markdown",
   "id": "eae82cba",
   "metadata": {},
   "source": [
    "Interface is similar to abstract classes (and should be used almost in 99% of cases). It's also not possible to create an instance of this object. Only a subclass can inherit from interface.\n",
    "\n",
    "It's some kind of \"contract\" which is \"signed\" by a subclass, which says the subclass has to implement all defined methods from the interface."
   ]
  },
  {
   "cell_type": "code",
   "execution_count": null,
   "id": "1a5c67de",
   "metadata": {},
   "outputs": [],
   "source": [
    "# Example interface\n",
    "public interface TacoBox() {\n",
    "    # all methods are public by default, we don't have to write it before the method\n",
    "    int tacosRemaining();\n",
    "    void eat();\n",
    "    \n",
    "    # above methods myst be overriden in subclass which implements this interface\n",
    "}\n",
    "\n",
    "\n",
    "#####\n",
    "# Example of class which implements interface TacoBox\n",
    "\n",
    "public class TripleTacoBox implements TacoBox {\n",
    "    private int tacosNumber;\n",
    "    \n",
    "    public TripleTacoBox() {\n",
    "        this.tacosNumber = 3;\n",
    "    }\n",
    "    \n",
    "    @Override\n",
    "    public int tacosRemaining() {\n",
    "        return this.tacosNumber;\n",
    "    }\n",
    "    \n",
    "    @OVerride\n",
    "    public void eat() {\n",
    "        this.tacosNumber -= 1;\n",
    "    }\n",
    "}"
   ]
  }
 ],
 "metadata": {
  "kernelspec": {
   "display_name": "Python 3 (ipykernel)",
   "language": "python",
   "name": "python3"
  },
  "language_info": {
   "codemirror_mode": {
    "name": "ipython",
    "version": 3
   },
   "file_extension": ".py",
   "mimetype": "text/x-python",
   "name": "python",
   "nbconvert_exporter": "python",
   "pygments_lexer": "ipython3",
   "version": "3.11.2"
  }
 },
 "nbformat": 4,
 "nbformat_minor": 5
}
