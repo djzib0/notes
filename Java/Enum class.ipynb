{
 "cells": [
  {
   "cell_type": "markdown",
   "id": "cb4871ce",
   "metadata": {},
   "source": [
    "An enum is a special \"class\" that represents a group of constants (unchangeable variables, like final variables).\n",
    "\n",
    "To create an enum, use the enum keyword (instead of class or interface), and separate the constants with a comma. Note that they should be in uppercase letters:"
   ]
  },
  {
   "cell_type": "code",
   "execution_count": null,
   "id": "a6792de1",
   "metadata": {},
   "outputs": [],
   "source": [
    "enum Level {\n",
    "  LOW,\n",
    "  MEDIUM,\n",
    "  HIGH\n",
    "}"
   ]
  },
  {
   "cell_type": "markdown",
   "id": "c19f1dd1",
   "metadata": {},
   "source": [
    "You can also use an enum in a class"
   ]
  },
  {
   "cell_type": "code",
   "execution_count": null,
   "id": "79f56d0c",
   "metadata": {},
   "outputs": [],
   "source": [
    "public class Main {\n",
    "  enum Level {\n",
    "    LOW,\n",
    "    MEDIUM,\n",
    "    HIGH\n",
    "  }\n",
    "\n",
    "  public static void main(String[] args) {\n",
    "    Level myVar = Level.MEDIUM; \n",
    "    System.out.println(myVar);\n",
    "  }\n",
    "}"
   ]
  },
  {
   "cell_type": "markdown",
   "id": "6f850852",
   "metadata": {},
   "source": [
    "We can set object references in enum class."
   ]
  },
  {
   "cell_type": "code",
   "execution_count": null,
   "id": "42ffc900",
   "metadata": {},
   "outputs": [],
   "source": [
    "public enum Color {\n",
    "    RED(\"FF0000\"),\n",
    "    GREEN(\"00FF00\"),\n",
    "    BLUE(\"0000FF\");\n",
    "    \n",
    "    // set the Type of the object reference\n",
    "    private String code;\n",
    "    \n",
    "    // set the constructor (it must be private)\n",
    "    private Color(String code) {\n",
    "        this.code = code\n",
    "    }\n",
    "    \n",
    "    // set getter to get a code\n",
    "    public String getCode() {\n",
    "        return this.code\n",
    "    }\n",
    "    \n",
    "    public static void main(String[] args) {\n",
    "        System.out.println(Color.GREEN.getCode())  //returns \"00FF00\"\n",
    "    }\n",
    "}"
   ]
  }
 ],
 "metadata": {
  "kernelspec": {
   "display_name": "Python 3 (ipykernel)",
   "language": "python",
   "name": "python3"
  },
  "language_info": {
   "codemirror_mode": {
    "name": "ipython",
    "version": 3
   },
   "file_extension": ".py",
   "mimetype": "text/x-python",
   "name": "python",
   "nbconvert_exporter": "python",
   "pygments_lexer": "ipython3",
   "version": "3.11.2"
  }
 },
 "nbformat": 4,
 "nbformat_minor": 5
}
