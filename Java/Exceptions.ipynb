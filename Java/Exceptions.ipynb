{
 "cells": [
  {
   "cell_type": "markdown",
   "id": "3f0669b6",
   "metadata": {},
   "source": [
    "Do obsługi wyjątków służy blok try/catch"
   ]
  },
  {
   "cell_type": "code",
   "execution_count": null,
   "id": "6f49648c",
   "metadata": {},
   "outputs": [],
   "source": [
    "try {\n",
    "    // try to do something\n",
    "} catch (Exception e) {\n",
    "    // do something else when the error occurrs\n",
    "}"
   ]
  },
  {
   "cell_type": "markdown",
   "id": "df4c3557",
   "metadata": {},
   "source": [
    "Możemy \"zepchnąć\" odpowiedzialność na inne metody aby obsłużyły błąd, przykład poniżej:"
   ]
  },
  {
   "cell_type": "code",
   "execution_count": 2,
   "id": "9516a825",
   "metadata": {},
   "outputs": [],
   "source": [
    "public void methodWithoutResponsibility(String stringValue) throws Exception {\n",
    "    // no block try/catch is required\n",
    "    int intValue = Integer.valueOf(stringValue); //trying to convert string to integer\n",
    "}\n",
    "\n",
    "public void methodWithResponsibility() {\n",
    "    methodWithoutResponsibility(\"testValue\");\n",
    "}\n",
    "\n"
   ]
  },
  {
   "cell_type": "markdown",
   "id": "c6576eda",
   "metadata": {},
   "source": [
    "Powyższy kod nie zadziała, ponieważ musimy wstawić blok try/catch w metodzie, która wywołuje metodę z klauzulą \"throws Exception\".\n",
    "\n",
    "Aby kod zadziałał należy obsłużyć błąd."
   ]
  },
  {
   "cell_type": "code",
   "execution_count": null,
   "id": "0220e6de",
   "metadata": {},
   "outputs": [],
   "source": [
    "public void methodWithResponsibility() {\n",
    "    try {\n",
    "        methodWithoutResponsibility(\"testValue\");\n",
    "    } catch (Exception e) {\n",
    "        // do something\n",
    "    }\n",
    "\n",
    "}"
   ]
  }
 ],
 "metadata": {
  "kernelspec": {
   "display_name": "Python 3 (ipykernel)",
   "language": "python",
   "name": "python3"
  },
  "language_info": {
   "codemirror_mode": {
    "name": "ipython",
    "version": 3
   },
   "file_extension": ".py",
   "mimetype": "text/x-python",
   "name": "python",
   "nbconvert_exporter": "python",
   "pygments_lexer": "ipython3",
   "version": "3.11.2"
  }
 },
 "nbformat": 4,
 "nbformat_minor": 5
}
