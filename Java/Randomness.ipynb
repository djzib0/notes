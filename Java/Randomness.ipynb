{
 "cells": [
  {
   "cell_type": "markdown",
   "id": "35bfac0c",
   "metadata": {},
   "source": [
    "Tworzenie losowej liczby."
   ]
  },
  {
   "cell_type": "code",
   "execution_count": null,
   "id": "b97bf116",
   "metadata": {},
   "outputs": [],
   "source": [
    "import java.util.Random\n",
    "\n",
    "Random randomizer = new Random()\n",
    "\n",
    "int randomNumber = randomizer.nextInt(10); // it will generate random number in range from 0-9;"
   ]
  },
  {
   "cell_type": "markdown",
   "id": "56762963",
   "metadata": {},
   "source": [
    "If we want to generate number for example in range -20 up to 40"
   ]
  },
  {
   "cell_type": "code",
   "execution_count": null,
   "id": "559298e9",
   "metadata": {},
   "outputs": [],
   "source": [
    "int randomNumber = randomizer.nextInt(61) - 20; \n",
    "\n",
    "//initialy it would be from 0 to 61, but if we subtract 20 we will get range (0-20 = -20) to (61-20 = 41)"
   ]
  }
 ],
 "metadata": {
  "kernelspec": {
   "display_name": "Python 3 (ipykernel)",
   "language": "python",
   "name": "python3"
  },
  "language_info": {
   "codemirror_mode": {
    "name": "ipython",
    "version": 3
   },
   "file_extension": ".py",
   "mimetype": "text/x-python",
   "name": "python",
   "nbconvert_exporter": "python",
   "pygments_lexer": "ipython3",
   "version": "3.11.2"
  }
 },
 "nbformat": 4,
 "nbformat_minor": 5
}
