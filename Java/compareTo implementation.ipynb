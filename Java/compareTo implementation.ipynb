{
 "cells": [
  {
   "cell_type": "markdown",
   "id": "9e3ad45f",
   "metadata": {},
   "source": [
    "### Comparable interface"
   ]
  },
  {
   "cell_type": "markdown",
   "id": "43dbf1ad",
   "metadata": {},
   "source": [
    "Implementacja interfejsu Comparable służy do sortowania elementów w zbiorach.\n",
    "\n",
    "Przykładowo mamy poniższą klasę i chcielibyśmy wszystkie instacje tej klasy, zapisane w ArrayList, posortować wg wzrostu."
   ]
  },
  {
   "cell_type": "code",
   "execution_count": null,
   "id": "cd3fca20",
   "metadata": {},
   "outputs": [],
   "source": [
    "class public Human implements Comparable<Human> {\n",
    "    ## pay attention, in arrow bracket you must put class as a parameter!\n",
    "    \n",
    "    private String name;\n",
    "    private int height;\n",
    "    \n",
    "    public Human(String name, int height) {\n",
    "        this.name = name;\n",
    "        this.height = height;\n",
    "    }\n",
    "    \n",
    "    public int getHeight() {\n",
    "        return this.height;\n",
    "    }\n",
    "    \n",
    "    \n",
    "    // overriding compareTo method (this method always returns an integer).\n",
    "    @Override\n",
    "    public int compareTo(Human humanToCompareWith) {\n",
    "        ## if value we compare is the same as a value we compare with, return 0\n",
    "        if (this.getHeight() == humanToCompareWith.getHeight()) {\n",
    "            return 0;\n",
    "        ## if it's smaller, return -1\n",
    "        } else if (this.getHeight() < humanToCompareWith.getHeight()) {\n",
    "            return -1;\n",
    "        } else {\n",
    "            return 1;\n",
    "        }\n",
    "    }\n",
    "    \n",
    "    ## Alternatively we can use the code like below\n",
    "    @Override\n",
    "    public int compareTo(Human humanToCompareWith) {\n",
    "        return this.getHeight() - humanToCompareWith.getHeight()\n",
    "        ## for the reverse order humanToCompareWith.getHeight() - this.getHeight();\n",
    "    }\n",
    "    \n",
    "}"
   ]
  },
  {
   "cell_type": "markdown",
   "id": "c19cbe93",
   "metadata": {},
   "source": [
    " Teraz możemy na przykład zastosować metodę sorted, dla stream(), np."
   ]
  },
  {
   "cell_type": "code",
   "execution_count": null,
   "id": "8b1bdf41",
   "metadata": {},
   "outputs": [],
   "source": [
    "public static void main(String[] args) {\n",
    "    ArrayList<Member> members = new ArrayList<>();\n",
    "    members.add(new Member(\"mikael\", 182));\n",
    "    members.add(new Member(\"matti\", 187));\n",
    "    members.add(new Member(\"ada\", 184));\n",
    "    \n",
    "    members.stream()\n",
    "            .sorted()\n",
    "            .forEach(member -> System.out.println(member));\n",
    "        "
   ]
  },
  {
   "cell_type": "markdown",
   "id": "f5a85a82",
   "metadata": {},
   "source": [
    "Możemy też zmienić \"kierunek\" sortowania w poniższy sposób."
   ]
  },
  {
   "cell_type": "code",
   "execution_count": null,
   "id": "a7464388",
   "metadata": {},
   "outputs": [],
   "source": [
    "    members.stream()\n",
    "           .sorted(Comparator.reverseOrder()) # we change sorting \"direction\" with Comparator.reverseOrder()\n",
    "           .forEach(member -> System.out.println(member))"
   ]
  },
  {
   "cell_type": "markdown",
   "id": "d578f6c3",
   "metadata": {},
   "source": [
    "Jeżeli chcemy sortować wg zmiennych \"String\", to przysłaniamy metodę compareTo jak niżej."
   ]
  },
  {
   "cell_type": "code",
   "execution_count": null,
   "id": "ffbd6511",
   "metadata": {},
   "outputs": [],
   "source": [
    "@Override\n",
    "public int compareTo(Human umanToCompareWith) {\n",
    "    return this.name.compareTo(student.getName())\n",
    "    ## for the reverse order student.getName.compareTo(this.name);\n",
    "}\n",
    "\n",
    "### here rest of the code... ###\n",
    "\n",
    "## we can change sorting \"direction\" like for the height variable.\n",
    "    members.stream()\n",
    "           .sorted(Comparator.reverseOrder()) # we change sorting \"direction\" with Comparator.reverseOrder()\n",
    "           .forEach(member -> System.out.println(member))"
   ]
  }
 ],
 "metadata": {
  "kernelspec": {
   "display_name": "Python 3 (ipykernel)",
   "language": "python",
   "name": "python3"
  },
  "language_info": {
   "codemirror_mode": {
    "name": "ipython",
    "version": 3
   },
   "file_extension": ".py",
   "mimetype": "text/x-python",
   "name": "python",
   "nbconvert_exporter": "python",
   "pygments_lexer": "ipython3",
   "version": "3.11.2"
  }
 },
 "nbformat": 4,
 "nbformat_minor": 5
}
