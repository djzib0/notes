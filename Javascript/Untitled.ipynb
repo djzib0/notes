{
 "cells": [
  {
   "cell_type": "markdown",
   "id": "845a445b",
   "metadata": {},
   "source": [
    "### Local storage"
   ]
  },
  {
   "cell_type": "markdown",
   "id": "89cd25c8",
   "metadata": {},
   "source": [
    "Zapisywanie do Local Storage"
   ]
  },
  {
   "cell_type": "code",
   "execution_count": null,
   "id": "149b72fe",
   "metadata": {},
   "outputs": [],
   "source": [
    "let myList = [\"item1\", \"item2\"]\n",
    "localStorage.setItem(\"itemKey\", JSON.stringify(myList)) # przypisujemy klucz, a następnie musimy zamienić listę na string\n",
    "\n",
    "# aby wczytać i przypisać wartość do zmiennej musimy string-a zamienić na listę\n",
    "let newList = JSON.parse(localStorage.getItem(\"itemKey\"))\n",
    "\n"
   ]
  }
 ],
 "metadata": {
  "kernelspec": {
   "display_name": "Python 3 (ipykernel)",
   "language": "python",
   "name": "python3"
  },
  "language_info": {
   "codemirror_mode": {
    "name": "ipython",
    "version": 3
   },
   "file_extension": ".py",
   "mimetype": "text/x-python",
   "name": "python",
   "nbconvert_exporter": "python",
   "pygments_lexer": "ipython3",
   "version": "3.10.4"
  }
 },
 "nbformat": 4,
 "nbformat_minor": 5
}
