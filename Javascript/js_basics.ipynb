{
 "cells": [
  {
   "cell_type": "markdown",
   "id": "508ef67d",
   "metadata": {},
   "source": [
    "### Local storage"
   ]
  },
  {
   "cell_type": "markdown",
   "id": "30b4b846",
   "metadata": {},
   "source": [
    "Zapisywanie do Local Storage"
   ]
  },
  {
   "cell_type": "code",
   "execution_count": null,
   "id": "75608c4f",
   "metadata": {},
   "outputs": [],
   "source": [
    "let myList = [\"item1\", \"item2\"]\n",
    "localStorage.setItem(\"itemKey\", JSON.stringify(myList)) # przypisujemy klucz, a następnie musimy zamienić listę na string\n",
    "\n",
    "# aby wczytać i przypisać wartość do zmiennej musimy string-a zamienić na listę\n",
    "let newList = JSON.parse(localStorage.getItem(\"itemKey\"))\n",
    "\n",
    "# aby 'wyczyścić' Local Storage\n",
    "localStorage.clear()\n",
    "\n"
   ]
  },
  {
   "cell_type": "markdown",
   "id": "b9871ea4",
   "metadata": {},
   "source": [
    "### Random"
   ]
  },
  {
   "cell_type": "code",
   "execution_count": null,
   "id": "dc8e3b4d",
   "metadata": {},
   "outputs": [],
   "source": [
    "# wygenerowanie losowej liczby w przedziale 0 do 1.\n",
    "let randomNumber = Math.random()\n",
    "\n",
    "# wygenerowanie losowej liczby w przedziale od 0 do X.\n",
    "let randomNumber = Math.random() * X\n",
    "\n",
    "# wygenerowanie losowej liczby całkowitej w przedziale od 0 do X\n",
    "\n",
    "let randomNumber = Math.floor(Math.random() * X)\n",
    "\n"
   ]
  },
  {
   "cell_type": "markdown",
   "id": "b9a82be8",
   "metadata": {},
   "source": [
    "### Zaokrąglanie"
   ]
  },
  {
   "cell_type": "code",
   "execution_count": null,
   "id": "105bb32d",
   "metadata": {},
   "outputs": [],
   "source": [
    "let var = 1.2345\n",
    "var = var.toFixed(X) # gdzie X to ilość miejsc po przecinku"
   ]
  }
 ],
 "metadata": {
  "kernelspec": {
   "display_name": "Python 3 (ipykernel)",
   "language": "python",
   "name": "python3"
  },
  "language_info": {
   "codemirror_mode": {
    "name": "ipython",
    "version": 3
   },
   "file_extension": ".py",
   "mimetype": "text/x-python",
   "name": "python",
   "nbconvert_exporter": "python",
   "pygments_lexer": "ipython3",
   "version": "3.10.4"
  }
 },
 "nbformat": 4,
 "nbformat_minor": 5
}
