{
 "cells": [
  {
   "cell_type": "markdown",
   "id": "508ef67d",
   "metadata": {},
   "source": [
    "### Local storage"
   ]
  },
  {
   "cell_type": "markdown",
   "id": "30b4b846",
   "metadata": {},
   "source": [
    "Zapisywanie do Local Storage"
   ]
  },
  {
   "cell_type": "code",
   "execution_count": null,
   "id": "75608c4f",
   "metadata": {},
   "outputs": [],
   "source": [
    "let myList = [\"item1\", \"item2\"]\n",
    "localStorage.setItem(\"itemKey\", JSON.stringify(myList)) # przypisujemy klucz, a następnie musimy zamienić listę na string\n",
    "\n",
    "# aby wczytać i przypisać wartość do zmiennej musimy string-a zamienić na listę\n",
    "let newList = JSON.parse(localStorage.getItem(\"itemKey\"))\n",
    "\n",
    "# aby 'wyczyścić' Local Storage\n",
    "localStorage.clear()\n",
    "\n"
   ]
  },
  {
   "cell_type": "markdown",
   "id": "b9871ea4",
   "metadata": {},
   "source": [
    "### Random"
   ]
  },
  {
   "cell_type": "code",
   "execution_count": null,
   "id": "dc8e3b4d",
   "metadata": {},
   "outputs": [],
   "source": [
    "# wygenerowanie losowej liczby w przedziale 0 do 1.\n",
    "let randomNumber = Math.random()\n",
    "\n",
    "# wygenerowanie losowej liczby w przedziale od 0 do X.\n",
    "let randomNumber = Math.random() * X\n",
    "\n",
    "# wygenerowanie losowej liczby całkowitej w przedziale od 0 do X\n",
    "\n",
    "let randomNumber = Math.floor(Math.random() * X)\n",
    "\n"
   ]
  },
  {
   "cell_type": "markdown",
   "id": "b9a82be8",
   "metadata": {},
   "source": [
    "### Zaokrąglanie"
   ]
  },
  {
   "cell_type": "code",
   "execution_count": null,
   "id": "105bb32d",
   "metadata": {},
   "outputs": [],
   "source": [
    "let var = 1.2345\n",
    "var = var.toFixed(X) # gdzie X to ilość miejsc po przecinku"
   ]
  },
  {
   "cell_type": "markdown",
   "id": "e631f168",
   "metadata": {},
   "source": [
    "### Funkcja setTimeout"
   ]
  },
  {
   "cell_type": "code",
   "execution_count": null,
   "id": "29c725a1",
   "metadata": {},
   "outputs": [],
   "source": [
    "setTimeout(function(){\n",
    "    console.log(\"Wyświetli ten komunikat po określonym czasie w milisekundach\")\n",
    "}, 3000) # wyświetli komunikat po 3 sekundach\n",
    "\n",
    "# setTimeout jako arrow function\n",
    "setTimeout(() => console.log(\"Show me after 3 seconds\", 3000))"
   ]
  },
  {
   "cell_type": "markdown",
   "id": "9ab3a4de",
   "metadata": {},
   "source": [
    "### Dostęp do stylu wybranego elementu"
   ]
  },
  {
   "cell_type": "code",
   "execution_count": null,
   "id": "1a75d748",
   "metadata": {},
   "outputs": [],
   "source": [
    "const newEl = document.getElementById(\"wybrany-element\")\n",
    "\n",
    "newEl.style.display = \"flex\" #zmieni parametr \"display\" na flex"
   ]
  },
  {
   "cell_type": "markdown",
   "id": "6c580e22",
   "metadata": {},
   "source": [
    "### Tworzenie obiektu z danych z formularza"
   ]
  },
  {
   "cell_type": "code",
   "execution_count": null,
   "id": "130e3032",
   "metadata": {},
   "outputs": [],
   "source": [
    "const newForm = document.getElementById(\"form\")\n",
    "\n",
    "const newFormData = new formData('newForm') # do zmiennej newFormData przypisujemy dane z formularza\n",
    "const email = newFormData.get(\"email\") # jeżeli w <input name='email'> to wówczas przekazujemy email do newFormData.get()"
   ]
  },
  {
   "cell_type": "markdown",
   "id": "618a480b",
   "metadata": {},
   "source": [
    "### Zapobieganie wyświetlaniu przekazanych danych z formularza w adresie strony"
   ]
  },
  {
   "cell_type": "code",
   "execution_count": null,
   "id": "5c885f3c",
   "metadata": {},
   "outputs": [],
   "source": [
    "const newForm = document.getElementById(\"form\")\n",
    "\n",
    "newForm.addEventListener(\"submit\", function(e) {  # po przekazaniu \"submit\" poprzez wciśnięcie buttona na stronie\n",
    "    e.preventDefault()\n",
    "})"
   ]
  },
  {
   "cell_type": "markdown",
   "id": "982f5189",
   "metadata": {},
   "source": [
    "### \"Włączanie\" klasy"
   ]
  },
  {
   "cell_type": "code",
   "execution_count": null,
   "id": "450ef1f5",
   "metadata": {},
   "outputs": [],
   "source": [
    "const newEl = document.getElementById(\"element-id\")\n",
    "\n",
    "newEl.classList.toggle(\"class-name\")"
   ]
  },
  {
   "cell_type": "markdown",
   "id": "8b2bf561",
   "metadata": {},
   "source": [
    "### Zmiana atrybutu \"disabled\""
   ]
  },
  {
   "cell_type": "code",
   "execution_count": null,
   "id": "e16cf424",
   "metadata": {},
   "outputs": [],
   "source": [
    "const newEl = document.getElementById(\"element-id\")\n",
    "newEl.disabled = false # lub true, w zależności czego oczekujemy"
   ]
  },
  {
   "cell_type": "markdown",
   "id": "d7fef169",
   "metadata": {},
   "source": [
    "### Import/export"
   ]
  },
  {
   "cell_type": "code",
   "execution_count": null,
   "id": "f3aa7bbc",
   "metadata": {},
   "outputs": [],
   "source": [
    "# W pliku z którego eksportujemy\n",
    "export const var = 'value'\n",
    "\n",
    "# w pliku do którego importujemy\n",
    "import { var } from \"./export_file.js\"  # podajemy ścieżkę do pliku, z którego eksportujemy\n",
    "\n",
    "# w pliku html dopisujemy atrybut 'type'\n",
    "<script src='index.js' type='module'></script>"
   ]
  },
  {
   "cell_type": "markdown",
   "id": "604c72ca",
   "metadata": {},
   "source": [
    "### querySelector\n",
    "Aby sprawdzić czy np input (radio) jest zaznaczony, możemy wykorzystać querySelector"
   ]
  },
  {
   "cell_type": "code",
   "execution_count": null,
   "id": "d4ddc63c",
   "metadata": {},
   "outputs": [],
   "source": [
    "if (document.querySelector('input[type=\"radio\"]:checked')) {\n",
    " console.log(document.querySelector('input[type=\"radio\"]:checked').value) # wyświetli wartość przekazaną z html\n",
    "}"
   ]
  },
  {
   "cell_type": "markdown",
   "id": "10882428",
   "metadata": {},
   "source": [
    "Dla checkbox-a"
   ]
  },
  {
   "cell_type": "code",
   "execution_count": null,
   "id": "792624e5",
   "metadata": {},
   "outputs": [],
   "source": [
    "const checkboxEl = document.getElementById('checkbox-el')\n",
    "const isChecked = checkboxEl.checked # zwraca true jeżeli jest zaznaczony"
   ]
  },
  {
   "cell_type": "markdown",
   "id": "904d2159",
   "metadata": {},
   "source": [
    "### getElementsByClassName\n",
    "Pozwala uzyskać dostęp do obiektu/ów dla podanej klasy"
   ]
  },
  {
   "cell_type": "code",
   "execution_count": null,
   "id": "fa52f3f0",
   "metadata": {},
   "outputs": [],
   "source": [
    "# szukam elementów, które mają klasę \"css-class\"\n",
    "let elements = document.getElementsByClassName('css-class') # zwróć uwagę, że jest getElements..., a nie getElement"
   ]
  },
  {
   "cell_type": "markdown",
   "id": "1eadde17",
   "metadata": {},
   "source": [
    "### .filter() - filtrowanie danych"
   ]
  },
  {
   "cell_type": "code",
   "execution_count": null,
   "id": "c8e7504c",
   "metadata": {},
   "outputs": [],
   "source": [
    "# np. chcemy wyświetlić obiekty, które mają wartość wiek > 18 lat\n",
    "const objectsArr = [\n",
    "    {\n",
    "        name: 'Piotr',\n",
    "        age: 19\n",
    "    },\n",
    "    {\n",
    "        name: 'Adam',\n",
    "        age: 8\n",
    "    }\n",
    "]\n",
    "\n",
    "const olderThan18 = objectsArr.filter(function(arr) { # arr to dowolna nazwa\n",
    "    return arr.age > 18\n",
    "    # lub możemy łączyć warunki np\n",
    "    return arr.age > 18 && arr.name === 'Piotr'\n",
    "\n"
   ]
  },
  {
   "cell_type": "markdown",
   "id": "98945d7a",
   "metadata": {},
   "source": [
    "### Mapowanie tablicy"
   ]
  },
  {
   "cell_type": "code",
   "execution_count": null,
   "id": "8d4c34b2",
   "metadata": {},
   "outputs": [],
   "source": [
    "const list1 = [1, 2, 3]\n",
    "\n",
    "const mappedList = list1.map(function(num) {  ### num jest domyślną nazwą \n",
    "    return num * 2\n",
    "}).join(\"\") ## wynikiem będzie string bez przecinków\n",
    "\n",
    "# console.log(mappedList) -- > [2, 4, 6] (z join [\"246\"])"
   ]
  },
  {
   "cell_type": "markdown",
   "id": "93c8ffdf",
   "metadata": {},
   "source": [
    "### Tworzenie Array i wypełnianie danymi"
   ]
  },
  {
   "cell_type": "code",
   "execution_count": null,
   "id": "246d117d",
   "metadata": {},
   "outputs": [],
   "source": [
    "const newArray = new Array(10).fill(\"data1\") # stworzy nową listę o długości 10 i wypełni ją \"data1\"\n",
    "\n",
    "#przykład z mapowaniem\n",
    "\n",
    "const newArray = new Array(10).fill(2).map(function(num) {\n",
    "    return num * 2\n",
    "})\n",
    "\n",
    "# wynikiem będzie lista o długości 10 i wypełniona 2*2 czyli 4"
   ]
  },
  {
   "cell_type": "markdown",
   "id": "07b1c0c0",
   "metadata": {},
   "source": [
    "### Funkcja konstruktora i metody konstruktora"
   ]
  },
  {
   "cell_type": "code",
   "execution_count": null,
   "id": "67620099",
   "metadata": {},
   "outputs": [],
   "source": [
    "const person1 = {\n",
    "    name: \"Piotr\"\n",
    "    lastName = \"Kowalski\"\n",
    "}\n",
    "\n",
    "function Person(data) {  # konstruktor z wielkiej litery\n",
    "    this.name = data.name\n",
    "    this.lastName = data.lastName\n",
    "}\n",
    "\n",
    "# uproszczona wersja (konstruktor na podstawie obiektu)\n",
    "function Person(data) {\n",
    "    Object.assign(this, data) #Object.assign(target, source)\n",
    "}\n",
    "\n",
    "#utworzenie nowej instancji\n",
    "const newPerson = new Person(person1)  # utworzy nową instancję na podstawie obiektu person1"
   ]
  },
  {
   "cell_type": "markdown",
   "id": "993de743",
   "metadata": {},
   "source": [
    "Metoda konstruktora"
   ]
  },
  {
   "cell_type": "code",
   "execution_count": null,
   "id": "138f74f2",
   "metadata": {},
   "outputs": [],
   "source": [
    "function Person(data) {\n",
    "    Object.assing(this, data)\n",
    "    \n",
    "    this.introduceMyself = function() {\n",
    "        console.log(`\"Hi my name is ${this.name} ${this.lastName}\"`)\n",
    "    }\n",
    "}\n",
    "\n",
    "const newPerson = new Person(person1)\n",
    "\n",
    "# wywołanie metody\n",
    "newPerson.introduceMyself()"
   ]
  },
  {
   "cell_type": "markdown",
   "id": "cd7c4ec3",
   "metadata": {},
   "source": [
    "### Funkcja reduce()"
   ]
  },
  {
   "cell_type": "code",
   "execution_count": null,
   "id": "1a41a5f7",
   "metadata": {},
   "outputs": [],
   "source": [
    "const numbers = [1, 3, 14]\n",
    "\n",
    "const sumAllNumbers = numbers.reduce(total, currentNumber) => {\n",
    "    return total + currentNumber  #total i currentNumber to nazwy umowne\n",
    "}\n",
    "\n",
    "console.log(sumAllNumbers) #### zwróci wynik 18"
   ]
  },
  {
   "cell_type": "markdown",
   "id": "6f0defde",
   "metadata": {},
   "source": [
    "### Ternary operator (Operator trójargumentowy)"
   ]
  },
  {
   "cell_type": "code",
   "execution_count": null,
   "id": "43590844",
   "metadata": {},
   "outputs": [],
   "source": [
    "const age = 18\n",
    "\n",
    "const message = age > 18 ? \"You are allowed to buy alcohol\" # warunek 1\n",
    "    : age < 18 ? \"You aren't allowed to buy alcohol\"  # warunek 2\n",
    "    : \"Hooray\" # warunek 3 - jeżeli nie spełnione będą potrzebne to message przyjmie wartość \"Hooray\""
   ]
  },
  {
   "cell_type": "markdown",
   "id": "ed76c823",
   "metadata": {},
   "source": [
    "#### Arrow functions (funkcje strzałkowe)"
   ]
  },
  {
   "cell_type": "code",
   "execution_count": null,
   "id": "3c11d32d",
   "metadata": {},
   "outputs": [],
   "source": [
    "const newFunction = (parametr1, parametr2) => `This is string with ${parametr1} and {parametr 2}`\n",
    "\n",
    "# dla jednego parametru nie potrzebujemy nawiasu\n",
    "const newFunction2 = parametr1 => `This is string with ${parametr1}`\n",
    "\n",
    "# bardziej skomplikowana funckja\n",
    "const newFunction3 = (par1, par2) => {\n",
    "    const sumTotal = par1, par2\n",
    "    return sumTotal\n",
    "}"
   ]
  }
 ],
 "metadata": {
  "kernelspec": {
   "display_name": "Python 3 (ipykernel)",
   "language": "python",
   "name": "python3"
  },
  "language_info": {
   "codemirror_mode": {
    "name": "ipython",
    "version": 3
   },
   "file_extension": ".py",
   "mimetype": "text/x-python",
   "name": "python",
   "nbconvert_exporter": "python",
   "pygments_lexer": "ipython3",
   "version": "3.10.4"
  }
 },
 "nbformat": 4,
 "nbformat_minor": 5
}
