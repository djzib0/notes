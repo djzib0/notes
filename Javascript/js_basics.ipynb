{
 "cells": [
  {
   "cell_type": "markdown",
   "id": "508ef67d",
   "metadata": {},
   "source": [
    "### Local storage"
   ]
  },
  {
   "cell_type": "markdown",
   "id": "30b4b846",
   "metadata": {},
   "source": [
    "Zapisywanie do Local Storage"
   ]
  },
  {
   "cell_type": "code",
   "execution_count": null,
   "id": "75608c4f",
   "metadata": {},
   "outputs": [],
   "source": [
    "let myList = [\"item1\", \"item2\"]\n",
    "localStorage.setItem(\"itemKey\", JSON.stringify(myList)) # przypisujemy klucz, a następnie musimy zamienić listę na string\n",
    "\n",
    "# aby wczytać i przypisać wartość do zmiennej musimy string-a zamienić na listę\n",
    "let newList = JSON.parse(localStorage.getItem(\"itemKey\"))\n",
    "\n",
    "# aby 'wyczyścić' Local Storage\n",
    "localStorage.clear()\n",
    "\n"
   ]
  },
  {
   "cell_type": "markdown",
   "id": "b9871ea4",
   "metadata": {},
   "source": [
    "### Random"
   ]
  },
  {
   "cell_type": "code",
   "execution_count": null,
   "id": "dc8e3b4d",
   "metadata": {},
   "outputs": [],
   "source": [
    "# wygenerowanie losowej liczby w przedziale 0 do 1.\n",
    "let randomNumber = Math.random()\n",
    "\n",
    "# wygenerowanie losowej liczby w przedziale od 0 do X.\n",
    "let randomNumber = Math.random() * X\n",
    "\n",
    "# wygenerowanie losowej liczby całkowitej w przedziale od 0 do X\n",
    "\n",
    "let randomNumber = Math.floor(Math.random() * X)\n",
    "\n"
   ]
  },
  {
   "cell_type": "markdown",
   "id": "b9a82be8",
   "metadata": {},
   "source": [
    "### Zaokrąglanie"
   ]
  },
  {
   "cell_type": "code",
   "execution_count": null,
   "id": "105bb32d",
   "metadata": {},
   "outputs": [],
   "source": [
    "let var = 1.2345\n",
    "var = var.toFixed(X) # gdzie X to ilość miejsc po przecinku"
   ]
  },
  {
   "cell_type": "markdown",
   "id": "e631f168",
   "metadata": {},
   "source": [
    "### Funkcja setTimeout"
   ]
  },
  {
   "cell_type": "code",
   "execution_count": null,
   "id": "29c725a1",
   "metadata": {},
   "outputs": [],
   "source": [
    "setTimeout(function(){\n",
    "    console.log(\"Wyświetli ten komunikat po określonym czasie w milisekundach\")\n",
    "}, 3000) # wyświetli komunikat po 3 sekundach"
   ]
  },
  {
   "cell_type": "markdown",
   "id": "9ab3a4de",
   "metadata": {},
   "source": [
    "### Dostęp do stylu wybranego elementu"
   ]
  },
  {
   "cell_type": "code",
   "execution_count": null,
   "id": "1a75d748",
   "metadata": {},
   "outputs": [],
   "source": [
    "const newEl = document.getElementById(\"wybrany-element\")\n",
    "\n",
    "newEl.style.display = \"flex\" #zmieni parametr \"display\" na flex"
   ]
  },
  {
   "cell_type": "markdown",
   "id": "6c580e22",
   "metadata": {},
   "source": [
    "### Tworzenie obiektu z danych z formularza"
   ]
  },
  {
   "cell_type": "code",
   "execution_count": null,
   "id": "130e3032",
   "metadata": {},
   "outputs": [],
   "source": [
    "const newForm = document.getElementById(\"form\")\n",
    "\n",
    "const newFormData = new formData('newForm') # do zmiennej newFormData przypisujemy dane z formularza\n",
    "const email = newFormData.get(\"email\") # jeżeli w <input name='email'> to wówczas przekazujemy email do newFormData.get()"
   ]
  },
  {
   "cell_type": "markdown",
   "id": "618a480b",
   "metadata": {},
   "source": [
    "### Zapobieganie wyświetlaniu przekazanych danych z formularza w adresie strony"
   ]
  },
  {
   "cell_type": "code",
   "execution_count": null,
   "id": "5c885f3c",
   "metadata": {},
   "outputs": [],
   "source": [
    "const newForm = document.getElementById(\"form\")\n",
    "\n",
    "newForm.addEventListener(\"submit\", function(e) {  # po przekazaniu \"submit\" poprzez wciśnięcie buttona na stronie\n",
    "    e.preventDefault()\n",
    "})"
   ]
  },
  {
   "cell_type": "markdown",
   "id": "982f5189",
   "metadata": {},
   "source": [
    "### \"Włączanie\" klasy"
   ]
  },
  {
   "cell_type": "code",
   "execution_count": null,
   "id": "450ef1f5",
   "metadata": {},
   "outputs": [],
   "source": [
    "const newEl = document.getElementById(\"element-id\")\n",
    "\n",
    "newEl.classList.toggle(\"class-name\")"
   ]
  },
  {
   "cell_type": "markdown",
   "id": "8b2bf561",
   "metadata": {},
   "source": [
    "### Zmiana atrybutu \"disabled\""
   ]
  },
  {
   "cell_type": "code",
   "execution_count": null,
   "id": "e16cf424",
   "metadata": {},
   "outputs": [],
   "source": [
    "const newEl = document.getElementById(\"element-id\")\n",
    "newEl.disabled = false # lub true, w zależności czego oczekujemy"
   ]
  }
 ],
 "metadata": {
  "kernelspec": {
   "display_name": "Python 3 (ipykernel)",
   "language": "python",
   "name": "python3"
  },
  "language_info": {
   "codemirror_mode": {
    "name": "ipython",
    "version": 3
   },
   "file_extension": ".py",
   "mimetype": "text/x-python",
   "name": "python",
   "nbconvert_exporter": "python",
   "pygments_lexer": "ipython3",
   "version": "3.10.4"
  }
 },
 "nbformat": 4,
 "nbformat_minor": 5
}
