{
 "cells": [
  {
   "cell_type": "markdown",
   "id": "d4103749",
   "metadata": {},
   "source": [
    "## Arrays in model schemas\n",
    "\n",
    "We can add an array type to our models (for example we want to have an array with comments to in our Post model). \n",
    "To add array to our model we must create a Schema for Comment, and add it to the Post array. Example below"
   ]
  },
  {
   "cell_type": "code",
   "execution_count": null,
   "id": "050608bf",
   "metadata": {},
   "outputs": [],
   "source": [
    "## models.js\n",
    "\n",
    "const postCommentSchema = new mongoose.Schema(\n",
    "    {\n",
    "        comment: {\n",
    "            type: String,\n",
    "        }\n",
    "    },\n",
    "    {timestamps: true}\n",
    ")\n",
    "\n",
    "\n",
    "## set CommentSchema as a type of comments in Post schema.\n",
    "const PostSchema = new mongoose.Schema(\n",
    "    {\n",
    "        userId: {\n",
    "            type: String,\n",
    "            required: true,\n",
    "        },\n",
    "        postComments: {\n",
    "            type: [postCommentSchema],  ## add type [postCommentSchema]\n",
    "        },\n",
    "    },\n",
    "    {timestamps: true}\n",
    ");\n",
    "\n",
    "export const Post = mongoose.models.Post || mongoose.model(\"Post\", postSchema);\n",
    "export const PostComment = mongoose.models.PostComment || mongoose.model(\"PostComment\", commentSchema);\n"
   ]
  },
  {
   "cell_type": "markdown",
   "id": "e6484f3d",
   "metadata": {},
   "source": [
    "##### Adding new post with comments to DB."
   ]
  },
  {
   "cell_type": "code",
   "execution_count": null,
   "id": "717dffa5",
   "metadata": {},
   "outputs": [],
   "source": [
    "## actions.js\n",
    "\n",
    "export const createNewPost = async (prevState, formData) => {\n",
    "    try {\n",
    "        const {userId} = Object.fromEntries(formData); # we get userId from formData, so we know who the post belongs to.\n",
    "        connectToDb(); ## connecting to DB.\n",
    "        const newPost = new Post({\n",
    "            userId: userId,\n",
    "            postComments: [new PostComment({comment: \"new comment \"})],\n",
    "            ## or we can leave it blank if we want to set is empty as an initial state.\n",
    "            postComments: [],\n",
    "        })\n",
    "\n",
    "        await newPost.save();\n",
    "        revalidatePath(\"/posts\")\n",
    "    } catch (error) {\n",
    "        return {error: \"Something went wrong while savinga a new post\"}\n",
    "    }\n",
    "}"
   ]
  },
  {
   "cell_type": "markdown",
   "id": "05fad704",
   "metadata": {},
   "source": [
    "##### Updating existing entry with an array in DB."
   ]
  },
  {
   "cell_type": "code",
   "execution_count": null,
   "id": "134d0f18",
   "metadata": {},
   "outputs": [],
   "source": [
    "export const addComment = async (prevState, formData) => {\n",
    "    const {budgetId} = Object.fromEntries(formData) # search for the entry you want to update\n",
    "    try {\n",
    "        connectToDb();  # connect to DB\n",
    "        const newComment = {comment: \"this is a new comment\"}; # define new comment\n",
    "        const filter = {budgetId: budgetId}  # set the property by which you will look for the entry in DB\n",
    "        const update = {$push: {groceriesBudgetComments: newComment}}; # use mongoose positional operator $push to add new comment\n",
    "        const budget = await Budget.findOneAndUpdate(filter, update, {new: true}); # use findOneAndUpdate to update the entry\n",
    "        \n",
    "    } catch (error) {\n",
    "        console.log(\"console logged error\")\n",
    "        return {error: \"Couldn't find requested budget\"}\n",
    "    }\n",
    "}"
   ]
  }
 ],
 "metadata": {
  "kernelspec": {
   "display_name": "Python 3 (ipykernel)",
   "language": "python",
   "name": "python3"
  },
  "language_info": {
   "codemirror_mode": {
    "name": "ipython",
    "version": 3
   },
   "file_extension": ".py",
   "mimetype": "text/x-python",
   "name": "python",
   "nbconvert_exporter": "python",
   "pygments_lexer": "ipython3",
   "version": "3.11.2"
  }
 },
 "nbformat": 4,
 "nbformat_minor": 5
}
