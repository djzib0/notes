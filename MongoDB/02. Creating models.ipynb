{
 "cells": [
  {
   "cell_type": "markdown",
   "id": "ba09530a",
   "metadata": {},
   "source": [
    "## Creating models in MongoDB with mongoose\n",
    "\n",
    "We can use schemas to create our models.\n",
    "\n",
    "First, create a file in lib folder and name it models.js\n"
   ]
  },
  {
   "cell_type": "code",
   "execution_count": null,
   "id": "be3d4796",
   "metadata": {},
   "outputs": [],
   "source": [
    "## models.js\n",
    "\n",
    "import mongoose from \"mongoose\"\n",
    "\n",
    "const userSchema = new mongoose.Schema(\n",
    "    {\n",
    "        userName: {\n",
    "            type: String, # other types are heree https://mongoosejs.com/docs/api/schema.html#Schema.Types\n",
    "            required: true, # it's a required field\n",
    "            unique: true, # it's an unique field\n",
    "            min: 3, # minimum length of string\n",
    "            max: 20 # maximum length of string\n",
    "        },\n",
    "        email: {\n",
    "            type: String,\n",
    "            required: true,\n",
    "            unique: true,\n",
    "            max: 50\n",
    "        },\n",
    "        password: {\n",
    "            type: String,\n",
    "            required: true,\n",
    "            min: 6\n",
    "        },\n",
    "        img: {\n",
    "            type: String,\n",
    "        },\n",
    "        isAdmin: {\n",
    "            type: Boolean,\n",
    "            default: false  # default value of field\n",
    "        }\n",
    "    },\n",
    "    {timestamps: true} # adding timestamps property will add time stamp when the new entry is created.\n",
    ")"
   ]
  },
  {
   "cell_type": "markdown",
   "id": "71bb3797",
   "metadata": {},
   "source": [
    "To use schema we have to export them, so in the same file models.js we use the below code."
   ]
  },
  {
   "cell_type": "code",
   "execution_count": null,
   "id": "29868482",
   "metadata": {},
   "outputs": [],
   "source": [
    "## models.js\n",
    "\n",
    "#...\n",
    "\n",
    "export const User = mongoose.model(\"User\", userSchema);"
   ]
  },
  {
   "cell_type": "markdown",
   "id": "30934491",
   "metadata": {},
   "source": [
    "But we don't want to create the same if it's already in database, therefore we have to add additional code to prevent it."
   ]
  },
  {
   "cell_type": "code",
   "execution_count": null,
   "id": "23309626",
   "metadata": {},
   "outputs": [],
   "source": [
    "export const User = mongoose.models.User || mongoose.model(\"User\", userSchema); # if there is no user, create a new one"
   ]
  },
  {
   "cell_type": "markdown",
   "id": "f4c47175",
   "metadata": {},
   "source": [
    "###### Important\n",
    "\n",
    "Mongoose tooks collection name and converts it to lower case and plural. So when we have mongoose.model(\"User\", userSchema), it will \"look\" for collection in our database called \"users\"."
   ]
  },
  {
   "cell_type": "code",
   "execution_count": null,
   "id": "bd201ecc",
   "metadata": {},
   "outputs": [],
   "source": []
  }
 ],
 "metadata": {
  "kernelspec": {
   "display_name": "Python 3 (ipykernel)",
   "language": "python",
   "name": "python3"
  },
  "language_info": {
   "codemirror_mode": {
    "name": "ipython",
    "version": 3
   },
   "file_extension": ".py",
   "mimetype": "text/x-python",
   "name": "python",
   "nbconvert_exporter": "python",
   "pygments_lexer": "ipython3",
   "version": "3.11.2"
  }
 },
 "nbformat": 4,
 "nbformat_minor": 5
}
