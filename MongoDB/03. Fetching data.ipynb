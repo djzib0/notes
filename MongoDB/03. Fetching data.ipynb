{
 "cells": [
  {
   "cell_type": "markdown",
   "id": "01a420bc",
   "metadata": {},
   "source": [
    "## Fetching data\n",
    "\n",
    "If we want to fetch all entries in DB we use the code like below. \n",
    "\n",
    "First, we have to import model's schemas and configurated connection."
   ]
  },
  {
   "cell_type": "code",
   "execution_count": null,
   "id": "0721e481",
   "metadata": {},
   "outputs": [],
   "source": [
    "## data.js (project nextJS tutorial)\n",
    "\n",
    "import {Post, User} from './models' # import of defined Schemas in models.js\n",
    "import {connectToDb} from './utils' # import of set up connection from utils.js\n"
   ]
  },
  {
   "cell_type": "markdown",
   "id": "f47243c8",
   "metadata": {},
   "source": [
    "If we want to fetch all entries:"
   ]
  },
  {
   "cell_type": "code",
   "execution_count": null,
   "id": "b1870ab8",
   "metadata": {},
   "outputs": [],
   "source": [
    "## data.js\n",
    "\n",
    "export const getPosts = async () => {\n",
    "    try {\n",
    "        connectToDb();\n",
    "        const posts = await Post.find();\n",
    "        return posts;\n",
    "    } catch (err) {\n",
    "        console.log(err)\n",
    "        throw new Error(\"Failed to fetch posts!\")\n",
    "    }\n",
    "}"
   ]
  },
  {
   "cell_type": "markdown",
   "id": "21ebe721",
   "metadata": {},
   "source": [
    "When we want to get a single entry, and we know it's an unique."
   ]
  },
  {
   "cell_type": "code",
   "execution_count": null,
   "id": "ecf32a7b",
   "metadata": {},
   "outputs": [],
   "source": [
    "## data.js\n",
    "\n",
    "export const getPost = async (slug) => {\n",
    "    try {\n",
    "        connectToDb();\n",
    "        const post = await Post.findOne({slug});\n",
    "        return post;\n",
    "    } catch (err) {\n",
    "        console.log(err)\n",
    "        throw new Error(\"Failed to fetch post!\")\n",
    "    }\n",
    "}"
   ]
  },
  {
   "cell_type": "markdown",
   "id": "48f18355",
   "metadata": {},
   "source": [
    "When we want to get the entry by it's id."
   ]
  },
  {
   "cell_type": "code",
   "execution_count": null,
   "id": "adf9e39f",
   "metadata": {},
   "outputs": [],
   "source": [
    "## data.js\n",
    "\n",
    "export const getUser = async (id) => {\n",
    "    try {\n",
    "        connectToDb();\n",
    "        const user = await User.findById(id);\n",
    "        return user;\n",
    "    } catch (err) {\n",
    "        console.log(err)\n",
    "        throw new Error(\"Failed to fetch user!\")\n",
    "    }\n",
    "}"
   ]
  },
  {
   "cell_type": "markdown",
   "id": "dd196f51",
   "metadata": {},
   "source": [
    "###### Caching\n",
    "\n",
    "If we want to disable caching we can use (unstable, but soon it should be already stable) function from \"next/cache\""
   ]
  },
  {
   "cell_type": "code",
   "execution_count": null,
   "id": "974e39dd",
   "metadata": {},
   "outputs": [],
   "source": [
    "## data.js (project nextJS tutorial)\n",
    "\n",
    "import {Post, User} from './models'\n",
    "import {connectToDb} from './utils' \n",
    "import {unstable_noStore as noStore} from \"next/cache\" # import noStore from next/cache.\n",
    "\n",
    "#...\n",
    "\n",
    "# if we don't want to cache user we have to add noStore() \n",
    "export const getUser = async (id) => {\n",
    "    noStore();  # <== add it here!\n",
    "    try {\n",
    "        connectToDb();\n",
    "        const user = await User.findById(id);\n",
    "        return user;\n",
    "    } catch (err) {\n",
    "        console.log(err)\n",
    "        throw new Error(\"Failed to fetch user!\")\n",
    "    }\n",
    "}\n"
   ]
  }
 ],
 "metadata": {
  "kernelspec": {
   "display_name": "Python 3 (ipykernel)",
   "language": "python",
   "name": "python3"
  },
  "language_info": {
   "codemirror_mode": {
    "name": "ipython",
    "version": 3
   },
   "file_extension": ".py",
   "mimetype": "text/x-python",
   "name": "python",
   "nbconvert_exporter": "python",
   "pygments_lexer": "ipython3",
   "version": "3.11.2"
  }
 },
 "nbformat": 4,
 "nbformat_minor": 5
}
