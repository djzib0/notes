{
 "cells": [
  {
   "cell_type": "markdown",
   "id": "ef21ed71",
   "metadata": {},
   "source": [
    "## Server actions\n",
    "\n",
    "#### Note: Server actions are advised to to use only when you have a small app with not so many tables. For bigger projects Next.js API is adviced. Please check Next.js notes to learn more about it.\n",
    "\n",
    "To create server action we have to create an asynchronous function. Let's say we will keep server action function in a separate file in lib folder."
   ]
  },
  {
   "cell_type": "code",
   "execution_count": null,
   "id": "979bbb7c",
   "metadata": {},
   "outputs": [],
   "source": [
    "## actions.js\n",
    "\n",
    "export const sayHello = async () => {\n",
    "    \"use server\";  # we have to add \"use server\" directive, otherwise next.js will show an error ()\n",
    "    ### If we have a multiple server actions functions we can add \"use server\" at the top, before imports!!!\n",
    "    \n",
    "    console.log(\"Hello World\")\n",
    "}"
   ]
  },
  {
   "cell_type": "markdown",
   "id": "0cd34ddc",
   "metadata": {},
   "source": [
    "Now, when we know how the server action function looks like, we can create our form to get the data from input fields."
   ]
  },
  {
   "cell_type": "code",
   "execution_count": null,
   "id": "6091c24f",
   "metadata": {},
   "outputs": [],
   "source": [
    "## page.tsx (any page with the form);\n",
    "\n",
    "import {addUser} from \"@/lib/actions\"  # import function (we will create it in the next step)\n",
    "\n",
    "export const FormPage = () => {\n",
    "    \n",
    "    return (\n",
    "        <div>\n",
    "            <form onSubmit={addUser}>\n",
    "                <input type=\"text\" name=\"firstName\" /> # name is obligatory!!!\n",
    "                <input type=\"text\" name=\"lastName\" />\n",
    "                <button onClick={addUser}>Add new user</button>\n",
    "            </form>\n",
    "        </div>\n",
    "    )\n",
    "}"
   ]
  },
  {
   "cell_type": "markdown",
   "id": "1ced203c",
   "metadata": {},
   "source": [
    "Now, we can create our action function and \"fetch\" data from input fields."
   ]
  },
  {
   "cell_type": "code",
   "execution_count": null,
   "id": "2f0e9313",
   "metadata": {},
   "outputs": [],
   "source": [
    "## actions.js\n",
    "\n",
    "export const addUser = async (formData) => { # we add formData props which will be passed by a form\n",
    "    \n",
    "    ## we can get data from each field separately\n",
    "    \n",
    "    const firstName = formData.get(\"firstName\")\n",
    "    const lastName = formData.get(\"lastName\")\n",
    "    \n",
    "    ## or we can destructurize formData\n",
    "    const {firstName, lastName} = Object.fromEntries(formData);\n",
    "    \n",
    "}"
   ]
  },
  {
   "cell_type": "markdown",
   "id": "4c45524a",
   "metadata": {},
   "source": [
    "###### Saving data\n",
    "\n",
    "We can save the data as a new user in our database."
   ]
  },
  {
   "cell_type": "code",
   "execution_count": null,
   "id": "5f4796bf",
   "metadata": {},
   "outputs": [],
   "source": [
    "## actions.js\n",
    "import {connectToDb} from \"@/lib/utils\"\n",
    "import { User } from \"./models\";\n",
    "import { connectToDb } from \"./utils\";\n",
    "\n",
    "export const addUser = async (formData) => { # we add formData props which will be passed by a form\n",
    "    \n",
    "    const {firstName, lastName} = Object.fromEntries(formData);\n",
    "    \n",
    "    try {\n",
    "        connectToDb();\n",
    "        const newUser = new User({\n",
    "            firstName,\n",
    "            lastName,\n",
    "        })\n",
    "        \n",
    "        await newUser.save()  # saving new user\n",
    "        revalidatePath(\"/users\") # it will refresh the page where the data is fetched (even if caching is on);\n",
    "    } catch (err) {\n",
    "        return {error: \"Something went wrong\"}\n",
    "    }\n",
    "    \n",
    "}"
   ]
  },
  {
   "cell_type": "markdown",
   "id": "f20efaca",
   "metadata": {},
   "source": [
    "###### Deleting data\n",
    "\n",
    "It's very similar to addUser."
   ]
  },
  {
   "cell_type": "code",
   "execution_count": null,
   "id": "f606ae89",
   "metadata": {},
   "outputs": [],
   "source": [
    "export const deleteUser = async (formData) => {\n",
    "\n",
    "    const {userId} = Object.fromEntries(formData);\n",
    "\n",
    "    try {\n",
    "        connectToDb();\n",
    "        await User.findByIdAndDelete(userId);\n",
    "        console.log(\"deleted from db\")\n",
    "        revalidatePath(\"/users\")\n",
    "    } catch (error) {\n",
    "        console.log(error)\n",
    "        return {error: \"Something went wrong\"}\n",
    "    }\n",
    "}"
   ]
  },
  {
   "cell_type": "markdown",
   "id": "f890d7fd",
   "metadata": {},
   "source": [
    "When we want to delete all user's post when we delete him, we can do it like below."
   ]
  },
  {
   "cell_type": "code",
   "execution_count": null,
   "id": "9411d428",
   "metadata": {},
   "outputs": [],
   "source": [
    "export const deleteUser = async (formData) => {\n",
    "\n",
    "    const {id} = Object.fromEntries(formData);\n",
    "\n",
    "    try {\n",
    "        connectToDb();\n",
    "        await Post.deleteMany({userId: id}) ## delete all posts with the userId property === id value\n",
    "        await User.findByIdAndDelete(id)\n",
    "        console.log(\"deleted from db\");\n",
    "        revalidatePath(\"/admin\");\n",
    "    } catch (error) {\n",
    "        console.log(error)\n",
    "        return {error: \"Something went wrong\"}\n",
    "    }\n",
    "}"
   ]
  }
 ],
 "metadata": {
  "kernelspec": {
   "display_name": "Python 3 (ipykernel)",
   "language": "python",
   "name": "python3"
  },
  "language_info": {
   "codemirror_mode": {
    "name": "ipython",
    "version": 3
   },
   "file_extension": ".py",
   "mimetype": "text/x-python",
   "name": "python",
   "nbconvert_exporter": "python",
   "pygments_lexer": "ipython3",
   "version": "3.11.2"
  }
 },
 "nbformat": 4,
 "nbformat_minor": 5
}
