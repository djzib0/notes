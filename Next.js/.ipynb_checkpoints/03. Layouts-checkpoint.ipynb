{
 "cells": [
  {
   "cell_type": "markdown",
   "id": "61c046c2",
   "metadata": {},
   "source": [
    "# Layouts\n",
    "\n",
    "You can create your own layout for each pages. For example you want to have a navbar inside the subfolder blog.\n",
    "You have to create a file layout.tsx inside the folder app/blog. All the other magic is done by Next.js."
   ]
  },
  {
   "cell_type": "code",
   "execution_count": null,
   "id": "3e7dc15c",
   "metadata": {},
   "outputs": [],
   "source": [
    "## layout.tsx\n",
    "\n",
    "const BlogLayout = ( \n",
    "    {children} # we pass as a prop a children component \n",
    "    : {children: React.ReactNode}\n",
    ") => {\n",
    "    return (\n",
    "    <div>\n",
    "        {children} \n",
    "        Blog layout\n",
    "    </div>\n",
    "    )\n",
    "}"
   ]
  }
 ],
 "metadata": {
  "kernelspec": {
   "display_name": "Python 3 (ipykernel)",
   "language": "python",
   "name": "python3"
  },
  "language_info": {
   "codemirror_mode": {
    "name": "ipython",
    "version": 3
   },
   "file_extension": ".py",
   "mimetype": "text/x-python",
   "name": "python",
   "nbconvert_exporter": "python",
   "pygments_lexer": "ipython3",
   "version": "3.11.2"
  }
 },
 "nbformat": 4,
 "nbformat_minor": 5
}
