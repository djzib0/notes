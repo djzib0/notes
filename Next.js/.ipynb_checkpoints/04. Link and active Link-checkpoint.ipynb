{
 "cells": [
  {
   "cell_type": "markdown",
   "id": "0b19e0bc",
   "metadata": {},
   "source": [
    "# Link\n",
    "\n",
    "To create a link we have to import Link from next/link."
   ]
  },
  {
   "cell_type": "code",
   "execution_count": null,
   "id": "ad546550",
   "metadata": {},
   "outputs": [],
   "source": [
    "# our component file\n",
    "import Link from 'next/link';\n",
    "\n",
    "const Navbar = () => {\n",
    "    return (\n",
    "        <div>\n",
    "            <Link href='/'>Homepage</Link>\n",
    "            <Link href='/about'>About</Link>\n",
    "            #...\n",
    "        </div>\n",
    "    )\n",
    "}"
   ]
  },
  {
   "cell_type": "markdown",
   "id": "72e44277",
   "metadata": {},
   "source": [
    "####  Trivia: when you scroll your mouse on the link, next.js fetches the page in the background to speed up loading new page."
   ]
  },
  {
   "cell_type": "markdown",
   "id": "3148ee96",
   "metadata": {},
   "source": [
    "We can create a subcomponent with links and use this component in Navbar component.\n",
    "Create a folder Links in Navbar folder, then create a component file Links.tsx"
   ]
  },
  {
   "cell_type": "code",
   "execution_count": null,
   "id": "a532c0b5",
   "metadata": {},
   "outputs": [],
   "source": [
    "## Links.tsx\n",
    "import React from \"react\";\n",
    "import Link from \"next/link\";\n",
    "\n",
    "type LinkObject = {\n",
    "    title: string;\n",
    "    path: string;\n",
    "}\n",
    "\n",
    "const Links = () => {\n",
    "\n",
    "  const links = [\n",
    "    {\n",
    "      title: \"Homepage\",\n",
    "      path: \"/\",\n",
    "    },\n",
    "    {\n",
    "      title: \"About\",\n",
    "      path: \"/about\",\n",
    "    },\n",
    "    {\n",
    "      title: \"Contact\",\n",
    "      path: \"/contact\",\n",
    "    },\n",
    "    {\n",
    "      title: \"Blog\",\n",
    "      path: \"/blog\",\n",
    "    },\n",
    "  ];\n",
    "\n",
    "  return (\n",
    "    <div>\n",
    "      {links.map((link: LinkObject) => {  # map through the links and return Link component \n",
    "        return (\n",
    "          <Link href={link.path} key={link.title + link.path}>{link.title}</Link>\n",
    "        )\n",
    "      })\n",
    "      }\n",
    "    </div>\n",
    "  )\n",
    "}\n",
    "\n",
    "export default Links"
   ]
  },
  {
   "cell_type": "code",
   "execution_count": null,
   "id": "4e575164",
   "metadata": {},
   "outputs": [],
   "source": [
    "## Navbar.tsx\n",
    "import Links from \"./links/Links\"\n",
    "\n",
    "const Navbar = () => {\n",
    "  return (\n",
    "    <div>\n",
    "      <div>Logo</div>\n",
    "      <div>\n",
    "        <Links />\n",
    "      </div>\n",
    "    </div>\n",
    "  )\n",
    "}\n",
    "\n",
    "export default Navbar"
   ]
  },
  {
   "cell_type": "markdown",
   "id": "30178442",
   "metadata": {},
   "source": [
    "If we want to set styles to the active link we have to create new component folder in links folder and add a component file navLink.tsx\n",
    "\n",
    "/src/components/navbar/links/navLink"
   ]
  },
  {
   "cell_type": "code",
   "execution_count": null,
   "id": "2ccceeb8",
   "metadata": {},
   "outputs": [],
   "source": [
    "## navLink.tsx\n",
    "'use client'   # it's a client's only view so we have to add this code\n",
    "\n",
    "import Link from \"next/link\";\n",
    "import { usePathname } from \"next/navigation\";  # import hook to get pathname\n",
    "import styles from './navLink.module.css'\n",
    "\n",
    "type LinkObject = {\n",
    "    title: string;\n",
    "    path: string;\n",
    "}\n",
    "\n",
    "const NavLink = ({item} : {item: LinkObject}) => {\n",
    "\n",
    "  const pathName = usePathname(); # declare a new variable with a pathname value\n",
    "\n",
    "  return (\n",
    "    <Link \n",
    "      href={item.path} \n",
    "      key={item.title + item.path}\n",
    "      className={\n",
    "          `${styles.definedClassName} ${pathName === item.path && \"bg-white\"}`} ## check here if the pathname matches item.path\n",
    "    >\n",
    "      {item.title}\n",
    "    </Link>\n",
    "  )\n",
    "}\n",
    "\n",
    "export default NavLink"
   ]
  },
  {
   "cell_type": "markdown",
   "id": "11cc9f51",
   "metadata": {},
   "source": [
    "Now we have to make some changes in Link.tsx file."
   ]
  },
  {
   "cell_type": "code",
   "execution_count": null,
   "id": "7bed9927",
   "metadata": {},
   "outputs": [],
   "source": [
    "## Links.tsx\n",
    "import React from \"react\";\n",
    "import Link from \"next/link\";\n",
    "import NavLink from \"./navLink/NavLink\";  ## import NavLink component\n",
    "\n",
    "const Links = () => {\n",
    "\n",
    "  const links = [\n",
    "    {\n",
    "      title: \"Homepage\",\n",
    "      path: \"/\",\n",
    "    },\n",
    "    {\n",
    "      title: \"About\",\n",
    "      path: \"/about\",\n",
    "    },\n",
    "    {\n",
    "      title: \"Contact\",\n",
    "      path: \"/contact\",\n",
    "    },\n",
    "    {\n",
    "      title: \"Blog\",\n",
    "      path: \"/blog\",\n",
    "    },\n",
    "  ];\n",
    "\n",
    "  return (\n",
    "    <div className=\"flex items-center gap-2.5\" >\n",
    "      {links.map((link) => {\n",
    "        return (\n",
    "          <NavLink key={link.title + link.path} item={link} /> # pass link as an item prop \n",
    "        )\n",
    "      })\n",
    "      }\n",
    "    </div>\n",
    "  )\n",
    "}\n",
    "\n",
    "export default Links"
   ]
  }
 ],
 "metadata": {
  "kernelspec": {
   "display_name": "Python 3 (ipykernel)",
   "language": "python",
   "name": "python3"
  },
  "language_info": {
   "codemirror_mode": {
    "name": "ipython",
    "version": 3
   },
   "file_extension": ".py",
   "mimetype": "text/x-python",
   "name": "python",
   "nbconvert_exporter": "python",
   "pygments_lexer": "ipython3",
   "version": "3.11.2"
  }
 },
 "nbformat": 4,
 "nbformat_minor": 5
}
