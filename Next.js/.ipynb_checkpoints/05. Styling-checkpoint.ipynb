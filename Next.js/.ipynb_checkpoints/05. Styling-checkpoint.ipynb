{
 "cells": [
  {
   "cell_type": "markdown",
   "id": "a6f79eb8",
   "metadata": {},
   "source": [
    "# Styling\n",
    "\n",
    "If you don't use Tailwind you can style using the globals.css or create css file for each page.\n",
    "However you may have class names conflict. For example you have \".container\" class in globals.css. Then you create css file in Navbar with the same class name \".container\". Conflict will cause that the styles for className=\"container\" will be applied according to the file from Navbar folder. \n",
    "\n",
    "To prevent this you can use convention like below. \n",
    "\n",
    "Create file navbar.module.css (instead of navbar.css) and import it like below."
   ]
  },
  {
   "cell_type": "code",
   "execution_count": null,
   "id": "4951ea52",
   "metadata": {},
   "outputs": [],
   "source": [
    "# Navbar.tsx\n",
    "import Links from \"./links/Links\"\n",
    "import styles from \"./navbar.module.css\" # import css file\n",
    "\n",
    "const Navbar = () => {\n",
    "  return (\n",
    "    <div className={styles.container}> # set selected styles as a className\n",
    "      <div>Logo</div>\n",
    "      <div>\n",
    "        <Links />\n",
    "      </div>\n",
    "    </div>\n",
    "  )\n",
    "}\n",
    "\n",
    "export default Navbar"
   ]
  }
 ],
 "metadata": {
  "kernelspec": {
   "display_name": "Python 3 (ipykernel)",
   "language": "python",
   "name": "python3"
  },
  "language_info": {
   "codemirror_mode": {
    "name": "ipython",
    "version": 3
   },
   "file_extension": ".py",
   "mimetype": "text/x-python",
   "name": "python",
   "nbconvert_exporter": "python",
   "pygments_lexer": "ipython3",
   "version": "3.11.2"
  }
 },
 "nbformat": 4,
 "nbformat_minor": 5
}
