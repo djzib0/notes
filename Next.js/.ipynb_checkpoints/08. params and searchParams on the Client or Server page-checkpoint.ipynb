{
 "cells": [
  {
   "cell_type": "markdown",
   "id": "ece65929",
   "metadata": {},
   "source": [
    "# params and searchParams\n",
    "\n",
    "If we want to use params on the client side page, we have to use hooks."
   ]
  },
  {
   "cell_type": "code",
   "execution_count": null,
   "id": "d9c06c1b",
   "metadata": {},
   "outputs": [],
   "source": [
    "## Example.tsx\n",
    "\n",
    "import { useParams, usePathname, useSearchParams} from 'next/navigation'\n",
    "\n",
    "export default Example = () => {\n",
    "    const params = useParams() # it will set an object with params from the path for example /blog/[id] will create \n",
    "    # an object with {id: 1}\n",
    "    \n",
    "    \n",
    "    const pathName = usePathname(); # will set a value - string with a current path name, but without search parameters\n",
    "    \n",
    "    const searchParams = useSearchParams # like useParams, will se an object with values from search params\n",
    "    # for example path \"/blog?title=searchedexampletitle\" will create an object {title: searchedexampletitle}\n",
    "    \n",
    "    console.log(params, \"params\")\n",
    "    console.log(pathName, \"path name\")\n",
    "    console.log(searchParams, \" search params\")\n",
    "\n",
    "    const title = searchParams.get(\"title\") # we can get and save the value of search params as a variable.\n",
    "}"
   ]
  },
  {
   "cell_type": "markdown",
   "id": "691a5d3b",
   "metadata": {},
   "source": [
    "###### params at the server side\n",
    "\n",
    "If we want to use params at the server side we can destructure props of any server side component.\n",
    "Let's say that we have a component for blog post with the patch /blog/[slug]"
   ]
  },
  {
   "cell_type": "code",
   "execution_count": null,
   "id": "2a56074c",
   "metadata": {},
   "outputs": [],
   "source": [
    "## BlogPostPage.jsx\n",
    "\n",
    "epxport default const BlogPostPage = ({params, searchParams}) => { # destructure params and searchParams\n",
    "      \n",
    "    return (\n",
    "        <div>\n",
    "            This is blog {params.slug}\n",
    "        </div>\n",
    "    )\n",
    "}"
   ]
  }
 ],
 "metadata": {
  "kernelspec": {
   "display_name": "Python 3 (ipykernel)",
   "language": "python",
   "name": "python3"
  },
  "language_info": {
   "codemirror_mode": {
    "name": "ipython",
    "version": 3
   },
   "file_extension": ".py",
   "mimetype": "text/x-python",
   "name": "python",
   "nbconvert_exporter": "python",
   "pygments_lexer": "ipython3",
   "version": "3.11.2"
  }
 },
 "nbformat": 4,
 "nbformat_minor": 5
}
