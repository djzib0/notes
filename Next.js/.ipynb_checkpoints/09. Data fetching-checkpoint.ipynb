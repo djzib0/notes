{
 "cells": [
  {
   "cell_type": "markdown",
   "id": "1b6d57e0",
   "metadata": {},
   "source": [
    "## Data fetching\n",
    "\n",
    "We fetch data as we regularly do."
   ]
  },
  {
   "cell_type": "code",
   "execution_count": null,
   "id": "71c87c9e",
   "metadata": {},
   "outputs": [],
   "source": [
    "## page.jsx (Blog)\n",
    "\n",
    "const getData = async () => {\n",
    "    const res = await fetch('https://jsonplaceholder.typicode.com/posts');\n",
    "    \n",
    "    if (!res.ok) {\n",
    "        throw new Error(\"Something went wrong\")\n",
    "    }\n",
    "    \n",
    "    return res.json()\n",
    "}\n",
    "\n",
    "const BlogPage = async () => { # we have to add async because it will be now asynchronous component\n",
    "    \n",
    "    const posts = await getData();\n",
    "    \n",
    "    return (\n",
    "        <div>\n",
    "            {posts.map((post) => {\n",
    "                return (\n",
    "                    <div>\n",
    "                        {post.title}\n",
    "                        {post.body}\n",
    "                    </div>\n",
    "                )\n",
    "            })}\n",
    "        </div>\n",
    "    )\n",
    "}"
   ]
  },
  {
   "cell_type": "markdown",
   "id": "a2e6511f",
   "metadata": {},
   "source": [
    "Next.js caches fetched data to speed up performance of the app, but if we won't to turn off caching, we can add property to fetch. Now, every visit to this path will cause new fetch, so the data will be always up to date."
   ]
  },
  {
   "cell_type": "code",
   "execution_count": null,
   "id": "3e0ff06c",
   "metadata": {},
   "outputs": [],
   "source": [
    "## page.jsx (Blog)\n",
    "\n",
    "const getData = async () => {\n",
    "    ## add new property to fetch\n",
    "    const res = await fetch('https://jsonplaceholder.typicode.com/posts', {cache: 'no-store'});\n",
    "    \n",
    "    if (!res.ok) {\n",
    "        throw new Error(\"Something went wrong\")\n",
    "    }\n",
    "    \n",
    "    return res.json()\n",
    "}\n"
   ]
  },
  {
   "cell_type": "markdown",
   "id": "7b609f87",
   "metadata": {},
   "source": [
    "We can also set the time period after which the data will be updated and cached again."
   ]
  },
  {
   "cell_type": "code",
   "execution_count": null,
   "id": "c43319c7",
   "metadata": {},
   "outputs": [],
   "source": [
    "## page.jsx (Blog)\n",
    "\n",
    "const getData = async () => {\n",
    "    ## add new property to fetch\n",
    "    const res = await fetch('https://jsonplaceholder.typicode.com/posts', \n",
    "                            {next: {revalidate: 3600}}); ## next cache update after 3600 seconds\n",
    "    \n",
    "    if (!res.ok) {\n",
    "        throw new Error(\"Something went wrong\")\n",
    "    }\n",
    "    \n",
    "    return res.json()\n",
    "}"
   ]
  },
  {
   "cell_type": "markdown",
   "id": "128a69ff",
   "metadata": {},
   "source": [
    "We can ommit fetching data in every component and move it to a separate file. Let's create data.js file in lib folder and add there a temporary data."
   ]
  },
  {
   "cell_type": "code",
   "execution_count": null,
   "id": "00949329",
   "metadata": {},
   "outputs": [],
   "source": [
    "## TEMPORARY DATA\n",
    "const users = [\n",
    "    {id: 1, name: \"John\"},\n",
    "    {id: 2, name: \"Jane\"}\n",
    "]\n",
    "\n",
    "const posts = [\n",
    "    {id: 1, title: \"Post 1\", body: '......', userId: 1},\n",
    "    {id: 2, title: \"Post 2\", body: '......', userId: 1},\n",
    "    {id: 3, title: \"Post 3\", body: '......', userId: 3},\n",
    "    {id: 4, title: \"Post 4\", body: '......', userId: 2},\n",
    "]\n",
    "\n",
    "export const getPosts = async () => {\n",
    "    return posts;\n",
    "}\n",
    "\n",
    "export const getPost = async (id) => {\n",
    "    return posts.find((post) => post.id === parseInt(id))\n",
    "}\n",
    "\n",
    "export const getUser = async (id) => {\n",
    "    return users.find((user) => user.id === parseInt(id))\n",
    "}"
   ]
  },
  {
   "cell_type": "markdown",
   "id": "66eacec8",
   "metadata": {},
   "source": [
    "Now we can remove fetching in components and import functions from data.js. For example in Blog page."
   ]
  },
  {
   "cell_type": "code",
   "execution_count": null,
   "id": "92dbd344",
   "metadata": {},
   "outputs": [],
   "source": [
    "## page.jsx (Blog)\n",
    "\n",
    "import { getPosts} from '@/lib/data'  # <-- ADD IMPORT\n",
    "\n",
    "\n",
    "## THIS CAN BE OMITTED\n",
    "# const getData = async () => {\n",
    "#     const res = await fetch('https://jsonplaceholder.typicode.com/posts');\n",
    "    \n",
    "#     if (!res.ok) {\n",
    "#         throw new Error(\"Something went wrong\")\n",
    "#     }\n",
    "    \n",
    "#     return res.json()\n",
    "# }\n",
    "\n",
    "const BlogPage = async () => { # we have to add async because it will be now asynchronous component\n",
    "    \n",
    "    # FETCHING DATA WITH API - CAN BE OMITTED NOW\n",
    "#     const posts = await getData();\n",
    "    \n",
    "    const posts = await getPosts() # get posts data from data.js\n",
    "    \n",
    "    \n",
    "    return (\n",
    "        <div>\n",
    "            {posts.map((post) => {\n",
    "                return (\n",
    "                    <div>\n",
    "                        {post.title}\n",
    "                        {post.body}\n",
    "                    </div>\n",
    "                )\n",
    "            })}\n",
    "        </div>\n",
    "    )\n",
    "}"
   ]
  }
 ],
 "metadata": {
  "kernelspec": {
   "display_name": "Python 3 (ipykernel)",
   "language": "python",
   "name": "python3"
  },
  "language_info": {
   "codemirror_mode": {
    "name": "ipython",
    "version": 3
   },
   "file_extension": ".py",
   "mimetype": "text/x-python",
   "name": "python",
   "nbconvert_exporter": "python",
   "pygments_lexer": "ipython3",
   "version": "3.11.2"
  }
 },
 "nbformat": 4,
 "nbformat_minor": 5
}
