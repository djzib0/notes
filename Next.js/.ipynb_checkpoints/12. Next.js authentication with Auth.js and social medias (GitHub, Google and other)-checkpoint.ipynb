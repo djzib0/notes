{
 "cells": [
  {
   "cell_type": "markdown",
   "id": "edf99856",
   "metadata": {},
   "source": [
    "## Next.js authentication with Auth.js\n",
    "\n",
    "###### Auth.js installation and setting up.\n",
    "\n",
    "First we have to install in our project (please check official documentation, because this solution may be outdated)"
   ]
  },
  {
   "cell_type": "code",
   "execution_count": null,
   "id": "29bd0544",
   "metadata": {},
   "outputs": [],
   "source": [
    "npm install next-auth@beta"
   ]
  },
  {
   "cell_type": "markdown",
   "id": "561b74f6",
   "metadata": {},
   "source": [
    "Then we have to create an .env.local file with environment variables. We can do it automatically by entering command:"
   ]
  },
  {
   "cell_type": "code",
   "execution_count": null,
   "id": "e328a034",
   "metadata": {},
   "outputs": [],
   "source": [
    "npx auth secret"
   ]
  },
  {
   "cell_type": "markdown",
   "id": "14217cc6",
   "metadata": {},
   "source": [
    "Now we should have a new file in our project \".env.local\" with the code "
   ]
  },
  {
   "cell_type": "code",
   "execution_count": null,
   "id": "44cb7c27",
   "metadata": {},
   "outputs": [],
   "source": [
    "AUTH_SECRET=\"AS+BzGp3JFhapgWirKUEfltWsTG9tc5GDuv/pplwHxI=\" # Added by `npx auth`. Read more: https://cli.authjs.dev"
   ]
  },
  {
   "cell_type": "markdown",
   "id": "319bf6c9",
   "metadata": {},
   "source": [
    "We have to add an AUTH_URL variable."
   ]
  },
  {
   "cell_type": "code",
   "execution_count": null,
   "id": "f0b6d4db",
   "metadata": {},
   "outputs": [],
   "source": [
    "AUTH_SECRET=\"AS+BzGp3JFhapgWirKUEfltWsTG9tc5GDuv/pplwHxI=\" # Added by `npx auth`. Read more: https://cli.authjs.dev\n",
    "AUTH_URL = http://localhost:3000/api/auth"
   ]
  },
  {
   "cell_type": "markdown",
   "id": "5cbc28cf",
   "metadata": {},
   "source": [
    "Now, let's create a configuration file auth.ts in a root folder (if you want, you can create this file in any folder). Copy the code from the official Auth.js documentation and add GitHub to providers array. (it can be google provider, facebook, etc.)"
   ]
  },
  {
   "cell_type": "code",
   "execution_count": null,
   "id": "8c8a9a01",
   "metadata": {},
   "outputs": [],
   "source": [
    "import NextAuth from \"next-auth\"\n",
    "import GitHub from \"next-auth/providers/github\"\n",
    " \n",
    "export const { handlers: {GET, POST} , signIn, signOut, auth } = NextAuth({ \n",
    "    ## {GET, POST} is important for export in route in folder app/api/[...nextauth] (will be created in next steps)\n",
    "  providers: [ GitHub],  # Add GitHub to providers array\n",
    "})"
   ]
  },
  {
   "cell_type": "markdown",
   "id": "a2811cc7",
   "metadata": {},
   "source": [
    "In our project we are using GitHub provider, so we have to create a new GitHub app. To do this, visit the GitHub page, sign in, and click on your avatar on the top right. \n",
    "In the menu click settings, and on the left navbar click Developer Settings (at the very bottom). \n",
    "Then click OAuthApps and register new application.\n",
    "\n",
    "Now fill the input fields.\n",
    "\n",
    "Application name - Next14 tutorial (the name is up to you).<br>\n",
    "Homepage URL - http://localhost:3000<br>\n",
    "Authorization callback URL - http://localhost:3000/api/auth/callback/github (or google if we use google, etc)."
   ]
  },
  {
   "cell_type": "markdown",
   "id": "b308b6e2",
   "metadata": {},
   "source": [
    "New page with client id will show up. Copy client id and generate new secret. In the .env.local file add:"
   ]
  },
  {
   "cell_type": "code",
   "execution_count": null,
   "id": "43d27f86",
   "metadata": {},
   "outputs": [],
   "source": [
    "AUTH_GITHUB_ID=\"Oi23liF2fagexcPGdde8\"\n",
    "AUTH_GITHUB_SECRET=\"fc89647a01e9ce53ab94bb1b2c31acaee959595f\""
   ]
  },
  {
   "cell_type": "markdown",
   "id": "cf907112",
   "metadata": {},
   "source": [
    "We can use them in the configuration file."
   ]
  },
  {
   "cell_type": "code",
   "execution_count": null,
   "id": "88693802",
   "metadata": {},
   "outputs": [],
   "source": [
    "import NextAuth from \"next-auth\"\n",
    "import GitHub from \"next-auth/providers/github\"\n",
    " \n",
    "export const { handlers, signIn, signOut, auth } = NextAuth({\n",
    "  providers: [ GitHub],  # Add GitHub to providers array\n",
    "})\n",
    "\n",
    "### OR ###\n",
    "\n",
    "import NextAuth from \"next-auth\"\n",
    "import GitHub from \"next-auth/providers/github\"\n",
    " \n",
    "export const { handlers, signIn, signOut, auth } = NextAuth({\n",
    "  providers: [\n",
    "    GitHub({\n",
    "      clientId: process.env.AUTH_GITHUB_ID, ## refer to variable names in .env.local\n",
    "      clientSecret: process.env.AUTH_GITHUB_SECRET, ## refer to variable names in .env.local\n",
    "    })\n",
    "  ],\n",
    "})"
   ]
  },
  {
   "cell_type": "markdown",
   "id": "4154b288",
   "metadata": {},
   "source": [
    "Now we can use function from NextAuth() in our app. Let's write a function and use it in our Login page."
   ]
  },
  {
   "cell_type": "code",
   "execution_count": null,
   "id": "e121d061",
   "metadata": {},
   "outputs": [],
   "source": [
    "## page.tsx (login page)\n",
    "\n",
    "import { signIn } from '@/lib/auth';\n",
    "\n",
    "const LoginPage = () => {\n",
    "\n",
    "  const handleGithubLogin = async () => {  ## this function will redirect us to authentication GitHub authentication page\n",
    "    \"use server\";\n",
    "    await signIn(\"github\")  ## we use github provider, but ther is a list of many which we can also use.\n",
    "  }\n",
    "\n",
    "  return (\n",
    "    <div>\n",
    "      <form action={handleGithubLogin}>\n",
    "        <button>Login with Github</button> \n",
    "      </form>\n",
    "    </div>\n",
    "  )\n",
    "}\n",
    "\n",
    "export default LoginPage"
   ]
  },
  {
   "cell_type": "markdown",
   "id": "382d2578",
   "metadata": {},
   "source": [
    "Next step is to create an API endpoint, so in folder app/api create a folder [...nextauth] (otherwise you would have to create all required endpoints (for login, error, logout, etc.).\n",
    "\n",
    "Create a file route.ts inside that folder.\n",
    "\n",
    "This route will handle all the POST and GET methods."
   ]
  },
  {
   "cell_type": "code",
   "execution_count": null,
   "id": "b90a6552",
   "metadata": {},
   "outputs": [],
   "source": [
    "import { handlers } from \"@/lib/auth\"\n",
    "export const { GET, POST } = handlers"
   ]
  },
  {
   "cell_type": "markdown",
   "id": "67ef6ba4",
   "metadata": {},
   "source": [
    "Now we can login and for exampe conditionally render button (when the user is logged in, button text will say \"logout\", and so on)."
   ]
  },
  {
   "cell_type": "code",
   "execution_count": null,
   "id": "88ea4dba",
   "metadata": {},
   "outputs": [],
   "source": [
    "## Navbar.tsx (Next.js tutorial)\n",
    "import Link from \"next/link\"\n",
    "import Links from \"./links/Links\"\n",
    "import styles from './navbar.module.css'\n",
    "import { auth } from \"@/lib/auth\"  ## importing auth from lib folder\n",
    "\n",
    "const Navbar = async () => {\n",
    "\n",
    "  const session = await auth(); # this is a server side component so we can declare variable and get returned value from auth()\n",
    "\n",
    "  return (\n",
    "    <div className=\"flex flex-row justify-between h-24 items-center text-white\">\n",
    "      <Link href={\"/\"} className=\"text-lg font-bold\">Logo</Link>\n",
    "      <div>\n",
    "        <Links session={session} />  # we pass the session as a prop to Links component.\n",
    "      </div>\n",
    "    </div>\n",
    "  )\n",
    "}\n",
    "\n",
    "export default Navbar"
   ]
  },
  {
   "cell_type": "markdown",
   "id": "02e3026d",
   "metadata": {},
   "source": [
    "Now we can use the session in our child component.\n",
    "\n",
    "###### Important:\n",
    "\n",
    "Why we can't use session in our child component? Because we declared it as a client component (we have useState hook in this component). That means that we can't decalare Links component as an async function."
   ]
  },
  {
   "cell_type": "code",
   "execution_count": null,
   "id": "561419c8",
   "metadata": {},
   "outputs": [],
   "source": [
    "'use client'\n",
    "\n",
    "import React, { useState } from \"react\";\n",
    "import Link from \"next/link\";\n",
    "import NavLink from \"./navLink/NavLink\";\n",
    "import { LinkObject } from \"@/lib/types/types\";\n",
    "import Image from \"next/image\";\n",
    "import { handleGithubLogout } from \"@/lib/actions\";\n",
    "import { Session } from \"next-auth\";\n",
    "\n",
    "const links = [\n",
    "  {\n",
    "    title: \"Homepage\",\n",
    "    path: \"/\",\n",
    "  },\n",
    "  {\n",
    "    title: \"About\",\n",
    "    path: \"/about\",\n",
    "  },\n",
    "  {\n",
    "    title: \"Contact\",\n",
    "    path: \"/contact\",\n",
    "  },\n",
    "  {\n",
    "    title: \"Blog\",\n",
    "    path: \"/blog\",\n",
    "  },\n",
    "];\n",
    "\n",
    "# we have to add additional property to the interface Session from next-auth. Otherwise session.user?.isAdmin will show TS error\n",
    "interface Session {\n",
    "  user : {\n",
    "    isAdmin?: boolean\n",
    "  }\n",
    "}\n",
    "\n",
    "const Links = ({session}: {session: Session}) => {\n",
    "\n",
    "  # TEMPORARY\n",
    "  const isAdmin = true;\n",
    "\n",
    "  const [open, setOpen] = useState(false);\n",
    "  console.log(session)\n",
    "\n",
    "  return (\n",
    "    <div>\n",
    "      <div className=\"max-sm:hidden md:flex items-center gap-2.5\" >\n",
    "        {links.map((link) => {\n",
    "          return (\n",
    "            <NavLink key={link.title + link.path} item={link} />\n",
    "          )\n",
    "        })\n",
    "      }\n",
    "        {session?.user ? (\n",
    "          <>\n",
    "              ## no TS error below because we have added new property to Session interface\n",
    "              {session.user?.isAdmin && <NavLink item={{title: \"Admin\", path: \"/admin\"}} />}\n",
    "            <form action={handleGithubLogout}>\n",
    "              <button \n",
    "                className=\"p-2.5 cursor-pointer font-bold bg-white text-slate-900 rounded-sm\"\n",
    "                >\n",
    "                Logout\n",
    "              </button>\n",
    "            </form>\n",
    "          </>\n",
    "          ) : (\n",
    "            <NavLink item={{title: \"Login\", path: \"/login\"}} />\n",
    "          )\n",
    "        }\n",
    "      </div>\n",
    "    </div>\n",
    "  )\n",
    "}\n",
    "\n",
    "export default Links"
   ]
  },
  {
   "cell_type": "markdown",
   "id": "ac43c09e",
   "metadata": {},
   "source": [
    "##### Adding user to DB\n",
    "\n",
    "First we have to check if the use exists in our database. If not we have to create a new user and add it to DB.\n",
    "We have to modify auth.js file (lib directory)."
   ]
  },
  {
   "cell_type": "code",
   "execution_count": null,
   "id": "a4de4569",
   "metadata": {},
   "outputs": [],
   "source": [
    "## auth.ts\n",
    "\n",
    "import NextAuth from \"next-auth\"\n",
    "import GitHub from \"next-auth/providers/github\"\n",
    "import { connectToDb } from \"./utils\"\n",
    "import { User } from \"./models\"\n",
    " \n",
    "export const { handlers, signIn, signOut, auth } = NextAuth({\n",
    "  providers: [\n",
    "    GitHub({\n",
    "      clientId: process.env.AUTH_GITHUB_ID,\n",
    "      clientSecret: process.env.AUTH_GITHUB_SECRET,\n",
    "    })\n",
    "  ],\n",
    "    \n",
    "  # we have to add now callbacks\n",
    "  callbacks: {\n",
    "    async signIn({user, account, profile}) { # user, account, profile are objects with data\n",
    "      console.log(profile)\n",
    "      if (account?.provider === \"github\") {\n",
    "        connectToDb();\n",
    "        try {\n",
    "          const user = await User.findOne({email: profile?.email}); # look for the user with the same email in DB\n",
    "            \n",
    "          # if the user is not found, it means it doesn't exist in the DB, so we can create a new one and add it to DB\n",
    "          if (!user) {\n",
    "            ## create new user according to userSchema in models.js\n",
    "            const newUser = new User({\n",
    "              username: profile?.login, # in github there is login, in other may be for example name, or username, \n",
    "              email: profile?.email,\n",
    "              img: profile?.avatar_url,\n",
    "            });\n",
    "\n",
    "            await newUser.save();\n",
    "          }\n",
    "\n",
    "        } catch (error) {\n",
    "          console.log(error)\n",
    "          return false # if there is an error - return false.\n",
    "        }\n",
    "      }\n",
    "      return true # if there are no errors, return true\n",
    "    },\n",
    "  }\n",
    "})"
   ]
  },
  {
   "cell_type": "markdown",
   "id": "10462615",
   "metadata": {},
   "source": [
    "###### Important:\n",
    "\n",
    "We may have an error because we set in our userSchema that the password is require. We have to remove this property from the schema."
   ]
  },
  {
   "cell_type": "code",
   "execution_count": null,
   "id": "3a15df02",
   "metadata": {},
   "outputs": [],
   "source": [
    "const userSchema = new mongoose.Schema(\n",
    "    {\n",
    "        username: {\n",
    "            type: String,\n",
    "            required: true,\n",
    "            min: 3,\n",
    "            max: 20\n",
    "        },\n",
    "        email: {\n",
    "            type: String,\n",
    "            required: true,\n",
    "            unique: true,\n",
    "            max: 50\n",
    "        },\n",
    "        password: {\n",
    "            type: String,\n",
    "#             required: true # <= comment or remove this line\n",
    "        },\n",
    "        #...\n",
    "            "
   ]
  }
 ],
 "metadata": {
  "kernelspec": {
   "display_name": "Python 3 (ipykernel)",
   "language": "python",
   "name": "python3"
  },
  "language_info": {
   "codemirror_mode": {
    "name": "ipython",
    "version": 3
   },
   "file_extension": ".py",
   "mimetype": "text/x-python",
   "name": "python",
   "nbconvert_exporter": "python",
   "pygments_lexer": "ipython3",
   "version": "3.11.2"
  }
 },
 "nbformat": 4,
 "nbformat_minor": 5
}
