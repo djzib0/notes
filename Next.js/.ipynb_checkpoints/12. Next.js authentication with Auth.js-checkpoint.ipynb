{
 "cells": [
  {
   "cell_type": "markdown",
   "id": "72c86916",
   "metadata": {},
   "source": [
    "## Next.js authentication with Auth.js\n",
    "\n",
    "###### Auth.js installation and setting up.\n",
    "\n",
    "First we have to install in our project (please check official documentation)"
   ]
  },
  {
   "cell_type": "code",
   "execution_count": null,
   "id": "404a6ec7",
   "metadata": {},
   "outputs": [],
   "source": [
    "npm install next-auth@beta"
   ]
  },
  {
   "cell_type": "markdown",
   "id": "762fdbda",
   "metadata": {},
   "source": [
    "Then we have to create an .env.local file with environment variables. We can do it automatically by entering command:"
   ]
  },
  {
   "cell_type": "code",
   "execution_count": null,
   "id": "5a9aeef7",
   "metadata": {},
   "outputs": [],
   "source": [
    "npx auth secret"
   ]
  },
  {
   "cell_type": "markdown",
   "id": "6abe1101",
   "metadata": {},
   "source": [
    "Now we should have a new file in our project \".env.local\" with the code "
   ]
  },
  {
   "cell_type": "code",
   "execution_count": null,
   "id": "b03b0649",
   "metadata": {},
   "outputs": [],
   "source": [
    "AUTH_SECRET=\"AS+BzGp3JFhapgWirKUEfltWsTG9tc5GDuv/pplwHxI=\" # Added by `npx auth`. Read more: https://cli.authjs.dev"
   ]
  },
  {
   "cell_type": "markdown",
   "id": "28900b47",
   "metadata": {},
   "source": [
    "We have to add an AUTH_URL variable."
   ]
  },
  {
   "cell_type": "code",
   "execution_count": null,
   "id": "66ec40a4",
   "metadata": {},
   "outputs": [],
   "source": [
    "AUTH_SECRET=\"AS+BzGp3JFhapgWirKUEfltWsTG9tc5GDuv/pplwHxI=\" # Added by `npx auth`. Read more: https://cli.authjs.dev\n",
    "AUTH_URL = http://localhost:3000/api/auth"
   ]
  },
  {
   "cell_type": "markdown",
   "id": "019fac8f",
   "metadata": {},
   "source": [
    "Now, let's create a configuration file auth.js in LIB folder. Copy the code from the official Auth.js documentation and add GitHub to providers array. (it can be google provider, facebook, etc.)"
   ]
  },
  {
   "cell_type": "code",
   "execution_count": null,
   "id": "54d95cd5",
   "metadata": {},
   "outputs": [],
   "source": [
    "import NextAuth from \"next-auth\"\n",
    "import GitHub from \"next-auth/providers/github\"\n",
    " \n",
    "export const { handlers, signIn, signOut, auth } = NextAuth({\n",
    "  providers: [ GitHub],  # Add GitHub to providers array\n",
    "})"
   ]
  },
  {
   "cell_type": "markdown",
   "id": "9169f3e6",
   "metadata": {},
   "source": [
    "In our project we are using GitHub provider, so we have to create a new GitHub app. To do this, visit the GitHub page, sign in, and click on your avatar on the top right. \n",
    "In the menu click settings, and on the left navbar click Developer Settings (at the very bottom). \n",
    "Then click OAuthApps and register new application.\n",
    "\n",
    "Now fill the input fields.\n",
    "\n",
    "Application name - Next14 tutorial (the name is up to you).\n",
    "Homepage URL - http://localhost:3000\n",
    "Authorization callback URL - http://localhost:3000/api/auth/callback/github (or google if we use google, etc)."
   ]
  },
  {
   "cell_type": "markdown",
   "id": "514723ba",
   "metadata": {},
   "source": [
    "New page with client id will show up. Copy client id and generate new secret. In the .env.local file add:"
   ]
  },
  {
   "cell_type": "code",
   "execution_count": null,
   "id": "88e8b6db",
   "metadata": {},
   "outputs": [],
   "source": [
    "GITHUB_ID = Oi23liF2fagexcPGdde8\n",
    "GITHUB_SECRET = fc89647a01e9ce53ab94bb1b2c31acaee959595f"
   ]
  },
  {
   "cell_type": "markdown",
   "id": "82a77057",
   "metadata": {},
   "source": [
    "We can use them in the configuration file."
   ]
  },
  {
   "cell_type": "code",
   "execution_count": null,
   "id": "fd907bf5",
   "metadata": {},
   "outputs": [],
   "source": [
    "import NextAuth from \"next-auth\"\n",
    "import GitHub from \"next-auth/providers/github\"\n",
    " \n",
    "export const { handlers, signIn, signOut, auth } = NextAuth({\n",
    "  providers: [ GitHub],  # Add GitHub to providers array\n",
    "})"
   ]
  }
 ],
 "metadata": {
  "kernelspec": {
   "display_name": "Python 3 (ipykernel)",
   "language": "python",
   "name": "python3"
  },
  "language_info": {
   "codemirror_mode": {
    "name": "ipython",
    "version": 3
   },
   "file_extension": ".py",
   "mimetype": "text/x-python",
   "name": "python",
   "nbconvert_exporter": "python",
   "pygments_lexer": "ipython3",
   "version": "3.11.2"
  }
 },
 "nbformat": 4,
 "nbformat_minor": 5
}
