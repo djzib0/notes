{
 "cells": [
  {
   "cell_type": "markdown",
   "id": "edf99856",
   "metadata": {},
   "source": [
    "## Next.js authentication with Auth.js\n",
    "\n",
    "###### Auth.js installation and setting up.\n",
    "\n",
    "First we have to install in our project (please check official documentation)"
   ]
  },
  {
   "cell_type": "code",
   "execution_count": null,
   "id": "29bd0544",
   "metadata": {},
   "outputs": [],
   "source": [
    "npm install next-auth@beta"
   ]
  },
  {
   "cell_type": "markdown",
   "id": "561b74f6",
   "metadata": {},
   "source": [
    "Then we have to create an .env.local file with environment variables. We can do it automatically by entering command:"
   ]
  },
  {
   "cell_type": "code",
   "execution_count": null,
   "id": "e328a034",
   "metadata": {},
   "outputs": [],
   "source": [
    "npx auth secret"
   ]
  },
  {
   "cell_type": "markdown",
   "id": "14217cc6",
   "metadata": {},
   "source": [
    "Now we should have a new file in our project \".env.local\" with the code "
   ]
  },
  {
   "cell_type": "code",
   "execution_count": null,
   "id": "44cb7c27",
   "metadata": {},
   "outputs": [],
   "source": [
    "AUTH_SECRET=\"AS+BzGp3JFhapgWirKUEfltWsTG9tc5GDuv/pplwHxI=\" # Added by `npx auth`. Read more: https://cli.authjs.dev"
   ]
  },
  {
   "cell_type": "markdown",
   "id": "319bf6c9",
   "metadata": {},
   "source": [
    "We have to add an AUTH_URL variable."
   ]
  },
  {
   "cell_type": "code",
   "execution_count": null,
   "id": "f0b6d4db",
   "metadata": {},
   "outputs": [],
   "source": [
    "AUTH_SECRET=\"AS+BzGp3JFhapgWirKUEfltWsTG9tc5GDuv/pplwHxI=\" # Added by `npx auth`. Read more: https://cli.authjs.dev\n",
    "AUTH_URL = http://localhost:3000/api/auth"
   ]
  },
  {
   "cell_type": "markdown",
   "id": "5cbc28cf",
   "metadata": {},
   "source": [
    "Now, let's create a configuration file auth.js in LIB folder. Copy the code from the official Auth.js documentation and add GitHub to providers array. (it can be google provider, facebook, etc.)"
   ]
  },
  {
   "cell_type": "code",
   "execution_count": null,
   "id": "8c8a9a01",
   "metadata": {},
   "outputs": [],
   "source": [
    "import NextAuth from \"next-auth\"\n",
    "import GitHub from \"next-auth/providers/github\"\n",
    " \n",
    "export const { handlers: {GET, POST} , signIn, signOut, auth } = NextAuth({ \n",
    "    ## {GET, POST} is important for export in route in folder app/api/[...nextauth] (will be created in next steps)\n",
    "  providers: [ GitHub],  # Add GitHub to providers array\n",
    "})"
   ]
  },
  {
   "cell_type": "markdown",
   "id": "a2811cc7",
   "metadata": {},
   "source": [
    "In our project we are using GitHub provider, so we have to create a new GitHub app. To do this, visit the GitHub page, sign in, and click on your avatar on the top right. \n",
    "In the menu click settings, and on the left navbar click Developer Settings (at the very bottom). \n",
    "Then click OAuthApps and register new application.\n",
    "\n",
    "Now fill the input fields.\n",
    "\n",
    "Application name - Next14 tutorial (the name is up to you).\n",
    "Homepage URL - http://localhost:3000\n",
    "Authorization callback URL - http://localhost:3000/api/auth/callback/github (or google if we use google, etc)."
   ]
  },
  {
   "cell_type": "markdown",
   "id": "b308b6e2",
   "metadata": {},
   "source": [
    "New page with client id will show up. Copy client id and generate new secret. In the .env.local file add:"
   ]
  },
  {
   "cell_type": "code",
   "execution_count": null,
   "id": "43d27f86",
   "metadata": {},
   "outputs": [],
   "source": [
    "GITHUB_ID = Oi23liF2fagexcPGdde8\n",
    "GITHUB_SECRET = fc89647a01e9ce53ab94bb1b2c31acaee959595f"
   ]
  },
  {
   "cell_type": "markdown",
   "id": "cf907112",
   "metadata": {},
   "source": [
    "We can use them in the configuration file."
   ]
  },
  {
   "cell_type": "code",
   "execution_count": null,
   "id": "88693802",
   "metadata": {},
   "outputs": [],
   "source": [
    "import NextAuth from \"next-auth\"\n",
    "import GitHub from \"next-auth/providers/github\"\n",
    " \n",
    "export const { handlers, signIn, signOut, auth } = NextAuth({\n",
    "  providers: [ GitHub],  # Add GitHub to providers array\n",
    "})"
   ]
  },
  {
   "cell_type": "markdown",
   "id": "4154b288",
   "metadata": {},
   "source": [
    "Now we can use function from NextAuth() in our app. Let's write a function and use it in our Login page."
   ]
  },
  {
   "cell_type": "code",
   "execution_count": null,
   "id": "e121d061",
   "metadata": {},
   "outputs": [],
   "source": [
    "## page.tsx (login page)\n",
    "\n",
    "import { signIn } from '@/lib/auth';\n",
    "\n",
    "const LoginPage = () => {\n",
    "\n",
    "  const handleGithubLogin = async () => {  ## this function will redirect us to authentication GitHub authentication page\n",
    "    \"use server\";\n",
    "    await signIn(\"github\")  ## we use github provider, but ther is a list of many which we can also use.\n",
    "  }\n",
    "\n",
    "  return (\n",
    "    <div>\n",
    "      <form action={handleGithubLogin}>\n",
    "        <button>Login with Github</button> \n",
    "      </form>\n",
    "    </div>\n",
    "  )\n",
    "}\n",
    "\n",
    "export default LoginPage"
   ]
  },
  {
   "cell_type": "markdown",
   "id": "382d2578",
   "metadata": {},
   "source": [
    "Next step is to create an API endpoint, so in folder app/api create a folder [...nextauth] (otherwise you would have to create all required endpoints (for login, error, logout, etc.).\n",
    "\n",
    "Create a file route.* inside that folder.\n",
    "\n",
    "This route will handle all the POST and GET methods."
   ]
  },
  {
   "cell_type": "code",
   "execution_count": null,
   "id": "b90a6552",
   "metadata": {},
   "outputs": [],
   "source": [
    "export { GET, POST } from \"@/lib/auth\""
   ]
  }
 ],
 "metadata": {
  "kernelspec": {
   "display_name": "Python 3 (ipykernel)",
   "language": "python",
   "name": "python3"
  },
  "language_info": {
   "codemirror_mode": {
    "name": "ipython",
    "version": 3
   },
   "file_extension": ".py",
   "mimetype": "text/x-python",
   "name": "python",
   "nbconvert_exporter": "python",
   "pygments_lexer": "ipython3",
   "version": "3.11.2"
  }
 },
 "nbformat": 4,
 "nbformat_minor": 5
}
