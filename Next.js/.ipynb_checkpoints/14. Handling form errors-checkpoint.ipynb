{
 "cells": [
  {
   "cell_type": "markdown",
   "id": "5abc546b",
   "metadata": {},
   "source": [
    "## Handling form errors\n",
    "\n",
    "In chapter 13, we created a register function in actions.js, where we checked among the others if the passwords are matching."
   ]
  },
  {
   "cell_type": "code",
   "execution_count": null,
   "id": "5777e067",
   "metadata": {},
   "outputs": [],
   "source": [
    "## actions.js\n",
    "\n",
    "export const registerNewUser = async (formData) => {\n",
    "    const {username, email, password, img, passwordRepeat} = Object.fromEntries(formData)\n",
    "\n",
    "    if (password !== passwordRepeat) {\n",
    "        return {error: \"Passwords do not match!\"}\n",
    "    }\n",
    "\n",
    "#..."
   ]
  },
  {
   "cell_type": "markdown",
   "id": "56fe9467",
   "metadata": {},
   "source": [
    "### Important\n",
    "###### Please notice that we return an error message, not throwing new error. If we throw an error Next.js will redirect us to an error page, and this is something we want to prevent."
   ]
  },
  {
   "cell_type": "markdown",
   "id": "feb73d74",
   "metadata": {},
   "source": [
    "We will use useStateHook. This hook allows you to update state based on the result of a form action.\n",
    "As you remember if we use hooks in our components, it must be a \"client\" component, and our register page is a \"server\" component.\n",
    "\n",
    "In this situation we have to create another component and move our form to it first. \n",
    "Than we have to import useFormState hook from \"react-dom\" and use a state variable"
   ]
  },
  {
   "cell_type": "code",
   "execution_count": null,
   "id": "4148349e",
   "metadata": {},
   "outputs": [],
   "source": [
    "\"use client\"  ## it must be a client component\n",
    "\n",
    "import { registerNewUser } from \"@/lib/actions\"\n",
    "import styles from \"./registerForm.module.css\"\n",
    "import { useFormState } from \"react-dom\"   ## import useFormState from react-dom\n",
    "import { useRouter } from \"next/navigation\" ## import useRouter to redirect to login page after successful registration\n",
    "import { useEffect } from \"react\"\n",
    "import Link from \"next/link\"\n",
    "\n",
    "const RegisterForm = () => {\n",
    "\n",
    "  ## utilizing useFormState - we pass function registerNewUser and a initial state which is undefined\n",
    "  const [state, formAction] = useFormState(registerNewUser, undefined); \n",
    "\n",
    "  ## initialize router\n",
    "  const router = useRouter();\n",
    "  \n",
    "  ## if state have success property equal to true, it triggers router and redirect to login page.\n",
    "  ## \"success\" if passed from actions.js (registerNewUser function in Chapter 13 of Next.js notes)\n",
    "  useEffect(() => {\n",
    "    state?.success && router.push(\"/login\")\n",
    "  }, [state?.success, router])\n",
    "\n",
    "  return (\n",
    "    <form className={styles.form} action={formAction}> ## as an action we use formAction function.\n",
    "        <input type=\"text\" placeholder=\"username\" name=\"username\"/>\n",
    "        <input type=\"text\" placeholder=\"email\" name=\"email\"/>\n",
    "        <input type=\"password\" placeholder=\"password\" name=\"password\"/>\n",
    "        <input type=\"password\" placeholder=\"password again\" name=\"passwordRepeat\"/>\n",
    "        <button>Register</button>\n",
    "        {state?.error}\n",
    "        <Link href='/login' className={styles.link}>\n",
    "          Have an account? <b>Login</b>\n",
    "        </Link>\n",
    "      </form>\n",
    "  )\n",
    "}\n",
    "\n",
    "export default RegisterForm"
   ]
  },
  {
   "cell_type": "markdown",
   "id": "b7861197",
   "metadata": {},
   "source": [
    "##### Important: We have to add a new parameter (\"prevState\") to registerNewUser function in action.js"
   ]
  },
  {
   "cell_type": "code",
   "execution_count": null,
   "id": "278e9b27",
   "metadata": {},
   "outputs": [],
   "source": [
    "## action.js\n",
    "\n",
    "export const registerNewUser = async (previousState, formData) => { ## prevState is added as a parameter\n",
    "    const {username, email, password, img, passwordRepeat} = Object.fromEntries(formData)\n",
    "#..."
   ]
  },
  {
   "cell_type": "markdown",
   "id": "7bdc0c8e",
   "metadata": {},
   "source": [
    "###### Login page\n",
    "\n",
    "For the login page we have to do the same. Let's first adjust the LoginForm component."
   ]
  },
  {
   "cell_type": "code",
   "execution_count": null,
   "id": "a3b06502",
   "metadata": {},
   "outputs": [],
   "source": [
    "\"use client\" ## added use client\n",
    "\n",
    "import styles from \"./loginForm.module.css\";\n",
    "import { login } from \"@/lib/actions\";\n",
    "import { useFormState } from \"react-dom\"   ## import useFormState from react-dom\n",
    "import { useRouter } from \"next/navigation\" ## import useRouter to redirect to login page after successful registration\n",
    "import { useEffect } from \"react\"\n",
    "import Link from \"next/link\";\n",
    "\n",
    "\n",
    "const LoginForm = () => {\n",
    "\n",
    "  ## utilizing useFormState - we pass function registerNewUser and a initial state which is undefined\n",
    "  const [state, formAction] = useFormState(registerNewUser, undefined); \n",
    "\n",
    "  ## initialize router\n",
    "  const router = useRouter();\n",
    "\n",
    "  return (\n",
    "    <div>\n",
    "      <form className={styles.form} action={formAction}>\n",
    "          <input type='text' placeholder='login' name='username' />\n",
    "          <input type='password' placeholder='password' name='password' />\n",
    "          <button>Login</button> \n",
    "          <Link href=\"/register\" className={styles.link}>\n",
    "        {\"Don't Have an account?\"} <b>Register</b>\n",
    "      </Link>\n",
    "        </form>\n",
    "    </div>\n",
    "  )\n",
    "}\n",
    "\n",
    "export default LoginForm"
   ]
  },
  {
   "cell_type": "markdown",
   "id": "fb73290d",
   "metadata": {},
   "source": [
    "Now we have to modify our login function in actions.js"
   ]
  },
  {
   "cell_type": "code",
   "execution_count": null,
   "id": "c9e55fb7",
   "metadata": {},
   "outputs": [],
   "source": [
    "## actions.js\n",
    "\n",
    "export const login = async (prevState, formData) => {\n",
    "    const {username, password} = Object.fromEntries(formData)\n",
    "\n",
    "    try {\n",
    "        await signIn(\"credentials\", {username, password});\n",
    "    } catch (error) {\n",
    "        console.log(error) \n",
    "        ## if the credentials are wrong an error will be thrown. If you conosle log error.message you will se a description\n",
    "        ## of this error. Now, we can conditionally check what that message includes. If it includes a specific string, in this\n",
    "        ## example \"credentialssignin\", we know it's a wrong credentials error.\n",
    "        if (error.message.includes(\"credentialssignin\")) {\n",
    "            return {error: \"Wrong username or password!\"}\n",
    "        }\n",
    "        ## in the previous version we had \"return {error: \"Something went wrong\"}\"\n",
    "        ## Now we have changed it to \"throw error\" Why? Because next-auth after successful authentication redirects to home page\n",
    "        ## using redicrect() method, and that method intentionally throws an NEXT_REDIRECT error.\n",
    "        ## This change in code will prevent that.\n",
    "        throw error\n",
    "    }\n",
    "}"
   ]
  }
 ],
 "metadata": {
  "kernelspec": {
   "display_name": "Python 3 (ipykernel)",
   "language": "python",
   "name": "python3"
  },
  "language_info": {
   "codemirror_mode": {
    "name": "ipython",
    "version": 3
   },
   "file_extension": ".py",
   "mimetype": "text/x-python",
   "name": "python",
   "nbconvert_exporter": "python",
   "pygments_lexer": "ipython3",
   "version": "3.11.2"
  }
 },
 "nbformat": 4,
 "nbformat_minor": 5
}
