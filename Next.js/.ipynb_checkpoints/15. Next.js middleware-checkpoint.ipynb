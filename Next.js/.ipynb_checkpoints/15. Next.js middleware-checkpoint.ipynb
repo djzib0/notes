{
 "cells": [
  {
   "cell_type": "markdown",
   "id": "34b08146",
   "metadata": {},
   "source": [
    "## Next.js middleware\n",
    "\n",
    "Middleware allows you to run code before a request is completed. Then, based on the incoming request, you can modify the response by rewriting, redirecting, modifying the request or response headers, or responding directly.\n",
    "\n",
    "Middleware runs before cached content and routes are matched.\n",
    "\n",
    "To use built-in middleware we first have to create a file in \"src\" folder (or root folder if we don't have src folder in our project), and set up the matcher.\n",
    "\n",
    "Matcher allows you to filter Middleware to run (or not run like in the example) on specific paths. If you don't add any matcher, Middleware will be invoked for every route in your project."
   ]
  },
  {
   "cell_type": "code",
   "execution_count": null,
   "id": "fdffe789",
   "metadata": {},
   "outputs": [],
   "source": [
    "## middleware.js\n",
    "\n",
    "import NextAuth from \"next-auth\";\n",
    "import { authConfig} from \"./lib/auth.config\"\n",
    "\n",
    "export default NextAuth(authConfig).auth;\n",
    "\n",
    "\n",
    "export const config = {\n",
    "    matcher: [\n",
    "      '/((?!api|_next/static|_next/image|favicon.ico|sitemap.xml|robots.txt).*)',\n",
    "    ],\n",
    "  }\n",
    "\n",
    "## below one is without imports, was not working but I keep it just in case (it's a solution from tutorial)\n",
    "# export const config = {\n",
    "#     matcher: ['/((?!api|static|.*\\\\..*|_next).*'],\n",
    "# }"
   ]
  },
  {
   "cell_type": "markdown",
   "id": "0fdcb1bf",
   "metadata": {},
   "source": [
    "Now we have to add new callback function in the auth.js file, where we can define our authorization rules. The problem is that we are using node js libraries (for example bcrypt, mongoose), but middleware is independent from any dependent node library. To prevent this we have first to create a new file in app/lib folder."
   ]
  },
  {
   "cell_type": "code",
   "execution_count": null,
   "id": "2ac674f2",
   "metadata": {},
   "outputs": [],
   "source": [
    "## auth.config.js\n",
    "\n",
    "export const authConfig = {\n",
    "    pages: {\n",
    "        signIn: \"/login\"\n",
    "    },\n",
    "    providers: [],\n",
    "    callbacks: {\n",
    "        ## when you log in via OAuth you have more information about the user, but if you use credentials you only have\n",
    "        ## user email. If you want to \"get\" more information, especially when you want check if the user is admin you have to\n",
    "        ## use asynchronous functions jwt() and session()\n",
    "        ## more info at: https://next-auth.js.org/configuration/callbacks\n",
    "        async jwt({token, user}) {\n",
    "            if(user) {\n",
    "                token.id = user.id;\n",
    "                token.isAdmin = user.isAdmin;\n",
    "            }\n",
    "            return token\n",
    "        },\n",
    "        async session({session, token}) {\n",
    "            if (token) {\n",
    "                session.user.id = token.id;\n",
    "                session.user.isAdmin = token.isAdmin;\n",
    "            }\n",
    "            return session\n",
    "        },\n",
    "        authorized({ auth, request }) {\n",
    "            \n",
    "        const user = auth?.user; # save the authorized user as a value of variable user\n",
    "            \n",
    "        const isOnAdminPanel = request.nextUrl?.pathname.startsWith(\"/admin\");\n",
    "        const isOnBlogPage = request.nextUrl?.pathname.startsWith(\"/blog\");\n",
    "        const isOnLoginPage = request.nextUrl?.pathname.startsWith(\"/login\");\n",
    "  \n",
    "        ## ONLY ADMIN CAN REACH THE ADMIN DASHBOARD\n",
    "  \n",
    "        if (isOnAdminPanel && !user?.isAdmin) {\n",
    "          return false;\n",
    "        }\n",
    "  \n",
    "        ## ONLY AUTHENTICATED USERS CAN REACH THE BLOG PAGE\n",
    "  \n",
    "        if (isOnBlogPage && !user) {\n",
    "          return false;\n",
    "        }\n",
    "  \n",
    "        ## ONLY UNAUTHENTICATED USERS CAN REACH THE LOGIN PAGE\n",
    "  \n",
    "        if (isOnLoginPage && user) {\n",
    "          return Response.redirect(new URL(\"/\", request.nextUrl));\n",
    "        }\n",
    "  \n",
    "        return true\n",
    "      },\n",
    "    },\n",
    "  };"
   ]
  }
 ],
 "metadata": {
  "kernelspec": {
   "display_name": "Python 3 (ipykernel)",
   "language": "python",
   "name": "python3"
  },
  "language_info": {
   "codemirror_mode": {
    "name": "ipython",
    "version": 3
   },
   "file_extension": ".py",
   "mimetype": "text/x-python",
   "name": "python",
   "nbconvert_exporter": "python",
   "pygments_lexer": "ipython3",
   "version": "3.11.2"
  }
 },
 "nbformat": 4,
 "nbformat_minor": 5
}
