{
 "cells": [
  {
   "cell_type": "markdown",
   "id": "9ca15d25",
   "metadata": {},
   "source": [
    "## Using form in Next.js apps\n",
    "\n",
    "If we want to use form in our app we use a standard html form but it's very important to have property name the same as the values we want to retrieve."
   ]
  },
  {
   "cell_type": "code",
   "execution_count": null,
   "id": "e8994696",
   "metadata": {},
   "outputs": [],
   "source": [
    "## LoginForm.tsx\n",
    "\n",
    "const LoginForm = () => {\n",
    "\n",
    "  return (\n",
    "    <div>\n",
    "      <form className={styles.form} action={login}>  ## imported function from actions.js\n",
    "          <input type='text' placeholder='login' name='username' />\n",
    "          <input type='password' placeholder='password' name='password' />\n",
    "          <button>Login</button> \n",
    "          {state?.error}\n",
    "          <Link href=\"/register\" className={styles.link}>\n",
    "            {\"Don't Have an account?\"} <b>Register</b>\n",
    "          </Link>\n",
    "        </form>\n",
    "    </div>\n",
    "  )\n",
    "}\n",
    "\n",
    "export default LoginForm"
   ]
  },
  {
   "cell_type": "markdown",
   "id": "6f69188f",
   "metadata": {},
   "source": [
    "Now, in our actions.js file we can utlizie passed data "
   ]
  },
  {
   "cell_type": "code",
   "execution_count": null,
   "id": "0d163488",
   "metadata": {},
   "outputs": [],
   "source": [
    "## actions.js\n",
    "\n",
    "export const login = async (formData) => {\n",
    "    const {username, password} = Object.fromEntries(formData)\n",
    "\n",
    "    ## do something with the data...\n",
    "    console.log(username, password)\n",
    "}"
   ]
  },
  {
   "cell_type": "markdown",
   "id": "0c1c0e8a",
   "metadata": {},
   "source": [
    "What if we want to create a delete button and pass the id of the user, or post we want to delete?"
   ]
  },
  {
   "cell_type": "code",
   "execution_count": null,
   "id": "d462dc47",
   "metadata": {},
   "outputs": [],
   "source": [
    "import Image from \"next/image\";\n",
    "import styles from \"./adminPosts.module.css\"\n",
    "import { getPosts } from \"@/lib/data\";\n",
    "import { deletePost } from \"@/lib/actions\";\n",
    "\n",
    "const AdminPosts = async () => {\n",
    "\n",
    "  const posts = await getPosts();\n",
    "\n",
    "\n",
    "  return (\n",
    "    <div className={styles.container}>\n",
    "      <h1>Posts</h1>\n",
    "      {posts.map((post) => {\n",
    "        return (\n",
    "          <div className={styles.post} key={post.id}>\n",
    "            <div className={styles.detail}>\n",
    "              <Image src={post.avatar || \"/noAvatar.png\"} alt=\"user's avatar\" width={50} height={50}/>\n",
    "              <span className={styles.postTitle}>{post.title}</span>\n",
    "            </div>\n",
    "            <form action={deletePost}>\n",
    "              <input type=\"hidden\" name=\"postId\" value={post.id}/> ## create a hidden input with the name and a value we want to pass\n",
    "              <button className={styles.postButton}>Delete</button>\n",
    "            </form>\n",
    "          </div>\n",
    "        )\n",
    "      })}\n",
    "    </div>\n",
    "  )\n",
    "}"
   ]
  }
 ],
 "metadata": {
  "kernelspec": {
   "display_name": "Python 3 (ipykernel)",
   "language": "python",
   "name": "python3"
  },
  "language_info": {
   "codemirror_mode": {
    "name": "ipython",
    "version": 3
   },
   "file_extension": ".py",
   "mimetype": "text/x-python",
   "name": "python",
   "nbconvert_exporter": "python",
   "pygments_lexer": "ipython3",
   "version": "3.11.2"
  }
 },
 "nbformat": 4,
 "nbformat_minor": 5
}
