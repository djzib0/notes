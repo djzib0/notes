{
 "cells": [
  {
   "cell_type": "markdown",
   "id": "80691cae",
   "metadata": {},
   "source": [
    "### Loading\n",
    "\n",
    "Sometimes we want to wait for the data before displayin our website.\n",
    "We can create a loading.tsx file in our app, so it will be automaticaly displayed befoer rendering the page. Laoding.tsx component can be created and designed by us. For example:"
   ]
  },
  {
   "cell_type": "code",
   "execution_count": null,
   "id": "914d6f45",
   "metadata": {},
   "outputs": [],
   "source": [
    "import React from 'react'\n",
    "\n",
    "const Loading = () => {\n",
    "  return (\n",
    "    <div>Some fancy loading spinner</div>\n",
    "  )\n",
    "}\n",
    "\n",
    "export default Loading"
   ]
  }
 ],
 "metadata": {
  "kernelspec": {
   "display_name": "Python 3 (ipykernel)",
   "language": "python",
   "name": "python3"
  },
  "language_info": {
   "codemirror_mode": {
    "name": "ipython",
    "version": 3
   },
   "file_extension": ".py",
   "mimetype": "text/x-python",
   "name": "python",
   "nbconvert_exporter": "python",
   "pygments_lexer": "ipython3",
   "version": "3.11.2"
  }
 },
 "nbformat": 4,
 "nbformat_minor": 5
}
