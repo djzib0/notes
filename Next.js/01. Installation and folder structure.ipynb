{
 "cells": [
  {
   "cell_type": "markdown",
   "id": "541749e4",
   "metadata": {},
   "source": [
    "# Installation and folder structure\n",
    "\n",
    "It's suggested starting the project with the command"
   ]
  },
  {
   "cell_type": "code",
   "execution_count": null,
   "id": "f29243ba",
   "metadata": {},
   "outputs": [],
   "source": [
    "npx create-next-app@latest\n",
    "\n",
    "## if we add dot at the end, a new project will be created in the same folder, and we will not be asked for a project name\n",
    "npx create-next-app@latest ."
   ]
  },
  {
   "cell_type": "markdown",
   "id": "59506385",
   "metadata": {},
   "source": [
    "We will be asked to make some setup choices like using TypeScript, esLint, Tailwind, and more."
   ]
  },
  {
   "cell_type": "markdown",
   "id": "161a997e",
   "metadata": {},
   "source": [
    "## Folder and files structure\n",
    "\n",
    "In a newly created project, we have configuration files for example package.json, next.config.js, jsconfig.json.\n",
    "In jsconfig.json (in the project with TypeScrip tsconfig.json), you can find:"
   ]
  },
  {
   "cell_type": "code",
   "execution_count": null,
   "id": "4a3c9cde",
   "metadata": {},
   "outputs": [],
   "source": [
    "\"paths\": {\n",
    "  \"@/*\": [\"./src/*\"]\n",
    "}"
   ]
  },
  {
   "cell_type": "markdown",
   "id": "09627af1",
   "metadata": {},
   "source": [
    "It means that you can omit typical import like in the vanilla React, and you can use path like below"
   ]
  },
  {
   "cell_type": "code",
   "execution_count": null,
   "id": "5a0db16b",
   "metadata": {},
   "outputs": [],
   "source": [
    "import exampleComponent fromm \"@/components/exampleComponent/exampleComponent\" # you don't have to use \"../../../components...\""
   ]
  },
  {
   "cell_type": "markdown",
   "id": "8f32d9c8",
   "metadata": {},
   "source": [
    "On the official Next.js tutorial page is a suggested folder structure, so all folder with components, libs, ui, and routes are place in app folder. There are opposite advices to keep only routes in the app folder, and other folder to be in src folder.\n",
    "It helps other engineers to find out the structure of the application, it means it's more legible for other developers.\n",
    "\n",
    "so I will stick to it, not to the official advice.\n",
    "\n",
    "src\n",
    "    / app\n",
    "    / components\n",
    "    / lib\n",
    "    ..."
   ]
  }
 ],
 "metadata": {
  "kernelspec": {
   "display_name": "Python 3 (ipykernel)",
   "language": "python",
   "name": "python3"
  },
  "language_info": {
   "codemirror_mode": {
    "name": "ipython",
    "version": 3
   },
   "file_extension": ".py",
   "mimetype": "text/x-python",
   "name": "python",
   "nbconvert_exporter": "python",
   "pygments_lexer": "ipython3",
   "version": "3.11.2"
  }
 },
 "nbformat": 4,
 "nbformat_minor": 5
}
