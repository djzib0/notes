{
 "cells": [
  {
   "cell_type": "markdown",
   "id": "55e3e8f8",
   "metadata": {},
   "source": [
    "# App Router\n",
    "\n",
    "Next.js handles routing very easily. Let's say you have:\n",
    "\n",
    "- main page - \"/\"\n",
    "- about - \"/about\"\n",
    "- contact - \"/contact\"\n",
    "\n",
    "If you want to create a route to \"about\" in app directory you have to create a new folder named \"about\", and inside that folder create a file named page.js (or page.jsx, or page.tsx, or page.ts). The file must be name \"page.*\"(lowercase!)\n",
    "\n",
    "## Dynamic routes\n",
    "\n",
    "When we want to create a page for a dynamic route (for example we want to display a blog entry) we have to create a folder with square brackets. For example.\n",
    "\n",
    "we have subfolder for blog \n",
    "\n",
    "/app/blog\n",
    "\n",
    "We want to display a single blog entry so we have to add a folder to blog folder, and create a page file inside it\n",
    "\n",
    "/app/blog/[entryId] - A folder is in square brackets. \"entryId\" can be any name we want.\n",
    "\n",
    "## Grouping folders\n",
    "\n",
    "We can group folders with subpages to avoid the mess in our projects. For example we have few pages related with authentication.\n",
    "\n",
    "app/login\n",
    "app/register\n",
    "app/forgot-password\n",
    "\n",
    "We can group them in the folder in parenthesis, so let's first create a new folder \"auth\" (in parenthesis). The folders looks like this:\n",
    "\n",
    "app/(auth)/login\n",
    "app/(auth)/register\n",
    "app/(auth)/forgot-password\n",
    "\n",
    "We don't have to use (auth) in path to accces those routes!!! So we can use \"/login\" to visit the login page."
   ]
  }
 ],
 "metadata": {
  "kernelspec": {
   "display_name": "Python 3 (ipykernel)",
   "language": "python",
   "name": "python3"
  },
  "language_info": {
   "codemirror_mode": {
    "name": "ipython",
    "version": 3
   },
   "file_extension": ".py",
   "mimetype": "text/x-python",
   "name": "python",
   "nbconvert_exporter": "python",
   "pygments_lexer": "ipython3",
   "version": "3.11.2"
  }
 },
 "nbformat": 4,
 "nbformat_minor": 5
}
