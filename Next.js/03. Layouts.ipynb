{
 "cells": [
  {
   "cell_type": "markdown",
   "id": "61c046c2",
   "metadata": {},
   "source": [
    "# Layouts\n",
    "\n",
    "You can create your own layout for each pages. For example you want to have a navbar inside the subfolder blog.\n",
    "You have to create a file layout.tsx inside the folder app/blog. All the other magic is done by Next.js."
   ]
  },
  {
   "cell_type": "code",
   "execution_count": null,
   "id": "3e7dc15c",
   "metadata": {},
   "outputs": [],
   "source": [
    "## layout.tsx\n",
    "\n",
    "const BlogLayout = ( \n",
    "    {children} # we pass as a prop a children component \n",
    "    : {children: React.ReactNode}\n",
    ") => {\n",
    "    return (\n",
    "    <div>\n",
    "        {children} \n",
    "        Blog layout\n",
    "    </div>\n",
    "    )\n",
    "}"
   ]
  },
  {
   "cell_type": "markdown",
   "id": "309f808b",
   "metadata": {},
   "source": [
    "We can create loading.tsx file in the routes folders to display loading component while waiting for the final component."
   ]
  },
  {
   "cell_type": "code",
   "execution_count": null,
   "id": "a0976fde",
   "metadata": {},
   "outputs": [],
   "source": [
    "## loading.tsx in app folder\n",
    "\n",
    "const loading = () => {\n",
    "  return (\n",
    "    <div>loading........</div>\n",
    "  )\n",
    "}\n",
    "\n",
    "export default loading"
   ]
  },
  {
   "cell_type": "markdown",
   "id": "6bb5659d",
   "metadata": {},
   "source": [
    "We can also add an error component to display error message.\n",
    "Create a file error.tsx in app folder. It must be a \"Client Side\" file, so we have to use 'use client'"
   ]
  },
  {
   "cell_type": "code",
   "execution_count": null,
   "id": "5dee430e",
   "metadata": {},
   "outputs": [],
   "source": [
    "## error.tsx\n",
    "\n",
    "'use client'  # it must be added, otherwise it won't work\n",
    "\n",
    "const Error = () => {\n",
    "  return (\n",
    "    <div>Error</div>\n",
    "  )\n",
    "}\n",
    "\n",
    "export default Error"
   ]
  },
  {
   "cell_type": "markdown",
   "id": "d488baac",
   "metadata": {},
   "source": [
    "We can also add for example not-found.tsx, to display custom made component when page is not found."
   ]
  },
  {
   "cell_type": "code",
   "execution_count": null,
   "id": "668d668d",
   "metadata": {},
   "outputs": [],
   "source": [
    "## not-found.tsx\n",
    "\n",
    "const NotFound = () => {\n",
    "  return (\n",
    "    <div>\n",
    "        <h2>\n",
    "            Not Found\n",
    "        </h2>\n",
    "        <p>Sorry, the page you are looking for does not exist.</p>\n",
    "    </div>\n",
    "  )\n",
    "}\n",
    "\n",
    "export default NotFound"
   ]
  }
 ],
 "metadata": {
  "kernelspec": {
   "display_name": "Python 3 (ipykernel)",
   "language": "python",
   "name": "python3"
  },
  "language_info": {
   "codemirror_mode": {
    "name": "ipython",
    "version": 3
   },
   "file_extension": ".py",
   "mimetype": "text/x-python",
   "name": "python",
   "nbconvert_exporter": "python",
   "pygments_lexer": "ipython3",
   "version": "3.11.2"
  }
 },
 "nbformat": 4,
 "nbformat_minor": 5
}
