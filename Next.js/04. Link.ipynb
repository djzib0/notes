{
 "cells": [
  {
   "cell_type": "markdown",
   "id": "0b19e0bc",
   "metadata": {},
   "source": [
    "# Link\n",
    "\n",
    "To create a link we have to import Link from next/link."
   ]
  },
  {
   "cell_type": "code",
   "execution_count": null,
   "id": "ad546550",
   "metadata": {},
   "outputs": [],
   "source": [
    "# our component file\n",
    "import Link from 'next/link';\n",
    "\n",
    "const Navbar = () => {\n",
    "    return (\n",
    "        <div>\n",
    "            <Link href='/'>Homepage</Link>\n",
    "            <Link href='/about'>About</Link>\n",
    "            #...\n",
    "        </div>\n",
    "    )\n",
    "}"
   ]
  },
  {
   "cell_type": "markdown",
   "id": "72e44277",
   "metadata": {},
   "source": [
    "####  Trivia: when you scroll your mouse on the link, next.js fetches the page in the background to speed up loading new page."
   ]
  },
  {
   "cell_type": "markdown",
   "id": "3148ee96",
   "metadata": {},
   "source": [
    "We can create a subcomponent with links and use this component in Navbar component.\n",
    "Create a folder Links in Navbar folder, then create a component file Links.tsx"
   ]
  },
  {
   "cell_type": "code",
   "execution_count": null,
   "id": "a532c0b5",
   "metadata": {},
   "outputs": [],
   "source": [
    "## Links.tsx\n",
    "import React from \"react\";\n",
    "import Link from \"next/link\";\n",
    "\n",
    "type LinkObject = {\n",
    "    title: string;\n",
    "    path: string;\n",
    "}\n",
    "\n",
    "const Links = () => {\n",
    "\n",
    "  const links = [\n",
    "    {\n",
    "      title: \"Homepage\",\n",
    "      path: \"/\",\n",
    "    },\n",
    "    {\n",
    "      title: \"About\",\n",
    "      path: \"/about\",\n",
    "    },\n",
    "    {\n",
    "      title: \"Contact\",\n",
    "      path: \"/contact\",\n",
    "    },\n",
    "    {\n",
    "      title: \"Blog\",\n",
    "      path: \"/blog\",\n",
    "    },\n",
    "  ];\n",
    "\n",
    "  return (\n",
    "    <div>\n",
    "      {links.map((link: LinkObject) => {  # map through the links and return Link component \n",
    "        return (\n",
    "          <Link href={link.path} key={link.title + link.path}>{link.title}</Link>\n",
    "        )\n",
    "      })\n",
    "      }\n",
    "    </div>\n",
    "  )\n",
    "}\n",
    "\n",
    "export default Links"
   ]
  },
  {
   "cell_type": "code",
   "execution_count": null,
   "id": "4e575164",
   "metadata": {},
   "outputs": [],
   "source": [
    "## Navbar.tsx\n",
    "import Links from \"./links/Links\"\n",
    "\n",
    "const Navbar = () => {\n",
    "  return (\n",
    "    <div>\n",
    "      <div>Logo</div>\n",
    "      <div>\n",
    "        <Links />\n",
    "      </div>\n",
    "    </div>\n",
    "  )\n",
    "}\n",
    "\n",
    "export default Navbar"
   ]
  }
 ],
 "metadata": {
  "kernelspec": {
   "display_name": "Python 3 (ipykernel)",
   "language": "python",
   "name": "python3"
  },
  "language_info": {
   "codemirror_mode": {
    "name": "ipython",
    "version": 3
   },
   "file_extension": ".py",
   "mimetype": "text/x-python",
   "name": "python",
   "nbconvert_exporter": "python",
   "pygments_lexer": "ipython3",
   "version": "3.11.2"
  }
 },
 "nbformat": 4,
 "nbformat_minor": 5
}
