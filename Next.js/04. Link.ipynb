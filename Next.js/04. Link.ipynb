{
 "cells": [
  {
   "cell_type": "markdown",
   "id": "0b19e0bc",
   "metadata": {},
   "source": [
    "# Link\n",
    "\n",
    "To create a link we have to import Link from next/link."
   ]
  },
  {
   "cell_type": "code",
   "execution_count": null,
   "id": "ad546550",
   "metadata": {},
   "outputs": [],
   "source": [
    "# our component file\n",
    "import Link from 'next/link';\n",
    "\n",
    "const Navbar = () => {\n",
    "    return (\n",
    "        <div>\n",
    "            <Link href='/'>Homepage</Link>\n",
    "            <Link href='/about'>About</Link>\n",
    "            #...\n",
    "        </div>\n",
    "    )\n",
    "}"
   ]
  },
  {
   "cell_type": "markdown",
   "id": "72e44277",
   "metadata": {},
   "source": [
    "####  Trivia: when you scroll your mouse on the link, next.js fetches the page in the background to speed up loading new page."
   ]
  },
  {
   "cell_type": "code",
   "execution_count": null,
   "id": "9192d037",
   "metadata": {},
   "outputs": [],
   "source": []
  }
 ],
 "metadata": {
  "kernelspec": {
   "display_name": "Python 3 (ipykernel)",
   "language": "python",
   "name": "python3"
  },
  "language_info": {
   "codemirror_mode": {
    "name": "ipython",
    "version": 3
   },
   "file_extension": ".py",
   "mimetype": "text/x-python",
   "name": "python",
   "nbconvert_exporter": "python",
   "pygments_lexer": "ipython3",
   "version": "3.11.2"
  }
 },
 "nbformat": 4,
 "nbformat_minor": 5
}
