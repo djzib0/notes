{
 "cells": [
  {
   "cell_type": "markdown",
   "id": "c4b5ff26",
   "metadata": {},
   "source": [
    "# Images\n",
    "\n",
    "\n",
    "Next.js optimise images by itself, adjusting it to the device screen size.\n",
    "All static files, like images, icons etc. must be held in \"public\" folder in our project. If we want to use an image we have to import an Image component."
   ]
  },
  {
   "cell_type": "markdown",
   "id": "7d203c74",
   "metadata": {},
   "source": [
    "## AboutPage.tsx\n",
    "import Image from 'next/image' # import Image component\n",
    "\n",
    "const AboutPage = () => {\n",
    "  return (\n",
    "    <div>\n",
    "      <Image src=\"/about.png\" alt='' width={500} height={500}/> # width and height are obligatory!\n",
    "    </div>\n",
    "  )\n",
    "}\n",
    "\n",
    "export default AboutPage"
   ]
  },
  {
   "cell_type": "markdown",
   "id": "bf055ad7",
   "metadata": {},
   "source": [
    "We can wrap images with other divs and set our custom class to the div."
   ]
  },
  {
   "cell_type": "code",
   "execution_count": null,
   "id": "4fcb8a52",
   "metadata": {},
   "outputs": [],
   "source": [
    "## AboutPage.tsx\n",
    "import Image from 'next/image' # import Image component\n",
    "import styles from './about.module.css'\n",
    "\n",
    "const AboutPage = () => {\n",
    "  return (\n",
    "    <div>\n",
    "      <div className={styles.container}\n",
    "      <Image src=\"/about.png\" alt='' fill/> # width and height in css file. But we have to use fill!\n",
    "    </div>\n",
    "  )\n",
    "}\n",
    "\n",
    "export default AboutPage"
   ]
  },
  {
   "cell_type": "markdown",
   "id": "2956f936",
   "metadata": {},
   "source": [
    "#### Important: DIV must have property \"position\" set to inherit, absolut or relative!!!!!!!!!"
   ]
  },
  {
   "cell_type": "markdown",
   "id": "007bc883",
   "metadata": {},
   "source": [
    "## External images\n",
    "\n",
    "If we want to use external images (for example from www.images.pexel.com, we have to change next.config file."
   ]
  },
  {
   "cell_type": "code",
   "execution_count": null,
   "id": "535250ba",
   "metadata": {},
   "outputs": [],
   "source": [
    "## next.config.ts\n",
    "\n",
    "/** @type {import('next').NextConfig} */\n",
    "const nextConfig = {\n",
    "    ## add this code\n",
    "    images: {\n",
    "        remotePatterns:[\n",
    "            {\n",
    "                protocol: \"https\",\n",
    "                hostname: \"images.pexels.com\" \n",
    "            },\n",
    "            {\n",
    "                protocol: \"https\",\n",
    "                hostname: \"otherwebsite.com\" \n",
    "            }\n",
    "            \n",
    "        ]\n",
    "    }\n",
    "    # ------------ end\n",
    "};\n",
    "\n",
    "export default nextConfig;"
   ]
  },
  {
   "cell_type": "markdown",
   "id": "9185b2cf",
   "metadata": {},
   "source": [
    "Or if we want to allow images from all sources:"
   ]
  },
  {
   "cell_type": "code",
   "execution_count": null,
   "id": "f5d0c134",
   "metadata": {},
   "outputs": [],
   "source": [
    "import type { NextConfig } from \"next\";\n",
    "\n",
    "const nextConfig: NextConfig = {\n",
    "  /* config options here */\n",
    "  images: {\n",
    "    remotePatterns: [\n",
    "      {\n",
    "        protocol: 'https',\n",
    "        hostname: '*',\n",
    "      }\n",
    "    ]\n",
    "  }\n",
    "};\n",
    "\n",
    "export default nextConfig;\n"
   ]
  },
  {
   "cell_type": "markdown",
   "id": "3547b8ae",
   "metadata": {},
   "source": [
    "If we get an error (at the terminal that dangerouslyAllowSVG is disabled, we can add it to our config and set it to true."
   ]
  },
  {
   "cell_type": "code",
   "execution_count": null,
   "id": "bc99ea5b",
   "metadata": {},
   "outputs": [],
   "source": [
    "import type { NextConfig } from \"next\";\n",
    "\n",
    "const nextConfig: NextConfig = {\n",
    "  /* config options here */\n",
    "  images: {\n",
    "    dangerouslyAllowSVG: true, ## add this line\n",
    "    remotePatterns: [\n",
    "      {\n",
    "        protocol: 'https',\n",
    "        hostname: '*',\n",
    "      }\n",
    "    ]\n",
    "  }\n",
    "};\n",
    "\n",
    "export default nextConfig;"
   ]
  }
 ],
 "metadata": {
  "kernelspec": {
   "display_name": "Python 3 (ipykernel)",
   "language": "python",
   "name": "python3"
  },
  "language_info": {
   "codemirror_mode": {
    "name": "ipython",
    "version": 3
   },
   "file_extension": ".py",
   "mimetype": "text/x-python",
   "name": "python",
   "nbconvert_exporter": "python",
   "pygments_lexer": "ipython3",
   "version": "3.11.2"
  }
 },
 "nbformat": 4,
 "nbformat_minor": 5
}
