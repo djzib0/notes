{
 "cells": [
  {
   "cell_type": "markdown",
   "id": "236c9bc4",
   "metadata": {},
   "source": [
    "# Server and client side rendering\n",
    "\n",
    "\n",
    "Next.js supports server and client side rendering. Both rendering methods have it own pros and cons. \n",
    "If we want to set rendering to the client side, we have to add \"use client\" at the top of the component."
   ]
  },
  {
   "cell_type": "code",
   "execution_count": null,
   "id": "39051981",
   "metadata": {},
   "outputs": [],
   "source": [
    "## page.tsx\n",
    "\n",
    "'use client'\n",
    "\n",
    "const ExamplePage() => {\n",
    "    \n",
    "    return (\n",
    "        <div>\n",
    "            Here is a content of the example page.\n",
    "        </div>\n",
    "    )\n",
    "}"
   ]
  },
  {
   "cell_type": "markdown",
   "id": "3d48b408",
   "metadata": {},
   "source": [
    "Keep in mind that the initial render is always done by the server. After that the special process occurs and it's called Hydration. It's a process of transforming content from server to a client side. When the data mismatch it comes to dehydration.\n",
    "\n",
    "For example:"
   ]
  },
  {
   "cell_type": "markdown",
   "id": "0245e9ad",
   "metadata": {},
   "source": [
    "## page.tsx\n",
    "\n",
    "'use client'\n",
    "\n",
    "const ExamplePage() => {\n",
    "    \n",
    "    const a = Math.random();\n",
    "    \n",
    "    return (\n",
    "        <div>\n",
    "            Ther random number is {a} ## it will cause a dehydration error!!\n",
    "        </div>\n",
    "    )\n",
    "}"
   ]
  },
  {
   "cell_type": "markdown",
   "id": "7942361a",
   "metadata": {},
   "source": [
    "Above code will cause an error. Why? Because at the server side value of variable a will be different than at the server side.\n",
    "\n",
    "We have three different approaches to handle this problem.\n",
    "\n",
    "###### 1) use useEffect() hook"
   ]
  },
  {
   "cell_type": "code",
   "execution_count": null,
   "id": "4de002b8",
   "metadata": {},
   "outputs": [],
   "source": [
    "## page.tsx\n",
    "\n",
    "'use client'\n",
    "\n",
    "import { useEffect, useState } from 'react';\n",
    "\n",
    "const ExamplePage() => {\n",
    "    \n",
    "    const [isClient, setIsClient] = useState(false) # state variable to make sure the component is at the client side\n",
    "    ## first it set to false because it will be run at the server side.\n",
    "    \n",
    "    useEffect(() => {\n",
    "        setIsclient(true) # after render use useEffect to change it to the client side component\n",
    "    }, []) \n",
    "    \n",
    "    const a = Math.random();\n",
    "    \n",
    "    return (\n",
    "        <div>\n",
    "            Ther random number is {isClient && a} ## when it's a client side component, show the value of variable \"a\"\n",
    "        </div>\n",
    "    )\n",
    "}"
   ]
  },
  {
   "cell_type": "markdown",
   "id": "d4a7888c",
   "metadata": {},
   "source": [
    "###### 2) use dynamic import \n",
    "\n",
    "Let's say we have a component which cause the dehydration problem."
   ]
  },
  {
   "cell_type": "code",
   "execution_count": null,
   "id": "11c3a3fe",
   "metadata": {},
   "outputs": [],
   "source": [
    "## hydrationTest.tsx\n",
    "\n",
    "'use client'\n",
    "\n",
    "const HydrationTest = () => {\n",
    "\n",
    "  const a = Math.random();\n",
    "\n",
    "  console.log(a)\n",
    "\n",
    "  return (\n",
    "    <div>hydrationTest {a}</div>\n",
    "  )\n",
    "}\n",
    "\n",
    "export default HydrationTest"
   ]
  },
  {
   "cell_type": "markdown",
   "id": "2312ef36",
   "metadata": {},
   "source": [
    "If we import it to the parent component we will cause the dehydration error."
   ]
  },
  {
   "cell_type": "code",
   "execution_count": null,
   "id": "4a80aadc",
   "metadata": {},
   "outputs": [],
   "source": [
    "## page.tsx\n",
    "\n",
    "# 'use client'  <<---- we don't have to use it, because imported component is a Client Side Component.\n",
    "\n",
    "import { useEffect, useState } from 'react';\n",
    "# import HydrationTest from '@/hydrationTest'  ## if we use this imported component we will cause a dehydrationt error\n",
    "import dynamic from \"next/dynamic\"\n",
    "\n",
    "const ExamplePage() => {\n",
    "    \n",
    "    const HydrationTestNoSSR = dynamic(() => import(\"@/hydrationTest\"); {ssl: false}) # we can import component dynamicaly\n",
    "    ## it will import component without a Server Side Rendering\n",
    "    \n",
    "    return (\n",
    "        <div>\n",
    "            <HydrationTest /> ## when it's a client side component, show the value of variable \"a\"\n",
    "        </div>\n",
    "    )\n",
    "}"
   ]
  },
  {
   "cell_type": "markdown",
   "id": "bb8d7662",
   "metadata": {},
   "source": [
    "###### 3) use suppressHydrationWarning attribute\n",
    "\n",
    "We can wrap an element which causes dehydration problem in div and add an attribute."
   ]
  },
  {
   "cell_type": "code",
   "execution_count": null,
   "id": "632363e3",
   "metadata": {},
   "outputs": [],
   "source": [
    "## page.tsx\n",
    "\n",
    "'use client'\n",
    "\n",
    "import { useEffect, useState } from 'react';\n",
    "\n",
    "const ExamplePage() => {\n",
    "    \n",
    "    const a = Math.random();\n",
    "    \n",
    "    return (\n",
    "        <div suppressHydrationWarning> # added attribute\n",
    "            Ther random number is {a} \n",
    "        </div>\n",
    "    )\n",
    "}"
   ]
  }
 ],
 "metadata": {
  "kernelspec": {
   "display_name": "Python 3 (ipykernel)",
   "language": "python",
   "name": "python3"
  },
  "language_info": {
   "codemirror_mode": {
    "name": "ipython",
    "version": 3
   },
   "file_extension": ".py",
   "mimetype": "text/x-python",
   "name": "python",
   "nbconvert_exporter": "python",
   "pygments_lexer": "ipython3",
   "version": "3.11.2"
  }
 },
 "nbformat": 4,
 "nbformat_minor": 5
}
