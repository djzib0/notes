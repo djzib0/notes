{
 "cells": [
  {
   "cell_type": "markdown",
   "id": "5194bed5",
   "metadata": {},
   "source": [
    "# Navigation\n",
    "\n",
    "When there is a link on the page, Next.js start to prefetch all the pages for each link on the page. It speeds up the loading of the page after you click the link. The problem is when there is a lot of links on the page. Then it may influence performance. \n",
    "\n",
    "To avoid this we can use a useRouter hook. Example below."
   ]
  },
  {
   "cell_type": "code",
   "execution_count": null,
   "id": "eee63db7",
   "metadata": {},
   "outputs": [],
   "source": [
    "\"use client\"\n",
    "\n",
    "import Link from 'next/link';\n",
    "import useRouter from 'next/navigation' # VSC will prompt to import next/router but it's depreciated and...\n",
    "## ... next/navigation is up to date.\n",
    "\n",
    "const NavigationTestPage = () => {\n",
    "    \n",
    "    const router = useRouter();\n",
    "    \n",
    "    const handleClick = (route) => {\n",
    "        console.log(\"clicked\")\n",
    "        router.push(route)\n",
    "    }\n",
    "    \n",
    "    <div>\n",
    "        <Link href={\"/\"}>Go to home page</Link> # this is a standard Link. It will cause pre-fetching page\n",
    "        <button onClick={() => handleClick(\"/\")}>Go to home page</button> # this is a solution to avoid pre-fetching\n",
    "    </div>\n",
    "}"
   ]
  },
  {
   "cell_type": "markdown",
   "id": "1753e5fc",
   "metadata": {},
   "source": [
    "router.push(route) will cause that the list of visited pages in browser history will be increased. It means that when we go back, we will be on the page where the link was clicked. \n",
    "\n",
    "Instead of router.push(route) we can use:\n",
    "\n",
    "##### router.replace(route) \n",
    "\n",
    "it will replace the current route with a new one. So when we click back, we will go back to the page from before the page where the link is. For example we started with google start page. We visited our page, clicked on the link with replace, and press back. We won't go back to the page where the link was clicked, but to the googgle start page. "
   ]
  },
  {
   "cell_type": "markdown",
   "id": "b96878ea",
   "metadata": {},
   "source": [
    "###### route.refresh()\n",
    "\n",
    "It will cause re-render of the current page. It's usefull when we want to make a new request to a server and re-render the page with the updated data.\n",
    "\n",
    "###### router.back() and router.forward()\n",
    "\n",
    "It will navigate back or forward in browser history."
   ]
  },
  {
   "cell_type": "code",
   "execution_count": null,
   "id": "e2323d9d",
   "metadata": {},
   "outputs": [],
   "source": []
  }
 ],
 "metadata": {
  "kernelspec": {
   "display_name": "Python 3 (ipykernel)",
   "language": "python",
   "name": "python3"
  },
  "language_info": {
   "codemirror_mode": {
    "name": "ipython",
    "version": 3
   },
   "file_extension": ".py",
   "mimetype": "text/x-python",
   "name": "python",
   "nbconvert_exporter": "python",
   "pygments_lexer": "ipython3",
   "version": "3.11.2"
  }
 },
 "nbformat": 4,
 "nbformat_minor": 5
}
