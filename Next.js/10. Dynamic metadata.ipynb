{
 "cells": [
  {
   "cell_type": "markdown",
   "id": "05d76cee",
   "metadata": {},
   "source": [
    "## Dynamic metadata\n",
    "\n",
    "Metadata is necessary for SEO. It allows to display short data about your page in search engines. \n",
    "If we want to implement dynamic metadata for project we can set it in the main layout file in app folder."
   ]
  },
  {
   "cell_type": "code",
   "execution_count": null,
   "id": "6c21ddd9",
   "metadata": {},
   "outputs": [],
   "source": [
    "## Change this code...\n",
    "export const metadata: Metadata = {\n",
    "  title: \"Create Next App\",\n",
    "  description: \"Next.js starter app description\",\n",
    "};\n",
    "\n",
    "    \n",
    "# ... with this one\n",
    "export const metadata: Metadata = {\n",
    "  title: {\n",
    "    default: \"Next.js 14 Homepage\",  # Default title\n",
    "    template: \"%s | Next.js 14\"      # %s will be replaced with a different name \"| Next.js 14\" will remain.\n",
    "  },\n",
    "  description: \"Next.js starter app description\",\n",
    "};"
   ]
  },
  {
   "cell_type": "markdown",
   "id": "20de38c9",
   "metadata": {},
   "source": [
    "We can implement data for every single page. It will be taken into account in search engines because it has a higher priority."
   ]
  },
  {
   "cell_type": "code",
   "execution_count": null,
   "id": "7b27ec7e",
   "metadata": {},
   "outputs": [],
   "source": [
    "## Add this code at the top of the page, below the imports\n",
    "export const metadata: Metadata = {\n",
    "  title: \"Contact page\",  # it will generate title \"Contact page | Next.js 14\"\n",
    "  description: \"Next.js starter app description\",\n",
    "};"
   ]
  },
  {
   "cell_type": "markdown",
   "id": "1f01e1fc",
   "metadata": {},
   "source": [
    "If we want to use for example params to be dynamically added to a metadata we can do it as well."
   ]
  },
  {
   "cell_type": "code",
   "execution_count": null,
   "id": "e5a1c190",
   "metadata": {},
   "outputs": [],
   "source": [
    "## page.tsx (single post page, with dynamic path [slug])\n",
    "\n",
    "## because we have to fetch the post first, we can use export const metadata, instead we have to use generateMetadata \n",
    "export const generateMetadata = async ({params}) {\n",
    "    const {slug} = params;\n",
    "    \n",
    "    # fetch data to return title and description\n",
    "    const post = await getPost(slug) # fetch data from server (API or mongoose or other)\n",
    "    \n",
    "    # return a metadata object\n",
    "    return {\n",
    "        title: post.title,\n",
    "        description: post.desc\n",
    "    }\n",
    "}\n",
    "\n",
    "const SinglePostPage = async ({params} : {params: {slug: string}}) => {\n",
    "\n",
    "  const {slug} = params;\n",
    "\n",
    "  const post = await getPost(slug);\n",
    "\n",
    "  console.log(post)\n",
    "\n",
    "  return (\n",
    "    <div className={styles.container}>\n",
    "      ...\n",
    "    </div>\n",
    "  )\n",
    "}\n",
    "\n",
    "export default SinglePostPage"
   ]
  },
  {
   "cell_type": "markdown",
   "id": "cdb2ad9b",
   "metadata": {},
   "source": [
    "##### Important:\n",
    "\n",
    "As you can see at the above example, there are two lines of code that fetches data. Next.js checks if the fetches are the same, and if yes, it fetches data only once. So don't worry."
   ]
  },
  {
   "cell_type": "code",
   "execution_count": null,
   "id": "dc9ae255",
   "metadata": {},
   "outputs": [],
   "source": []
  }
 ],
 "metadata": {
  "kernelspec": {
   "display_name": "Python 3 (ipykernel)",
   "language": "python",
   "name": "python3"
  },
  "language_info": {
   "codemirror_mode": {
    "name": "ipython",
    "version": 3
   },
   "file_extension": ".py",
   "mimetype": "text/x-python",
   "name": "python",
   "nbconvert_exporter": "python",
   "pygments_lexer": "ipython3",
   "version": "3.11.2"
  }
 },
 "nbformat": 4,
 "nbformat_minor": 5
}
