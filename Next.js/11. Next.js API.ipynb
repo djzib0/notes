{
 "cells": [
  {
   "cell_type": "markdown",
   "id": "3d4a489c",
   "metadata": {},
   "source": [
    "## Next.js API\n",
    "\n",
    "To create your own API endpoint in Next.js, you have to add folder api in app folder. For example you want to have endpoint\n",
    "\n",
    ".../api/blog\n",
    "\n",
    "Create blog folder in the api folder. Create file route.* in the folder. This is how we tell Next.js to treat it as an API endpoint."
   ]
  },
  {
   "cell_type": "code",
   "execution_count": null,
   "id": "fe789993",
   "metadata": {},
   "outputs": [],
   "source": [
    "## route.tsx (in @/app/api/blog)\n",
    "import { Post } from \"@/lib/models\";\n",
    "import { connectToDb } from \"@/lib/utils\"  # connectToDb() - please check MongoDB notes how to connect with DB (chapter 01).\n",
    "import { NextResponse } from \"next/server\";\n",
    "\n",
    "export const GET = async (request) => {\n",
    "    try {\n",
    "        connectToDb();\n",
    "        const posts = await Post.find();\n",
    "        return NextResponse.json(posts);\n",
    "    } catch (err) {\n",
    "        throw new Error(\"Failed to fetch posts!\")\n",
    "    }\n",
    "}"
   ]
  },
  {
   "cell_type": "markdown",
   "id": "87416b8d",
   "metadata": {},
   "source": [
    "Now we can fetch our data. In blog page file we can go back to fetching with an API."
   ]
  },
  {
   "cell_type": "code",
   "execution_count": null,
   "id": "8aac9c9f",
   "metadata": {},
   "outputs": [],
   "source": [
    "import { PostCard } from '@/components/postCard/PostCard';\n",
    "import styles from './blog.module.css';\n",
    "import {getPosts} from '@/lib/data'\n",
    "\n",
    "const getData = async () => {\n",
    "  const res = await fetch(\"http://localhost:3000/api/blog\")  # we fetch now from our local api endpoint\n",
    "\n",
    "  if (!res.ok) {\n",
    "    throw new Error(\"Something went wrong\")\n",
    "  }\n",
    "\n",
    "  return res.json()\n",
    "}\n",
    "\n",
    "const BlogPage = async () => {\n",
    "\n",
    "  const posts = await getData();\n",
    "\n",
    "  return (\n",
    "    <div className={styles.container}>\n",
    "      {posts && posts.map((post: {userId: number, slug: number, title: string, body: string, createdAt: Date}) => {\n",
    "        return (\n",
    "          <div className={styles.post} key={post.slug}>\n",
    "            <PostCard post={post}/>\n",
    "          </div>\n",
    "        )\n",
    "      })}\n",
    "\n",
    "    </div>\n",
    "  )\n",
    "}\n",
    "\n",
    "export default BlogPage"
   ]
  },
  {
   "cell_type": "markdown",
   "id": "9fb6d524",
   "metadata": {},
   "source": [
    "We can make a dynamic endpoints in the same way as for routes. We have to put the folder name in the brackets.\n",
    "So .../api/blog/[slug]. So, we can fetch a single post data."
   ]
  },
  {
   "cell_type": "code",
   "execution_count": null,
   "id": "a6602a2f",
   "metadata": {},
   "outputs": [],
   "source": [
    "import { Post } from \"@/lib/models\";\n",
    "import { connectToDb } from \"@/lib/utils\";\n",
    "import { NextResponse } from \"next/server\";\n",
    "\n",
    "export const GET =  async (request: any, {params}: {params: any}) => { ## added params, after request!\n",
    "    const {slug} = params;\n",
    "\n",
    "    try {\n",
    "        connectToDb();\n",
    "        const post = await Post.findOne({slug});  # used .findOne to find exactly the one we are looking for\n",
    "        return NextResponse.json(post);\n",
    "    } catch (err) {\n",
    "        console.log(err)\n",
    "        throw new Error(\"Failed to fetch post!\")\n",
    "    }\n",
    "}"
   ]
  },
  {
   "cell_type": "markdown",
   "id": "15f97d7d",
   "metadata": {},
   "source": [
    "Now we can fetch data from an API and use the data in our page."
   ]
  },
  {
   "cell_type": "code",
   "execution_count": null,
   "id": "c1c5ff15",
   "metadata": {},
   "outputs": [],
   "source": [
    "import Image from \"next/image\"\n",
    "import styles from \"./singlePost.module.css\"\n",
    "import PostUser from \"@/components/postUser/PostUser\"\n",
    "import { Suspense } from \"react\"\n",
    "import { getPost } from \"@/lib/data\";\n",
    "\n",
    "const getSinglePost = async (slug: string) => {\n",
    "  const res = await fetch(`http://localhost:3000/api/blog/${slug}`) # we fetch now from our local api endpoint\n",
    "\n",
    "  if (!res.ok) {\n",
    "    throw new Error(\"Something went wrong\")\n",
    "  }\n",
    "\n",
    "  return res.json();\n",
    "}\n",
    "\n",
    "\n",
    "export const generateMetadata = async ({params} : {params: {slug: string}}) => {\n",
    "  const {slug} = params;\n",
    "\n",
    "  const post = await getPost(slug)\n",
    "\n",
    "  return {\n",
    "    title: post.title,\n",
    "    description: post.desc,\n",
    "  }\n",
    "}\n",
    "\n",
    "const SinglePostPage = async ({params} : {params: {slug: string}}) => {\n",
    "\n",
    "  const {slug} = params;\n",
    "\n",
    "  const post = await getSinglePost(slug);\n",
    "\n",
    "\n",
    "  return (\n",
    "    <div className={styles.container}>\n",
    "        ...\n",
    "    </div>\n",
    "  )\n",
    "}\n",
    "\n",
    "export default SinglePostPage"
   ]
  },
  {
   "cell_type": "markdown",
   "id": "ac62daae",
   "metadata": {},
   "source": [
    "We can already add a delete method to the post, but we are not going to use it on our pages yet."
   ]
  },
  {
   "cell_type": "code",
   "execution_count": null,
   "id": "02549296",
   "metadata": {},
   "outputs": [],
   "source": [
    "## route.tsx (in api/blog/[slug])\n",
    "\n",
    "import { Post } from \"@/lib/models\";\n",
    "import { connectToDb } from \"@/lib/utils\";\n",
    "import { NextResponse } from \"next/server\";\n",
    "\n",
    "export const DELETE =  async (request: any, {params}: {params: any}) => { ## added params, after request!\n",
    "    const {slug} = params;\n",
    "\n",
    "    try {\n",
    "        connectToDb();\n",
    "        wait Post.deleteOne({slug});  # used .deleteOne to delete exactly the one we are looking for\n",
    "        return NextResponse.json(\"Post deleted.\");\n",
    "    } catch (err) {\n",
    "        console.log(err)\n",
    "        throw new Error(\"Failed to fetch post!\")\n",
    "    }\n",
    "}"
   ]
  }
 ],
 "metadata": {
  "kernelspec": {
   "display_name": "Python 3 (ipykernel)",
   "language": "python",
   "name": "python3"
  },
  "language_info": {
   "codemirror_mode": {
    "name": "ipython",
    "version": 3
   },
   "file_extension": ".py",
   "mimetype": "text/x-python",
   "name": "python",
   "nbconvert_exporter": "python",
   "pygments_lexer": "ipython3",
   "version": "3.11.2"
  }
 },
 "nbformat": 4,
 "nbformat_minor": 5
}
