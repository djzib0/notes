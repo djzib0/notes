{
 "cells": [
  {
   "cell_type": "markdown",
   "id": "bf9c5584",
   "metadata": {},
   "source": [
    "### UseState with TypeScript\n",
    "\n",
    "Let's assume we have an input field and button to enter the user's name and then we want to store the entered name as an another variable (state)."
   ]
  },
  {
   "cell_type": "code",
   "execution_count": null,
   "id": "15a7b1fe",
   "metadata": {},
   "outputs": [],
   "source": [
    "import { useState } from \"react\"\n",
    "\n",
    "# declare the new alias \n",
    "type UserType = {\n",
    "  sessionId: number;\n",
    "  name: string;\n",
    "}\n",
    "\n",
    "export default function UseStateExample() {\n",
    "    \n",
    "    const [username, setUserName] = useState(\"\");\n",
    "    # initialized state is null, but later we want to pass the UserType, so we use the Union type\n",
    "    const [user, setUser] = useState<userType | null>(null) \n",
    "    \n",
    "    # function to handle changes in input field\n",
    "    const handleChange = (e: React.ChangeEvent<HTMLInputElement>) => {\n",
    "        setUserName(e.target.value)\n",
    "    }\n",
    "    \n",
    "    # function to handle button click\n",
    "    const handleClick = (e: React.MouseEvent<HTMLButtonElement>) => {\n",
    "        e.preventDefault();\n",
    "        # we save the UserType object as a user state\n",
    "        setUser({\n",
    "          name: username,\n",
    "          sessionId: Math.random()\n",
    "        })\n",
    "    }\n",
    "    \n",
    "    return (\n",
    "        <div>\n",
    "          # if user is not null show message \"user logged in\", else show the form\n",
    "          { user ? `${user.name} logged in` : <form>\n",
    "            <input type='text' placeholder='Username' onChange={handleChange} />\n",
    "            <button onClick={handleClick}>Login</button>\n",
    "          </form>}\n",
    "          # below syntax allows to display user only when it's not null (be aware of the question mark place)\n",
    "          {user?.name}\n",
    "        </div>\n",
    "    )\n",
    "}"
   ]
  }
 ],
 "metadata": {
  "kernelspec": {
   "display_name": "Python 3 (ipykernel)",
   "language": "python",
   "name": "python3"
  },
  "language_info": {
   "codemirror_mode": {
    "name": "ipython",
    "version": 3
   },
   "file_extension": ".py",
   "mimetype": "text/x-python",
   "name": "python",
   "nbconvert_exporter": "python",
   "pygments_lexer": "ipython3",
   "version": "3.11.2"
  }
 },
 "nbformat": 4,
 "nbformat_minor": 5
}
