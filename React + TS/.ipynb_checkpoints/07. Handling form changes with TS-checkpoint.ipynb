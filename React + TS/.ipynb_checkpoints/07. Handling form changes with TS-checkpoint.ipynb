{
 "cells": [
  {
   "cell_type": "markdown",
   "id": "b5e29cd9",
   "metadata": {},
   "source": [
    "# Handling form changes in React with TS."
   ]
  },
  {
   "cell_type": "code",
   "execution_count": null,
   "id": "5a4ff77c",
   "metadata": {},
   "outputs": [],
   "source": [
    "const handleChange = (e: React.ChangeEvent<HTMLInputElement | HTMLTextAreaElement | HTMLSelectElement>) => {\n",
    "    const {name, value, type} = e.target\n",
    "    if (\"checked\" in e.target) {\n",
    "      const checked = e.target.checked\n",
    "      setFilterForm(prevFormData => {\n",
    "        return {\n",
    "          ...prevFormData,\n",
    "          [name]: type === \"checkbox\" ? checked: value\n",
    "        }\n",
    "      })\n",
    "    }\n",
    "    setFilterForm(prevFormData => {\n",
    "      return {\n",
    "        ...prevFormData,\n",
    "        [name]: value\n",
    "      }\n",
    "    })\n",
    "  }"
   ]
  }
 ],
 "metadata": {
  "kernelspec": {
   "display_name": "Python 3 (ipykernel)",
   "language": "python",
   "name": "python3"
  },
  "language_info": {
   "codemirror_mode": {
    "name": "ipython",
    "version": 3
   },
   "file_extension": ".py",
   "mimetype": "text/x-python",
   "name": "python",
   "nbconvert_exporter": "python",
   "pygments_lexer": "ipython3",
   "version": "3.11.2"
  }
 },
 "nbformat": 4,
 "nbformat_minor": 5
}
