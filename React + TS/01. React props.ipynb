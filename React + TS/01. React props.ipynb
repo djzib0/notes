{
 "cells": [
  {
   "cell_type": "markdown",
   "id": "01fd517a",
   "metadata": {},
   "source": [
    "### React props\n",
    "\n",
    "We can add annotations to our props."
   ]
  },
  {
   "cell_type": "code",
   "execution_count": null,
   "id": "e68d8276",
   "metadata": {},
   "outputs": [],
   "source": [
    "type PostProps = {\n",
    "    key: number;\n",
    "    id: number;\n",
    "    title: string;\n",
    "    body: string\n",
    "}\n",
    "\n",
    "export default function PostCard(props: PostProps) {\n",
    "\n",
    "  return (\n",
    "    <div className='postcard'>\n",
    "      <h3 className='post__title'>{props.title}</h3>\n",
    "      <p>{props.body}</p>\n",
    "    </div>\n",
    "  )\n",
    "}\n",
    "\n",
    "## in another component\n",
    "import { useEffect, useState } from 'react';\n",
    "import PostCard from './PostCard';\n",
    "import { PostProps } from '../types/types';\n",
    "\n",
    "export default function PostList() {\n",
    "\n",
    "  const [postsData, setPostsData] = useState([]); \n",
    "\n",
    "  useEffect(() => {\n",
    "    async function getData() {\n",
    "      fetch('https://jsonplaceholder.typicode.com/posts')\n",
    "        .then(response => response.json())\n",
    "        .then(json => setPostsData(json))\n",
    "    }\n",
    "    getData();\n",
    "  }, []) \n",
    "\n",
    "  const postsArr = postsData.map((post: PostProps) => {   # we can annotate with literal type\n",
    "    return <PostCard key={post.id} id={post.id} title={post.title} body={post.body} />\n",
    "  })\n",
    "\n",
    "  return (\n",
    "    <div className='post__list'>\n",
    "      {postsArr}\n",
    "    </div>\n",
    "  )\n",
    "}"
   ]
  },
  {
   "cell_type": "raw",
   "id": "58cfd68b",
   "metadata": {},
   "source": [
    "When we want to use \"children\" prop we have to use annotation like below."
   ]
  },
  {
   "cell_type": "code",
   "execution_count": null,
   "id": "4cc836c4",
   "metadata": {},
   "outputs": [],
   "source": [
    "# Parent component\n",
    "export default function Parent({children}: {children: React.ReactNode}) { # children is annotated with React.ReactNode type\n",
    "  return (\n",
    "    <div>\n",
    "        <h1>This is the parent</h1>\n",
    "        {children}\n",
    "    </div>\n",
    "  )\n",
    "}\n",
    "\n",
    "# in another component\n",
    "function App() {\n",
    "  \n",
    "  return (\n",
    "    <>\n",
    "      <Parent>\n",
    "        <Child /> # passed components as a children\n",
    "      </Parent>\n",
    "    </>\n",
    "  )\n",
    "}"
   ]
  }
 ],
 "metadata": {
  "kernelspec": {
   "display_name": "Python 3 (ipykernel)",
   "language": "python",
   "name": "python3"
  },
  "language_info": {
   "codemirror_mode": {
    "name": "ipython",
    "version": 3
   },
   "file_extension": ".py",
   "mimetype": "text/x-python",
   "name": "python",
   "nbconvert_exporter": "python",
   "pygments_lexer": "ipython3",
   "version": "3.11.2"
  }
 },
 "nbformat": 4,
 "nbformat_minor": 5
}
