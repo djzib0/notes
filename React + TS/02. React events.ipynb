{
 "cells": [
  {
   "cell_type": "markdown",
   "id": "74fda52f",
   "metadata": {},
   "source": [
    "### React events\n",
    "\n",
    "When we want to handle ann event after we press the button or fill the form we use the code like below:"
   ]
  },
  {
   "cell_type": "code",
   "execution_count": null,
   "id": "331195bf",
   "metadata": {},
   "outputs": [],
   "source": [
    "# handling button clicks\n",
    "const handleClick = (e: React.MouseEvent<HTMLButtonElement>) => {\n",
    "    e.preventDefault();\n",
    "    console.log(\"The button has been clicked.\")\n",
    "}\n",
    "\n",
    "# handling input changes\n",
    "const handleChange - (e: React.ChangeEvent<HTMLInputElement>) => {\n",
    "    console.log(e.target.value)\n",
    "    # do sth with the input value\n",
    "}"
   ]
  },
  {
   "cell_type": "markdown",
   "id": "61bd6742",
   "metadata": {},
   "source": [
    "When we want to create a handling function with an additional parameters (for example to delete a specific post from the list), \n",
    "we have to use the code as below:"
   ]
  },
  {
   "cell_type": "code",
   "execution_count": null,
   "id": "075f3d7b",
   "metadata": {},
   "outputs": [],
   "source": [
    "const deletePost = (e: ReactMouseEvent<HTMLButtonElement>, postId: number) => {\n",
    "    e.preventDefault();\n",
    "    console.log(\"removing Post with id \" + postId)\n",
    "}\n",
    "\n",
    "## in jsx we have to \n",
    "\n",
    "<div>\n",
    "    <button onClick={(e) => deletePost(e, post.id)}>Delete post</button>\n",
    "</div>"
   ]
  }
 ],
 "metadata": {
  "kernelspec": {
   "display_name": "Python 3 (ipykernel)",
   "language": "python",
   "name": "python3"
  },
  "language_info": {
   "codemirror_mode": {
    "name": "ipython",
    "version": 3
   },
   "file_extension": ".py",
   "mimetype": "text/x-python",
   "name": "python",
   "nbconvert_exporter": "python",
   "pygments_lexer": "ipython3",
   "version": "3.11.2"
  }
 },
 "nbformat": 4,
 "nbformat_minor": 5
}
