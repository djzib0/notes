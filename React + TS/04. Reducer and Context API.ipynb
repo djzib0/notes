{
 "cells": [
  {
   "cell_type": "markdown",
   "id": "bc2cfc2a",
   "metadata": {},
   "source": [
    "### useReducer\n"
   ]
  },
  {
   "cell_type": "code",
   "execution_count": null,
   "id": "4ab7ca56",
   "metadata": {},
   "outputs": [],
   "source": [
    "# declare the types we want to use in reducer\n",
    "type StateType = {\n",
    "    theme: string;\n",
    "    fontSize: number;\n",
    "}\n",
    "\n",
    "type ActionType = {\n",
    "    type: \"CHANGE_THEME\" | \"CHANGE_FONTSIZE\";\n",
    "    payload: number;\n",
    "}\n",
    "\n",
    "# constant object\n",
    "const INITIAL_STATE = {\n",
    "    theme: \"dark\",\n",
    "    fontSize: 16\n",
    "}\n",
    "\n",
    "const reducer = (state: StateType, action: ActionType) => {\n",
    "    switch(action.type) {\n",
    "        case \"CHANGE_THEME\":\n",
    "            return {\n",
    "                ...state,\n",
    "                theme: 'dark' ? 'light' : 'dark'\n",
    "            }\n",
    "        case \"CHANGE_FONTSIZE\":\n",
    "            return {\n",
    "                ...state,\n",
    "                fontSize: action.payload\n",
    "            }\n",
    "    }\n",
    "}"
   ]
  },
  {
   "cell_type": "markdown",
   "id": "deb95774",
   "metadata": {},
   "source": [
    "Create and export ThemeContext"
   ]
  },
  {
   "cell_type": "code",
   "execution_count": null,
   "id": "6bee9b1c",
   "metadata": {},
   "outputs": [],
   "source": [
    "export const ThemeContext = createContext"
   ]
  }
 ],
 "metadata": {
  "kernelspec": {
   "display_name": "Python 3 (ipykernel)",
   "language": "python",
   "name": "python3"
  },
  "language_info": {
   "codemirror_mode": {
    "name": "ipython",
    "version": 3
   },
   "file_extension": ".py",
   "mimetype": "text/x-python",
   "name": "python",
   "nbconvert_exporter": "python",
   "pygments_lexer": "ipython3",
   "version": "3.11.2"
  }
 },
 "nbformat": 4,
 "nbformat_minor": 5
}
