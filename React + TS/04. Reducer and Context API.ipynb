{
 "cells": [
  {
   "cell_type": "markdown",
   "id": "bc2cfc2a",
   "metadata": {},
   "source": [
    "### useReducer\n",
    "\n",
    "Create a file named \"ThemeContext.tsx\", where we first create a reducer."
   ]
  },
  {
   "cell_type": "code",
   "execution_count": null,
   "id": "4ab7ca56",
   "metadata": {},
   "outputs": [],
   "source": [
    "# declare the types we want to use in reducer\n",
    "type StateType = {\n",
    "    theme: string;\n",
    "    fontSize: number;\n",
    "}\n",
    "\n",
    "type ActionType = {\n",
    "    type: \"CHANGE_THEME\" | \"CHANGE_FONTSIZE\";\n",
    "    payload: number;\n",
    "}\n",
    "\n",
    "# constant object\n",
    "const INITIAL_STATE = {\n",
    "    theme: \"dark\",\n",
    "    fontSize: 16\n",
    "}\n",
    "\n",
    "# function reducer accepts two parameters, current state, and action, where action types will change the state\n",
    "const reducer = (state: StateType, action: ActionType) => {\n",
    "    switch (action.type) {\n",
    "        # first case is 'CHANGE_THEME', where we return whole state object, but we change only theme from dark to light or reverse\n",
    "        case (\"CHANGE_THEME\"):\n",
    "            return {\n",
    "                ...state,\n",
    "                theme: state.theme === \"dark\" ? \"light\" : \"dark\"\n",
    "            }\n",
    "        # second case is changing fontsize based on the given payload\n",
    "        case (\"CHANGE_FONTSIZE\"):\n",
    "            return {\n",
    "                ...state,\n",
    "                fontSize: action.payload\n",
    "            }\n",
    "        default:\n",
    "            return state;\n",
    "    }\n",
    "}"
   ]
  },
  {
   "cell_type": "markdown",
   "id": "deb95774",
   "metadata": {},
   "source": [
    "To consume the reducer we have to use context API, so we first must create and export ThemeContext variable.\n",
    "In the same file we put the below code."
   ]
  },
  {
   "cell_type": "code",
   "execution_count": null,
   "id": "6bee9b1c",
   "metadata": {},
   "outputs": [],
   "source": [
    "# ThemeContext has a value of createContext function where we pass the state, and dispatch function which help to reach\n",
    "# a values in state.\n",
    "export const ThemeContext = createContext({state: INITIAL_STATE, dispatch: () => {}})"
   ]
  },
  {
   "cell_type": "markdown",
   "id": "4d0f680b",
   "metadata": {},
   "source": [
    "Now we have to add generics to createContext"
   ]
  },
  {
   "cell_type": "code",
   "execution_count": null,
   "id": "20e552c7",
   "metadata": {},
   "outputs": [],
   "source": [
    "export const ThemeContext = createContext<{state: StateType, dispatch: React.Dispatch<ActionType>}>({\n",
    "    state: INITIAL_STATE, dispatch: () => {}\n",
    "})\n",
    "\n",
    "# React.Dispatch accepts only ActionTypes"
   ]
  },
  {
   "cell_type": "markdown",
   "id": "7397242c",
   "metadata": {},
   "source": [
    "Next step is to create a provider in which we wrapp our application."
   ]
  },
  {
   "cell_type": "code",
   "execution_count": null,
   "id": "fed49b8d",
   "metadata": {},
   "outputs": [],
   "source": [
    "export const ThemeProvider = ({children}: {children: React.ReactNode}) => {\n",
    "    # utilize useReducer\n",
    "    const [state, dispatch] = useReducer(reducer, INITIAL_STATE)\n",
    "    \n",
    "    return (\n",
    "        <ThemeContext.Provider value={{state, dispatch}}>\n",
    "            {children}\n",
    "        </ThemeContext.Provider>\n",
    "    )\n",
    "}"
   ]
  },
  {
   "cell_type": "markdown",
   "id": "4092fe11",
   "metadata": {},
   "source": [
    "In the app file we can wrap the application in newly created ThemeProvider."
   ]
  },
  {
   "cell_type": "code",
   "execution_count": null,
   "id": "16027a50",
   "metadata": {},
   "outputs": [],
   "source": [
    "function App() {\n",
    "  \n",
    "  return (\n",
    "    <>\n",
    "      <ThemeProvider>\n",
    "        # rest of the app components\n",
    "      </ThemeProvider>\n",
    "    </>\n",
    "  )\n",
    "}\n",
    "\n",
    "export default App"
   ]
  },
  {
   "cell_type": "markdown",
   "id": "a30a4673",
   "metadata": {},
   "source": [
    "In the component, in which we want to use the provided context we have to use to code like below."
   ]
  },
  {
   "cell_type": "code",
   "execution_count": null,
   "id": "826ff3bc",
   "metadata": {},
   "outputs": [],
   "source": [
    "export default function UseContextExample() {\n",
    "\n",
    "  const {state, dispatch} = useContext(ThemeContext)\n",
    "\n",
    "  console.log(state)\n",
    "\n",
    "  return (\n",
    "    <div>\n",
    "      <button onClick={() => dispatch({type: \"CHANGE_THEME\"})}>Change Theme</button> \n",
    "      # above line will show an error because property payload is missing and the reducer expects the Action Type which requires\n",
    "      # payload\n",
    "      <button onClick={() => dispatch({type: \"CHANGE_FONTSIZE\", payload: 20})}>Change Theme</button>\n",
    "    </div>\n",
    "  )\n",
    "}\n"
   ]
  },
  {
   "cell_type": "code",
   "execution_count": null,
   "id": "17cffda0",
   "metadata": {},
   "outputs": [],
   "source": [
    "## go back to ThemeContext.tsx and create new type aliases\n",
    "\n",
    "type ColorActionType = {\n",
    "    type: \"CHANGE_THEME\"\n",
    "}\n",
    "\n",
    "type SizeActionType = {\n",
    "    type: \"CHANGE_FONTSIZE\";\n",
    "    payload: number\n",
    "}\n",
    "\n",
    "# modify the ActionType type\n",
    "type ActionType = ColorActionType | SizeActionType"
   ]
  }
 ],
 "metadata": {
  "kernelspec": {
   "display_name": "Python 3 (ipykernel)",
   "language": "python",
   "name": "python3"
  },
  "language_info": {
   "codemirror_mode": {
    "name": "ipython",
    "version": 3
   },
   "file_extension": ".py",
   "mimetype": "text/x-python",
   "name": "python",
   "nbconvert_exporter": "python",
   "pygments_lexer": "ipython3",
   "version": "3.11.2"
  }
 },
 "nbformat": 4,
 "nbformat_minor": 5
}
