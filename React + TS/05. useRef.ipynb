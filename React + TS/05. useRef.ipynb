{
 "cells": [
  {
   "cell_type": "markdown",
   "id": "f7392fdf",
   "metadata": {},
   "source": [
    "### useRef\n",
    "\n",
    "We can use TypeScript with useRef hook. The example code below."
   ]
  },
  {
   "cell_type": "code",
   "execution_count": null,
   "id": "e7ed2b58",
   "metadata": {},
   "outputs": [],
   "source": [
    "export default function UseRefExample() {\n",
    "    \n",
    "    const inputRef = useRef<HTMLInputElement>(null) # use generic with HTMLInputElement type\n",
    "    const usernameInputRef = useRef<HTMLInputElement>(null) # use generic with HTMLInputElement type\n",
    "    \n",
    "    useEffect(() => {\n",
    "        inputRef.current?.focus() # set focus on the first input field\n",
    "    }, [])\n",
    "    \n",
    "    const handleClick = () => {\n",
    "        console.log(\"username is: \" + usernameInputRef.current?.value)\n",
    "    }\n",
    "    \n",
    "    return (\n",
    "        <div>\n",
    "            <input ref={inputRef} type='text' placeholder='focus here' />\n",
    "            <input ref={usernameInputRef} type='text' placeholder='username' />\n",
    "            <button onClick={handleClick}>Send</button>\n",
    "        </div>\n",
    "    )\n",
    "}"
   ]
  }
 ],
 "metadata": {
  "kernelspec": {
   "display_name": "Python 3 (ipykernel)",
   "language": "python",
   "name": "python3"
  },
  "language_info": {
   "codemirror_mode": {
    "name": "ipython",
    "version": 3
   },
   "file_extension": ".py",
   "mimetype": "text/x-python",
   "name": "python",
   "nbconvert_exporter": "python",
   "pygments_lexer": "ipython3",
   "version": "3.11.2"
  }
 },
 "nbformat": 4,
 "nbformat_minor": 5
}
