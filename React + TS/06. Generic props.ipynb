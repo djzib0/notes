{
 "cells": [
  {
   "cell_type": "markdown",
   "id": "279675a1",
   "metadata": {},
   "source": [
    "###  Generic props\n",
    "\n",
    "First create child component - Item.tsx"
   ]
  },
  {
   "cell_type": "code",
   "execution_count": null,
   "id": "331c9c96",
   "metadata": {},
   "outputs": [],
   "source": [
    "# declare type for props\n",
    "type ItemProps<T> = {\n",
    "    id: number;\n",
    "    title: string;\n",
    "    extra: T[]\n",
    "}\n",
    "\n",
    "export default function Item(props: ItemProps<object>) {\n",
    "    \n",
    "    return (\n",
    "        <div>\n",
    "            Item\n",
    "        </div>\n",
    "    )\n",
    "}"
   ]
  },
  {
   "cell_type": "markdown",
   "id": "cb3532e4",
   "metadata": {},
   "source": [
    "We can make it more specific by adding new type and pass it as generic for ItemProps."
   ]
  },
  {
   "cell_type": "code",
   "execution_count": null,
   "id": "465d095b",
   "metadata": {},
   "outputs": [],
   "source": [
    "# declare type for props\n",
    "type ItemProps<T> = {\n",
    "    id: number;\n",
    "    title: string;\n",
    "    extra: T[]\n",
    "}\n",
    "\n",
    "# type User\n",
    "type User = {\n",
    "    firstName: string;\n",
    "    lastName: string;\n",
    "}\n",
    "\n",
    "export default function Item(props: ItemProps<User>) { # set User instead of object as a generic type\n",
    "    \n",
    "    return (\n",
    "        <div>\n",
    "            Item\n",
    "        </div>\n",
    "    )\n",
    "}"
   ]
  },
  {
   "cell_type": "markdown",
   "id": "9d97ed60",
   "metadata": {},
   "source": [
    "In parent component we can utilize the Item component."
   ]
  },
  {
   "cell_type": "code",
   "execution_count": null,
   "id": "031e9168",
   "metadata": {},
   "outputs": [],
   "source": [
    "import Item from './Item'\n",
    "\n",
    "export default function ItemList() {\n",
    "    <div>\n",
    "        # we have to pass all props defined in type ItemProps, otherwise TS will show an error.\n",
    "        <Item id={1} title={'item title'} extra={[{firstName: \"John\", lastName: \"Doe\"}]}/> \n",
    "        # extra accepts only an array of objects as declared in type ItemProps\n",
    "    </div>\n",
    "}"
   ]
  },
  {
   "cell_type": "markdown",
   "id": "57889908",
   "metadata": {},
   "source": [
    "We can now access User properties to create an array. "
   ]
  },
  {
   "cell_type": "code",
   "execution_count": null,
   "id": "353c1221",
   "metadata": {},
   "outputs": [],
   "source": [
    "# declare type for props\n",
    "type ItemProps<T> = {\n",
    "    id: number;\n",
    "    title: string;\n",
    "    extra: T[]\n",
    "}\n",
    "\n",
    "# type User\n",
    "type User = {\n",
    "    firstName: string;\n",
    "    lastName: string;\n",
    "}\n",
    "\n",
    "export default function Item(props: ItemProps<User>) { # set User instead of object as a generic type\n",
    "    \n",
    "    const {id, title, extra} = props;\n",
    "    \n",
    "    const userArr = extra?.map(user => {\n",
    "        return {\n",
    "            <div>\n",
    "                <p>{user.firstName} {user.lastName}</p>\n",
    "            </div>\n",
    "        }\n",
    "    })\n",
    "    \n",
    "    \n",
    "    return (\n",
    "        <div>\n",
    "            Item\n",
    "        </div>\n",
    "    )\n",
    "}"
   ]
  }
 ],
 "metadata": {
  "kernelspec": {
   "display_name": "Python 3 (ipykernel)",
   "language": "python",
   "name": "python3"
  },
  "language_info": {
   "codemirror_mode": {
    "name": "ipython",
    "version": 3
   },
   "file_extension": ".py",
   "mimetype": "text/x-python",
   "name": "python",
   "nbconvert_exporter": "python",
   "pygments_lexer": "ipython3",
   "version": "3.11.2"
  }
 },
 "nbformat": 4,
 "nbformat_minor": 5
}
