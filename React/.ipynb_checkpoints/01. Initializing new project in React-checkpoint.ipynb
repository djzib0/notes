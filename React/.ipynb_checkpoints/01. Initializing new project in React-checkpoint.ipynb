{
 "cells": [
  {
   "cell_type": "markdown",
   "id": "24acc330",
   "metadata": {},
   "source": [
    "### Inicjalizacja nowego projektu\n",
    "\n",
    "Aby stworzyć nowy projekt w React w konsoli wpisujemy"
   ]
  },
  {
   "cell_type": "code",
   "execution_count": null,
   "id": "c6013860",
   "metadata": {},
   "outputs": [],
   "source": [
    "npx create-react-app app-name"
   ]
  },
  {
   "cell_type": "markdown",
   "id": "33a99438",
   "metadata": {},
   "source": [
    "Następnie postępujemy wg wyświetlanej instrukcji"
   ]
  },
  {
   "cell_type": "code",
   "execution_count": null,
   "id": "0970a628",
   "metadata": {},
   "outputs": [],
   "source": [
    "cd app_name_folder"
   ]
  },
  {
   "cell_type": "markdown",
   "id": "8c014bbe",
   "metadata": {},
   "source": [
    "I aby uruchomić aplikację wpisujemy"
   ]
  },
  {
   "cell_type": "code",
   "execution_count": null,
   "id": "61682406",
   "metadata": {},
   "outputs": [],
   "source": [
    "npm start"
   ]
  },
  {
   "cell_type": "markdown",
   "id": "a5835660",
   "metadata": {},
   "source": [
    "#### Inicjalizacja projektu Vite (veet) wygląda podobnie, z tym, że stosujemy inne komendy."
   ]
  },
  {
   "cell_type": "code",
   "execution_count": null,
   "id": "c39b4bc0",
   "metadata": {},
   "outputs": [],
   "source": [
    "npm create vite@latest\n",
    "\n",
    "cd project-name\n",
    "\n",
    "npm install\n",
    "\n",
    "npm run dev # starting project"
   ]
  }
 ],
 "metadata": {
  "kernelspec": {
   "display_name": "Python 3 (ipykernel)",
   "language": "python",
   "name": "python3"
  },
  "language_info": {
   "codemirror_mode": {
    "name": "ipython",
    "version": 3
   },
   "file_extension": ".py",
   "mimetype": "text/x-python",
   "name": "python",
   "nbconvert_exporter": "python",
   "pygments_lexer": "ipython3",
   "version": "3.11.2"
  }
 },
 "nbformat": 4,
 "nbformat_minor": 5
}
