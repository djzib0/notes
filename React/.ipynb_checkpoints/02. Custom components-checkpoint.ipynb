{
 "cells": [
  {
   "cell_type": "markdown",
   "id": "c6fc2c79",
   "metadata": {},
   "source": [
    "### Tworzenie własnych komponentów\n",
    "\n",
    "Własne komponenty tworzymy jako funckje zwracające kod JSX-a.\n",
    "Nazwy tych funkcji, w przeciewieństwie do standardowych funkcji JS-a, rozpoczynają się od wielkiej litery."
   ]
  },
  {
   "cell_type": "code",
   "execution_count": null,
   "id": "2c38e0f9",
   "metadata": {},
   "outputs": [],
   "source": [
    "# file name ExampleComponent.jsx (or *.js)\n",
    "\n",
    "import React from 'react'\n",
    "\n",
    "function ExampleComponent() {\n",
    "  return (\n",
    "    <div>ExampleComponent</div>\n",
    "  )\n",
    "}\n",
    "\n",
    "export default ExampleComponent"
   ]
  },
  {
   "cell_type": "markdown",
   "id": "dfbe9e9a",
   "metadata": {},
   "source": [
    "Funkcjom tym możemy przekazywać argumenty w momencie kiedy chcemu użyć danego komponentu. Przykład poniżej."
   ]
  },
  {
   "cell_type": "code",
   "execution_count": null,
   "id": "b7d2c38b",
   "metadata": {},
   "outputs": [],
   "source": [
    "# in file with App\n",
    "\n",
    "...\n",
    "<ExampleComponent \n",
    "    firstName = \"Piotr\"     ## passing argument \"Piotr\" to parameter firstName\n",
    "    lastName = \"Sabatura\"   ## passing argument \"Sabatura to parameter lastName\n",
    "    age = {40}              ## passsing argument 40 to parameter age\n",
    "/>\n",
    "..."
   ]
  },
  {
   "cell_type": "code",
   "execution_count": null,
   "id": "f2e915c6",
   "metadata": {},
   "outputs": [],
   "source": [
    "# in ExampleComponent file\n",
    "import React from 'react'\n",
    "\n",
    "function ExampleComponent(props) {\n",
    "  return (\n",
    "    <div>\n",
    "      <p>His first name is {props.firstName}</p>\n",
    "      <p>His last name is {props.lastName}</p>\n",
    "      <p>His age is {props.age}</p>\n",
    "    </div>\n",
    "  )\n",
    "}\n",
    "\n",
    "export default ExampleComponent"
   ]
  },
  {
   "cell_type": "markdown",
   "id": "638ad0da",
   "metadata": {},
   "source": [
    "Możemy destrukturyzować parametr props aby skrócić ilość pisanego kodu. Przykład poniżej."
   ]
  },
  {
   "cell_type": "code",
   "execution_count": null,
   "id": "d738412b",
   "metadata": {},
   "outputs": [],
   "source": [
    "# in ExampleComponent file\n",
    "import React from 'react'\n",
    "\n",
    "function ExampleComponent(props) {\n",
    "    \n",
    "  const {firstName, lastName, age} = props ## destrucurizing props\n",
    "  return (\n",
    "    <div>\n",
    "      <p>His first name is {firstName}</p>  ## we can now use firstName instead of props.firstName\n",
    "      <p>His last name is {lastName}</p>\n",
    "      <p>His age is {age}</p>\n",
    "    </div>\n",
    "  )\n",
    "}\n",
    "\n",
    "export default ExampleComponent"
   ]
  },
  {
   "cell_type": "markdown",
   "id": "fce94995",
   "metadata": {},
   "source": [
    "Możemy mapować obiekty do powtarzających się komponentów. Przykładowo mamy listę osób, oraz komponent Person, służący do wyświetlania informacji o użytkowniku."
   ]
  },
  {
   "cell_type": "code",
   "execution_count": null,
   "id": "81328520",
   "metadata": {},
   "outputs": [],
   "source": [
    "import React from 'react'\n",
    "\n",
    "function Person(props) {\n",
    "    const {firstName, lastName, age} = props\n",
    "    \n",
    "    return (\n",
    "        <div>\n",
    "            <p>First name: {firstName}</p>\n",
    "            <p>Last name: {lastName}</p>\n",
    "            <p>age: {age}</p>\n",
    "    )\n",
    "}\n",
    "\n",
    "## in file when we have data from server\n",
    "...\n",
    "\n",
    "function Persons() {\n",
    "    \n",
    "    #sample data\n",
    "    const data = [\n",
    "        {\n",
    "            id: 1,\n",
    "            firstName: \"Piotr\",\n",
    "            lastName: \"Sabatura\",\n",
    "            age: 40\n",
    "        },\n",
    "        {\n",
    "            id: 2,\n",
    "            firstName:\"Jan\",\n",
    "            lastName: \"Nowak\",\n",
    "            age: 35\n",
    "        },\n",
    "    ]\n",
    "    \n",
    "    ## mapping data\n",
    "    const personDataArr = data.map(person => {\n",
    "        return <Person key={person.id} firstName={person.firstName} lastName={person.lastName} age={person.age} />\n",
    "    })\n",
    "}"
   ]
  },
  {
   "cell_type": "markdown",
   "id": "b272a08c",
   "metadata": {},
   "source": [
    "Możemy przekazywać całe obiekty jako parametr komponentu."
   ]
  },
  {
   "cell_type": "code",
   "execution_count": null,
   "id": "09f130d5",
   "metadata": {},
   "outputs": [],
   "source": [
    "## mapping data\n",
    "    const personDataArr = data.map(person => {\n",
    "        return <Person key={person.id} person={person} />\n",
    "    })\n",
    "\n",
    "## we can use it in component like below\n",
    "import React from 'react'\n",
    "\n",
    "function Person(props) {\n",
    "    const {person} = props\n",
    "    const {firstName, lastName, age} = person\n",
    "    \n",
    "    return (\n",
    "        <div>\n",
    "            <p>First name: {firstName}</p>\n",
    "            <p>Last name: {lastName}</p>\n",
    "            <p>age: {age}</p>\n",
    "    )\n",
    "}"
   ]
  }
 ],
 "metadata": {
  "kernelspec": {
   "display_name": "Python 3 (ipykernel)",
   "language": "python",
   "name": "python3"
  },
  "language_info": {
   "codemirror_mode": {
    "name": "ipython",
    "version": 3
   },
   "file_extension": ".py",
   "mimetype": "text/x-python",
   "name": "python",
   "nbconvert_exporter": "python",
   "pygments_lexer": "ipython3",
   "version": "3.11.2"
  }
 },
 "nbformat": 4,
 "nbformat_minor": 5
}
