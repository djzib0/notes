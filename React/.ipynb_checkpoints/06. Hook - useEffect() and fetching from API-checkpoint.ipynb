{
 "cells": [
  {
   "cell_type": "markdown",
   "id": "32801cef",
   "metadata": {},
   "source": [
    "### useEffect()\n",
    "\n",
    "Użycie hook-a useEffect() pozwala na wykonanie jakiejś czynności po wyrenderowaniu komponentu.\n",
    "\n",
    "useEffect() posiada dwa parametry, jeden wymagany, drugi opcjonalny. Pierwszym jest funkcja, która jest obowiązkowa. Drugi parametr to tablica, w której możemy umieścić zależności. "
   ]
  },
  {
   "cell_type": "code",
   "execution_count": null,
   "id": "31846428",
   "metadata": {},
   "outputs": [],
   "source": [
    "import React, {useEffect} from \"react\"\n",
    "\n",
    "export default function App() {\n",
    "    const [starWarsData, setStarWarsData] = React.useState({})\n",
    "    \n",
    "    console.log(\"Component rendered\")\n",
    "    \n",
    "    useEffect(function() {\n",
    "        fetch(\"https://swapi.dev/api/people/1\")\n",
    "            .then(res => res.json())\n",
    "            .then(data => console.log(data))\n",
    "    }, [count]) ## every time state count changes, useEffect executes and tells React to re-run the effect\n",
    "    ## dependencies array may be empty, and it will execute useEffect only one after render of component\n",
    "    \n",
    "    return (\n",
    "        <div>\n",
    "            <pre>{JSON.stringify(starWarsData, null, 2)}</pre>\n",
    "        </div>\n",
    "    )\n",
    "}"
   ]
  },
  {
   "cell_type": "markdown",
   "id": "1b35196b",
   "metadata": {},
   "source": [
    "Przy \"fetchowaniu\" danych z API najlepiej użyć asynchronicznej funkcji i wywołać ją w hooku useEffect()."
   ]
  },
  {
   "cell_type": "code",
   "execution_count": null,
   "id": "90084dee",
   "metadata": {},
   "outputs": [],
   "source": [
    "import React from \"react\"\n",
    "\n",
    "export default function Meme() {\n",
    "    const [data, setData] = React.useState([])\n",
    "    \n",
    "    \n",
    "    ## useEffect takes a function as its parameter. If that function\n",
    "    ## returns something, it needs to be a cleanup function. Otherwise,\n",
    "    ## it should return nothing. If we make it an async function, it\n",
    "    ## automatically retuns a promise instead of a function or nothing.\n",
    "    ## Therefore, if you want to use async operations inside of useEffect,\n",
    "    ## you need to define the function separately inside of the callback\n",
    "    ## function, as seen below:\n",
    "    \n",
    "    React.useEffect(() => {\n",
    "        async function getMemes() {\n",
    "            const res = await fetch(\"https://api.example.com/1\")\n",
    "            const data = await res.json()\n",
    "            setAllMemes(data.data.memes) ## function doesn't return anything therefore clean-up function is not required\n",
    "        }\n",
    "        getMemes()\n",
    "    }, [])\n",
    "    \n",
    "    ..."
   ]
  },
  {
   "cell_type": "markdown",
   "id": "da5fdb13",
   "metadata": {},
   "source": [
    "Przykładowe użycie useEffect oraz funkcji \"sprzątającej\" w komponencie wyświetlającym szerokość okna.\n",
    "\n",
    "Załóżmy, że poniższy komponent może być ukryty po kliknięciu w przycisk w innym komponencie rodzicu. Wówczas w tle pomimo tego, że komponent WindowTracker nie jest widoczny, nadal nasłuchuje i zmienia własny stan. Taka sytuacja może doprowadzić do wycieku pamięci. \n",
    "\n",
    "Aby zapobiec takiej sytuacji należy zastosować clean-up function w hook-u useEffect()."
   ]
  },
  {
   "cell_type": "code",
   "execution_count": null,
   "id": "ceff7c1b",
   "metadata": {},
   "outputs": [],
   "source": [
    "import React from \"react\"\n",
    "\n",
    "export default function WindowTracker() {\n",
    "    \n",
    "    const [windowWidth, setWindowWidth] = React.useState(window.innerWidth)\n",
    "    \n",
    "    React.useEffect(() => {\n",
    "        ## create function which will change the state\n",
    "        function watchWidth() {\n",
    "            console.log(\"Setting up...\")\n",
    "            setWindowWidth(window.innerWidth)\n",
    "        }\n",
    "        \n",
    "        ## add event listener which run the above function when the window is being resized\n",
    "        window.addEventListener(\"resize\", watchWidth)\n",
    "        \n",
    "        ## clean-up function - when this component is dismounted useEffect returns below function which removes event listener\n",
    "        return function() {\n",
    "            console.log(\"Cleaning up...\")\n",
    "            window.removeEventListener(\"resize\", watchWidth)\n",
    "        }\n",
    "    }, [])\n",
    "    \n",
    "    return (\n",
    "        <h1>Window width: {windowWidth}</h1>\n",
    "    )\n",
    "}"
   ]
  }
 ],
 "metadata": {
  "kernelspec": {
   "display_name": "Python 3 (ipykernel)",
   "language": "python",
   "name": "python3"
  },
  "language_info": {
   "codemirror_mode": {
    "name": "ipython",
    "version": 3
   },
   "file_extension": ".py",
   "mimetype": "text/x-python",
   "name": "python",
   "nbconvert_exporter": "python",
   "pygments_lexer": "ipython3",
   "version": "3.11.2"
  }
 },
 "nbformat": 4,
 "nbformat_minor": 5
}
