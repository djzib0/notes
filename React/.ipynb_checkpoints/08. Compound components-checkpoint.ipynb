{
 "cells": [
  {
   "cell_type": "markdown",
   "id": "6c706378",
   "metadata": {},
   "source": [
    "### Compound components\n",
    "\n",
    "Compound components jest to wzorzec projektowy, który pozwala na korzystanie z tego samego stanu przez wiele komponentów, bez konieczności stosowanie \"drilling props\".\n",
    "\n",
    "Najlepiej to wytłumaczyć na poniższym przykładzie.\n",
    "Załóżmy, że mamy komponenty Menu, MenuButton, MenuDropdown, Button które chcemy wykorzystać w naszej aplikacji (App.js)"
   ]
  },
  {
   "cell_type": "code",
   "execution_count": null,
   "id": "25d0b014",
   "metadata": {},
   "outputs": [],
   "source": [
    "# App.js\n",
    "\n",
    "import Menu from './Menu/Menu';\n",
    "import MenuButton from './Menu/MenuButton';\n",
    "import MenuDropdown from './Menu/MenuDropdown';\n",
    "\n",
    "function App() {\n",
    "  return (\n",
    "      <Menu> ## component with closing tag\n",
    "        <MenuButton buttonText=\"Sports\"/> # we pass related prop to MenuButton component\n",
    "        <MenuDropdown items={[\"Tennis\", \"Pickleball\", \"Racquetball\", \"Squash\"]}/> # we pass related props to MenuDropdown\n",
    "      </Menu> ## component's closing tag\n",
    "  )\n",
    "}\n",
    "\n",
    "export default App;"
   ]
  },
  {
   "cell_type": "code",
   "execution_count": null,
   "id": "e53b7fa7",
   "metadata": {},
   "outputs": [],
   "source": [
    "# Menu.js\n",
    "import React from \"react\"\n",
    "import MenuButton from \"./MenuButton\"\n",
    "import MenuDropdown from \"./MenuDropdown\"\n",
    "\n",
    "export default function Menu({ children }) { # we only take children as a props (in this case only, it may take more props!)\n",
    "    const [open, setOpen] = React.useState(true)\n",
    "    \n",
    "    return (\n",
    "        <div className=\"menu\">\n",
    "            {children} # we use the received props.children to render them\n",
    "        </div>\n",
    "    )\n",
    "}"
   ]
  },
  {
   "cell_type": "code",
   "execution_count": null,
   "id": "02cc0b90",
   "metadata": {},
   "outputs": [],
   "source": [
    "# MenuButton.js\n",
    "import React from \"react\"\n",
    "import Button from \"../Button/Button\" ## we import another component\n",
    "\n",
    "export default function MenuButton({buttonText}) { ## we receive prop buttonText from App.js\n",
    "    return (\n",
    "        <Button>{buttonText}</Button> ## we pass prop to another component\n",
    "    )\n",
    "}"
   ]
  },
  {
   "cell_type": "code",
   "execution_count": null,
   "id": "2d26c829",
   "metadata": {},
   "outputs": [],
   "source": [
    "# Button.js\n",
    "import React from \"react\"\n",
    "\n",
    "## this component accepts all mentioned props plus ...rest\n",
    "## in this case Button receives only children\n",
    "export default function Button({ children, className, size, variant, ...rest }) { \n",
    "\n",
    "    return (\n",
    "        <button className={allClasses} {...rest}>\n",
    "            {children}\n",
    "        </button>\n",
    "    )\n",
    "}"
   ]
  },
  {
   "cell_type": "code",
   "execution_count": null,
   "id": "c642675d",
   "metadata": {},
   "outputs": [],
   "source": [
    "# MenuDropdown.js\n",
    "import React from \"react\"\n",
    "\n",
    "export default function MenuDropdown({ items }) { ## we receive prop items from App.js\n",
    "    return (\n",
    "        <div className=\"menu-dropdown\">\n",
    "            {items.map(\n",
    "                item => (\n",
    "                    <div\n",
    "                        className=\"menu-item\"\n",
    "                        key={item}\n",
    "                    >\n",
    "                        {item} # we use the received prop to render it on the page\n",
    "                    </div>\n",
    "                )\n",
    "            )}\n",
    "        </div>\n",
    "    )\n",
    "}"
   ]
  }
 ],
 "metadata": {
  "kernelspec": {
   "display_name": "Python 3 (ipykernel)",
   "language": "python",
   "name": "python3"
  },
  "language_info": {
   "codemirror_mode": {
    "name": "ipython",
    "version": 3
   },
   "file_extension": ".py",
   "mimetype": "text/x-python",
   "name": "python",
   "nbconvert_exporter": "python",
   "pygments_lexer": "ipython3",
   "version": "3.11.2"
  }
 },
 "nbformat": 4,
 "nbformat_minor": 5
}
