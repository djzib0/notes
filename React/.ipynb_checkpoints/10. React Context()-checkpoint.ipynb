{
 "cells": [
  {
   "cell_type": "markdown",
   "id": "97d50681",
   "metadata": {},
   "source": [
    "### React Context()\n",
    "\n",
    "Istnieje lepszy sposób na przekazywanie wartości do poszczególnych komponentów aplikacji, bez zbędnego \"prop drilling-u\", a jest nim użycie Context-u.\n",
    "\n",
    "Inicjalizujemy nowy Context w aplikacji jak niżej:"
   ]
  },
  {
   "cell_type": "code",
   "execution_count": null,
   "id": "9b495340",
   "metadata": {},
   "outputs": [],
   "source": [
    "import React from \"react\"\n",
    "import Header from \"./Header\"\n",
    "import Button from \"./Button\"\n",
    "\n",
    "const ThemeContext = React.createContext() ## create new context\n",
    "\n",
    "export default function App() {\n",
    "    const [themeMode, setThemeMode] = useState(\"light\")  # state we want to pass to subchild components\n",
    "    \n",
    "    function toggleTheme() {\n",
    "        setThemeMode(prevMode => prevMode === \"light\" ? \"dark\" : \"light\")\n",
    "    }\n",
    "    \n",
    "    \n",
    "    return (\n",
    "        ## we use Provider syntax and we wrap other components between the tags\n",
    "        ## and we can now use the passed values (in this case state themeMode and function toggleMode) in every child component \n",
    "        <ThemeContext.Provider value={{themeMode, toggleTheme}}>  \n",
    "            <div className=\"container dark-theme\">\n",
    "                <Header />\n",
    "                <Button />\n",
    "            </div>\n",
    "        </ThemeContext.Provider>\n",
    "    )\n",
    "}\n",
    "\n",
    "export { ThemeContext } ## export ThemeContext"
   ]
  },
  {
   "cell_type": "markdown",
   "id": "7fe2b67f",
   "metadata": {},
   "source": [
    "W komponencie, w którym chcemy użyć przekazaną wartość umieszczamy kod jak niżej"
   ]
  },
  {
   "cell_type": "code",
   "execution_count": null,
   "id": "c20cae78",
   "metadata": {},
   "outputs": [],
   "source": [
    "import React from \"react\"\n",
    "\n",
    "## !!!!!!!!!!!!! Important - it has to be in curly braces !!!! because it's not a default export from App\n",
    "import { ThemeContext } from \"./App\"  ## import ThemeContext \n",
    "\n",
    "export default function Header() {\n",
    "    const value = React.useContext(ThemeContext) ## create new variable with the received context value\n",
    "    ## we can destructurize it like below\n",
    "    const {themeMode} = React.useContext(ThemeContext) ## because we pass themeMode from App component\n",
    "    \n",
    "    return (\n",
    "        <header className={`${themeMode}-theme`}> # we use the value to change the className of header\n",
    "            <h1>{value === \"light\" ? \"Light\" : \"Dark\"} Theme</h1>\n",
    "        </header>\n",
    "    )\n",
    "}"
   ]
  },
  {
   "cell_type": "markdown",
   "id": "af83e57c",
   "metadata": {},
   "source": [
    "Funkcje również przekazujemy jak każdą inną wartość z Context-u"
   ]
  },
  {
   "cell_type": "code",
   "execution_count": null,
   "id": "61273a7c",
   "metadata": {},
   "outputs": [],
   "source": [
    "import React from \"react\"\n",
    "import { ThemeContext } from \"./App\"\n",
    "\n",
    "export default function Button() {\n",
    "    const { theme, toggleTheme } = React.useContext(ThemeContext)\n",
    "\n",
    "    return (\n",
    "        <button className={`${theme}-theme`} onClick={toggleTheme}> ## we use descrutured values from Context\n",
    "            Switch Theme\n",
    "        </button>\n",
    "    )\n",
    "}"
   ]
  }
 ],
 "metadata": {
  "kernelspec": {
   "display_name": "Python 3 (ipykernel)",
   "language": "python",
   "name": "python3"
  },
  "language_info": {
   "codemirror_mode": {
    "name": "ipython",
    "version": 3
   },
   "file_extension": ".py",
   "mimetype": "text/x-python",
   "name": "python",
   "nbconvert_exporter": "python",
   "pygments_lexer": "ipython3",
   "version": "3.11.2"
  }
 },
 "nbformat": 4,
 "nbformat_minor": 5
}
