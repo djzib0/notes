{
 "cells": [
  {
   "cell_type": "markdown",
   "id": "eec667de",
   "metadata": {},
   "source": [
    "### Headless components\n",
    "\n",
    "Bezgłowe komponenty są to komponenty, które nie posiadają żadnego UI, lecz jedynie zapewniają pewną zdefiniowaną funkcjonalność.\n",
    "Takie komponenty pozwalają na wielokrotne ich używanie i właśnie najlepiej sprawdzają się w aplikacjach, które będą wymagały powtarzalności funkcjonalności.\n",
    "\n",
    "Przykładem będzie przycisk, który po naciśnięciu zmienia stan (może np ukrywać, lub pokazywać rozwijaną listę)."
   ]
  },
  {
   "cell_type": "markdown",
   "id": "69bc226e",
   "metadata": {},
   "source": [
    "Zaczynamy od stworzenia katalogu, który będzie zawierał wszystkie komponenty, w tym przypadku katalog Toggle (w ../src).\n",
    "W katalogu tworzymy najpierw Toggle.js."
   ]
  },
  {
   "cell_type": "code",
   "execution_count": null,
   "id": "3bdb5dbf",
   "metadata": {},
   "outputs": [],
   "source": [
    "import React, { Children, useState } from 'react'\n",
    "import { createContext } from 'react'\n",
    "\n",
    "const ToggleContext = createContext() ## create context to keep and pass data\n",
    "\n",
    "export default function Toggle({ children }) {  # export default function\n",
    "\n",
    "  const [on, setOn] = useState(false) # defined state of the Toggle component\n",
    "\n",
    "  function toggleOn() {   # function to toggle state of \"on\"\n",
    "    setOn(prevOn => !prevOn)\n",
    "  }\n",
    "\n",
    "  return (\n",
    "    <ToggleContext.Provider value={{on, toggleOn}}>  # providing Context to child components\n",
    "      {children}\n",
    "    </ToggleContext.Provider>\n",
    "  )\n",
    "}\n",
    "\n",
    "export { ToggleContext } # export of ToggleContext"
   ]
  },
  {
   "cell_type": "markdown",
   "id": "b1721b53",
   "metadata": {},
   "source": [
    "Następnie tworzymy kolejne sub-komponenty, które będą stanowiły całość komponentu Toggle."
   ]
  },
  {
   "cell_type": "code",
   "execution_count": null,
   "id": "bb31545e",
   "metadata": {},
   "outputs": [],
   "source": [
    "## ToggleButton.js\n",
    "import React, { useContext } from 'react'\n",
    "import { ToggleContext } from './Toggle' # import of ToggleContext to get data (in this case function to handle toggle click)\n",
    "\n",
    "function ToggleButton({children}) {\n",
    "\n",
    "  const {toggleOn} = useContext(ToggleContext) # destructured ToggleContext\n",
    "\n",
    "  return (\n",
    "    <button onClick={toggleOn}>{ children }</button> # we use toggleOn to change the state of \"on\" in Toggle.js\n",
    "  )\n",
    "}\n",
    "\n",
    "export default ToggleButton"
   ]
  },
  {
   "cell_type": "code",
   "execution_count": null,
   "id": "23a2d685",
   "metadata": {},
   "outputs": [],
   "source": [
    "# ToggleOn.js\n",
    "import React, { useContext } from 'react'\n",
    "import { ToggleContext } from './Toggle' # import of ToggleContext to get data (in this case function state \"on\")\n",
    "\n",
    "function ToggleOn({children}) {\n",
    "\n",
    "  const {on} = useContext(ToggleContext)\n",
    "\n",
    "  return (\n",
    "    on ? <div>{children}</div> : null # if \"on\" then render the component\n",
    "  )\n",
    "}\n",
    "\n",
    "export default ToggleOn"
   ]
  },
  {
   "cell_type": "code",
   "execution_count": null,
   "id": "c26d21f9",
   "metadata": {},
   "outputs": [],
   "source": [
    "# ToggleOff.js - it's not necessary because usually we don't want to show anything when the toggle is off, but sometimes\n",
    "# design requires to show some information when the toggle is off.\n",
    "import React, { useContext } from 'react'\n",
    "import { ToggleContext } from './Toggle' # import of ToggleContext to get data (in this case function state \"on\")\n",
    "\n",
    "function ToggleOff({children}) {\n",
    "\n",
    "  const {on} = useContext(ToggleContext)\n",
    "\n",
    "  return (\n",
    "    !on ? <div>{children}</div> : null # if \"on\" then render the component\n",
    "  )\n",
    "}\n",
    "\n",
    "export default ToggleOff"
   ]
  },
  {
   "cell_type": "markdown",
   "id": "101dd773",
   "metadata": {},
   "source": [
    "Kiedy mamy już wszystkie komponenty, wówczas tworzymy w tym samym katalogu plik index.js, który będzie spinał wszystkie komponenty, aby nie trzeba było ich importować za każdym razem do innego komponentu."
   ]
  },
  {
   "cell_type": "code",
   "execution_count": null,
   "id": "c34db231",
   "metadata": {},
   "outputs": [],
   "source": [
    "# index.js in Toggle folder\n",
    "\n",
    "# import of parent Toggle component\n",
    "import Toggle from \"./Toggle\";\n",
    "#import of all other child components\n",
    "import ToggleButton from \"./ToggleButton\"; \n",
    "import ToggleOff from \"./ToggleOff\";\n",
    "import ToggleOn from \"./ToggleOn\";\n",
    "\n",
    "Toggle.Button = ToggleButton # we declare Toggle.Button object as ToggleButton, and we do the same with other objects\n",
    "Toggle.On = ToggleOn\n",
    "Toggle.Off = ToggleOff\n",
    "\n",
    "export default Toggle"
   ]
  },
  {
   "cell_type": "markdown",
   "id": "d224281c",
   "metadata": {},
   "source": [
    "Teraz, kiedy mamy przygotowany cały bezgłowy komponent, możemy użyć go w aplikacji."
   ]
  },
  {
   "cell_type": "code",
   "execution_count": null,
   "id": "d53cddd1",
   "metadata": {},
   "outputs": [],
   "source": [
    "# App.js or other file/component we want to use it\n",
    "\n",
    "# import of Toggle component (but from the index file where all components are pulled together)\n",
    "import Toggle from './Toggle/index';\n",
    "\n",
    "function App() {\n",
    "\n",
    "  const items = [\"item 1\", \"item 2\" , \"item\"]\n",
    "\n",
    "  return (\n",
    "    <div className=\"App\">\n",
    "      <Toggle>\n",
    "        <Toggle.Button> # this component will be responsbile for call of function toggle when clicked\n",
    "          Press me\n",
    "        </Toggle.Button>\n",
    "        <Toggle.On> # this component will be rendered when the state in \"on\"\n",
    "          It's on\n",
    "        </Toggle.On>\n",
    "        <Toggle.Off> # this component will be render when the state is \"off\"\n",
    "          It's off\n",
    "        </Toggle.Off>\n",
    "      </Toggle>\n",
    "    </div>\n",
    "  );\n",
    "}"
   ]
  }
 ],
 "metadata": {
  "kernelspec": {
   "display_name": "Python 3 (ipykernel)",
   "language": "python",
   "name": "python3"
  },
  "language_info": {
   "codemirror_mode": {
    "name": "ipython",
    "version": 3
   },
   "file_extension": ".py",
   "mimetype": "text/x-python",
   "name": "python",
   "nbconvert_exporter": "python",
   "pygments_lexer": "ipython3",
   "version": "3.11.2"
  }
 },
 "nbformat": 4,
 "nbformat_minor": 5
}
