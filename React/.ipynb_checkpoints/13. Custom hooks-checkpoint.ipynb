{
 "cells": [
  {
   "cell_type": "markdown",
   "id": "d96017a7",
   "metadata": {},
   "source": [
    "#### Tworzymy plik (konwencja nazwy to use...)"
   ]
  },
  {
   "cell_type": "code",
   "execution_count": null,
   "id": "1483b48a",
   "metadata": {},
   "outputs": [],
   "source": [
    "import {useState, useEffect} from \"react\"\n",
    "\n",
    "function useSampleHook(defaultOnValue=false) { ### parametr ustawi nam default false\n",
    "    \n",
    "    # tworzymy nowy state, effect wg uznania np.\n",
    "    const [isOnValue, setIsOnValue] = useState(defaultOnValue)\n",
    "    \n",
    "    function toggle() {\n",
    "        setIsOnValue(prevValue => !prevValue)\n",
    "    }\n",
    "    \n",
    "    # możemy w customHook używać innych hooków - np.useEffect\n",
    "    useEffect(() => {\n",
    "        console.log(\"The isOnValue has been changed\")\n",
    "    }, [isOnValue])\n",
    "    \n",
    "    # podsumowując, możemy tutaj stworzyć całą logikę biznesową,\n",
    "    # w tym funkcje pomocniczne, których nie będziemy używać w innym komponencie,\n",
    "    # ale będzie wykorzystywany do jakiś obliczeń wewnątrz tego customHooka np.\n",
    "    \n",
    "    function calculate(a, b) {\n",
    "        console.log (a + b)\n",
    "    }\n",
    "    # powyższej funkcji nie przekażemy do komponentu, ale moglibyśmy jej użyć do obliczeń,\n",
    "    # ustawić jakiś nowy state, i wówczas przekazać go do komponentu\n",
    "    \n",
    "    return {isOnValue, toggle} # jeżeli tak zwrócimy, i tak przyjmiemy w komponencie (jako obiekt), to musimy użyć takich\n",
    "    #samych nazw\n",
    "    # jeżeli chcielibyśmy w komponencie używać własnych nazw to wówczas \"return [isonValue, toggle]\"\n",
    "}\n",
    "\n",
    "export default useSampleHook"
   ]
  },
  {
   "cell_type": "markdown",
   "id": "1086873f",
   "metadata": {},
   "source": [
    "#### W pliku z komponentem"
   ]
  },
  {
   "cell_type": "code",
   "execution_count": null,
   "id": "acf0caea",
   "metadata": {},
   "outputs": [],
   "source": [
    "import {useSampleHook} from \"./useSampleHook\"\n",
    "\n",
    "function myComponent() {\n",
    "    const {isOnValue, toggle} = useSampleHook(true) # w UseSampleHook mieliśmy default false, ale my chcemy aby było true\n",
    "    \n",
    "    return (\n",
    "        <div>\n",
    "            <h1>This is  {isOnValue ? \"on\" : \"off\"}</h1>\n",
    "            <button onClick={toggle}>Change onValue</button>\n",
    "        </div>\n",
    "    )\n",
    "}"
   ]
  },
  {
   "cell_type": "markdown",
   "id": "b8b1daec",
   "metadata": {},
   "source": [
    "Możemy przekazywać parametry jako obiekt i tylko te, które chcemy modyfikować w useToggle."
   ]
  },
  {
   "cell_type": "code",
   "execution_count": null,
   "id": "19916d7c",
   "metadata": {},
   "outputs": [],
   "source": [
    "#useToggle.js\n",
    "import React, { useState } from 'react'\n",
    "\n",
    "export default function useToggle(\n",
    "  {\n",
    "    initialValue=false,   # we have to parameters, and we want to keep initialValue a it is now - false.\n",
    "    shoutToggle = () => {}\n",
    "  }\n",
    "  ) {\n",
    "\n",
    "  const [on, setOn] = useState(initialValue)\n",
    "\n",
    "  function toggleOn() {\n",
    "    setOn(prevOn => !prevOn)\n",
    "    shoutToggle()\n",
    "  }\n",
    "  return (\n",
    "    [on, toggleOn]\n",
    "  )\n",
    "}\n",
    "\n"
   ]
  },
  {
   "cell_type": "code",
   "execution_count": null,
   "id": "0d1abe5f",
   "metadata": {},
   "outputs": [],
   "source": [
    "import React from 'react'\n",
    "import useToggle from './useToggle'\n",
    "\n",
    "function Menu() {\n",
    "\n",
    "  function shout() {\n",
    "    console.log(\"I'm shouting and crying\")\n",
    "  }\n",
    "\n",
    "  const [menuOn, menuToggle] = useToggle( \n",
    "      {\n",
    "    shoutToggle: shout # we pass only a function without the initialValue\n",
    "      }\n",
    "  )\n",
    "\n",
    "  return (\n",
    "    <>\n",
    "        {menuOn ? <div>Menu</div> : <div>Menu off</div>}\n",
    "        <button onClick={menuToggle}>Press me</button>\n",
    "    </>\n",
    "\n",
    "  )\n",
    "}\n",
    "export default Menu"
   ]
  }
 ],
 "metadata": {
  "kernelspec": {
   "display_name": "Python 3 (ipykernel)",
   "language": "python",
   "name": "python3"
  },
  "language_info": {
   "codemirror_mode": {
    "name": "ipython",
    "version": 3
   },
   "file_extension": ".py",
   "mimetype": "text/x-python",
   "name": "python",
   "nbconvert_exporter": "python",
   "pygments_lexer": "ipython3",
   "version": "3.11.2"
  }
 },
 "nbformat": 4,
 "nbformat_minor": 5
}
