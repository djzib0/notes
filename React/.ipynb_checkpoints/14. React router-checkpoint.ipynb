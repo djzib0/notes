{
 "cells": [
  {
   "cell_type": "markdown",
   "id": "fc3dd668",
   "metadata": {},
   "source": [
    "Instalacja w projekcie"
   ]
  },
  {
   "cell_type": "code",
   "execution_count": null,
   "id": "d2e76b5f",
   "metadata": {},
   "outputs": [],
   "source": [
    "npm install react-router-dom"
   ]
  },
  {
   "cell_type": "markdown",
   "id": "cdcd875b",
   "metadata": {},
   "source": [
    "W pliku jsx, w którym chcemu użyć Router-a (np.main.jsx, index.jsx itp.)"
   ]
  },
  {
   "cell_type": "code",
   "execution_count": null,
   "id": "00510ce7",
   "metadata": {},
   "outputs": [],
   "source": [
    "# importujemy moduł z react-router-dom\n",
    "import { BrowserRouter as Router} from 'react-router-dom'\n",
    "\n",
    "# wrapujemy komponenty, w których chemu użyć router\n",
    "\n",
    "ReactDOM.createRoot(document.getElementById('root')).render(\n",
    "    <Router>\n",
    "      <App />\n",
    "    </Router>,\n",
    ")\n"
   ]
  },
  {
   "cell_type": "markdown",
   "id": "0b9f1f8c",
   "metadata": {},
   "source": [
    "W pliku komponentu gdzie chcemy zastosować router"
   ]
  },
  {
   "cell_type": "code",
   "execution_count": null,
   "id": "84c891a0",
   "metadata": {},
   "outputs": [],
   "source": [
    "# importujemy niezbędne moduły\n",
    "import {Link, Routes, Route} from 'react-router-dom' # w starszej wersji zamiast Routes, było Switch\n",
    "\n",
    "function App() {\n",
    "    <div>\n",
    "        <Link to=\"/\">Home</Link> # tworzymy linki do komponentów\n",
    "        <Link to=\"/about\">About</Link> \n",
    "    \n",
    "    <Routes>\n",
    "        <Route exact path=\"/\" element={<Home anyProp={anyProp}/>} /> # w starszej wersji był component zamiast element\n",
    "        # jeżeli w powyższym zabrakło by exact, to po kliknięciu w about,\n",
    "        # szuka po pierwszej ścieżce, która pasuje (w tym przypadku mam \"/\" przed about, i react pomyślałby, że chodzi od link\n",
    "        # do Home, a nie do about)\n",
    "        <Route path=\"/about\" element={<About/>} />\n",
    "    </Routes>\n",
    "    </div>\n",
    "} "
   ]
  },
  {
   "cell_type": "markdown",
   "id": "7468932c",
   "metadata": {},
   "source": [
    "#### useParams()\n",
    "\n",
    "Jeżeli chcemy stworzyć Route-a do np. wybranego rekordu w bazie danych tworzymy Route jak niżej."
   ]
  },
  {
   "cell_type": "code",
   "execution_count": null,
   "id": "634163d8",
   "metadata": {},
   "outputs": [],
   "source": [
    "<Route path=\"/items/:id\" element={<ItemDetail />} /> ## :id is a variable name"
   ]
  },
  {
   "cell_type": "markdown",
   "id": "53eebd89",
   "metadata": {},
   "source": [
    "Tworzymy Link do powyższej ścieżki."
   ]
  },
  {
   "cell_type": "code",
   "execution_count": null,
   "id": "f3a4d64e",
   "metadata": {},
   "outputs": [],
   "source": [
    "import {useParams} from 'react-router-dom'\n",
    "\n",
    "export default function Items() \n",
    "\n",
    "    const params = useParams() ## useParams is a build-in function of react-router-dom. it takes an id from Router ../items/:id\n",
    "\n",
    "    return (\n",
    "        <div>\n",
    "            <Link to={`../items/${params.id}`}>\n",
    "                Click me to go to details of item with the params.id\n",
    "            </ Link> \n",
    "        <div>\n",
    "    )\n",
    "    \n",
    "    #...rest of the code\n",
    "}"
   ]
  },
  {
   "cell_type": "markdown",
   "id": "8222c6d3",
   "metadata": {},
   "source": [
    "#### Nested routes\n",
    "\n",
    "Wyobraźmy sobie sytuację gdzie mamy w swojej aplikacji, menu, które po kliknięciu wyświetli jakieś treści, w których jest kolejne menu, które po kliknięciu wyświetli jeszczcze inne informacje itd.\n",
    "\n",
    "Aby stworzyć takie zagnieżdżenie stosujemy tzw. nested routes."
   ]
  },
  {
   "cell_type": "code",
   "execution_count": null,
   "id": "940335ff",
   "metadata": {},
   "outputs": [],
   "source": [
    "##App.js\n",
    "function App() {\n",
    "  return (\n",
    "    <div>\n",
    "      <Routes>\n",
    "        <Route element={<Layout />}>   ## create closing tag Route without the path parameter. \n",
    "          ## Without the path it will be always displayed, no matter how the url looks like\n",
    "          ## below nested Route-s are \n",
    "          <Route path='/' element={<Home />} />   ## nested element (it's like a child element)\n",
    "          <Route path='/about' element={<About />} />\n",
    "          <Route path='/vans' element={<Vans />} />\n",
    "          <Route path='/vans/:id' element={<VanDetails />} />\n",
    "        </Route>\n",
    "      </Routes>\n",
    "      <Footer />\n",
    "    </div>\n",
    "  );\n",
    "}"
   ]
  },
  {
   "cell_type": "markdown",
   "id": "b9ff02e2",
   "metadata": {},
   "source": [
    "Tworzymy nowy komponent Layout.js"
   ]
  },
  {
   "cell_type": "code",
   "execution_count": null,
   "id": "34fee208",
   "metadata": {},
   "outputs": [],
   "source": [
    "##Layout.js\n",
    "import React from 'react';\n",
    "import { Outlet } from 'react-router-dom';  ## must import Outlet that will represent all other children Routes\n",
    "import Navbar from './Navbar' ## assume we have some navbar component\n",
    "\n",
    "export default function Layout() {\n",
    "\n",
    "  return (\n",
    "    <div>\n",
    "      <Navbar /> ## navbar will be always displayed\n",
    "      <Outlet /> ## children routes nested in layout.\n",
    "    </div>\n",
    "  )\n",
    "}"
   ]
  },
  {
   "cell_type": "markdown",
   "id": "3bd8e7a3",
   "metadata": {},
   "source": [
    "Mamy zagnieżdżone Route-y, ale chcemy stworzyć w tym zagnieżdżeniu kolejne zagnieżdżenie."
   ]
  },
  {
   "cell_type": "code",
   "execution_count": null,
   "id": "18d7b662",
   "metadata": {},
   "outputs": [],
   "source": [
    "function App() {\n",
    "  return (\n",
    "    <div className='container'>\n",
    "      <Routes>\n",
    "        <Route element={<Layout />}>\n",
    "          <Route path='/' element={<Home />} />\n",
    "          <Route path='/about' element={<About />} />\n",
    "          <Route path='/vans' element={<Vans />} />\n",
    "          <Route path='/vans/:id' element={<VanDetails />} />\n",
    "          ## we create another nested Route, this time with the path. It's going to be a relative path \"../host\"\n",
    "          <Route path='/host' element={<HostLayout />}>  \n",
    "            ## instead of path we can use index, it will set this element at \"../host\" url (as in the above parent Route)\n",
    "            <Route index element={<Dashboard />} />  \n",
    "             ## removed \"/\" from below path tells it's a another endpoitnt in url (in this case it will be \"../host/income\")\n",
    "            <Route path='income' element={<Income />} />\n",
    "            <Route path='reviews' element={<Reviews />} />\n",
    "          </Route>\n",
    "        </Route>\n",
    "      </Routes>\n",
    "      <Footer />\n",
    "    </div>\n",
    "  );\n",
    "}"
   ]
  },
  {
   "cell_type": "markdown",
   "id": "15fbd186",
   "metadata": {},
   "source": [
    "#### NavLink zamiast Link\n",
    "\n",
    "Zamiast tagu Link, możemy użyć tagu NavLink. NavLink w przeciwieństwie do zwykłego tagu Link, pozwala na przekazywanie funkcji lub stylu jako parametr. Dzięki czemu możemy np. ustawić styl kiedy jakiś link jest aktywny."
   ]
  },
  {
   "cell_type": "code",
   "execution_count": null,
   "id": "ab419b79",
   "metadata": {},
   "outputs": [],
   "source": [
    "export default function Navbar() {\n",
    "    \n",
    "  const definedStyle = {\n",
    "        fontWeight: \"bold\",\n",
    "        textDecoration: \"underline\",\n",
    "        color: \"#161616\"\n",
    "  }\n",
    "    \n",
    "  return (\n",
    "    <nav className='navbar'>\n",
    "        <div >\n",
    "          <NavLink \n",
    "            # we pass the function and the prop is a destructurized isActive\n",
    "            # this function get an obj as a parameter and returns {isActive, isPending, isTransitioning}\n",
    "            className={({isActive}) => isActive ? 'navbar__link--active' : 'link'} \n",
    "            to=\"/host\">Host</NavLink>\n",
    "            #!!!!!! in above code it's a relative path, it means that it will always \"look\" for /host url. If we change path\n",
    "            #!!!!!! in parent Route then we will have to change it here manualy. If we want to avoid it, we can use implemented\n",
    "            #!!!!!! solution like below:\n",
    "            to=\".\">Host</NavLink> # <--- it means that it will alway take the same url as path in Route\n",
    "            # we have to add below parameter (default it's end={true}) to inform react-router to end the matching route \n",
    "            # here. For example we have an url /host/about - without the \"end\" it will apply style to this NavLink\n",
    "            # because it's matching /host, and also will apply the style to \"about\" NavLink.\n",
    "            end # <--- it changes logic of active NavLinks, example: /host and /host/about will match path of \"to\" \n",
    "                # of this NavLink, with added prop \"end\" host/about will not be active, only this NavLink\n",
    "          <NavLink \n",
    "            className={({isActive}) => isActive ? 'navbar__link--active' : 'link'}\n",
    "            to=\"/about\">About</NavLink>\n",
    "            #!!!!!! in above code we can ommit slash \"/\" in url, react-router knows it'a relative path and it will\n",
    "            #!!!!!! set it as ../host/about. Example code below\n",
    "            to=\"/about\">About</NavLink>\n",
    "          <NavLink \n",
    "            className={({isActive}) => isActive ? 'navbar__link--active' : 'link'}\n",
    "            to=\"/vans\">Vans</NavLink>\n",
    "            ## we can pass the functiono also to style parameter\n",
    "            style={({isActive}) => isActive ? {definedStyle} : {otherDefinedStyle}}\n",
    "        </div>\n",
    "    </nav>\n",
    "  )\n",
    "}"
   ]
  },
  {
   "cell_type": "markdown",
   "id": "d829a495",
   "metadata": {},
   "source": [
    "#### Tworzenie przycisku cofającego do poprzedniej ścieżki\n",
    "\n",
    "Moglibyśmy skorzystać z navigate, ale navigate cofa o pewną wartość do poprzedniego renderowanego widoku, a nie do poprzedniego endpointu ścieżki url."
   ]
  },
  {
   "cell_type": "code",
   "execution_count": null,
   "id": "855e45b4",
   "metadata": {},
   "outputs": [],
   "source": [
    "<Link \n",
    "    # go back to \"parent\" url path. For example parent route is /host but we are at the url /host/:id/pricing.\n",
    "    # if we click on link it will go back to /host -> not to /host/:id as we want to.\n",
    "    to=\"..\"    \n",
    "    # to make it work, it's required to use realtive parameter with a value \"path\"\n",
    "    relative='path' # if we want to go back no to parent but to a relative route, \n",
    "    ><IoIosArrowRoundBack />&nbsp;Back to all vans\n",
    "</Link>"
   ]
  }
 ],
 "metadata": {
  "kernelspec": {
   "display_name": "Python 3 (ipykernel)",
   "language": "python",
   "name": "python3"
  },
  "language_info": {
   "codemirror_mode": {
    "name": "ipython",
    "version": 3
   },
   "file_extension": ".py",
   "mimetype": "text/x-python",
   "name": "python",
   "nbconvert_exporter": "python",
   "pygments_lexer": "ipython3",
   "version": "3.11.2"
  }
 },
 "nbformat": 4,
 "nbformat_minor": 5
}
