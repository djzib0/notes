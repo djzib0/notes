{
 "cells": [
  {
   "cell_type": "markdown",
   "id": "e978efa9",
   "metadata": {},
   "source": [
    "### Fetching data - error handling\n",
    "\n",
    "Możemy zastosować utilility function do pobierania danych i zwracania błędu jeżeli taki wystąpi.\n",
    "\n",
    "Tworzymy plik api.js"
   ]
  },
  {
   "cell_type": "code",
   "execution_count": null,
   "id": "2878b6b3",
   "metadata": {},
   "outputs": [],
   "source": [
    "#api.js\n",
    "export async function getVans() {\n",
    "    const res = await fetch(\"/api/vans\")\n",
    "    if (!res.ok) { # if something go wrong, throw an error\n",
    "        throw {\n",
    "            message: \"Failed to fetch vans\", \n",
    "            statusText: res.statusText,  # don't know what is it\n",
    "            status: res.status # don't know what is it\n",
    "        }\n",
    "    }\n",
    "    const data = await res.json()\n",
    "    return data.vans\n",
    "}"
   ]
  },
  {
   "cell_type": "markdown",
   "id": "bc01f0fe",
   "metadata": {},
   "source": [
    "W wybranym komponencie importujemy powyższą funkcję."
   ]
  },
  {
   "cell_type": "code",
   "execution_count": null,
   "id": "74ff8dff",
   "metadata": {},
   "outputs": [],
   "source": [
    "import React from \"react\"\n",
    "import { Link, useSearchParams } from \"react-router-dom\"\n",
    "import { getVans } from \"../../api\"\n",
    "\n",
    "export default function Vans() {\n",
    "    const [vans, setVans] = React.useState([])\n",
    "    const [loading, setLoading] = React.useState(false) # use this condition to show information for example \"loading...\"\n",
    "    const [error, setError] = React.useState(null) # set a state with error message to display it on the page.\n",
    "\n",
    "    const typeFilter = searchParams.get(\"type\")\n",
    "\n",
    "    React.useEffect(() => {\n",
    "        async function loadVans() {  # declare the function which will fetch data \n",
    "            setLoading(true)\n",
    "            try {\n",
    "                const data = await getVans() # use utility function from api.js\n",
    "                setVans(data)\n",
    "            } catch (err) { # handling the error\n",
    "                setError(err)\n",
    "            } finally {     # wether there is an error or not, setLoading is set back to false\n",
    "                setLoading(false)\n",
    "            }\n",
    "        }\n",
    "        loadVans()\n",
    "    }, [])\n",
    "    \n",
    "    # rest of the code"
   ]
  }
 ],
 "metadata": {
  "kernelspec": {
   "display_name": "Python 3 (ipykernel)",
   "language": "python",
   "name": "python3"
  },
  "language_info": {
   "codemirror_mode": {
    "name": "ipython",
    "version": 3
   },
   "file_extension": ".py",
   "mimetype": "text/x-python",
   "name": "python",
   "nbconvert_exporter": "python",
   "pygments_lexer": "ipython3",
   "version": "3.11.2"
  }
 },
 "nbformat": 4,
 "nbformat_minor": 5
}
