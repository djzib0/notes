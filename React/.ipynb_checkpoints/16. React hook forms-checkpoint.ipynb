{
 "cells": [
  {
   "cell_type": "markdown",
   "id": "31995bfb",
   "metadata": {},
   "source": [
    "### React hook forms\n",
    "\n",
    "This library allows to handle larger forms.\n",
    "First we have to install the library."
   ]
  },
  {
   "cell_type": "code",
   "execution_count": null,
   "id": "39c13d38",
   "metadata": {},
   "outputs": [],
   "source": [
    "npm install react-hook-form"
   ]
  },
  {
   "cell_type": "markdown",
   "id": "f80f9671",
   "metadata": {},
   "source": [
    "Now we can import the hook to our component and if we use TypeScript we have to declare the type for the form."
   ]
  },
  {
   "cell_type": "code",
   "execution_count": null,
   "id": "5694213b",
   "metadata": {},
   "outputs": [],
   "source": [
    "import { useForm } from \"react-hook-form\";\n",
    "\n",
    "type FormFields = {\n",
    "    login: string;\n",
    "    password: string;\n",
    "}\n",
    "\n",
    "function App() {\n",
    "    \n",
    "    # utilize the form\n",
    "    # const form = useForm<FormFields>()\n",
    "    \n",
    "    # but we can desctructurize the form\n",
    "    const { register } = useForm<FormFields>()\n",
    "    \n",
    "    # we can use the register function on the inputs\n",
    "    return (\n",
    "        <div>\n",
    "            <form>\n",
    "                <input {...register(\"email\")} type=\"text\" placeholder=\"email\" /> # we add {...register(\"inputfieldname\")}\n",
    "                <input {...register(\"password\")} type=\"text\" placeholder=\"password\">\n",
    "            </form>\n",
    "        </div>\n",
    "    )\n",
    "}"
   ]
  },
  {
   "cell_type": "markdown",
   "id": "cc8edc6b",
   "metadata": {},
   "source": [
    "Let's create now our handleSubmit function."
   ]
  },
  {
   "cell_type": "code",
   "execution_count": null,
   "id": "0aba692d",
   "metadata": {},
   "outputs": [],
   "source": [
    "const onSubmit: SubmitHandler<FormFields> = (data) => {\n",
    "    console.log(data)\n",
    "}"
   ]
  },
  {
   "cell_type": "markdown",
   "id": "b34a600b",
   "metadata": {},
   "source": [
    "But we are not going to use it directly, but we will use build in function in react hook form."
   ]
  },
  {
   "cell_type": "code",
   "execution_count": null,
   "id": "04570b9e",
   "metadata": {},
   "outputs": [],
   "source": [
    "# add handleSubmit to desctruturized useForm object.\n",
    "\n",
    "const { register, handleSubmit} = useForm<FormFields>();\n",
    "\n",
    "# now we can use handleSubmit and pass our onSubmit function as an argument\n",
    "#...\n",
    "\n",
    "return (\n",
    "        <div>\n",
    "            <form onSubmit={handleSubmit(onSubmit)}>\n",
    "                <input {...register(\"email\")} type=\"text\" placeholder=\"email\" /> # we add {...register(\"inputfieldname\")}\n",
    "                <input {...register(\"password\")} type=\"text\" placeholder=\"password\">\n",
    "            </form>\n",
    "        </div>\n",
    "    )"
   ]
  },
  {
   "cell_type": "markdown",
   "id": "cf368bbb",
   "metadata": {},
   "source": [
    "We can add a validation to our input fields. This can be done by adding object with properties to the input field."
   ]
  },
  {
   "cell_type": "code",
   "execution_count": null,
   "id": "19697627",
   "metadata": {},
   "outputs": [],
   "source": [
    "return (\n",
    "        <div>\n",
    "            <form onSubmit={handleSubmit(onSubmit)}>\n",
    "                <input {...register(\"email\", {\n",
    "                    required: true, # this field requires at least one symbol\n",
    "                    validate: (value) => value.includes(\"@\") # this field requires @ symbol\n",
    "                })} type=\"text\" placeholder=\"email\" /> # we add {...register(\"inputfieldname\")}\n",
    "                <input {...register(\"password\", {\n",
    "                    required: true, \n",
    "                    minLength: 8, # min length\n",
    "                })} type=\"text\" placeholder=\"password\">\n",
    "            </form>\n",
    "        </div>\n",
    "    )\n",
    "\n",
    "# more validation options can be found in documentation!"
   ]
  },
  {
   "cell_type": "markdown",
   "id": "23c7056f",
   "metadata": {},
   "source": [
    "Above code is working but when the use click the submit button, no error message appears.\n",
    "To display the errors first we have to add another descrturized property."
   ]
  },
  {
   "cell_type": "code",
   "execution_count": null,
   "id": "205ada88",
   "metadata": {},
   "outputs": [],
   "source": [
    "const = {\n",
    "    register,\n",
    "    handleSubmit,\n",
    "    formState: {errors}\n",
    "} = useForm<FormFields>();"
   ]
  },
  {
   "cell_type": "markdown",
   "id": "4f5942bc",
   "metadata": {},
   "source": [
    "Now we can add the JSX when the errors occurs."
   ]
  },
  {
   "cell_type": "code",
   "execution_count": null,
   "id": "dcedb5e3",
   "metadata": {},
   "outputs": [],
   "source": [
    "<form onSubmit={handleSubmit(onSubmit)}>\n",
    "    <input {...register(\"password\", {\n",
    "      required: true,\n",
    "    })} type=\"text\" />\n",
    "    {errors.email && <p>{errors.email.message}</p>} # add this code\n",
    "    <input {...register(\"email\", {\n",
    "      required: true,\n",
    "      minLength: 8,\n",
    "    })} type=\"text\" />\n",
    "    {errors.password && <p>{errors.password.message}</p>} # add this code\n",
    "    <button type=\"submit\">Submit</button>\n",
    "</form>"
   ]
  },
  {
   "cell_type": "markdown",
   "id": "2fdc6f67",
   "metadata": {},
   "source": [
    "But now we still can't see the error message on the rendered page. This is because we defined our errors correctly but we didn't define any error messages. This can be done like below"
   ]
  },
  {
   "cell_type": "code",
   "execution_count": null,
   "id": "0b92683b",
   "metadata": {},
   "outputs": [],
   "source": [
    "<form onSubmit={handleSubmit(onSubmit)}>\n",
    "    <input {...register(\"password\", {\n",
    "      required: \"Email is required\", # instead of true we can pass string with error message\n",
    "    validate: (value) => {  # instead of (value) => value.includes('@')\n",
    "        if (!value.includes('@')) {\n",
    "            return (\"Email must include @\") # if the filed doesn't include @, return the error message\n",
    "        }\n",
    "        return true # if it's ok, return true\n",
    "    } \n",
    "    })} type=\"text\" />\n",
    "    {errors.email && <p>{errors.email.message}</p>} # add this code\n",
    "    <input {...register(\"email\", {\n",
    "      required: \"Password is required\", # instead of true we can pass string with error message\n",
    "      minLength: { # instead of value 8 we can pass the object \n",
    "          value: 8,\n",
    "          message: \"Password must have at least 8 characters\"\n",
    "      }\n",
    "    })} type=\"text\" />\n",
    "    {errors.password && <p>{errors.password.message}</p>} # add this code\n",
    "    <button type=\"submit\">Submit</button>\n",
    "</form>"
   ]
  },
  {
   "cell_type": "markdown",
   "id": "b98176b9",
   "metadata": {},
   "source": [
    "What if we want to use async function to pass the data to the server. We can easilly do it with react hook form.\n",
    "First add isSubmitting to formState property."
   ]
  },
  {
   "cell_type": "code",
   "execution_count": null,
   "id": "2de4a347",
   "metadata": {},
   "outputs": [],
   "source": [
    "const {\n",
    "    register, \n",
    "    handleSubmit,\n",
    "    formState: { errors, isSubmitting } # added isSubmitting \n",
    "} = useForm<FormFields>();\n",
    "\n",
    "# to simulate delayed connection with the server\n",
    "\n",
    "const onSubmit: SubmitHandler<FormFields> = async (data) => {\n",
    "    await new Promise((resolve) => setTimeout(resolve, 1000));\n",
    "    console.log(data)\n",
    "}\n",
    "    \n",
    "# adjust button to be disabled during waiting for the response\n",
    "#...\n",
    "<button disable={isSubmitting} type='submit'>\n",
    "    {isSubmitting ? \"Loading...\" : \"Submit\"}\n",
    "</button>"
   ]
  },
  {
   "cell_type": "markdown",
   "id": "ce4b9d09",
   "metadata": {},
   "source": [
    "Let's say we have send a promise to the backend but we get an error from the server. How to handle it?\n",
    "We have to desctructure the function from useForm."
   ]
  },
  {
   "cell_type": "code",
   "execution_count": null,
   "id": "4bd68c39",
   "metadata": {},
   "outputs": [],
   "source": [
    "const {\n",
    "    register,\n",
    "    handleSubmit,\n",
    "    setError, # added setError\n",
    "    formState: { errors, isSubmitting}, \n",
    "}\n",
    "\n",
    "# adjust the onSubmit function\n",
    "const onSubmit: SubmitHandler<FormFields> = async (data) => {\n",
    "    await new Promise((resolve) => setTimeout(resolve, 1000));\n",
    "    throw new Error(); # it's importanat and must be added\n",
    "} catch (error) {\n",
    "    setError(\"email\", { # we can choose email, password or root, root can be used to show the whole form error\n",
    "        message: \"This email is already taken\",\n",
    "    })\n",
    "}\n",
    "    \n",
    "# Example with root\n",
    "const onSubmit: SubmitHandler<FormFields> = async (data) => {\n",
    "    await new Promise((resolve) => setTimeout(resolve, 1000));\n",
    "    throw new Error(); # it's important and must be added\n",
    "} catch (error) {\n",
    "    setError(\"root\", { # we can choose email, password or root, root can be used to show the whole form error\n",
    "        message: \"There is a root error!!!\",\n",
    "    })\n",
    "} \n",
    "    \n",
    "# in form\n",
    "<form onSubmit={handleSubmit(onSubmit)}>\n",
    "    <input {...register(\"password\", {\n",
    "      required: \"Email is required\", \n",
    "    validate: (value) => { \n",
    "        if (!value.includes('@')) {\n",
    "            return (\"Email must include @\") \n",
    "        }\n",
    "        return true \n",
    "    } \n",
    "    })} type=\"text\" />\n",
    "    {errors.email && <p>{errors.email.message}</p>}\n",
    "    <input {...register(\"email\", {\n",
    "      required: \"Password is required\",\n",
    "      minLength: { \n",
    "          value: 8,\n",
    "          message: \"Password must have at least 8 characters\"\n",
    "      }\n",
    "    })} type=\"text\" />\n",
    "    {errors.password && <p>{errors.password.message}</p>}\n",
    "    <button type=\"submit\">Submit</button>\n",
    "    {errors.root && <p>{errors.root.message}</p>} # added new paragraph to show root error\n",
    "</form>"
   ]
  },
  {
   "cell_type": "markdown",
   "id": "26b31a32",
   "metadata": {},
   "source": [
    "We can add default values for input fields."
   ]
  },
  {
   "cell_type": "code",
   "execution_count": null,
   "id": "07ec443a",
   "metadata": {},
   "outputs": [],
   "source": [
    "const {\n",
    "    register,\n",
    "    handleSubmit,\n",
    "    setError, # added setError\n",
    "    formState: { errors, isSubmitting}, \n",
    "} = useForm<FormFields>({\n",
    "        defaultValues: {\n",
    "            email: \"test@email.com\",\n",
    "        }\n",
    "    })"
   ]
  },
  {
   "cell_type": "markdown",
   "id": "4fe3826d",
   "metadata": {},
   "source": [
    "###  We can use zod library to reduce the code for input fields validation. \n",
    "\n",
    "First we have to install two libraries."
   ]
  },
  {
   "cell_type": "code",
   "execution_count": null,
   "id": "c790f97f",
   "metadata": {},
   "outputs": [],
   "source": [
    "npm install @hookform/resolvers\n",
    "\n",
    "npm install zod"
   ]
  },
  {
   "cell_type": "markdown",
   "id": "f086cd03",
   "metadata": {},
   "source": [
    "Next step is to import libraries in our component"
   ]
  },
  {
   "cell_type": "code",
   "execution_count": null,
   "id": "79b99214",
   "metadata": {},
   "outputs": [],
   "source": [
    "import { z } from 'zod';\n",
    "import { zodResolver } from \"@hookform/resolvers/zod\";"
   ]
  },
  {
   "cell_type": "markdown",
   "id": "19195047",
   "metadata": {},
   "source": [
    "Then we have to add schema and set it as a type of FormFields."
   ]
  },
  {
   "cell_type": "code",
   "execution_count": null,
   "id": "b1263186",
   "metadata": {},
   "outputs": [],
   "source": [
    "const schema = z.object({\n",
    "  email: z.string().email(),\n",
    "  password: z.string().min(8, \"it's too short homie\")\n",
    "})\n",
    "\n",
    "type FormFields = z.infer<typeof schema>;\n"
   ]
  },
  {
   "cell_type": "markdown",
   "id": "bc035169",
   "metadata": {},
   "source": [
    "Add new property to useForm()"
   ]
  },
  {
   "cell_type": "code",
   "execution_count": null,
   "id": "e9436b98",
   "metadata": {},
   "outputs": [],
   "source": [
    "const { \n",
    "    register, \n",
    "    handleSubmit,\n",
    "    setError,\n",
    "    formState: {errors, isSubmitting} } = useForm<FormFields>(\n",
    "      {defaultValues: {\n",
    "        email: \"test@email.com\"\n",
    "      },\n",
    "      resolver: zodResolver(schema) # add this code\n",
    "    });"
   ]
  },
  {
   "cell_type": "markdown",
   "id": "ce9b66a6",
   "metadata": {},
   "source": [
    "Remove the validation code from input field so we can use simple code as below"
   ]
  },
  {
   "cell_type": "code",
   "execution_count": null,
   "id": "94a02c03",
   "metadata": {},
   "outputs": [],
   "source": [
    "<form onSubmit={handleSubmit(onSubmit)}>\n",
    "    <input {...register(\"email\")} type=\"text\"/>\n",
    "        {errors.email && <p>{errors.email.message}</p>}\n",
    "    <input {...register(\"password\")} type=\"text\" />\n",
    "        {errors.password && <p>{errors.password.message}</p>}\n",
    "    <button disabled={isSubmitting}  type=\"submit\">\n",
    "      {isSubmitting ? \"Loading...\" : \"Submit\"}\n",
    "    </button>\n",
    "</form>"
   ]
  }
 ],
 "metadata": {
  "kernelspec": {
   "display_name": "Python 3 (ipykernel)",
   "language": "python",
   "name": "python3"
  },
  "language_info": {
   "codemirror_mode": {
    "name": "ipython",
    "version": 3
   },
   "file_extension": ".py",
   "mimetype": "text/x-python",
   "name": "python",
   "nbconvert_exporter": "python",
   "pygments_lexer": "ipython3",
   "version": "3.11.2"
  }
 },
 "nbformat": 4,
 "nbformat_minor": 5
}
