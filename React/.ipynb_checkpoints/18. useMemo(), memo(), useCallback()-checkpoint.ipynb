{
 "cells": [
  {
   "cell_type": "markdown",
   "id": "142bae6a",
   "metadata": {},
   "source": [
    "# useMemo()\n",
    "\n",
    "### IMPORTANT: React 19 introduced a new compiler which handles some performance problems by itself. It means that we don't have to use memo, useMemo, useCallback anymore!\n",
    "\n",
    "Sometimes you have to calculate some value which is influencing optimization. After each re-render of the component React starts to calculate it again, even if it's not necessary.\n",
    "\n",
    "For example:"
   ]
  },
  {
   "cell_type": "code",
   "execution_count": null,
   "id": "6302099a",
   "metadata": {},
   "outputs": [],
   "source": [
    "# SampleComponent.tsx\n",
    "\n",
    "export default function SampleComponent() {\n",
    "    \n",
    "    const [counter, setCounter] = useState(1);\n",
    "    \n",
    "    # example function to simulate slow calculation\n",
    "    function fib(x: number) {\n",
    "        if (x <= 0) return 0;\n",
    "        if (x == 1) return 1;\n",
    "        return fib(x-1) + fib(x-2);\n",
    "      }\n",
    "    \n",
    "    const exampleVariable = fib(40)\n",
    "    \n",
    "    return (\n",
    "        <div>\n",
    "            {counter}\n",
    "            <button onClick={() => setCounter(prevState => prevState + 1)}>\n",
    "                Add\n",
    "            </button>\n",
    "        </div>\n",
    "    )\n",
    "    \n",
    "}"
   ]
  },
  {
   "cell_type": "markdown",
   "id": "9871a16d",
   "metadata": {},
   "source": [
    "In above example we can increase the counter displayed on the screen. After each incrementation of counter exampleVariable will be re-calculated. To avoid this we can use useMemo() like in the example below:"
   ]
  },
  {
   "cell_type": "code",
   "execution_count": null,
   "id": "4c1ffcf7",
   "metadata": {},
   "outputs": [],
   "source": [
    "# SampleComponent.tsx\n",
    "\n",
    "export default function SampleComponent() {\n",
    "    \n",
    "    const [counter, setCounter] = useState(1);\n",
    "    \n",
    "    # example function to simulate slow calculation\n",
    "    function fib(x: number) {\n",
    "        if (x <= 0) return 0;\n",
    "        if (x == 1) return 1;\n",
    "        return fib(x-1) + fib(x-2);\n",
    "      }\n",
    "    \n",
    "    const exampleVariable = React.useMemo(() => {\n",
    "        return fib(40);\n",
    "    }, []) # we can add dependecy to trigger recalculation when the state is changed (for example array with fetched items), or\n",
    "           # leave it blank to run it only at the first render.\n",
    "    \n",
    "    return (\n",
    "        <div>\n",
    "            {counter}\n",
    "            <button onClick={() => setCounter(prevState => prevState + 1)}>\n",
    "                Add\n",
    "            </button>\n",
    "        </div>\n",
    "    )\n",
    "    \n",
    "}"
   ]
  },
  {
   "cell_type": "markdown",
   "id": "af37c147",
   "metadata": {},
   "source": [
    "# React.memo()\n",
    "\n",
    "React.memo() allows to avoid re-render when the props are not changed. React renders all parent and child components even when the change is only in parent component."
   ]
  },
  {
   "cell_type": "code",
   "execution_count": null,
   "id": "1a1108f4",
   "metadata": {},
   "outputs": [],
   "source": [
    "# ExampleParentComponent.tsx\n",
    "\n",
    "export default function ExampleParentComponent() => {\n",
    "    \n",
    "    const [count, setCount] = useState(0);\n",
    "    \n",
    "    return (\n",
    "        <div>\n",
    "            This is count in parent {count}\n",
    "            <button onClick={() => setCount(prevState => prevState + 1)}\n",
    "            <ExampleChildComponent count={count} /> # we pass props\n",
    "            <ExampleChildComponent /> # we don't pass any props\n",
    "        </div>\n",
    "    )\n",
    "}\n",
    "\n",
    "# ExampleChildComponent.tsx\n",
    "export default function ExampleChildComponent({count}) {\n",
    "    \n",
    "    return (\n",
    "        <div>\n",
    "            Count in children component {count}\n",
    "        </div>\n",
    "    )\n",
    "}"
   ]
  },
  {
   "cell_type": "markdown",
   "id": "b60d1761",
   "metadata": {},
   "source": [
    "Everytime button is clicked, React re-renders parent and also a child component. To avoid this situation we have to use React.memo() hook."
   ]
  },
  {
   "cell_type": "code",
   "execution_count": null,
   "id": "433f092f",
   "metadata": {},
   "outputs": [],
   "source": [
    "# ExampleChildComponent.tsx\n",
    "function ExampleChildComponent({count}) { # remove export default \n",
    "    \n",
    "    console.log(\"This component has been re-rendered\") # you can use console.log to check if it's rendered\n",
    "    \n",
    "    return (\n",
    "        <div>\n",
    "            Count in children component {count}\n",
    "        </div>\n",
    "    )\n",
    "}\n",
    "\n",
    "# add here an export\n",
    "export default React.memo(ExampleChildComponent)\n"
   ]
  },
  {
   "cell_type": "markdown",
   "id": "5386cc78",
   "metadata": {},
   "source": [
    "React checks wether the props has changed or not. If yes, it re-renders the component. Otherwise it remains the same."
   ]
  },
  {
   "cell_type": "markdown",
   "id": "86bed10f",
   "metadata": {},
   "source": [
    "# React.useCallback()\n",
    "\n",
    "What if prop is a function? Let's say we have a component that takes a function as a prop."
   ]
  },
  {
   "cell_type": "code",
   "execution_count": null,
   "id": "893c2baf",
   "metadata": {},
   "outputs": [],
   "source": [
    "# ExampleChildComponent.tsx\n",
    "import { memo } from 'react'\n",
    "\n",
    "function ExampleChildComponent({ todos, addTodo }) {\n",
    "  console.log(\"child render\");\n",
    "  return (\n",
    "    <>\n",
    "      <h2>My Todos</h2>\n",
    "      {todos.map((todo, index) => {\n",
    "        return <p key={index}>{todo}</p>;\n",
    "      })}\n",
    "      <button onClick={addTodo}>Add Todo</button>\n",
    "    </>\n",
    "  );\n",
    "};\n",
    "\n",
    "export default memo(Todos) # we expect no re-render unless the props are changed."
   ]
  },
  {
   "cell_type": "markdown",
   "id": "901965e6",
   "metadata": {},
   "source": [
    "In the parent component we pass the function."
   ]
  },
  {
   "cell_type": "code",
   "execution_count": null,
   "id": "0f49f723",
   "metadata": {},
   "outputs": [],
   "source": [
    "# ExampleParentComponent.tsx\n",
    "\n",
    "import ExampleChildComponent from \"./ExampleChildComponent\";\n",
    "import { useCallback, useState} from \"react\"\n",
    "export default function Settings() {\n",
    "\n",
    "  const [count, setCount] = useState(0);\n",
    "  const [todos, setTodos] = useState([]);\n",
    "\n",
    "  const increment = useCallback(() => {\n",
    "    setCount((c) => c + 1);\n",
    "  }, []);\n",
    "    \n",
    "  \n",
    "  const addTodo = setTodos((t) => [...t, \"New Todo\"]); \n",
    "    # foo() is not equal to foo(), it means that it will always re-render child component. Even if only increment function\n",
    "    # is called.\n",
    "\n",
    "  return (\n",
    "    <>\n",
    "      <Todos todos={todos} addTodo={addTodo} />\n",
    "      <hr />\n",
    "      <div>\n",
    "        Count: {count}\n",
    "        <button onClick={increment}>+</button>\n",
    "      </div>\n",
    "    </>\n",
    "  );\n",
    "};\n"
   ]
  },
  {
   "cell_type": "markdown",
   "id": "52a73031",
   "metadata": {},
   "source": [
    "Despite no change of addTodo function the child component will re-render after clicking increment button. Why? Because props has changed? You can ask how? Function is not a primitive, so addTodo === addoTodo will return false. \n",
    "\n",
    "We can use useCallback hook to override it."
   ]
  },
  {
   "cell_type": "code",
   "execution_count": null,
   "id": "bee05734",
   "metadata": {},
   "outputs": [],
   "source": [
    "# ExampleParentComponent.tsx\n",
    "\n",
    "import ExampleChildComponent from \"./ExampleChildComponent\";\n",
    "import { useCallback, useState} from \"react\"\n",
    "export default function Settings() {\n",
    "\n",
    "  const [count, setCount] = useState(0);\n",
    "  const [todos, setTodos] = useState([]);\n",
    "\n",
    "  const increment = useCallback(() => {\n",
    "    setCount((c) => c + 1);\n",
    "  }, []);\n",
    "    \n",
    "  \n",
    "  const addTodo = useCallback(() => {  # use useCallback hook and set dependency, so it will be called only\n",
    "      # when todos list is changed.\n",
    "     setTodos((t) => [...t, \"New Todo\"]);\n",
    "  }, [todos]);\n",
    "    \n",
    "  return (\n",
    "    <>\n",
    "      <Todos todos={todos} addTodo={addTodo} />\n",
    "      <hr />\n",
    "      <div>\n",
    "        Count: {count}\n",
    "        <button onClick={increment}>+</button>\n",
    "      </div>\n",
    "    </>\n",
    "  );\n",
    "};"
   ]
  }
 ],
 "metadata": {
  "kernelspec": {
   "display_name": "Python 3 (ipykernel)",
   "language": "python",
   "name": "python3"
  },
  "language_info": {
   "codemirror_mode": {
    "name": "ipython",
    "version": 3
   },
   "file_extension": ".py",
   "mimetype": "text/x-python",
   "name": "python",
   "nbconvert_exporter": "python",
   "pygments_lexer": "ipython3",
   "version": "3.11.2"
  }
 },
 "nbformat": 4,
 "nbformat_minor": 5
}
