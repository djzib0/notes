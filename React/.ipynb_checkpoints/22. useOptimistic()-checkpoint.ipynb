{
 "cells": [
  {
   "cell_type": "markdown",
   "id": "487fea19",
   "metadata": {},
   "source": [
    "### useOptimistic() hook\n",
    "\n",
    "Provides optimistic state that can update to the user immediately, and will be autmatically reverted if there's a problem with the update to the server."
   ]
  },
  {
   "cell_type": "code",
   "execution_count": null,
   "id": "7ec55f5d",
   "metadata": {},
   "outputs": [],
   "source": [
    "import ReactDOM from \"react-dom/client\"\n",
    "import { useState, useActionState, useOptimistic } from \"react\"\n",
    "import { updateNameInDB } from \"./api\"\n",
    "\n",
    "function App() {\n",
    "  const [state, actionFunction, isPending] = useActionState(\n",
    "    updateName,\n",
    "    {\n",
    "      error: null,\n",
    "      name: JSON.parse(localStorage.getItem(\"name\")) || \"Anonymous user\"\n",
    "    }\n",
    "  )\n",
    "  \n",
    "  const [optimisticName, setOptimisticName] = useOptimistic(state.name) ## utilize hook\n",
    "\n",
    "  async function updateName(prevState, formData) {\n",
    "    setOptimisticName(formData.get(\"name\")) ## set optimistic name based on data input\n",
    "    \n",
    "    ## we assume that our input is correct and we display new name immediately, so \n",
    "    ## we can dispaly the name immediately, and in the background update of database will occur,\n",
    "    ## so we don't have to wait it.\n",
    "    try {\n",
    "      const newName = await updateNameInDB(formData.get(\"name\"))\n",
    "      return { name: newName, error: null }\n",
    "    } catch (error) {\n",
    "      return { error, name: prevState.name }\n",
    "    }\n",
    "  }\n",
    "\n",
    "  return (\n",
    "    <>\n",
    "      <p className=\"username\">\n",
    "        Current user: <span>{optimisticName}</span> ## display optimistic Name\n",
    "      </p>\n",
    "\n",
    "      <form action={actionFunction}>\n",
    "        <input\n",
    "          type=\"text\"\n",
    "          name=\"name\"\n",
    "          required\n",
    "        />\n",
    "        <button type=\"submit\">Update</button>\n",
    "        {!isPending && state.error && <p className=\"error\">{state.error.message}</p>}\n",
    "      </form>\n",
    "    </>\n",
    "  )\n",
    "}\n",
    "\n",
    "ReactDOM.createRoot(document.getElementById(\"root\")).render(<App />)"
   ]
  }
 ],
 "metadata": {
  "kernelspec": {
   "display_name": "Python 3 (ipykernel)",
   "language": "python",
   "name": "python3"
  },
  "language_info": {
   "codemirror_mode": {
    "name": "ipython",
    "version": 3
   },
   "file_extension": ".py",
   "mimetype": "text/x-python",
   "name": "python",
   "nbconvert_exporter": "python",
   "pygments_lexer": "ipython3",
   "version": "3.11.2"
  }
 },
 "nbformat": 4,
 "nbformat_minor": 5
}
