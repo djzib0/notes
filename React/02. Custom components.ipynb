{
 "cells": [
  {
   "cell_type": "markdown",
   "id": "c6fc2c79",
   "metadata": {},
   "source": [
    "### Tworzenie własnych komponentów\n",
    "\n",
    "Własne komponenty tworzym jako "
   ]
  },
  {
   "cell_type": "code",
   "execution_count": null,
   "id": "2c38e0f9",
   "metadata": {},
   "outputs": [],
   "source": []
  }
 ],
 "metadata": {
  "kernelspec": {
   "display_name": "Python 3 (ipykernel)",
   "language": "python",
   "name": "python3"
  },
  "language_info": {
   "codemirror_mode": {
    "name": "ipython",
    "version": 3
   },
   "file_extension": ".py",
   "mimetype": "text/x-python",
   "name": "python",
   "nbconvert_exporter": "python",
   "pygments_lexer": "ipython3",
   "version": "3.11.2"
  }
 },
 "nbformat": 4,
 "nbformat_minor": 5
}
