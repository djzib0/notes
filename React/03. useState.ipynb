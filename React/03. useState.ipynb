{
 "cells": [
  {
   "cell_type": "markdown",
   "id": "82dcb9c1",
   "metadata": {},
   "source": [
    "### useState hook\n",
    "\n",
    "Hook useState pozwala na dodanie zmiennej przechowywującej stan pomiędzy wywołaniami.\n",
    "\n",
    "Inicjalizujemy useState tworząc zmienną, która jest parą - bieżącej wartości oraz funkcji, która pozwala tą wartość modyfikować."
   ]
  },
  {
   "cell_type": "code",
   "execution_count": null,
   "id": "acae646f",
   "metadata": {},
   "outputs": [],
   "source": [
    "import React, {useState} from 'react'\n",
    "\n",
    "function Main() {\n",
    "    \n",
    "    const [counter, setCounter] = useState(0) # in parentheses is a default value\n",
    "    \n",
    "    # function that handles a button click\n",
    "    function addOne() {\n",
    "        setCounter(prevCounter => prevCounter + 1) # we can't modify the current state therefore we have to pass \"prevCounter\"\n",
    "        # ... and change it value to a new value (by adding 1).\n",
    "    }\n",
    "  \n",
    "    return (\n",
    "    <div className='container'>\n",
    "        {counter}\n",
    "        <button onClick={addOne}>Add 1</button>\n",
    "    </div>\n",
    "    )\n",
    "}"
   ]
  },
  {
   "cell_type": "markdown",
   "id": "4b9f4ae3",
   "metadata": {},
   "source": [
    "Zmienna stanu nie musi być pojedynczym elementem. Możemy przekazać tablicę..."
   ]
  },
  {
   "cell_type": "code",
   "execution_count": null,
   "id": "535afaca",
   "metadata": {},
   "outputs": [],
   "source": [
    "import React, {useState} from 'react'\n",
    "\n",
    "function Main() {\n",
    "    \n",
    "    const initialData = [\"Thing 1\", \"Thing 2\"]\n",
    "    \n",
    "    const [dataArr, setDataArr] = useState(initialData) # we set initialData as a default one\n",
    "    \n",
    "    # function that handles a button click\n",
    "    function addNewThing() {\n",
    "        setDataArr(prevData => [...prevData, `Thing ${prevData.length + 1}`])\n",
    "    }\n",
    "    \n",
    "    # mapping data as jsx elements\n",
    "    const thingsArr = dataArr.map(thing => <p>{thing}</p>)\n",
    "  \n",
    "    return (\n",
    "    <div className='container'>\n",
    "        <button onClick={addNewThing}>Add 1</button>\n",
    "        {thingsArr}\n",
    "    </div>\n",
    "    )\n",
    "}"
   ]
  },
  {
   "cell_type": "markdown",
   "id": "dc9ed5fe",
   "metadata": {},
   "source": [
    "...lub obiekt"
   ]
  },
  {
   "cell_type": "code",
   "execution_count": null,
   "id": "cef52901",
   "metadata": {},
   "outputs": [],
   "source": [
    "import React, {useState} from 'react'\n",
    "\n",
    "function Main() {\n",
    "    \n",
    "    const [contact, setContact] = useState({\n",
    "        firstName: \"John\",\n",
    "        lastName: \"Doe\",\n",
    "        phone: \"+1 (719) 555-1212\",\n",
    "        email: \"itsmyrealname@example.com\",\n",
    "        isFavorite: true\n",
    "    })\n",
    "    # function that handles change of isFavorite in contact\n",
    "    function toggleFavorite() {\n",
    "        setDataArr(prevContact => {\n",
    "            return {\n",
    "                ...prevContact,  # spreading all other data from prevContact\n",
    "                isFavorite: !prevContact.isFavorite # attribute we want to change\n",
    "            }\n",
    "        }) \n",
    "    }\n",
    "\n",
    "  \n",
    "    return (\n",
    "    <div className='container'>\n",
    "        <button onClick={toggleFavorite}>Add 1</button>\n",
    "        {isFavorite ? <p>Yes<p> : <p>No</p>}\n",
    "    </div>\n",
    "    )\n",
    "}"
   ]
  }
 ],
 "metadata": {
  "kernelspec": {
   "display_name": "Python 3 (ipykernel)",
   "language": "python",
   "name": "python3"
  },
  "language_info": {
   "codemirror_mode": {
    "name": "ipython",
    "version": 3
   },
   "file_extension": ".py",
   "mimetype": "text/x-python",
   "name": "python",
   "nbconvert_exporter": "python",
   "pygments_lexer": "ipython3",
   "version": "3.11.2"
  }
 },
 "nbformat": 4,
 "nbformat_minor": 5
}
