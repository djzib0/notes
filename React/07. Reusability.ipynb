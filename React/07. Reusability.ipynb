{
 "cells": [
  {
   "cell_type": "markdown",
   "id": "e8f3e497",
   "metadata": {},
   "source": [
    "### Reusability in React\n",
    "\n",
    "Zaletą biblioteki React jest możliwość korzystania z jego funkcjonalności bez konieczności pisania nadmiernego kodu lub tworzenia dużej ilości komponentów.\n",
    "\n",
    "Na przykładzie poniżej przedstawiono w jaki sposób możemy wykorzystać ten sam komponent Button poprzez tzw. \"props spreading\"."
   ]
  },
  {
   "cell_type": "code",
   "execution_count": null,
   "id": "c79269cd",
   "metadata": {},
   "outputs": [],
   "source": [
    "# App.js\n",
    "import React from 'react';\n",
    "import Button from \"./Button\"\n",
    "\n",
    "function App() {\n",
    "  return (\n",
    "    <main>\n",
    "      ## we are passing few properties to Button component\n",
    "      <Button variant style={{color: \"green\"}} handleClick={() => console.log(\"Logging in...\")}>\n",
    "        Log in with Google\n",
    "      </Button> ## closing tag for Button component\n",
    "    </main>\n",
    "  )\n",
    "}"
   ]
  },
  {
   "cell_type": "code",
   "execution_count": null,
   "id": "7f3b6895",
   "metadata": {
    "collapsed": true
   },
   "outputs": [],
   "source": [
    "# Button.js\n",
    "import React from \"react\"\n",
    "\n",
    "export default function Button(props) {\n",
    "    return (\n",
    "        <button {...props}> \n",
    "        ## we are spreading props here. So we can use this Button component for example to change it's style\n",
    "        # by passing different style property from parent component.\n",
    "            {props.children}\n",
    "        </button>\n",
    "    )\n",
    "}"
   ]
  },
  {
   "cell_type": "markdown",
   "id": "3fed5384",
   "metadata": {},
   "source": [
    "Powyższy przykład nie uwzględnia jednak możliwości destrukturyzacji przekazanych props-ów. Załóżmy, że znamy tylko jedną przekazaną właściwość, ale nie znamy pozostałych przekazanych. Wówczas stosujemy rozwiązanie jak niżej."
   ]
  },
  {
   "cell_type": "code",
   "execution_count": null,
   "id": "8f41bfdb",
   "metadata": {},
   "outputs": [],
   "source": [
    "import React from \"react\"\n",
    "\n",
    "## we destructure children (because it's always passed by parent component), but we don't know about the others, so \n",
    "## we use syntach ...rest (it's a convention, name be ...restProps or other).\n",
    "export default function Button({children, ...rest}) {\n",
    "    return (\n",
    "        <button {...rest}> ## spread the props as in the previous example\n",
    "            {children}\n",
    "        </button>\n",
    "    )\n",
    "}"
   ]
  },
  {
   "cell_type": "markdown",
   "id": "7c2b88c4",
   "metadata": {},
   "source": [
    "Uwaga! Stosując powyższe rozwiązanie możemy napotkać problem podczas przekazywania parametru className. Mianowicie, w komponencie rodzica mamy zadeklrowany parametr className, ale również jednocześnie przekazujemy parametr \"size\" do zdefiniowania className w komponencie dziecku."
   ]
  },
  {
   "cell_type": "code",
   "execution_count": null,
   "id": "df9f3872",
   "metadata": {},
   "outputs": [],
   "source": [
    "import React from 'react';\n",
    "import Button from \"./Button\"\n",
    "\n",
    "function App() {\n",
    "  return (\n",
    "    <main>\n",
    "      ## we are passing size to child component but also we are passing/setting className property (\"green\")\n",
    "      <Button size=\"lg\" className=\"green\">Log in with Google</Button>\n",
    "    </main>\n",
    "  )\n",
    "}"
   ]
  },
  {
   "cell_type": "code",
   "execution_count": null,
   "id": "73fe8b13",
   "metadata": {},
   "outputs": [],
   "source": [
    "import React from \"react\"\n",
    "\n",
    "export default function Button({children, className, size, ...rest}) { # we add className property to be destructured\n",
    "    \n",
    "    let sizeClass \n",
    "    if (size === \"sm\") sizeClass = \"button-small\"\n",
    "    if (size === \"lg\") sizeClass = \"button-large\"\n",
    "    \n",
    "    return (\n",
    "        # we set className as a concatenation of sizeClass and property className\n",
    "        <button className={`${sizeClass} ${className}`} {...rest}> \n",
    "            {children}\n",
    "        </button>\n",
    "    )\n",
    "}"
   ]
  }
 ],
 "metadata": {
  "kernelspec": {
   "display_name": "Python 3 (ipykernel)",
   "language": "python",
   "name": "python3"
  },
  "language_info": {
   "codemirror_mode": {
    "name": "ipython",
    "version": 3
   },
   "file_extension": ".py",
   "mimetype": "text/x-python",
   "name": "python",
   "nbconvert_exporter": "python",
   "pygments_lexer": "ipython3",
   "version": "3.11.2"
  }
 },
 "nbformat": 4,
 "nbformat_minor": 5
}
