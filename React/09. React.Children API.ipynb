{
 "cells": [
  {
   "cell_type": "markdown",
   "id": "cee6ea10",
   "metadata": {},
   "source": [
    "### React.Children API\n",
    "\n",
    "UWAGA: Nie jest to najlepsze rozwiązanie, ponieważ React.Children przekazuje właściwości tylko do bezpośredniego komponentu dziecka. Zaleca się korzystanie z useContext!\n",
    "\n",
    "Aby móc przekazywać właściwości do nienazwanych \"elementów dzieci\" możemy skorzystać z React.Children.\n",
    "React.Children jest to narzędzie, które zapewnia sposób interakcji z bezpośrednimi elementami dziećmi elementu rodzica.\n",
    "\n",
    "Aby przedstawić działanie React.Children posłużę się przykłade z poprzedniego rozdziału."
   ]
  },
  {
   "cell_type": "code",
   "execution_count": null,
   "id": "c2219bdc",
   "metadata": {},
   "outputs": [],
   "source": [
    "## index.js\n",
    "\n",
    "\n",
    "function App() {\n",
    "  const sports = [\"Tennis\", \"Pickleball\", \"Racquetball\", \"Squash\"]\n",
    "  \n",
    "  return (\n",
    "    # We have \"flattened\" strucutre of elements\n",
    "    <Menu>\n",
    "      <MenuButton>Sports</MenuButton>\n",
    "      <MenuDropdown>\n",
    "        {sports.map(sport => (\n",
    "          <MenuItem key={sport}>{sport}</MenuItem>\n",
    "        ))}\n",
    "      </MenuDropdown>\n",
    "    </Menu>\n",
    "  )\n",
    "}"
   ]
  },
  {
   "cell_type": "code",
   "execution_count": null,
   "id": "653baae3",
   "metadata": {},
   "outputs": [],
   "source": [
    "## Menu.js\n",
    "import React from \"react\"\n",
    "import MenuButton from \"./MenuButton\"\n",
    "import MenuDropdown from \"./MenuDropdown\"\n",
    "\n",
    "export default function Menu({ children }) {\n",
    "    const [open, setOpen] = React.useState(true)\n",
    "\n",
    "    function toggle() {\n",
    "        setOpen(prevOpen => !prevOpen)\n",
    "    }\n",
    "\n",
    "    return (\n",
    "        <div className=\"menu\">\n",
    "#       {children} we replace {children} with the below code\n",
    "        \n",
    "        ## We use React.Children (must be with a capital C) which returns an array of children elements.\n",
    "        ## We map over that array and we \"augment\" it by other forwarded parameters\n",
    "        ## React.Children.map has two parameters - array of elements and a function which augments the children elements.\n",
    "        ## That function receives each child from children array and return the clone of each child but with an additional props\n",
    "        {React.Children.map(children, (child) => {\n",
    "            ## we clone element with a build-in function\n",
    "            React.cloneElement(child, {\n",
    "                open: open\n",
    "                toggle: toggle\n",
    "                # we can simplify the above line as below\n",
    "                #open,\n",
    "                #toggle\n",
    "            })\n",
    "        })}\n",
    "        </div>\n",
    "    )\n",
    "}"
   ]
  },
  {
   "cell_type": "markdown",
   "id": "c73109b4",
   "metadata": {},
   "source": [
    "W tym momencie rozszerzyliśmy wszystkie komponenty dzieci o dwie dodatkowe właściwości - open oraz toggle, które możemy wykorzystać. "
   ]
  },
  {
   "cell_type": "code",
   "execution_count": null,
   "id": "c8eba53a",
   "metadata": {},
   "outputs": [],
   "source": [
    "## MenuButton.js\n",
    "export default function MenuButton({ children, toggle }) { # we add passed toggle prop\n",
    "    return (\n",
    "        <Button onClick={toggle}>{children}</Button> # we use toggle on onClick event\n",
    "    )\n",
    "}"
   ]
  },
  {
   "cell_type": "code",
   "execution_count": null,
   "id": "31eaf40b",
   "metadata": {},
   "outputs": [],
   "source": [
    "# MenuDropdown.js\n",
    "export default function MenuDropdown({ children, open }) { # we add passed open prop (the state from Menu.js)\n",
    "    return (\n",
    "        open ? <div className=\"menu-dropdown\"> # conditional rendering - if state is set to open we render component..\n",
    "            {children} \n",
    "        </div> : null #...if not, we do not render it.\n",
    "    )\n",
    "}"
   ]
  }
 ],
 "metadata": {
  "kernelspec": {
   "display_name": "Python 3 (ipykernel)",
   "language": "python",
   "name": "python3"
  },
  "language_info": {
   "codemirror_mode": {
    "name": "ipython",
    "version": 3
   },
   "file_extension": ".py",
   "mimetype": "text/x-python",
   "name": "python",
   "nbconvert_exporter": "python",
   "pygments_lexer": "ipython3",
   "version": "3.11.2"
  }
 },
 "nbformat": 4,
 "nbformat_minor": 5
}
