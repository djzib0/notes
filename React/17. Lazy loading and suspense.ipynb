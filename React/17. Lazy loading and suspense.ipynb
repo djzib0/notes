{
 "cells": [
  {
   "cell_type": "markdown",
   "id": "433f2f65",
   "metadata": {},
   "source": [
    "# Lazy loading and suspense"
   ]
  },
  {
   "cell_type": "markdown",
   "id": "e6aaf724",
   "metadata": {},
   "source": [
    "React has the possibility to create a suspending component that will only render when needed.\n",
    "To utilize it let's create first some components that we want to be suspended."
   ]
  },
  {
   "cell_type": "code",
   "execution_count": null,
   "id": "37b3f92d",
   "metadata": {},
   "outputs": [],
   "source": [
    "### ProductsList.tsx\n",
    "\n",
    "const products = new Array(50).fill(null).map(() => ({\n",
    "    id: faker.database.mongodbObjectId(),\n",
    "    name: faker.commerce.productName(),\n",
    "    description: faker.commerce.productDescription(),\n",
    "    material: faker.commerce.productMaterial(),\n",
    "    price: faker.commerce.price(),\n",
    "    department: faker.commerce.department(),\n",
    "    quantity: faker.number.int({min: 0, max: 100})\n",
    "}))\n",
    "\n",
    "export default function ProductsList() {\n",
    "\n",
    "    return products.map(product => (\n",
    "        <Product key={product.id} product={product} />\n",
    "    ))\n",
    "}"
   ]
  },
  {
   "cell_type": "markdown",
   "id": "900cc6d4",
   "metadata": {},
   "source": [
    "In the parent component instead of regular import we can use React.lazy function."
   ]
  },
  {
   "cell_type": "code",
   "execution_count": null,
   "id": "024cd93b",
   "metadata": {},
   "outputs": [],
   "source": [
    "# import ProductsList from './ProductsList'\n",
    "const ProductsList = React.lazy(() => {   # <-- utilize React.lazy build-in function\n",
    "    return import(\"./ProductsList\")       # <-- use JS import function to import the component\n",
    "})\n",
    "# ... other imports\n",
    "\n",
    "export default App() {\n",
    "    \n",
    "    return (\n",
    "      <div>\n",
    "        <React.Suspense   # We have to wrap suspended component with React.Suspense\n",
    "          fallback={<h2>Loading...</h2>}  ## fallback property used to render something while downloading suspended component\n",
    "        >\n",
    "          <ProductsList />  # component that will be rendered after downloading\n",
    "        </React.Suspense>\n",
    "      </div>\n",
    "    )\n",
    "}"
   ]
  }
 ],
 "metadata": {
  "kernelspec": {
   "display_name": "Python 3 (ipykernel)",
   "language": "python",
   "name": "python3"
  },
  "language_info": {
   "codemirror_mode": {
    "name": "ipython",
    "version": 3
   },
   "file_extension": ".py",
   "mimetype": "text/x-python",
   "name": "python",
   "nbconvert_exporter": "python",
   "pygments_lexer": "ipython3",
   "version": "3.11.2"
  }
 },
 "nbformat": 4,
 "nbformat_minor": 5
}
