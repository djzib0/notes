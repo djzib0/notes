{
 "cells": [
  {
   "cell_type": "markdown",
   "id": "142bae6a",
   "metadata": {},
   "source": [
    "# useMemo()\n",
    "\n",
    "Sometimes you have to calculate some value which is influencing optimization. After each re-render of the component React starts to calculate it again, even if it's not necessary.\n",
    "\n",
    "For example:"
   ]
  },
  {
   "cell_type": "code",
   "execution_count": null,
   "id": "6302099a",
   "metadata": {},
   "outputs": [],
   "source": [
    "# SampleComponent.tsx\n",
    "\n",
    "export default function SampleComponent() {\n",
    "    \n",
    "    const [counter, setCounter] = useState(1);\n",
    "    \n",
    "    # example function to simulate slow calculation\n",
    "    function fib(x: number) {\n",
    "        if (x <= 0) return 0;\n",
    "        if (x == 1) return 1;\n",
    "        return fib(x-1) + fib(x-2);\n",
    "      }\n",
    "    \n",
    "    const exampleVariable = fib(40)\n",
    "    \n",
    "    return (\n",
    "        <div>\n",
    "            {counter}\n",
    "            <button onClick={() => setCounter(prevState => prevState + 1)}>\n",
    "                Add\n",
    "            </button>\n",
    "        </div>\n",
    "    )\n",
    "    \n",
    "}"
   ]
  },
  {
   "cell_type": "markdown",
   "id": "9871a16d",
   "metadata": {},
   "source": [
    "In above example we can increase the counter displayed on the screen. After each incrementation of counter exampleVariable will be re-calculated. To avoid this we can use useMemo() like in the example below:"
   ]
  },
  {
   "cell_type": "code",
   "execution_count": null,
   "id": "4c1ffcf7",
   "metadata": {},
   "outputs": [],
   "source": [
    "# SampleComponent.tsx\n",
    "\n",
    "export default function SampleComponent() {\n",
    "    \n",
    "    const [counter, setCounter] = useState(1);\n",
    "    \n",
    "    # example function to simulate slow calculation\n",
    "    function fib(x: number) {\n",
    "        if (x <= 0) return 0;\n",
    "        if (x == 1) return 1;\n",
    "        return fib(x-1) + fib(x-2);\n",
    "      }\n",
    "    \n",
    "    const exampleVariable = React.useMemo(() => {\n",
    "        return fib(40);\n",
    "    }, []) # we can add dependecy to trigger recalculation when the state is changed (for example array with fetched items), or\n",
    "           # leave it blank to run it only at the first render.\n",
    "    \n",
    "    return (\n",
    "        <div>\n",
    "            {counter}\n",
    "            <button onClick={() => setCounter(prevState => prevState + 1)}>\n",
    "                Add\n",
    "            </button>\n",
    "        </div>\n",
    "    )\n",
    "    \n",
    "}"
   ]
  },
  {
   "cell_type": "markdown",
   "id": "af37c147",
   "metadata": {},
   "source": [
    "# React.memo()\n",
    "\n",
    "React.memo() allows to avoid re-render when the props are not changed. React renders all parent and child components even when the change is only in parent component."
   ]
  },
  {
   "cell_type": "code",
   "execution_count": null,
   "id": "1a1108f4",
   "metadata": {},
   "outputs": [],
   "source": [
    "# ExampleParentComponent.tsx\n",
    "\n",
    "export default function ExampleParentComponent() => {\n",
    "    \n",
    "    const [count, setCount] = useState(0);\n",
    "    \n",
    "    return (\n",
    "        <div>\n",
    "            This is count in parent {count}\n",
    "            <button onClick={() => setCount(prevState => prevState + 1)}\n",
    "            <ExampleChildComponent count={count} /> # we pass props\n",
    "            <ExampleChildComponent /> # we don't pass any props\n",
    "        </div>\n",
    "    )\n",
    "}\n",
    "\n",
    "# ExampleChildComponent.tsx\n",
    "export default function ExampleChildComponent({count}) {\n",
    "    \n",
    "    return (\n",
    "        <div>\n",
    "            Count in children component {count}\n",
    "        </div>\n",
    "    )\n",
    "}"
   ]
  },
  {
   "cell_type": "markdown",
   "id": "b60d1761",
   "metadata": {},
   "source": [
    "Everytime button is clicked, React re-renders parent and also a child component. To avoid this situation we have to use React.memo() hook."
   ]
  },
  {
   "cell_type": "code",
   "execution_count": null,
   "id": "433f092f",
   "metadata": {},
   "outputs": [],
   "source": [
    "# ExampleChildComponent.tsx\n",
    "function ExampleChildComponent({count}) { # remove export default \n",
    "    \n",
    "    console.log(\"This component has been re-rendered\") # you can use console.log to check if it's rendered\n",
    "    \n",
    "    return (\n",
    "        <div>\n",
    "            Count in children component {count}\n",
    "        </div>\n",
    "    )\n",
    "}\n",
    "\n",
    "# add here an export\n",
    "export default React.memo(ExampleChildComponent)\n"
   ]
  },
  {
   "cell_type": "markdown",
   "id": "5386cc78",
   "metadata": {},
   "source": [
    "React checks wether the props has changed or not. If yes, it re-renders the component. Otherwise it remains the same."
   ]
  },
  {
   "cell_type": "code",
   "execution_count": null,
   "id": "a498c4c2",
   "metadata": {},
   "outputs": [],
   "source": []
  }
 ],
 "metadata": {
  "kernelspec": {
   "display_name": "Python 3 (ipykernel)",
   "language": "python",
   "name": "python3"
  },
  "language_info": {
   "codemirror_mode": {
    "name": "ipython",
    "version": 3
   },
   "file_extension": ".py",
   "mimetype": "text/x-python",
   "name": "python",
   "nbconvert_exporter": "python",
   "pygments_lexer": "ipython3",
   "version": "3.11.2"
  }
 },
 "nbformat": 4,
 "nbformat_minor": 5
}
