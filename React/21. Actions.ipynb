{
 "cells": [
  {
   "cell_type": "markdown",
   "id": "4661436c",
   "metadata": {},
   "source": [
    "## Actions\n",
    "\n",
    "<i>\"By convention, functions that use async transitions are called 'Actions' \"</i>\n",
    "\n",
    "Old way of handling forms was a painfull experience. Please take a look at the below code."
   ]
  },
  {
   "cell_type": "code",
   "execution_count": null,
   "id": "2c901b14",
   "metadata": {},
   "outputs": [],
   "source": [
    "## old way of handling forms\n",
    "'use client' \n",
    "\n",
    "import React, { ChangeEvent, ChangeEventHandler, FormEvent, useState } from 'react'\n",
    "\n",
    "export async function updateNameInDB(newName: string) {\n",
    "  ## Sleep for 1500ms to mimic an API call round trip\n",
    "  await new Promise(resolve => setTimeout(resolve, 1500))\n",
    "  if (newName.toLowerCase().includes(\"error\")) {\n",
    "      throw new Error(\"Failed to update name\")\n",
    "  }\n",
    "  localStorage.setItem(\"name\", JSON.stringify(newName))\n",
    "  return newName\n",
    "}\n",
    "\n",
    "export const getNameFromDB = async () => {\n",
    "  return JSON.parse(localStorage.getItem(\"name\") || \"Anonymous user\")\n",
    "}\n",
    "\n",
    "const Actions = () => {\n",
    "  const [input, setInput] = useState(\"\")\n",
    "  const [name, setName] = useState<string>(getNameFromDB())\n",
    "  \n",
    "  ## handleChange is required\n",
    "  function handleChange(event: FormEvent<HTMLInputElement>) {\n",
    "    const newValue = event.currentTarget.value;\n",
    "    setInput(newValue)\n",
    "  }\n",
    "\n",
    "  async function handleSubmit(event: ChangeEvent<HTMLFormElement>) {\n",
    "    ## event preventDefault() was necessary\n",
    "    event.preventDefault()\n",
    "    try {\n",
    "      const newName = await updateNameInDB(input)\n",
    "      setName(newName)\n",
    "      setInput(\"\")\n",
    "    } catch (error: any) {\n",
    "      console.error(error.message)\n",
    "    }\n",
    "  }\n",
    "\n",
    "  return (\n",
    "    <>\n",
    "      <p className=\"username\">\n",
    "        Current user: <span>{name}</span>\n",
    "      </p>\n",
    "      <form onSubmit={handleSubmit}> ## onSubmit was necessary\n",
    "        <input\n",
    "          type=\"text\"\n",
    "          value={input} ## value was necessary\n",
    "          onChange={handleChange} ## onChange was necessary\n",
    "          required\n",
    "        />\n",
    "        <button type=\"submit\">Update</button>\n",
    "      </form>\n",
    "    </>\n",
    "  )\n",
    "}\n",
    "\n",
    "export default Actions"
   ]
  },
  {
   "cell_type": "markdown",
   "id": "9e89e4cb",
   "metadata": {},
   "source": [
    "#### New way of handling forms with actions"
   ]
  },
  {
   "cell_type": "markdown",
   "id": "99fe0888",
   "metadata": {},
   "source": [
    "First we remove onSubmit from form and we replace it with action. Next we have to add name parameter to allow React to track the value of this input field"
   ]
  },
  {
   "cell_type": "code",
   "execution_count": null,
   "id": "e8cb910c",
   "metadata": {},
   "outputs": [],
   "source": [
    "<form action={handleSubmit}> ## onSubmit was necessary\n",
    "        <input\n",
    "          type=\"text\"\n",
    "          value={input} ## value was necessary\n",
    "          onChange={handleChange} ## onChange was necessary\n",
    "          name=\"username\" \n",
    "          required\n",
    "        />\n",
    "        <button type=\"submit\">Update</button>\n",
    "      </form>"
   ]
  },
  {
   "cell_type": "markdown",
   "id": "d52a677a",
   "metadata": {},
   "source": [
    "Action is not an event handler (like it was onSubmit) so we don't get an event as an argument, instead we get formData object (FormData type). Thanks to it we don't have to track it in local React state."
   ]
  },
  {
   "cell_type": "code",
   "execution_count": null,
   "id": "79c4402b",
   "metadata": {},
   "outputs": [],
   "source": [
    "  async function handleSubmit(formData: FormData) {\n",
    "    ## removed event.preventDefault()\n",
    "    try {\n",
    "      const newName = await updateNameInDB(input)\n",
    "      setName(newName)\n",
    "      setInput(\"\")\n",
    "    } catch (error: any) {\n",
    "      console.error(error.message)\n",
    "    }\n",
    "  }"
   ]
  },
  {
   "cell_type": "markdown",
   "id": "478f1f40",
   "metadata": {},
   "source": [
    "We can remove const [input, setInput] = useState(\"\") - because it's not necessary to track it.\n",
    "Now, we have to modify newName variable because it awaits for data from input (which we deleted).\n",
    "\n",
    "To retrieve the value of specific input field we have to call function formData.get(). Example below"
   ]
  },
  {
   "cell_type": "code",
   "execution_count": null,
   "id": "7e007693",
   "metadata": {},
   "outputs": [],
   "source": [
    "  async function handleSubmit(formData: FormData) {\n",
    "    try {\n",
    "      const newName = await updateNameInDB(formData.get(\"username\"))\n",
    "      setName(newName)\n",
    "#       setInput(\"\") we don't need it anymore\n",
    "    } catch (error: any) {\n",
    "      console.error(error.message)\n",
    "    }\n",
    "  }"
   ]
  },
  {
   "cell_type": "markdown",
   "id": "702dc418",
   "metadata": {},
   "source": [
    "We can also remove handleChange function because it's not required anymore, and to distinct action from submitting we can change handleSubmit function to formAction.\n",
    "\n",
    "Our final code will look like below."
   ]
  },
  {
   "cell_type": "code",
   "execution_count": null,
   "id": "fe30b885",
   "metadata": {},
   "outputs": [],
   "source": [
    "'use client' \n",
    "\n",
    "import React, { ChangeEvent, FormEvent, useState } from 'react'\n",
    "\n",
    "export async function updateNameInDB(newName: string) {\n",
    "  // Sleep for 1500ms to mimic an API call round trip\n",
    "  await new Promise(resolve => setTimeout(resolve, 1500))\n",
    "\n",
    "  if (newName.toLowerCase().includes(\"error\")) {\n",
    "      throw new Error(\"Failed to update name\")\n",
    "  }\n",
    "  localStorage.setItem(\"name\", JSON.stringify(newName))\n",
    "  return newName\n",
    "}\n",
    "\n",
    "export const getNameFromDB = async () => {\n",
    "  return JSON.parse(localStorage.getItem(\"name\") || \"Anonymous user\")\n",
    "}\n",
    "\n",
    "const Actions = () => {\n",
    "  const [name, setName] = useState<string>(getNameFromDB())\n",
    "\n",
    "\n",
    "  async function formAction(formData: FormData) {\n",
    "    try {\n",
    "      const newName = await updateNameInDB(formData.get(\"username\"))\n",
    "      setName(newName)\n",
    "    } catch (error: any) {\n",
    "      console.error(error.message)\n",
    "    }\n",
    "  }\n",
    "\n",
    "  return (\n",
    "    <>\n",
    "      <p className=\"username\">\n",
    "        Current user: <span>{name}</span>\n",
    "      </p>\n",
    "      <form action={formAction}>\n",
    "        <input\n",
    "          type=\"text\"\n",
    "          name='username'\n",
    "          required\n",
    "        />\n",
    "        <button type=\"submit\">Update</button>\n",
    "      </form>\n",
    "    </>\n",
    "  )\n",
    "}\n",
    "\n",
    "export default Actions"
   ]
  }
 ],
 "metadata": {
  "kernelspec": {
   "display_name": "Python 3 (ipykernel)",
   "language": "python",
   "name": "python3"
  },
  "language_info": {
   "codemirror_mode": {
    "name": "ipython",
    "version": 3
   },
   "file_extension": ".py",
   "mimetype": "text/x-python",
   "name": "python",
   "nbconvert_exporter": "python",
   "pygments_lexer": "ipython3",
   "version": "3.11.2"
  }
 },
 "nbformat": 4,
 "nbformat_minor": 5
}
