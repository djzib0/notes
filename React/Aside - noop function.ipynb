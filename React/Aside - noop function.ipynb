{
 "cells": [
  {
   "cell_type": "markdown",
   "id": "a8be1672",
   "metadata": {},
   "source": [
    "Jeżeli nie przekażemy we props funkcji, a komponent będzie jej oczekiwał, to aplikacja wyrzuci błąd.\n",
    "Aby temu zapobiec możemy zastosować noop function - no opeartion function."
   ]
  },
  {
   "cell_type": "code",
   "execution_count": null,
   "id": "438b9f15",
   "metadata": {},
   "outputs": [],
   "source": [
    "function Menu({ children, onOpen = () => {} }) { # if due to mistake function is not passed we can make a \"security\" function\n",
    "  return (\n",
    "    <Toggle onClick={onOpen}> # we need function to use it when component is clicked\n",
    "      <div className='menu'>\n",
    "        {children}\n",
    "      </div>\n",
    "    </Toggle>\n",
    "  )\n",
    "}"
   ]
  }
 ],
 "metadata": {
  "kernelspec": {
   "display_name": "Python 3 (ipykernel)",
   "language": "python",
   "name": "python3"
  },
  "language_info": {
   "codemirror_mode": {
    "name": "ipython",
    "version": 3
   },
   "file_extension": ".py",
   "mimetype": "text/x-python",
   "name": "python",
   "nbconvert_exporter": "python",
   "pygments_lexer": "ipython3",
   "version": "3.11.2"
  }
 },
 "nbformat": 4,
 "nbformat_minor": 5
}
