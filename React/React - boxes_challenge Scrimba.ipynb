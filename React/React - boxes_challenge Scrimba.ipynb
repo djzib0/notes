{
 "cells": [
  {
   "cell_type": "markdown",
   "id": "7427e19f",
   "metadata": {},
   "source": [
    "App.js"
   ]
  },
  {
   "cell_type": "code",
   "execution_count": null,
   "id": "050f8da5",
   "metadata": {},
   "outputs": [],
   "source": [
    "function App() {\n",
    "\n",
    "    # ustawiamy State dla zaimportowanego obiektu boxes \n",
    "    const [squares, setSquares] = React.useState(boxes)\n",
    "\n",
    "    # funkcja toggle do wychwycenia zmian dla klikniętego elementu\n",
    "    function toggle(id) {\n",
    "        #jako argument przekazywany jest ostatni znany State czyli prevSquares (prefix prev umowny)\n",
    "        setSquares(prevSquares => {  \n",
    "            return prevSquares.map({ # zwracamy zmapowany array\n",
    "                # jeżeli id równa się id klikniętego elementu\n",
    "                return square.id === id ? {...square, on: !square.on} : square\n",
    "            })\n",
    "        })\n",
    "    }\n",
    "\n",
    "    # stworzenie array (tablicy) do wyświetlenia komponentów Box dla każdego square w squares\n",
    "    const squaresArray = squares.map((square) => {\n",
    "        return <Box key={square.id}\n",
    "                    id={square.id}\n",
    "                    on={square.on}\n",
    "                    toggle={toggle} # przekazanie funkcji toggle\n",
    "    })\n",
    "    \n",
    "    #zwracam do index.js array z przygotowanymi komponentami Box\n",
    "    return (\n",
    "    <div>\n",
    "       {squaresArray} \n",
    "    </div>)\n",
    "}"
   ]
  },
  {
   "cell_type": "markdown",
   "id": "9ae4c9f5",
   "metadata": {},
   "source": [
    "Box.js"
   ]
  },
  {
   "cell_type": "code",
   "execution_count": null,
   "id": "38b1b050",
   "metadata": {},
   "outputs": [],
   "source": [
    "export default function Box(props) {\n",
    "    # ustawiamy wartośc background-color dla stylu\n",
    "    const styles = {\n",
    "        backgroundColor: props.on ? \"#222222\" : \"#cccccc\"\n",
    "    }\n",
    "    return <div className=\"box\" style={styles} onClick={() => toggle.props(toggle.id)}\n",
    "}"
   ]
  }
 ],
 "metadata": {
  "kernelspec": {
   "display_name": "Python 3 (ipykernel)",
   "language": "python",
   "name": "python3"
  },
  "language_info": {
   "codemirror_mode": {
    "name": "ipython",
    "version": 3
   },
   "file_extension": ".py",
   "mimetype": "text/x-python",
   "name": "python",
   "nbconvert_exporter": "python",
   "pygments_lexer": "ipython3",
   "version": "3.10.4"
  }
 },
 "nbformat": 4,
 "nbformat_minor": 5
}
