{
 "cells": [
  {
   "cell_type": "markdown",
   "id": "5e0221de",
   "metadata": {},
   "source": [
    "Komponent Form.js"
   ]
  },
  {
   "cell_type": "code",
   "execution_count": null,
   "id": "85136f94",
   "metadata": {},
   "outputs": [],
   "source": [
    "export default function Form() {\n",
    "    # tworzenie State\n",
    "    const [formData, setFormData] = React.useState(\n",
    "        {firstName: \"\", lastName: \"\"}\n",
    "    )\n",
    "    \n",
    "    # zapisywanie zmian formularza w State\n",
    "    function handleChange(e) {\n",
    "        setFormData(prevFormData {\n",
    "            return {\n",
    "                ...prevFormData.\n",
    "                [e.target.name]: e.target.value\n",
    "            }\n",
    "        })\n",
    "    }\n",
    "    \n",
    "    #JSX\n",
    "    return {\n",
    "        <div>\n",
    "            <form>\n",
    "                <input\n",
    "                    type=\"text\"\n",
    "                    placeholder=\"First Name\"\n",
    "                    name=\"firstName\" #tutaj dajemy taką samą nazwę jak w obiekcie w ustState\n",
    "                    onChange={handleChange} #na zmianę w polu input uruchomi funkcję handleChange()\n",
    "                    # bez poniższej właściwości też będzie działać, ale w tym przypadku to React\n",
    "                    # kontroluje jaka jest wartość, a nie formularz \n",
    "                    value={formData.firstName}\n",
    "                />\n",
    "                <input\n",
    "                    type=\"text\"\n",
    "                    placeholder=\"Last Name\"\n",
    "                    name=\"lastName\"\n",
    "                    onChange={handleChange} \n",
    "                    value={formData.lastName}\n",
    "                />\n",
    "            </form>\n",
    "        </div>\n",
    "    }   \n",
    "}"
   ]
  }
 ],
 "metadata": {
  "kernelspec": {
   "display_name": "Python 3 (ipykernel)",
   "language": "python",
   "name": "python3"
  },
  "language_info": {
   "codemirror_mode": {
    "name": "ipython",
    "version": 3
   },
   "file_extension": ".py",
   "mimetype": "text/x-python",
   "name": "python",
   "nbconvert_exporter": "python",
   "pygments_lexer": "ipython3",
   "version": "3.10.4"
  }
 },
 "nbformat": 4,
 "nbformat_minor": 5
}
