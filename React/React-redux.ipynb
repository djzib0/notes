{
 "cells": [
  {
   "cell_type": "markdown",
   "id": "e44420a7",
   "metadata": {},
   "source": [
    "### Po stworzeniu projektu należy zainstalować"
   ]
  },
  {
   "cell_type": "code",
   "execution_count": null,
   "id": "17a8412c",
   "metadata": {},
   "outputs": [],
   "source": [
    "npm install @reduxjs/toolkit\n",
    "npm install react-redux"
   ]
  },
  {
   "cell_type": "markdown",
   "id": "572f6ad4",
   "metadata": {},
   "source": [
    "Tworzymy katalog features (taka konwencja? gdzie indziej był katalog redux), a w katalogu umieszczamy plik z nazwą reducer-a."
   ]
  },
  {
   "cell_type": "code",
   "execution_count": null,
   "id": "42bfc34c",
   "metadata": {},
   "outputs": [],
   "source": [
    "## plik user.jsx\n",
    "\n",
    "## importujemy createSlice\n",
    "import { createSlice } from '@reduxjs/toolkig'\n",
    "\n",
    "## tworzymy slice-a, do którego musimy przekazać argumenty jak niżej\n",
    "export const userSlice = createSlice({\n",
    "    name: \"user\",  # nie wiem gdzie można póżniej użyć tej nazwy :(\n",
    "    initialState: {value: {name: \"\", age: 0, email: \"\"}},\n",
    "    reducers: {\n",
    "        # akcje, które modyfikują state\n",
    "        login: (state, action) => {         # login to nazwa akcji, można nazwać np setNewLogin, incrementCounter itp.\n",
    "            state.value = action.payload\n",
    "        }\n",
    "    }\n",
    "})\n",
    "\n",
    "## exportujemy akcję login\n",
    "export const { login } = userSlice.actions\n",
    "\n",
    "## exportujemy userSlice reducer\n",
    "export default userSlice.reducer"
   ]
  },
  {
   "cell_type": "markdown",
   "id": "d4378de0",
   "metadata": {},
   "source": [
    "W pliku main.jsx (lub index.jsx) całej aplikacji."
   ]
  },
  {
   "cell_type": "code",
   "execution_count": null,
   "id": "cab65877",
   "metadata": {},
   "outputs": [],
   "source": [
    "# importujemy Provider-a\n",
    "import { Provider } from 'react-redux'\n",
    "\n",
    "# importujemy userReducer z user.jsx (jako, że jest exportowany jako default, to możemy importować wg własnej nazwy, czyli \n",
    "# userReducer)\n",
    "\n",
    "import userReducer from './features/user.jsx'\n",
    "\n",
    "# importujemy configureStore\n",
    "import { configureStore } from '@reduxjs/toolkit'\n",
    "\n",
    "# tworzymy store\n",
    "const store = configureStore({\n",
    "    user: userReducer          # user to nazwa własna, będzie wykorzystana w odczytaniu wartości state\n",
    "    other: otherReducer        # możemy przygotować sobie innne slice-y do kontrolowania inneg zbioru state\n",
    "})\n",
    "\n",
    "# wrapujemy aplikację Providerem\n",
    "\n",
    "ReactDOM.createRoot(document.getElementById('root')).render(\n",
    "  <React.StrictMode>\n",
    "    <Provider store={store}>   # store musi być zawsze przekazany\n",
    "      <App />\n",
    "    </Provider>\n",
    "  </React.StrictMode>,\n",
    ")"
   ]
  },
  {
   "cell_type": "code",
   "execution_count": null,
   "id": "affe96bf",
   "metadata": {},
   "outputs": [],
   "source": [
    "## tworzymy przykładowy komponent Login.jsx, a w nim\n",
    "\n",
    "# importujemy useDispatch\n",
    "import { useDispatch } from 'react-redux'\n",
    "\n",
    "# importujemy actions ze slice-a\n",
    "import { login } from '../featuers/user'\n",
    "\n",
    "# tworzymy komponent\n",
    "function Login() {\n",
    "    \n",
    "    const dispatch = useDispatch() # tworzymy funkcję dispatch przy pomocy hooka useDispatch\n",
    "    \n",
    "    return {\n",
    "        <div>\n",
    "            <button onClick={() => {  # dla eventu przypisujemy funkcję dispatch, \n",
    "                                      # która jako argument dostaje akcję (w tym przypadku login)\n",
    "                dispatch(login({\n",
    "                    name: \"newName\",\n",
    "                    email: \"newEmail\",\n",
    "                    age: 30,\n",
    "                }))\n",
    "            }}>Login</button>\n",
    "        </div>\n",
    "    }\n",
    "    \n",
    "}"
   ]
  },
  {
   "cell_type": "markdown",
   "id": "fb50cea1",
   "metadata": {},
   "source": [
    "### Sposób nr 2 W pliku main.jsx (lub index.jsx) aplikacji importujemy Provider-a, a następnie komponent app opakowujemy w Provider-a."
   ]
  },
  {
   "cell_type": "code",
   "execution_count": null,
   "id": "c0f9884e",
   "metadata": {},
   "outputs": [],
   "source": [
    "## tworzymy np. nowy komponent np. Profile.jsx gdzie chcemy wyświetlić dane usera\n",
    "\n",
    "# importujemy useSelector\n",
    "import { useSelector } from 'react-redux'\n",
    "\n",
    "function Profile() {\n",
    "    \n",
    "    const user = useSelector( state => state.user.value) # odnosimy się do user z punktu wyżej, \n",
    "    \n",
    "    return (\n",
    "    <div>\n",
    "        <h1>Profile page</h1>\n",
    "        <p>Name: {user.name}</p>\n",
    "        <p>Age: {user.age}</p>\n",
    "        <p>Email: {user.email}<p>\n",
    "    </div>\n",
    "    )\n",
    "}\n"
   ]
  },
  {
   "cell_type": "code",
   "execution_count": null,
   "id": "7d285cb8",
   "metadata": {},
   "outputs": [],
   "source": [
    "import { Provider } from 'react-redux'\n",
    "\n",
    "...\n",
    "\n",
    "<Provider store={store}>  ## Provider zawsze musi mieć przekazany store!\n",
    "    <App>\n",
    "</Provider"
   ]
  },
  {
   "cell_type": "markdown",
   "id": "659d4263",
   "metadata": {},
   "source": [
    "Tworzymy katalog redux, tworzymy tam plik index.jsx, a następnie importujemy ConfigureStore"
   ]
  },
  {
   "cell_type": "code",
   "execution_count": null,
   "id": "ddd30092",
   "metadata": {},
   "outputs": [],
   "source": [
    "import { ConfigureStore } from '@reduxjs/toolkit'\n",
    "\n",
    "# tworzymy funkcje modyfikujące state\n",
    "# np.\n",
    "\n",
    "export function increment(val) {\n",
    "    type: \"INCREMENT\",   # konwencja mówi, że type piszemy z wielkich liter i nazywamy jak nazwa funkcji\n",
    "    payload: val  # payload będzie miał przypisaną wartość val przekazaną jako argument\n",
    "}\n",
    "\n",
    "export function decrement() {\n",
    "    type: \"DECREMENT\"  # funkcja decrement będzie pomniejszać counter tylko o 1, więc nie deklaruję payload\n",
    "}\n",
    "\n",
    "\n",
    "export function counterReducer(counter = 0, action) {   # ustawiamy counter default wartość 0, oraz dodajemy parametr action\n",
    "    switch(action.type) { # w zależności jaki action type będzie wybrany, counter zaktualizuje się wg tego co zwróci funkcja\n",
    "        case \"INCREMENT\":\n",
    "            return counter + payload  # zwróci counter powiększonego o przekazaną wartość payload\n",
    "        case \"DECREMENT\":\n",
    "            return counter - 1   # counter zmniejszy się tylko o 1\n",
    "    }\n",
    "}\n",
    "\n",
    "# konfigurujemy store\n",
    "const store = configureStore({\n",
    "    counterReducer,\n",
    "})\n",
    "\n",
    "# subskrybujemy store\n",
    "store.subscribe(() => console.log(store.getState())) # wyświetli aktualny stan counter-a.\n",
    "\n",
    "export default store\n"
   ]
  }
 ],
 "metadata": {
  "kernelspec": {
   "display_name": "Python 3 (ipykernel)",
   "language": "python",
   "name": "python3"
  },
  "language_info": {
   "codemirror_mode": {
    "name": "ipython",
    "version": 3
   },
   "file_extension": ".py",
   "mimetype": "text/x-python",
   "name": "python",
   "nbconvert_exporter": "python",
   "pygments_lexer": "ipython3",
   "version": "3.11.2"
  }
 },
 "nbformat": 4,
 "nbformat_minor": 5
}
