{
 "cells": [
  {
   "cell_type": "markdown",
   "id": "e44420a7",
   "metadata": {},
   "source": [
    "### Po stworzeniu projektu należy zainstalować"
   ]
  },
  {
   "cell_type": "code",
   "execution_count": null,
   "id": "17a8412c",
   "metadata": {},
   "outputs": [],
   "source": [
    "npm install @reduxjs/toolkit\n",
    "npm install react-redux"
   ]
  },
  {
   "cell_type": "markdown",
   "id": "fb50cea1",
   "metadata": {},
   "source": [
    "W pliku main.jsx (lub index.jsx) aplikacji importujemy Provider-a, a następnie komponent app opakowujemy w Provider-a."
   ]
  },
  {
   "cell_type": "code",
   "execution_count": null,
   "id": "7d285cb8",
   "metadata": {},
   "outputs": [],
   "source": [
    "import { Provider } from 'react-redux'\n",
    "\n",
    "...\n",
    "\n",
    "<Provider store={store}>  ## Provider zawsze musi mieć przekazany store!\n",
    "    <App>\n",
    "</Provider"
   ]
  },
  {
   "cell_type": "markdown",
   "id": "659d4263",
   "metadata": {},
   "source": [
    "Tworzymy katalog redux, tworzymy tam plik index.jsx, a następnie importujemy ConfigureStore"
   ]
  },
  {
   "cell_type": "code",
   "execution_count": null,
   "id": "ddd30092",
   "metadata": {},
   "outputs": [],
   "source": [
    "import { ConfigureStore } from '@reduxjs/toolkit'\n",
    "\n",
    "# tworzymy funkcje modyfikujące state\n",
    "# np.\n",
    "\n",
    "export function increment(val) {\n",
    "    type: \"INCREMENT\",   # konwencja mówi, że type piszemy z wielkich liter i nazywamy jak nazwa funkcji\n",
    "    payload: val  # payload będzie miał przypisaną wartość val przekazaną jako argument\n",
    "}\n",
    "\n",
    "export function decrement() {\n",
    "    type: \"DECREMENT\"  # funkcja decrement będzie pomniejszać counter tylko o 1, więc nie deklaruję payload\n",
    "}\n",
    "\n",
    "\n",
    "export function counterReducer(counter = 0, action) {   # ustawiamy counter default wartość 0, oraz dodajemy parametr action\n",
    "    switch(action.type) { # w zależności jaki action type będzie wybrany, counter zaktualizuje się wg tego co zwróci funkcja\n",
    "        case \"INCREMENT\":\n",
    "            return counter + payload  # zwróci counter powiększonego o przekazaną wartość payload\n",
    "        case \"DECREMENT\":\n",
    "            return counter - 1   # counter zmniejszy się tylko o 1\n",
    "    }\n",
    "}\n",
    "\n",
    "# konfigurujemy store\n",
    "const store = configureStore({\n",
    "    counterReducer,\n",
    "})\n",
    "\n",
    "# subskrybujemy store\n",
    "store.subscribe(() => console.log(store.getState())) # wyświetli aktualny stan counter-a.\n",
    "\n",
    "export default store\n"
   ]
  }
 ],
 "metadata": {
  "kernelspec": {
   "display_name": "Python 3 (ipykernel)",
   "language": "python",
   "name": "python3"
  },
  "language_info": {
   "codemirror_mode": {
    "name": "ipython",
    "version": 3
   },
   "file_extension": ".py",
   "mimetype": "text/x-python",
   "name": "python",
   "nbconvert_exporter": "python",
   "pygments_lexer": "ipython3",
   "version": "3.11.2"
  }
 },
 "nbformat": 4,
 "nbformat_minor": 5
}
