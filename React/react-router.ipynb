{
 "cells": [
  {
   "cell_type": "markdown",
   "id": "fc3dd668",
   "metadata": {},
   "source": [
    "Instalacja w projekcie"
   ]
  },
  {
   "cell_type": "code",
   "execution_count": null,
   "id": "d2e76b5f",
   "metadata": {},
   "outputs": [],
   "source": [
    "npm install react-router-dom"
   ]
  },
  {
   "cell_type": "markdown",
   "id": "cdcd875b",
   "metadata": {},
   "source": [
    "W pliku jsx, w którym chcemu użyć Router-a (np.main.jsx, index.jsx itp.)"
   ]
  },
  {
   "cell_type": "code",
   "execution_count": null,
   "id": "00510ce7",
   "metadata": {},
   "outputs": [],
   "source": [
    "# importujemy moduł z react-router-dom\n",
    "import { BrowserRouter as Router} from 'react-router-dom'\n",
    "\n",
    "# wrapujemy komponenty, w których chemu użyć router\n",
    "\n",
    "ReactDOM.createRoot(document.getElementById('root')).render(\n",
    "    <Router>\n",
    "      <App />\n",
    "    </Router>,\n",
    ")\n"
   ]
  },
  {
   "cell_type": "markdown",
   "id": "0b9f1f8c",
   "metadata": {},
   "source": [
    "W pliku komponentu gdzie chcemy zastosować router"
   ]
  },
  {
   "cell_type": "code",
   "execution_count": null,
   "id": "84c891a0",
   "metadata": {},
   "outputs": [],
   "source": [
    "# importujemy niezbędne moduły\n",
    "import {Link, Routers, Route} from 'react-router-dom' # w starszej wersji zamiast Routes, było Switch\n",
    "\n",
    "function App() {\n",
    "    <div>\n",
    "        <Link to=\"/\">Home</Link> # tworzymy linki do komponentów\n",
    "        <Link to=\"/about\">About</Link> \n",
    "    \n",
    "    <Routes>\n",
    "        <Route exact path=\"/\" element={<Home anyProp={anyProp}/>} /> # w starszej wersji był component zamiast element\n",
    "        # jeżeli w powyższym zabrakło by exact, to po kliknięciu w about,\n",
    "        # szuka po pierwszej ścieżce, która pasuje (w tym przypadku mam \"/\" przed about, i react pomyślałby, że chodzi od link\n",
    "        # do Home, a nie do about)\n",
    "        <Route path=\"/about\" element={<About/>} />\n",
    "    </Routes>\n",
    "    </div>\n",
    "} "
   ]
  }
 ],
 "metadata": {
  "kernelspec": {
   "display_name": "Python 3 (ipykernel)",
   "language": "python",
   "name": "python3"
  },
  "language_info": {
   "codemirror_mode": {
    "name": "ipython",
    "version": 3
   },
   "file_extension": ".py",
   "mimetype": "text/x-python",
   "name": "python",
   "nbconvert_exporter": "python",
   "pygments_lexer": "ipython3",
   "version": "3.10.4"
  }
 },
 "nbformat": 4,
 "nbformat_minor": 5
}
