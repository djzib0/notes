{
 "cells": [
  {
   "cell_type": "markdown",
   "id": "bfb6fd8a",
   "metadata": {},
   "source": [
    "### Modifiers\n",
    "\n",
    "Syntax:<br>\n",
    "class='{modifier}:{class}'\n",
    "\n",
    "modifiers:<br>\n",
    "\n",
    "hover<br>\n",
    "focus<br>\n",
    "odd<br>\n",
    "and more<br>\n",
    "\n",
    "Documentation:<br>\n",
    "https://tailwindcss.com/docs/hover-focus-and-other-states\n",
    "\n",
    "We can chain modifiers. For example we want to change placeholder appearance when focus so we can use class:\n",
    "\n",
    "focus:placeholder:text-rose-900"
   ]
  },
  {
   "cell_type": "code",
   "execution_count": null,
   "id": "4a290c48",
   "metadata": {},
   "outputs": [],
   "source": []
  }
 ],
 "metadata": {
  "kernelspec": {
   "display_name": "Python 3 (ipykernel)",
   "language": "python",
   "name": "python3"
  },
  "language_info": {
   "codemirror_mode": {
    "name": "ipython",
    "version": 3
   },
   "file_extension": ".py",
   "mimetype": "text/x-python",
   "name": "python",
   "nbconvert_exporter": "python",
   "pygments_lexer": "ipython3",
   "version": "3.11.2"
  }
 },
 "nbformat": 4,
 "nbformat_minor": 5
}
