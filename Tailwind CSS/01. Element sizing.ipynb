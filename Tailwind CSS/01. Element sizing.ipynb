{
 "cells": [
  {
   "cell_type": "markdown",
   "id": "504c9afa",
   "metadata": {},
   "source": [
    "### Element sizing\n",
    "\n",
    "##### Syntax\n",
    "\n",
    "class='w-{value}'\n",
    "class='h-{value}'\n",
    "\n",
    "1 tailwind unit = 0.25 rem = 4 px\n",
    "\n",
    "Documentation:\n",
    "\n",
    "https://tailwindcss.com/docs/width,\n",
    "\n",
    "https://tailwindcss.com/docs/height\n",
    "\n"
   ]
  },
  {
   "cell_type": "code",
   "execution_count": null,
   "id": "be080bcb",
   "metadata": {},
   "outputs": [],
   "source": [
    "<main>\n",
    "  <section className=\"w-64 h-32\"> ## fixed width and height  \n",
    "      Fixed units\n",
    "  </section>\n",
    "  <section className=\"h-full\"> ## takes 100% of parent element (h-screen would take 100% of screen)\n",
    "      Percentage units\n",
    "  </section>\n",
    "  <section className=\"h-1/3 w-1/2\"> ## takes 1/3 of parent height and 1/2 of parent width\n",
    "      Viewport units\n",
    "  </section>\n",
    "</main>"
   ]
  }
 ],
 "metadata": {
  "kernelspec": {
   "display_name": "Python 3 (ipykernel)",
   "language": "python",
   "name": "python3"
  },
  "language_info": {
   "codemirror_mode": {
    "name": "ipython",
    "version": 3
   },
   "file_extension": ".py",
   "mimetype": "text/x-python",
   "name": "python",
   "nbconvert_exporter": "python",
   "pygments_lexer": "ipython3",
   "version": "3.11.2"
  }
 },
 "nbformat": 4,
 "nbformat_minor": 5
}
