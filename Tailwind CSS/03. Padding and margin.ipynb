{
 "cells": [
  {
   "cell_type": "markdown",
   "id": "fcac4ba7",
   "metadata": {},
   "source": [
    "### Padding and margin\n",
    "\n",
    "##### Syntax\n",
    "\n",
    "class='p-{value}'<br>\n",
    "class='m-{value}'\n",
    "\n",
    "1 unit = 0.25rem;\n",
    "\n",
    "Documentation:<br>\n",
    "https://tailwindcss.com/docs/padding <br>\n",
    "https://tailwindcss.com/docs/margin <br>\n",
    "\n",
    "\n",
    "For more explicit margin values we can use for example"
   ]
  },
  {
   "cell_type": "code",
   "execution_count": null,
   "id": "8b662b12",
   "metadata": {},
   "outputs": [],
   "source": [
    "<div class='mx-0'> ## equals to margin-left and margin right = 0\n",
    "    Some content\n",
    "</div>\n",
    "\n",
    "## to set margin left, right, top, bottom we use syntax as below\n",
    "\n",
    "<div class='ml-4 mr-2 mt-8 mb-4' ## the same syntax is for padding - pl pr pt pb"
   ]
  },
  {
   "cell_type": "markdown",
   "id": "6688319d",
   "metadata": {},
   "source": [
    "To set margins to auto we use.\n",
    "\n",
    "m-auto = margin: auto;\n",
    "mx-auto = margin-left: auto + margin-right: auto;\n",
    "my-auto = margin-top: auto + margin-bottom: auto;"
   ]
  }
 ],
 "metadata": {
  "kernelspec": {
   "display_name": "Python 3 (ipykernel)",
   "language": "python",
   "name": "python3"
  },
  "language_info": {
   "codemirror_mode": {
    "name": "ipython",
    "version": 3
   },
   "file_extension": ".py",
   "mimetype": "text/x-python",
   "name": "python",
   "nbconvert_exporter": "python",
   "pygments_lexer": "ipython3",
   "version": "3.11.2"
  }
 },
 "nbformat": 4,
 "nbformat_minor": 5
}
