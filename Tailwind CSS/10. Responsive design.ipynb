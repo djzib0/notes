{
 "cells": [
  {
   "cell_type": "markdown",
   "id": "b94eba72",
   "metadata": {},
   "source": [
    "### Responsive Design\n",
    "\n",
    "###### Breakpoint modifiers\n",
    "\n",
    "Syntax:<br>\n",
    "class='{prefix}:{class}'\n",
    "\n",
    "prefixes:<br>\n",
    "sm = min 640px<br>\n",
    "md = min 768px<br>\n",
    "lg = min 1024px<br>\n",
    "xl = min 1280px<br>\n",
    "2xl = min 1538px<br>\n",
    "\n",
    "Documentation:<br>\n",
    "https://tailwindcss.com/docs/responsive-design"
   ]
  }
 ],
 "metadata": {
  "kernelspec": {
   "display_name": "Python 3 (ipykernel)",
   "language": "python",
   "name": "python3"
  },
  "language_info": {
   "codemirror_mode": {
    "name": "ipython",
    "version": 3
   },
   "file_extension": ".py",
   "mimetype": "text/x-python",
   "name": "python",
   "nbconvert_exporter": "python",
   "pygments_lexer": "ipython3",
   "version": "3.11.2"
  }
 },
 "nbformat": 4,
 "nbformat_minor": 5
}
