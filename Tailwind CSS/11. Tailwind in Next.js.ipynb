{
 "cells": [
  {
   "cell_type": "markdown",
   "id": "df7b5ad8",
   "metadata": {},
   "source": [
    "### Tailwind in Next.JS\n",
    "\n",
    "###### Own font\n",
    "\n",
    "We can use next.js build-in fonts, but we can also use our own fonts, which can be placed in app/fonts folder. Then we can set up font as below."
   ]
  },
  {
   "cell_type": "code",
   "execution_count": null,
   "id": "2f020575",
   "metadata": {},
   "outputs": [],
   "source": [
    "import type { Metadata } from \"next\";\n",
    "import \"./globals.css\";\n",
    "import localFont from \"next/font/local\";\n",
    "\n",
    "\n",
    "## original fonts when new projects has been created\n",
    "#  const geistSans = Geist({\n",
    "#   variable: \"--font-geist-sans\",\n",
    "#   subsets: [\"latin\"],\n",
    "#  });\n",
    "\n",
    "#  const geistMono = Geist_Mono({\n",
    "#    variable: \"--font-geist-mono\",\n",
    "#    subsets: [\"latin\"],\n",
    "#   });\n",
    "\n",
    "const workSans = localFont({\n",
    "  src: [\n",
    "    {\n",
    "      path: './fonts/WorkSans-Black.ttf',\n",
    "      weight: '900',\n",
    "      style: 'normal'\n",
    "    },\n",
    "    {\n",
    "      path: './fonts/WorkSans-ExtraBold.ttf',\n",
    "      weight: '800',\n",
    "      style: 'normal'\n",
    "    },\n",
    "    {\n",
    "      path: './fonts/WorkSans-Bold.ttf',\n",
    "      weight: '700',\n",
    "      style: 'normal'\n",
    "    },\n",
    "    {\n",
    "      path: './fonts/WorkSans-SemiBold.ttf',\n",
    "      weight: '600',\n",
    "      style: 'normal'\n",
    "    },\n",
    "    {\n",
    "      path: './fonts/WorkSans-Medium.ttf',\n",
    "      weight: '500',\n",
    "      style: 'normal'\n",
    "    },\n",
    "    {\n",
    "      path: './fonts/WorkSans-Regular.ttf',\n",
    "      weight: '400',\n",
    "      style: 'normal'\n",
    "    },\n",
    "    {\n",
    "      path: './fonts/WorkSans-Thin.ttf',\n",
    "      weight: '200',\n",
    "      style: 'normal'\n",
    "    },\n",
    "    {\n",
    "      path: './fonts/WorkSans-ExtraLight.ttf',\n",
    "      weight: '100',\n",
    "      style: 'normal'\n",
    "    },\n",
    "  ],\n",
    "  variable: '--font-work-sans'\n",
    "})\n",
    "\n",
    "export default function RootLayout({\n",
    "  children,\n",
    "}: Readonly<{\n",
    "  children: React.ReactNode;\n",
    "}>) {\n",
    "  return (\n",
    "    <html lang=\"en\">\n",
    "      <body\n",
    "        className={workSans.variable} ## utilizing in the whole project\n",
    "      >\n",
    "        {children}\n",
    "      </body>\n",
    "    </html>\n",
    "  );\n",
    "}\n"
   ]
  },
  {
   "cell_type": "markdown",
   "id": "9f52f90a",
   "metadata": {},
   "source": [
    "###### Creating own classes\n",
    "\n",
    "Sometimes our designed webpage has the same styles for a different components. We can avoid repeating the code and writing the same tailwind properties for each element by creating an own utility class.\n",
    "\n",
    "To do so, we have to modify globals.css, where we declare new classes with chosen properties."
   ]
  },
  {
   "cell_type": "code",
   "execution_count": null,
   "id": "7df42df1",
   "metadata": {},
   "outputs": [],
   "source": [
    "## globals.css\n",
    "\n",
    "##...\n",
    "\n",
    "@layer utilities {\n",
    "  .heading { ## our own class name \n",
    "    @apply uppercase bg-black px-6 py-3 font-work-sans font-extrabold text-white sm:text-[54px] sm:leading-[64px] text-[36px] leading-[46px] max-w-5xl text-center my-5\n",
    "  }\n",
    "}"
   ]
  },
  {
   "cell_type": "markdown",
   "id": "04c40f11",
   "metadata": {},
   "source": [
    "Now we can use it for elements in our project."
   ]
  },
  {
   "cell_type": "code",
   "execution_count": null,
   "id": "df0f8fb2",
   "metadata": {},
   "outputs": [],
   "source": [
    "export default function Home() {\n",
    "  return (\n",
    "    <>\n",
    "      <h1 className=\"heading\">Home</h1>\n",
    "    </>\n",
    "  );\n",
    "}"
   ]
  },
  {
   "cell_type": "markdown",
   "id": "8b439348",
   "metadata": {},
   "source": [
    "This is a great way to avoid boiler code, but what if we want to use the same class, but change only one, or two properties? We can easily do this as in the example below:"
   ]
  },
  {
   "cell_type": "code",
   "execution_count": null,
   "id": "4879791e",
   "metadata": {},
   "outputs": [],
   "source": [
    "export default function Home() {\n",
    "  return (\n",
    "    <>\n",
    "      # property with exclamation mark with overwrite property in utilities class\n",
    "      <h1 className=\"heading !text-black\">Home</h1>\n",
    "    </>\n",
    "  );\n",
    "}"
   ]
  }
 ],
 "metadata": {
  "kernelspec": {
   "display_name": "Python 3 (ipykernel)",
   "language": "python",
   "name": "python3"
  },
  "language_info": {
   "codemirror_mode": {
    "name": "ipython",
    "version": 3
   },
   "file_extension": ".py",
   "mimetype": "text/x-python",
   "name": "python",
   "nbconvert_exporter": "python",
   "pygments_lexer": "ipython3",
   "version": "3.11.2"
  }
 },
 "nbformat": 4,
 "nbformat_minor": 5
}
