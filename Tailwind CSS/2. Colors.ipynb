{
 "cells": [
  {
   "cell_type": "markdown",
   "id": "c0098805",
   "metadata": {},
   "source": [
    "### Colors\n",
    "\n",
    "Tailwind brings predefined color system with the shade scale from 50 to 950.\n",
    "Lower number gives lighter shades and higher number gives darker shades.\n",
    "\n",
    "##### Syntax\n",
    "\n",
    "class='bg-{color}-{shade}'<br>\n",
    "class='text-{color}-{shade}'<br>\n",
    "class='[bg/text]-[black/white] - white and black don't have shades\n",
    "\n",
    "Documentation:<br>\n",
    "https://tailwindcss.com/docs/customizing-colors"
   ]
  },
  {
   "cell_type": "code",
   "execution_count": null,
   "id": "a854a8bf",
   "metadata": {},
   "outputs": [],
   "source": []
  }
 ],
 "metadata": {
  "kernelspec": {
   "display_name": "Python 3 (ipykernel)",
   "language": "python",
   "name": "python3"
  },
  "language_info": {
   "codemirror_mode": {
    "name": "ipython",
    "version": 3
   },
   "file_extension": ".py",
   "mimetype": "text/x-python",
   "name": "python",
   "nbconvert_exporter": "python",
   "pygments_lexer": "ipython3",
   "version": "3.11.2"
  }
 },
 "nbformat": 4,
 "nbformat_minor": 5
}
