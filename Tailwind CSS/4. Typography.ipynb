{
 "cells": [
  {
   "cell_type": "markdown",
   "id": "3b096fe6",
   "metadata": {},
   "source": [
    "### Typography\n",
    "\n",
    "###### Font Family\n",
    "\n",
    "font-sans = font-family: sans fonts\n",
    "font-serif = font-family: font serif fonts\n",
    "font-mono = font-family: mono fonts\n",
    "\n",
    "Documentation:<br>\n",
    "https://tailwindcss.com/docs/font-family\n",
    "\n",
    "###### Font Style\n",
    "\n",
    "italic = font-style: italic\n",
    "not-italic = font-style: normal;\n",
    "\n",
    "Documentation:<br>\n",
    "https://tailwindcss.com/docs/font-style\n",
    "\n",
    "###### Font Weight\n",
    "\n",
    "Documentation:<br>\n",
    "https://tailwindcss.com/docs/font-weight\n",
    "\n",
    "###### Text Align\n",
    "\n",
    "Documentation:<br>\n",
    "https://tailwindcss.com/docs/text-\n",
    "\n",
    "###### Font Size\n",
    "\n",
    "Syntax: text-* \n",
    "\n",
    "Documentation:<br>\n",
    "https://tailwindcss.com/docs/font-size\n",
    "\n",
    "###### Text Decoration\n",
    "\n",
    "Documentation:<br>\n",
    "https://tailwindcss.com/docs/text-decoration\n",
    "\n",
    "###### Text Transform\n",
    "\n",
    "Documentation:<br>\n",
    "https://tailwindcss.com/docs/text-transform\n",
    "\n"
   ]
  },
  {
   "cell_type": "code",
   "execution_count": null,
   "id": "af4b7aba",
   "metadata": {},
   "outputs": [],
   "source": []
  }
 ],
 "metadata": {
  "kernelspec": {
   "display_name": "Python 3 (ipykernel)",
   "language": "python",
   "name": "python3"
  },
  "language_info": {
   "codemirror_mode": {
    "name": "ipython",
    "version": 3
   },
   "file_extension": ".py",
   "mimetype": "text/x-python",
   "name": "python",
   "nbconvert_exporter": "python",
   "pygments_lexer": "ipython3",
   "version": "3.11.2"
  }
 },
 "nbformat": 4,
 "nbformat_minor": 5
}
