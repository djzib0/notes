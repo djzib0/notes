{
 "cells": [
  {
   "cell_type": "markdown",
   "id": "51348316",
   "metadata": {},
   "source": [
    "### Display and position\n",
    "\n",
    "\n",
    "###### Display\n",
    "\n",
    "There are several classes to control element's display property. The names are the same as the properties in vanilla CSS.\n",
    "\n",
    "block, inline, inline-block, hidden, and more...\n",
    "\n",
    "Documentation:<br>\n",
    "https://tailwindcss.com/docs/display\n",
    "\n",
    "###### Position\n",
    "\n",
    "The same with the position property. The same class names as in vanilla CSS\n",
    "\n",
    "static, absolute, fixed, relative, sticky\n",
    "\n",
    "Documentation:<br>\n",
    "https://tailwindcss.com/docs/position\n",
    "\n",
    "###### Placement\n",
    "\n",
    "Syntax:\n",
    "{direction}-{value}\n",
    "\n",
    "direction -> top, right, bottom, left<br>\n",
    "value (tailwind unit) 1 = 0.25rem<br>\n",
    "value (relative unit) -> 1/2, 1/3, full, etc.<br>\n",
    "value -> auto\n",
    "\n",
    "Documentation:<br>\n",
    "https://tailwindcss.com/docs/top-right-bottom-left\n",
    "\n"
   ]
  },
  {
   "cell_type": "code",
   "execution_count": null,
   "id": "981ce2f2",
   "metadata": {},
   "outputs": [],
   "source": []
  }
 ],
 "metadata": {
  "kernelspec": {
   "display_name": "Python 3 (ipykernel)",
   "language": "python",
   "name": "python3"
  },
  "language_info": {
   "codemirror_mode": {
    "name": "ipython",
    "version": 3
   },
   "file_extension": ".py",
   "mimetype": "text/x-python",
   "name": "python",
   "nbconvert_exporter": "python",
   "pygments_lexer": "ipython3",
   "version": "3.11.2"
  }
 },
 "nbformat": 4,
 "nbformat_minor": 5
}
