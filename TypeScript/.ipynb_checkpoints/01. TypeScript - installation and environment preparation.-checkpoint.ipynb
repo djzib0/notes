{
 "cells": [
  {
   "cell_type": "markdown",
   "id": "c5f19211",
   "metadata": {},
   "source": [
    "### Instalacja TypeScript i konfiguracja środowiska.\n",
    "\n",
    "1) Aby zainstalować TypeScript należy wpisać w konsoli:"
   ]
  },
  {
   "cell_type": "code",
   "execution_count": null,
   "id": "0457dce1",
   "metadata": {},
   "outputs": [],
   "source": [
    "npm install -g typescript"
   ]
  },
  {
   "cell_type": "markdown",
   "id": "90597827",
   "metadata": {},
   "source": [
    "A następnie:"
   ]
  },
  {
   "cell_type": "code",
   "execution_count": null,
   "id": "bf600fee",
   "metadata": {},
   "outputs": [],
   "source": [
    "npm i -g ts-node\n",
    "\n",
    "# ts-node is a TypeScript execution engine and REPL for Node.js. It JIT transforms TypeScript into JavaScript,\n",
    "# enabling you to directly execute TypeScript on Node.js without precompiling.\n",
    "# This is accomplished by hooking node's module loading APIs, enabling it to be used \n",
    "# seamlessly alongside other Node.js tools and libraries."
   ]
  },
  {
   "cell_type": "markdown",
   "id": "902cb403",
   "metadata": {},
   "source": [
    "2) W Visual Studio Code instalujemy rozszerzenie JavaScript and TypeScript Nightly (by Microsoft) oraz rozszerzenie Code Runner (by Jun Han)."
   ]
  },
  {
   "cell_type": "markdown",
   "id": "a08094a8",
   "metadata": {},
   "source": [
    "3. W VSC wciskamy F1 - szukamy Preferences: Open Keyboard Shortcuts."
   ]
  },
  {
   "cell_type": "markdown",
   "id": "37e6a99c",
   "metadata": {},
   "source": [
    "4. W polu wyszukiwania wpisujemy \"code runner\" i dla Run Code ustawiamy skrót klawiszowy \"Shift + Enter\". Co pozwoli na szybkie uruchamianie kodu."
   ]
  }
 ],
 "metadata": {
  "kernelspec": {
   "display_name": "Python 3 (ipykernel)",
   "language": "python",
   "name": "python3"
  },
  "language_info": {
   "codemirror_mode": {
    "name": "ipython",
    "version": 3
   },
   "file_extension": ".py",
   "mimetype": "text/x-python",
   "name": "python",
   "nbconvert_exporter": "python",
   "pygments_lexer": "ipython3",
   "version": "3.11.2"
  }
 },
 "nbformat": 4,
 "nbformat_minor": 5
}
