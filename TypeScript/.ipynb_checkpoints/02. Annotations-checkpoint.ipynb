{
 "cells": [
  {
   "cell_type": "markdown",
   "id": "2930adf8",
   "metadata": {},
   "source": [
    "### Annotations\n",
    "\n",
    "Adnotacje (Annotations) używane są do sprecyzowania typu zmiennej, parametru, wartości zwracanej przez funkcję i pozostałych. \n",
    "Dzięki temu można wyłapać błędy na wczesnym etapie developmentu.\n",
    "\n",
    "Przypisanie adnotacji do zmiennej wygląda jak na poniższym schemacie.\n",
    "\n",
    "variableName: type = value\n",
    "\n",
    "Przykład poniżej"
   ]
  },
  {
   "cell_type": "code",
   "execution_count": null,
   "id": "51674f01",
   "metadata": {},
   "outputs": [],
   "source": [
    "let myName: string = \"Piotr\"\n",
    "# changing value\n",
    "myName = \"another name\"\n",
    "\n",
    "# value with different type than annotated will cause an error\n",
    "myName = 12 # this will cause an error because 12 is not a string.\n",
    "\n",
    "let MyAge: number = 12\n",
    "myAge = 40\n",
    "\n",
    "let isPiotrHandsome: boolean = false\n",
    "isPiotrHandsome = true;"
   ]
  },
  {
   "cell_type": "markdown",
   "id": "bbfa3579",
   "metadata": {},
   "source": [
    "Inferencja (Type Inference) pozwala kompilatorowi automatycznie dobrać odpowiedni typ zmiennej, bazując na jej wartości. Tzn. że w przypadku deklaracji zmiennej bez adnotowanego typu, TypeScript sam spróbuje \"dobrać\" odpowiedni typ."
   ]
  },
  {
   "cell_type": "code",
   "execution_count": null,
   "id": "564dc4a6",
   "metadata": {},
   "outputs": [],
   "source": [
    "let tech = \"TypeScript\" # TypeScript will infer the string type to this variable\n",
    "let favNumber = 8 # TypeScirpt will infer the number type to this variable\n",
    "let isHard = true # TypeScript will infer the boolean type to this variable"
   ]
  },
  {
   "cell_type": "markdown",
   "id": "b00ae0ed",
   "metadata": {},
   "source": [
    "#### Any Type\n",
    "\n",
    "Any type może być użyty do zmiennej, która może reprezentować jakikolwiek typ. Kiedy zmienna posiada adnotację any type, TypeScript pozwoli na przypisanie nowej wartości o dowolnym typie, oraz wyłączy sprawdzanie typu dla tej zmiennej.\n",
    "\n",
    "UWAGA: Stosowanie any type powinno być mocno sporadyczne. Nadużywanie spowoduje, że trudniej będzie wyłapać błędy i zbliży kod TypeScript do zwykłego kodu JavaScript."
   ]
  },
  {
   "cell_type": "code",
   "execution_count": null,
   "id": "5db8f7ef",
   "metadata": {},
   "outputs": [],
   "source": [
    "let color: any = \"crimson\"\n",
    "    \n",
    "# we can assign a new value and compiler will not show an error\n",
    "color = 20;\n",
    "color = true;\n",
    "color();\n",
    "color.toUppercase();\n",
    "console.log(color)"
   ]
  }
 ],
 "metadata": {
  "kernelspec": {
   "display_name": "Python 3 (ipykernel)",
   "language": "python",
   "name": "python3"
  },
  "language_info": {
   "codemirror_mode": {
    "name": "ipython",
    "version": 3
   },
   "file_extension": ".py",
   "mimetype": "text/x-python",
   "name": "python",
   "nbconvert_exporter": "python",
   "pygments_lexer": "ipython3",
   "version": "3.11.2"
  }
 },
 "nbformat": 4,
 "nbformat_minor": 5
}
