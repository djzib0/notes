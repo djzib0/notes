{
 "cells": [
  {
   "cell_type": "markdown",
   "id": "caf94945",
   "metadata": {},
   "source": [
    "### Using TypeScript with functions\n",
    "\n",
    "Możemy dodawać adnotacje do parametrów funkcji. Przykład poniżej."
   ]
  },
  {
   "cell_type": "code",
   "execution_count": null,
   "id": "2db421bd",
   "metadata": {},
   "outputs": [],
   "source": [
    "function powerNum(num: number, pow: number) {\n",
    "    return Math.pow(num, pow)\n",
    "}\n",
    "\n",
    "console.log(powerNum(2, 3)) # result is 8\n",
    "\n",
    "## arrow function\n",
    "const introduceYourSelf = name => {\n",
    "    return \"Hi! My name is \" + name + \".\";\n",
    "}\n",
    "\n",
    "console.log(introduceYourSelf(\"Piotr\"))"
   ]
  },
  {
   "cell_type": "markdown",
   "id": "643db42a",
   "metadata": {},
   "source": [
    "Możemy razem z adnotacją dodawać domyślną wartość parametru (w przypadku gdy użytkownik nie przekaże żadnej wartości)."
   ]
  },
  {
   "cell_type": "code",
   "execution_count": null,
   "id": "6d620efd",
   "metadata": {},
   "outputs": [],
   "source": [
    "const greet(person: string = \"Anonymous\") => {\n",
    "    return `Hello ${person}`\n",
    "}\n",
    "\n",
    "console.log(greet()) # result is \"Hello Anonymousk\"\n",
    "console.log(greet(\"Piotr\")) # result is \"Hello Piotr\""
   ]
  },
  {
   "cell_type": "markdown",
   "id": "60868404",
   "metadata": {},
   "source": [
    "Do zwracanych przez funkcję wartości, również możemy dodać adnotację."
   ]
  },
  {
   "cell_type": "code",
   "execution_count": null,
   "id": "94138888",
   "metadata": {},
   "outputs": [],
   "source": [
    "function addTwoNumbers(num1: number, num2: number) : number {  ## type annotation after parenthesis with parameters\n",
    "    return num1 + num2;\n",
    "}\n",
    "\n",
    "let res = addTwoNumbers(2, 18);\n",
    "console.log(res)\n",
    "\n",
    "const addThreeNumbers = (num1: number, num2: number, num3: number) : number => {\n",
    "    return num1 + num2 + num3;\n",
    "}\n",
    "\n",
    "res = addThreeNumbers(1, 2, 3);\n",
    "console.log(res)"
   ]
  },
  {
   "cell_type": "markdown",
   "id": "046ccb90",
   "metadata": {},
   "source": [
    "Powyżej stosowaliśmy adnotacje do funkcji, które zawsze zwracały jakąś wartość, ale dla funkcji, która nie zwraca żadnej wartości również możemy zastosować adnotację - void.\n",
    "\n",
    "UWAGA: Dobrą praktyką jest nie stosowanie funkcji, które nie zwracają żadnej wartości."
   ]
  },
  {
   "cell_type": "code",
   "execution_count": null,
   "id": "96dd0a2d",
   "metadata": {},
   "outputs": [],
   "source": [
    "function printName(name: string) : void {\n",
    "    console.log(`My name is ${name}.`)\n",
    "}\n",
    "\n",
    "printName(\"Piotr\")\n",
    "\n",
    "## arrow function\n",
    "const printNickName = (name: string) : void => {\n",
    "    console.log(`My nickname is ${name}.`)\n",
    "}\n",
    "\n",
    "printNickName(\"Batman\")"
   ]
  },
  {
   "cell_type": "markdown",
   "id": "20984292",
   "metadata": {},
   "source": [
    "Adnotację never przypisujemy:"
   ]
  },
  {
   "cell_type": "code",
   "execution_count": null,
   "id": "fcda48e6",
   "metadata": {},
   "outputs": [],
   "source": [
    "## when function always throws an error\n",
    "function throwError(msg: string) : never {\n",
    "    return throw new Error(msg);\n",
    "}\n",
    "\n",
    "## when function has an infinite loop\n",
    "function infiniteLoop() : never {\n",
    "    while(true) {\n",
    "        \n",
    "    }\n",
    "}\n",
    "    \n",
    "## the variable that can never have a value\n",
    "const x : never;\n",
    "    \n",
    "x = infiniteLoop(); # will cause a compiler error because function never returns"
   ]
  }
 ],
 "metadata": {
  "kernelspec": {
   "display_name": "Python 3 (ipykernel)",
   "language": "python",
   "name": "python3"
  },
  "language_info": {
   "codemirror_mode": {
    "name": "ipython",
    "version": 3
   },
   "file_extension": ".py",
   "mimetype": "text/x-python",
   "name": "python",
   "nbconvert_exporter": "python",
   "pygments_lexer": "ipython3",
   "version": "3.11.2"
  }
 },
 "nbformat": 4,
 "nbformat_minor": 5
}
