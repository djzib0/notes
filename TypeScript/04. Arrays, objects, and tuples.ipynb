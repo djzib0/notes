{
 "cells": [
  {
   "cell_type": "markdown",
   "id": "a0efc0ce",
   "metadata": {},
   "source": [
    "### Adnotacje tablic\n",
    "\n",
    "Tablicom również możemy przypisywać adnotacje, wówczas schemat jest następujący\n",
    "\n",
    "const variableName: type[ ] = [values, values]"
   ]
  },
  {
   "cell_type": "code",
   "execution_count": null,
   "id": "846f82e3",
   "metadata": {},
   "outputs": [],
   "source": [
    "const nums: number[] = [1, 2, 5, 9];\n",
    "\n",
    "# or we can use depreciated array notation\n",
    "const nums: Array<number> = [1, 2, 5, 9];\n"
   ]
  },
  {
   "cell_type": "markdown",
   "id": "532ad39d",
   "metadata": {},
   "source": [
    "Dla wielowymiarowych tablic stosuje adnotacje jak niżej."
   ]
  },
  {
   "cell_type": "code",
   "execution_count": null,
   "id": "bf51c509",
   "metadata": {},
   "outputs": [],
   "source": [
    "const singleDim: number[] = [1, 2, 3];\n",
    "const multiDim: number[][] = [[1, 2], [3, 4]];\n",
    "const tripleDim: number[][][] = [[[1,2]],[[1, 2, 3]]];"
   ]
  },
  {
   "cell_type": "markdown",
   "id": "c6fa5635",
   "metadata": {},
   "source": [
    "### Adnotacje obiektów\n",
    "\n",
    "Adnotowanie obiektów ma postać nawiasu klamrowego, w którym wpisujemy nazwy właściwości obiektu oraz jego typ, rozdzielając je średnikiem. Schemat poniżej\n",
    "\n",
    "const objectName : {property1: type; property2: type; property3: type...}"
   ]
  },
  {
   "cell_type": "code",
   "execution_count": null,
   "id": "72b24859",
   "metadata": {},
   "outputs": [],
   "source": [
    "const person : {firstName: string; lastName: string; age: number} = {\n",
    "    firstName: 'John',\n",
    "    lastName: 'Doe',\n",
    "    age: 19\n",
    "}\n",
    "    \n",
    "## we get an error if the properties annotation will not match the object properties"
   ]
  },
  {
   "cell_type": "markdown",
   "id": "99ad8882",
   "metadata": {},
   "source": [
    "Możemy adnotować również właściwości zwracanego przez funkcję obiektu."
   ]
  },
  {
   "cell_type": "code",
   "execution_count": null,
   "id": "bd05a1a5",
   "metadata": {},
   "outputs": [],
   "source": [
    "function printUser(): {firstName: string; age: number; location: string} {\n",
    "    return {\n",
    "        firstName: \"Peter\",\n",
    "        age: 17,\n",
    "        location: \"New York\"\n",
    "    }\n",
    "}\n",
    "\n",
    "const res = printUser();\n",
    "console.log(res)"
   ]
  },
  {
   "cell_type": "markdown",
   "id": "6c6a652f",
   "metadata": {},
   "source": [
    "### Tuples\n",
    "\n",
    "Tuples (krotki) są podobne do tablic, ale ich główną właściwością jest to, że mają zdefiniowaną długość i są niemutowalne."
   ]
  },
  {
   "cell_type": "code",
   "execution_count": null,
   "id": "920c69d3",
   "metadata": {},
   "outputs": [],
   "source": [
    "let myTuple: [string, number] = [\"example\", 123];\n",
    "    \n",
    "myTuple = [123, \"example\"] # <- will show an error because first item must be a string!\n",
    "\n",
    "# destructuring of tuple is the same as an array\n",
    "const [first, anyName] = myTuple;\n",
    "console.log(first); # result is \"example\"\n",
    "console.log(anyName); # result is \"123\""
   ]
  }
 ],
 "metadata": {
  "kernelspec": {
   "display_name": "Python 3 (ipykernel)",
   "language": "python",
   "name": "python3"
  },
  "language_info": {
   "codemirror_mode": {
    "name": "ipython",
    "version": 3
   },
   "file_extension": ".py",
   "mimetype": "text/x-python",
   "name": "python",
   "nbconvert_exporter": "python",
   "pygments_lexer": "ipython3",
   "version": "3.11.2"
  }
 },
 "nbformat": 4,
 "nbformat_minor": 5
}
