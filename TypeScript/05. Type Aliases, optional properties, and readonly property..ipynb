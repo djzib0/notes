{
 "cells": [
  {
   "cell_type": "markdown",
   "id": "786795c5",
   "metadata": {},
   "source": [
    "### Aliasy typów\n",
    "\n",
    "Przypisywanie adnotacji dla wszystkich właściwości powtarzających się obiektów może być uciążliwe. Dlatego możemy zastosować alias typów. Aliasy typów są sposobem na nazwanie swoją nazwą istniejącego typu.\n",
    "\n",
    "Schemat tworzenia własnych aliasów poniżej.\n",
    "\n",
    "type AliasName = type "
   ]
  },
  {
   "cell_type": "code",
   "execution_count": null,
   "id": "7032bb60",
   "metadata": {},
   "outputs": [],
   "source": [
    "type MyOwnTypeName = string; # capital letter in the type name!\n",
    "\n",
    "# now we can use it like any other build-in types\n",
    "\n",
    "const name: MyOwnTypeName = \"John\""
   ]
  },
  {
   "cell_type": "markdown",
   "id": "7f6f9a14",
   "metadata": {},
   "source": [
    "Dla obiektów stosujemy aliasy w poniższy sposób."
   ]
  },
  {
   "cell_type": "code",
   "execution_count": null,
   "id": "38128be6",
   "metadata": {},
   "outputs": [],
   "source": [
    "type Person = {\n",
    "    firstName: string;\n",
    "    age: number;\n",
    "    location: string\n",
    "}\n",
    "\n",
    "## create a function which type is Person\n",
    "\n",
    "const printPersonInfo = (person: Person) => {\n",
    "    return {\n",
    "        firstName: person.firstName,\n",
    "        age: person.age,\n",
    "        location: person.location\n",
    "    }\n",
    "}\n",
    "\n",
    "const res = printPersonInfo({firstName: \"Piotr\", age: 40, location: \"Poland\"});\n",
    "console.log(res)"
   ]
  },
  {
   "cell_type": "markdown",
   "id": "b80bff11",
   "metadata": {},
   "source": [
    "Jeżeli chcemy ustawić jakąś właściwość jako opcjonalną, to możemy zastosować następujący kod."
   ]
  },
  {
   "cell_type": "code",
   "execution_count": null,
   "id": "149c9684",
   "metadata": {},
   "outputs": [],
   "source": [
    "type User = {\n",
    "    name: string; \n",
    "    age?: number;  # this property will be an optional one\n",
    "    location: string\n",
    "}\n",
    "\n",
    "# now we can ommit the age when creating new user\n",
    "const user: User = {\n",
    "    name: \"John\",\n",
    "    location: \"Poland\"\n",
    "}\n",
    "    \n",
    "# if we would like to access the optional property we will not get an error, but it will return undefined\n",
    "console.log(user.age) # <- result will be undefined"
   ]
  },
  {
   "cell_type": "markdown",
   "id": "6bb6c72e",
   "metadata": {},
   "source": [
    "Dodatkowo, możemy zabezpieczyć jakąś właściwość obiektu przed napisaniem dodając właściwość TypeScript oznaczającą \"tylko do odczytu\"."
   ]
  },
  {
   "cell_type": "code",
   "execution_count": null,
   "id": "806ef887",
   "metadata": {},
   "outputs": [],
   "source": [
    "const Car = {\n",
    "    make: string;\n",
    "    model: string;\n",
    "    readonly odometer: number  # readonly property will secure the property from overwriting.\n",
    "}\n",
    "\n",
    "const car: Car= {\n",
    "    make: \"Honda\",\n",
    "    model: \"Civic\",\n",
    "    odometer: 120000\n",
    "}\n",
    "    \n",
    "# trying to change the odometer value\n",
    "car.odometer = 80000 # <- it will casue a TS error because it's a read-only property."
   ]
  }
 ],
 "metadata": {
  "kernelspec": {
   "display_name": "Python 3 (ipykernel)",
   "language": "python",
   "name": "python3"
  },
  "language_info": {
   "codemirror_mode": {
    "name": "ipython",
    "version": 3
   },
   "file_extension": ".py",
   "mimetype": "text/x-python",
   "name": "python",
   "nbconvert_exporter": "python",
   "pygments_lexer": "ipython3",
   "version": "3.11.2"
  }
 },
 "nbformat": 4,
 "nbformat_minor": 5
}
