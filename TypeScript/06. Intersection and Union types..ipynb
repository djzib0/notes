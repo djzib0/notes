{
 "cells": [
  {
   "cell_type": "markdown",
   "id": "a411593a",
   "metadata": {},
   "source": [
    "### Intersection type\n",
    "\n",
    "Intersection type pozwala na opisanie typu, który ma cechy kilku typów naraz."
   ]
  },
  {
   "cell_type": "code",
   "execution_count": null,
   "id": "5bba1a4f",
   "metadata": {},
   "outputs": [],
   "source": [
    "# create new type aliases\n",
    "type UserInfo = {\n",
    "    firstName: string;\n",
    "    lastName: string;\n",
    "}\n",
    "\n",
    "type AccountDetails = {\n",
    "    email: string;\n",
    "    password: string\n",
    "}\n",
    "\n",
    "# create the intersection type\n",
    "const User = UserInfo & AccountDetails # intersection is created with \"&\" sign\n",
    "\n",
    "# now we can create an object with intersection type\n",
    "const newUser: User = {\n",
    "    fistName: \"John\",\n",
    "    lastName: \"Doe\",\n",
    "    email: \"johndoe@gmail.com\",\n",
    "    password: \"password123\"\n",
    "}"
   ]
  },
  {
   "cell_type": "markdown",
   "id": "c866c2ad",
   "metadata": {},
   "source": [
    "### Union type\n",
    "\n",
    "Union type pozwala na opisanie typu, który ma cechy jednego lub drugiego typu.\n"
   ]
  },
  {
   "cell_type": "code",
   "execution_count": null,
   "id": "68a772bf",
   "metadata": {},
   "outputs": [],
   "source": [
    "# create new type aliases\n",
    "type UserInfo = {\n",
    "    firstName: string;\n",
    "    lastName: string;\n",
    "}\n",
    "\n",
    "type AccountDetails = {\n",
    "    email: string;\n",
    "    password: string;\n",
    "}\n",
    "\n",
    "# create the union type\n",
    "type User = UserInfo | AccountDetails;\n",
    "\n",
    "# now we can create an object with union type\n",
    "const user: User = {\n",
    "    firstName: \"Piotr\",\n",
    "    lastName: \"kj\",\n",
    "}  # we won't get an error becuase it's one of the declared type (in this case it's UserInfo)"
   ]
  }
 ],
 "metadata": {
  "kernelspec": {
   "display_name": "Python 3 (ipykernel)",
   "language": "python",
   "name": "python3"
  },
  "language_info": {
   "codemirror_mode": {
    "name": "ipython",
    "version": 3
   },
   "file_extension": ".py",
   "mimetype": "text/x-python",
   "name": "python",
   "nbconvert_exporter": "python",
   "pygments_lexer": "ipython3",
   "version": "3.11.2"
  }
 },
 "nbformat": 4,
 "nbformat_minor": 5
}
