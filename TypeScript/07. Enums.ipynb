{
 "cells": [
  {
   "cell_type": "markdown",
   "id": "37117266",
   "metadata": {},
   "source": [
    "### Enums\n",
    "\n",
    "Enums jest specjalny typ danych do definiowania stałych. Domyślnie przypisywana jest do nich wartość liczbowa, zaczynają od 0."
   ]
  },
  {
   "cell_type": "code",
   "execution_count": null,
   "id": "d94c2cda",
   "metadata": {},
   "outputs": [],
   "source": [
    "enum WeatherConditions {\n",
    "    Sunny,  # value 0\n",
    "    Cloudy, # value 1\n",
    "    Rainy, # value 2\n",
    "    Snowy # value 3\n",
    "}\n",
    "\n",
    "const currentWeather = WeatherConditions.Cloudy\n",
    "\n",
    "console.log(currentWeather); # result will be 1"
   ]
  },
  {
   "cell_type": "markdown",
   "id": "67726706",
   "metadata": {},
   "source": [
    "Nic nie stoi jednak na przeszkodzie aby przypisać własne wartości do każdej stałej."
   ]
  },
  {
   "cell_type": "code",
   "execution_count": null,
   "id": "9d8854c8",
   "metadata": {},
   "outputs": [],
   "source": [
    "enum WeatherConditions {\n",
    "    Sunny = 'sunny',\n",
    "    Cloudy = 'cloudy'\n",
    "    Rainy = 'rainy',\n",
    "    Snowy = 'snowy'\n",
    "}\n",
    "\n",
    "const currentWeather = WeatherConditions.Cloudy\n",
    "\n",
    "console.log(currentWeather); # result will be 'cloudy'"
   ]
  }
 ],
 "metadata": {
  "kernelspec": {
   "display_name": "Python 3 (ipykernel)",
   "language": "python",
   "name": "python3"
  },
  "language_info": {
   "codemirror_mode": {
    "name": "ipython",
    "version": 3
   },
   "file_extension": ".py",
   "mimetype": "text/x-python",
   "name": "python",
   "nbconvert_exporter": "python",
   "pygments_lexer": "ipython3",
   "version": "3.11.2"
  }
 },
 "nbformat": 4,
 "nbformat_minor": 5
}
