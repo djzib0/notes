{
 "cells": [
  {
   "cell_type": "markdown",
   "id": "da741a75",
   "metadata": {},
   "source": [
    "### Object Oriented Programming\n",
    "\n",
    "TypeScript pozwala na dodawania adnotacji typów w klasach JavaScript. Przykład poniżej."
   ]
  },
  {
   "cell_type": "code",
   "execution_count": null,
   "id": "c5bad220",
   "metadata": {},
   "outputs": [],
   "source": [
    "class Person {\n",
    "    ## properties annotation\n",
    "    name: string; \n",
    "    age: number\n",
    "    \n",
    "    # constructor parameters annotation\n",
    "    constructor(name: string, age: number) {\n",
    "        this.name = name;\n",
    "        this.age = age;\n",
    "    }\n",
    "    \n",
    "    # method parameter annotation\n",
    "    setName(newName: string) {\n",
    "        this.name = newName; \n",
    "    }\n",
    "}"
   ]
  },
  {
   "cell_type": "markdown",
   "id": "3b254949",
   "metadata": {},
   "source": [
    "TypeScript pozwala na przypisanie modyfikatora dostępu dla właściwości i metod. Istnieją trzy modyfikatory:\n",
    "\n",
    "PUBLIC: pozwala na dostęp do właściwości i metod wewnątrz jak i na zewnątrz klasy.\n",
    "\n",
    "PRIVATE: pozwala na dostęp do właściwości i metod tylko wewnątrz zdefiniowanej klasy.\n",
    "\n",
    "PROTECTED: pozwala na dostęp do właściwości i metod tylko wewnątrz zdefiniowanej klasy i jej rozszerzonych podklas."
   ]
  },
  {
   "cell_type": "code",
   "execution_count": null,
   "id": "909aceff",
   "metadata": {},
   "outputs": [],
   "source": [
    "class Animal {\n",
    "    public name: string;\n",
    "    private age: number;\n",
    "    protected species: string;\n",
    "\n",
    "    constructor(name: string, age: number, species: string) {\n",
    "        this.name = name;\n",
    "        this.age = age;\n",
    "        this.species = species;\n",
    "    }\n",
    "\n",
    "    public getName(): string {\n",
    "        return this.name;\n",
    "    }\n",
    "\n",
    "    private getAge(): number {\n",
    "        return this.age;\n",
    "    }\n",
    "\n",
    "    protected getSpecies(): string {\n",
    "        return this.species;\n",
    "    }\n",
    "\n",
    "    getInfo(): string {\n",
    "        return `${this.name} is ${this.age} years old`  # despite age is private, we can acces it within the class\n",
    "    }\n",
    "}\n",
    "\n",
    "class Dog extends Animal {\n",
    "    constructor(name: string, age: number) {\n",
    "        super(name, age, \"Canine\")\n",
    "    }\n",
    "\n",
    "    public getInfo(): string {\n",
    "        return `${this.getName()} is a ${this.getSpecies()} and is years old.` \n",
    "        # we can acces to species because it's access type is set to protected\n",
    "    }\n",
    "}"
   ]
  },
  {
   "cell_type": "markdown",
   "id": "1b82b5fb",
   "metadata": {},
   "source": [
    "### Setters and Getters in TS\n",
    "\n",
    "Settery i Gettery pozwalają na dostęp i modyfikowanie właściwości klas. Oznaczamy je w następujący sposób."
   ]
  },
  {
   "cell_type": "code",
   "execution_count": null,
   "id": "06c548c7",
   "metadata": {},
   "outputs": [],
   "source": [
    "class MyClass {\n",
    "    private _myProperty; number;  # underscore in property name is obligatory!\n",
    "    \n",
    "    get myProperty(): number {\n",
    "        return this._myProperty\n",
    "    }\n",
    "    \n",
    "    set myProperty(value: number) {\n",
    "        this._myProperty = value;\n",
    "    }\n",
    "}\n",
    "\n",
    "# now we can access the myProperty\n",
    "# notice that the call doesn't have parenthesis!\n",
    "const myInstance = new MyClass()\n",
    "console.log(`Current value: ${myInstance.myProperty}`)\n",
    "myInstance.myProperty = 10;\n",
    "console.log(`Current value: ${myInstance.myProperty}`)"
   ]
  }
 ],
 "metadata": {
  "kernelspec": {
   "display_name": "Python 3 (ipykernel)",
   "language": "python",
   "name": "python3"
  },
  "language_info": {
   "codemirror_mode": {
    "name": "ipython",
    "version": 3
   },
   "file_extension": ".py",
   "mimetype": "text/x-python",
   "name": "python",
   "nbconvert_exporter": "python",
   "pygments_lexer": "ipython3",
   "version": "3.11.2"
  }
 },
 "nbformat": 4,
 "nbformat_minor": 5
}
