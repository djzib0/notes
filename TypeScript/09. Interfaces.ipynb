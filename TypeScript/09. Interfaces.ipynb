{
 "cells": [
  {
   "cell_type": "markdown",
   "id": "ae40e5f2",
   "metadata": {},
   "source": [
    "### Interfaces\n",
    "\n",
    "Interfejsy są pewnego rodzaju kontraktem dla obiektów, które przyjmują interfejs jako swój typ. Interfejs zawiera właściwości i określone typy, które muszą (choć są wyjątki) być w obiekcie, w którym zaimplementowano ten interfejs.\n",
    "\n",
    "W zapisie interface jest bardzo podobny do aliasów typów."
   ]
  },
  {
   "cell_type": "code",
   "execution_count": null,
   "id": "99c9eb5b",
   "metadata": {},
   "outputs": [],
   "source": [
    "interface Computer {\n",
    "    name: string;\n",
    "    ram: number;\n",
    "    hdd: number\n",
    "}\n",
    "\n",
    "# if we don't use all properties from interface compiler will show an error\n",
    "const newComputer: Computer = {\n",
    "    name: \"i7\",\n",
    "    ram: 8,\n",
    "    hdd: 100\n",
    "}\n",
    "    \n",
    "# we can also use read only and optional properties in interface, same as in alias types\n",
    "interface Computer {\n",
    "    readonly name: string; # this property is set as read-only\n",
    "    ram?: number; # this is an optional property, it doens't have to be implemented\n",
    "    hdd: 100\n",
    "}"
   ]
  },
  {
   "cell_type": "markdown",
   "id": "3b2bf22a",
   "metadata": {},
   "source": [
    "Możemy również zdefiniować metody, jakie obiekt z zaimplementowanym interfejsem musi posiadać."
   ]
  },
  {
   "cell_type": "code",
   "execution_count": null,
   "id": "336e66cb",
   "metadata": {},
   "outputs": [],
   "source": [
    "interface Person {\n",
    "    firstName: string;\n",
    "    sayHello(): void;\n",
    "    # we can set a method as an optional\n",
    "    sayGoodBye?: () => void;\n",
    "}"
   ]
  },
  {
   "cell_type": "markdown",
   "id": "87461be2",
   "metadata": {},
   "source": [
    "Możemy również zdefiniować typy dla parametrów metody w interfejsie."
   ]
  },
  {
   "cell_type": "code",
   "execution_count": null,
   "id": "5d2eaf96",
   "metadata": {},
   "outputs": [],
   "source": [
    "interface Song {\n",
    "    songName: string;\n",
    "    singerName: string;\n",
    "    printSongInfo(songName: string, singerName: string): string; # define method which will return a string\n",
    "}\n",
    "\n",
    "const song: Song = {\n",
    "    songName: \"title\",\n",
    "    songSinger: \"singer\",\n",
    "    printSongInfo: (songName, singerName) => {\n",
    "        return (`Song: ${songName}, Singer: ${singerName}`)\n",
    "    }\n",
    "}\n",
    "\n",
    "console.log(song.printSongInfo(song.songName, song.singerName))"
   ]
  },
  {
   "cell_type": "markdown",
   "id": "abc775ea",
   "metadata": {},
   "source": [
    "Interfejs może rozszerzać właściwości innego interfejsu."
   ]
  },
  {
   "cell_type": "code",
   "execution_count": null,
   "id": "73289c71",
   "metadata": {},
   "outputs": [],
   "source": [
    "interface Movie {\n",
    "    title: string;\n",
    "    ratings: number\n",
    "}\n",
    "\n",
    "interface Genre extends Movie {\n",
    "    # object using this interface must implement all properties from Movie interface and from this one as well\n",
    "    genre: string;\n",
    "}\n",
    "\n",
    "const movie: Genre {\n",
    "    title: \"title\",\n",
    "    rating: 2.6,\n",
    "    genre: \"comedy\"\n",
    "}"
   ]
  },
  {
   "cell_type": "markdown",
   "id": "52977e7d",
   "metadata": {},
   "source": [
    "Interfejs zastosowany w klasach wygląda jak na poniższym przykładzie."
   ]
  },
  {
   "cell_type": "code",
   "execution_count": null,
   "id": "67377005",
   "metadata": {},
   "outputs": [],
   "source": [
    "interface Vehicle {\n",
    "    start(): void;\n",
    "    stop(): void;\n",
    "}\n",
    "\n",
    "class Car implements Vehicle { # notice the implements keyword between class and interface name\n",
    "    public make: string;\n",
    "    public model: string;\n",
    "    \n",
    "    construct(make: string, model: string) {\n",
    "        this.make = make;\n",
    "        this.model = model\n",
    "    }\n",
    "    \n",
    "    start = () => {\n",
    "        console.log(\"Car is starting...\")\n",
    "    }\n",
    "    \n",
    "    stop = () => {\n",
    "        console.log(\"Car is stopped.\")\n",
    "    }\n",
    "}\n",
    "\n",
    "const newCar = new Car(\"Seat\", \"Leon\");\n",
    "\n",
    "newCar.start();\n",
    "newCar.stop();"
   ]
  },
  {
   "cell_type": "markdown",
   "id": "2ca14efa",
   "metadata": {},
   "source": [
    "Interfejsy możemy stosować również z funkcjami."
   ]
  },
  {
   "cell_type": "code",
   "execution_count": null,
   "id": "16d41d12",
   "metadata": {},
   "outputs": [],
   "source": [
    "interface MathOperation {\n",
    "    (x: number, y: number): number\n",
    "}\n",
    "\n",
    "const add: MathOperation = (a, b) => a + b;"
   ]
  },
  {
   "cell_type": "markdown",
   "id": "75bda5b8",
   "metadata": {},
   "source": [
    "Declaration merging - czyli scalanie deklaracji. Scalanie pozwala na rozszerzenie tego samego interfejsu o nowe właściwości bez konieczności ingerowania i modyfikowania pierwotnego interfejsu (np. jakiejś pobranej biblioteki)."
   ]
  },
  {
   "cell_type": "code",
   "execution_count": null,
   "id": "ccc9df49",
   "metadata": {},
   "outputs": [],
   "source": [
    "interface Car {\n",
    "    make: string;\n",
    "    start(): void;\n",
    "}\n",
    "\n",
    "# we want to augment interface Car with a new property\n",
    "interface Car {\n",
    "    model: string;\n",
    "}\n",
    "\n",
    "const newCar: Car {\n",
    "    make: \"honda\",\n",
    "    model: \"civic\",\n",
    "    start: () => {\n",
    "        console.log(\"Engine is starting...\")\n",
    "    }\n",
    "}"
   ]
  }
 ],
 "metadata": {
  "kernelspec": {
   "display_name": "Python 3 (ipykernel)",
   "language": "python",
   "name": "python3"
  },
  "language_info": {
   "codemirror_mode": {
    "name": "ipython",
    "version": 3
   },
   "file_extension": ".py",
   "mimetype": "text/x-python",
   "name": "python",
   "nbconvert_exporter": "python",
   "pygments_lexer": "ipython3",
   "version": "3.11.2"
  }
 },
 "nbformat": 4,
 "nbformat_minor": 5
}
