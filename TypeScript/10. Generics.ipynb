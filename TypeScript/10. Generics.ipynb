{
 "cells": [
  {
   "cell_type": "markdown",
   "id": "d8deba91",
   "metadata": {},
   "source": [
    "### Typy generyczne\n",
    "\n",
    "Typy generyczne (Generic types) pozwalają na tworzenie uniwersalnych komponentów (obiektów, klas, funkcji), jednocześnie zachowując wszystkie korzyści z kontroli typów w TypeScript.\n",
    "\n",
    "Przykładowy typ generyczny funkcji poniżej:"
   ]
  },
  {
   "cell_type": "code",
   "execution_count": null,
   "id": "3df0a736",
   "metadata": {},
   "outputs": [],
   "source": [
    "# create a function which will return the pair of item1 and item2 (not know type)\n",
    "# in arrow parenthesis there is a T name, which is a convention (you can use any name there)\n",
    "function printPair<T>(item1: T, item2: T) : [T, T] {\n",
    "    return [T, T];\n",
    "}\n",
    "\n",
    "## you can declare the type of values in arrow parenthesis, so you can use this generic function for any declared type\n",
    "const str = printPair<string>(\"string 1\", \"string 2\")\n",
    "const nums = printPair<number>(12, 19);\n",
    "const bools = printPair<boolean>(true, false);"
   ]
  },
  {
   "cell_type": "markdown",
   "id": "fd57a6fe",
   "metadata": {},
   "source": [
    "Jak widać na powyższym przykładzie, ta sama generyczna funkcja może być użyta dla każdego zadeklarowanego typu.\n",
    "Takie generyczne typy mogą być jeszcze bardziej rozbudowane, czego przykładem będzie poniższy kod."
   ]
  },
  {
   "cell_type": "code",
   "execution_count": null,
   "id": "5e21a53a",
   "metadata": {},
   "outputs": [],
   "source": [
    "function getRandomKeyValuePair<T>(obj: {[key: string]: T} : {key: string; value: T}) {\n",
    "    # this function have a one parameter object \"obj\" with one property (string type) which hold a T type value\n",
    "    # this function returns an object with key (string type) with value (T type)\n",
    "    \n",
    "    # crete an array of keys\n",
    "    const keys = Object.keys(obj)\n",
    "    const randKey = keys[Math.floor(Math.randm() * keys.length)]\n",
    "    return {key: randKey, value: obj[randKey]}\n",
    "}\n",
    "\n",
    "const stringObject = {a: \"apple\", b: \"banana\", c: 'cherry'}\n",
    "const res = getRandomKeyValuePair<string>(stringObject);\n",
    "console.log(res)"
   ]
  },
  {
   "cell_type": "markdown",
   "id": "158a9876",
   "metadata": {},
   "source": [
    "Kolejny przykład to funkcja zwracająca wartości spełniające przekazany warunek."
   ]
  },
  {
   "cell_type": "code",
   "execution_count": null,
   "id": "ea061f80",
   "metadata": {},
   "outputs": [],
   "source": [
    "function filterArray<T>(array: T[], condition: (item: T) => boolean): T[] {\n",
    "    ## this funcation have two parameters, an array (T type),\n",
    "    ## and condition (function with T type parameter item which returns boolean)\n",
    "    ## function returns an array (T type)\n",
    "    \n",
    "    # return filtered array\n",
    "    return array.filter((item) => condition(item))\n",
    "}\n",
    "\n",
    "const stringArr = ['apple', 'banana', 'cherry', 'pear'];\n",
    "const res = filterArray<string>(stringArr, (item) => item.length <= 5);"
   ]
  },
  {
   "cell_type": "markdown",
   "id": "7453ba94",
   "metadata": {},
   "source": [
    "Powyższą funkcję możemy również wykorzystać dla obiektów, które implementują interfejs."
   ]
  },
  {
   "cell_type": "code",
   "execution_count": null,
   "id": "de1a62a5",
   "metadata": {},
   "outputs": [],
   "source": [
    "interface Fruit {\n",
    "    fruitName: string;\n",
    "    color: string;\n",
    "}\n",
    "\n",
    "const fruitArray: Fruit[] = [\n",
    "    {fruitName: \"Apple\", color: \"Green\"},\n",
    "    {fruitName: \"Banana\", color: \"Yellow\"},\n",
    "]\n",
    "    \n",
    "# search for the fruits with yellow color\n",
    "const yellowFruitsArray = filterArray(fruitArray, (item) => item.color === \"Yellow\")"
   ]
  }
 ],
 "metadata": {
  "kernelspec": {
   "display_name": "Python 3 (ipykernel)",
   "language": "python",
   "name": "python3"
  },
  "language_info": {
   "codemirror_mode": {
    "name": "ipython",
    "version": 3
   },
   "file_extension": ".py",
   "mimetype": "text/x-python",
   "name": "python",
   "nbconvert_exporter": "python",
   "pygments_lexer": "ipython3",
   "version": "3.11.2"
  }
 },
 "nbformat": 4,
 "nbformat_minor": 5
}
