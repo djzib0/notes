{
 "cells": [
  {
   "cell_type": "markdown",
   "id": "65c12c8f",
   "metadata": {},
   "source": [
    "### Kompilowanie plików TS do JS.\n",
    "\n",
    "Aby skompilować plik TS do JS, najpierw wpisujemy w terminalu."
   ]
  },
  {
   "cell_type": "code",
   "execution_count": null,
   "id": "bfcc78c1",
   "metadata": {},
   "outputs": [],
   "source": [
    "tsc.cmd -init"
   ]
  },
  {
   "cell_type": "markdown",
   "id": "697c8dc3",
   "metadata": {},
   "source": [
    "Powyższa komenda stworzy plik konfiguracyjny tsconfig.json.\n",
    "W pliku tym możemy zdefiniować między innymi do jakiej wersji JS pliki muszą być skompilowane.\n",
    "\n",
    "Szukamy właściwości \"target\", gdzie zmieniamy wartość na \"ES2023\" (wersja w zależności od potrzeb, ale przyjąłem najnowszą).\n",
    "\n",
    "Następnie wpisujemy kompendę:"
   ]
  },
  {
   "cell_type": "code",
   "execution_count": null,
   "id": "2089490f",
   "metadata": {},
   "outputs": [],
   "source": [
    "tsc.cmd \"file_name_we_want_to_compile.ts\""
   ]
  },
  {
   "cell_type": "markdown",
   "id": "b7d459f1",
   "metadata": {},
   "source": [
    "Po uruchomieniu powyższej komendy, pojawi się skompilowany plik js."
   ]
  }
 ],
 "metadata": {
  "kernelspec": {
   "display_name": "Python 3 (ipykernel)",
   "language": "python",
   "name": "python3"
  },
  "language_info": {
   "codemirror_mode": {
    "name": "ipython",
    "version": 3
   },
   "file_extension": ".py",
   "mimetype": "text/x-python",
   "name": "python",
   "nbconvert_exporter": "python",
   "pygments_lexer": "ipython3",
   "version": "3.11.2"
  }
 },
 "nbformat": 4,
 "nbformat_minor": 5
}
