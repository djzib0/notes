{
 "cells": [
  {
   "cell_type": "markdown",
   "id": "6852e7d2",
   "metadata": {},
   "source": [
    "### Utility types\n",
    "\n",
    "Utility types are prebuilt functions that modify existing types.\n",
    "\n",
    "##### Partial < type>\n",
    "\n",
    "    Creates a copy of defined type and sets all properties as optional."
   ]
  },
  {
   "cell_type": "code",
   "execution_count": null,
   "id": "013902ed",
   "metadata": {},
   "outputs": [],
   "source": [
    "type User = {\n",
    "    firstName: string;\n",
    "    lastName: string;\n",
    "    age: number;\n",
    "}\n",
    "\n",
    "type UpdatedUser = Partial<User>\n",
    "\n",
    "## above is equal to:\n",
    "\n",
    "type UpdatedUser = {\n",
    "    firstName?: string;\n",
    "    lastName?: string;\n",
    "    age?: number;\n",
    "}"
   ]
  },
  {
   "cell_type": "markdown",
   "id": "c7aa775f",
   "metadata": {},
   "source": [
    "###### Omit < type >\n",
    "\n",
    "    Let's say we have a defined type for a user, and utility function to add new User to database. Utility function has one parameter which accepts Object, and that Object has the same parameters as User type, but doesn't have an id. \n",
    "    \n",
    "    Which type should we declare for this Object? The easiest way would be to create a new Type like User type but without the id, but imagine you have a massive number of such types and creating all these new types would be really time consuming. In this case we can use Omit utility type."
   ]
  },
  {
   "cell_type": "code",
   "execution_count": null,
   "id": "151d900e",
   "metadata": {},
   "outputs": [],
   "source": [
    "type User = {\n",
    "    firstName: string;\n",
    "    lastName: string;\n",
    "    age: number;\n",
    "}\n",
    "\n",
    "## to declare the Omit\n",
    "## Omit<Type, \"parameter we want to exclude\" | \"another parameter\" ... >\n",
    "\n",
    "const addNewUserToDB = (newUser: Omit<User, \"id\") : User  => {\n",
    "    const user = {id: nextUserId++, ...newUser};\n",
    "    ## ... \n",
    "    ## code to add user to db\n",
    "    return user;\n",
    "}"
   ]
  },
  {
   "cell_type": "markdown",
   "id": "8a03bf16",
   "metadata": {},
   "source": []
  }
 ],
 "metadata": {
  "kernelspec": {
   "display_name": "Python 3 (ipykernel)",
   "language": "python",
   "name": "python3"
  },
  "language_info": {
   "codemirror_mode": {
    "name": "ipython",
    "version": 3
   },
   "file_extension": ".py",
   "mimetype": "text/x-python",
   "name": "python",
   "nbconvert_exporter": "python",
   "pygments_lexer": "ipython3",
   "version": "3.11.2"
  }
 },
 "nbformat": 4,
 "nbformat_minor": 5
}
