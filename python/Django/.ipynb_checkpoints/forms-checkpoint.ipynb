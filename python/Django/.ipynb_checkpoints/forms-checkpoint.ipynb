{
 "cells": [
  {
   "cell_type": "markdown",
   "metadata": {
    "pycharm": {
     "name": "#%% md\n"
    }
   },
   "source": [
    "# Formularze"
   ]
  },
  {
   "cell_type": "markdown",
   "metadata": {
    "pycharm": {
     "name": "#%% md\n"
    }
   },
   "source": [
    "##### Tworzenie formularza na podstawie modelu ModelForm"
   ]
  },
  {
   "cell_type": "markdown",
   "metadata": {
    "pycharm": {
     "name": "#%% md\n"
    }
   },
   "source": [
    "Tworzymy plik forms.py w tym samym katalogu co plik models.py.\n",
    "\n",
    "Importujemy \"forms\" z modułu django oraz modele."
   ]
  },
  {
   "cell_type": "code",
   "execution_count": null,
   "metadata": {
    "pycharm": {
     "name": "#%%\n"
    }
   },
   "outputs": [],
   "source": [
    "from django import forms\n",
    "from .models import * #lub wybrany model"
   ]
  },
  {
   "cell_type": "markdown",
   "metadata": {
    "pycharm": {
     "name": "#%% md\n"
    }
   },
   "source": [
    "Tworzymy klasę formularza"
   ]
  },
  {
   "cell_type": "code",
   "execution_count": null,
   "metadata": {
    "pycharm": {
     "name": "#%%\n"
    }
   },
   "outputs": [],
   "source": [
    "class model_nameForm(forms.ModelForm): # model_name to wybrany model (konwencja)\n",
    "    model = model_name\n",
    "    fields = '__all__' # lub wybrane pola danego modelu\n",
    "    labels = {'field_name':'new_name'} # zmiana nazwy wybranego pola (do wyświetlenia w template)\n",
    "    exclude = [] # wyklucza z formularza wybrane pola modelu"
   ]
  },
  {
   "cell_type": "markdown",
   "metadata": {
    "pycharm": {
     "name": "#%% md\n"
    }
   },
   "source": [
    "W pliku views.py"
   ]
  },
  {
   "cell_type": "code",
   "execution_count": null,
   "metadata": {},
   "outputs": [],
   "source": [
    "#importujemy formularz\n",
    "from .forms import model_nameForm\n",
    "\n",
    "def sample_view(request):\n",
    "    if request.method != 'POST':\n",
    "        form = model_nameForm()\n",
    "    else:\n",
    "        form = model_nameForm(data=request.POST)\n",
    "        if form.is_valid():\n",
    "            form.save()\n",
    "            return redirect('app_name:view')\n",
    "\n",
    "    context = {'form': form}\n",
    "    template = 'sample.html'\n",
    "    \n",
    "    return render(request, template, context)"
   ]
  },
  {
   "cell_type": "markdown",
   "metadata": {},
   "source": [
    "Edycja wybranego obiektu modelu."
   ]
  },
  {
   "cell_type": "code",
   "execution_count": null,
   "metadata": {},
   "outputs": [],
   "source": [
    "def sample_edit_view(request, object_id):\n",
    "    obj = Object.objects.get(id=object_id)\n",
    "    if request.method != 'POST':\n",
    "        form = model_nameForm(instance=obj)\n",
    "    else:\n",
    "        form = model_nameForm(instance=obj, data=request.POST)\n",
    "        if form.is_valid():\n",
    "            form.save()\n",
    "        return redirect('app_name:view')\n",
    "    \n",
    "    context = {'form', form}\n",
    "    template = 'sample.html'\n",
    "    return render(request, template, context)"
   ]
  },
  {
   "cell_type": "code",
   "execution_count": null,
   "metadata": {},
   "outputs": [],
   "source": []
  }
 ],
 "metadata": {
  "kernelspec": {
   "display_name": "Python 3 (ipykernel)",
   "language": "python",
   "name": "python3"
  },
  "language_info": {
   "codemirror_mode": {
    "name": "ipython",
    "version": 3
   },
   "file_extension": ".py",
   "mimetype": "text/x-python",
   "name": "python",
   "nbconvert_exporter": "python",
   "pygments_lexer": "ipython3",
   "version": "3.10.4"
  }
 },
 "nbformat": 4,
 "nbformat_minor": 1
}
