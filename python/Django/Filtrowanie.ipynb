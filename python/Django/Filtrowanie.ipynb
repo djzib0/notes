{
 "cells": [
  {
   "cell_type": "markdown",
   "id": "5d3ea9ff",
   "metadata": {
    "pycharm": {
     "name": "#%% md\n"
    }
   },
   "source": [
    "## Django-filter"
   ]
  },
  {
   "cell_type": "markdown",
   "id": "47a907dc",
   "metadata": {
    "pycharm": {
     "name": "#%% md\n"
    }
   },
   "source": [
    "Zainstalować pakiet \"pip install django-filter\"\n",
    "\n",
    "1. W pliku settings.py dodać do INSTALLED_APPS - \"django_filters\"\n",
    "2. Stworzyć nowy plik w katalogu aplikacji - filters.py\n",
    "3. W pliku filter.py zaimportować django_filters oraz modele\n",
    "4. Stworzyć klasę:"
   ]
  },
  {
   "cell_type": "code",
   "execution_count": null,
   "id": "ad4605bc",
   "metadata": {
    "pycharm": {
     "name": "#%%\n"
    }
   },
   "outputs": [],
   "source": [
    "class NameFilter(django_filters.FilterSet):\n",
    "    class Meta:\n",
    "        model = nazwa_modelu\n",
    "        fields = '__all__' # lub analogicznie jak w Formularzach wybrane pola\n",
    "        exclude = ['wybrane_pola'] # analogicznie jak w Formularzach"
   ]
  },
  {
   "cell_type": "markdown",
   "id": "b775bcdf",
   "metadata": {
    "pycharm": {
     "name": "#%% md\n"
    }
   },
   "source": [
    "W pliku views.py"
   ]
  },
  {
   "cell_type": "code",
   "execution_count": null,
   "id": "c5016e5f",
   "metadata": {
    "pycharm": {
     "name": "#%%\n"
    }
   },
   "outputs": [],
   "source": [
    "def model_view(request):\n",
    "    my_filter = NameFilter(request.GET, queryset=nazwa_modelu.objects.all())\n",
    "    filtered_items = my_filter.qs\n",
    "    \n",
    "    # dodajemy filtr i filtorwane elementy do context    \n",
    "    context = {'my_filter': my_filter,\n",
    "               'filtered_items': filtered_items}\n",
    "    "
   ]
  },
  {
   "cell_type": "markdown",
   "id": "45818dde",
   "metadata": {
    "pycharm": {
     "name": "#%% md\n"
    }
   },
   "source": [
    "W template dodajemy poniższy kod."
   ]
  },
  {
   "cell_type": "code",
   "execution_count": null,
   "id": "5a5c3989",
   "metadata": {
    "pycharm": {
     "name": "#%%\n"
    }
   },
   "outputs": [],
   "source": [
    "<form method='get'>\n",
    "  {{ my_filter.form }} # można tak jak w przypadku formularzy {{ my_filter.form.as_p }}\n",
    "  <button type='submit'>Search</button>\n",
    "</form>\n",
    "\n",
    "# wyświetlenie wyników\n",
    "{% for item in filtered_items %}\n",
    "  {{ item }}\n",
    "{% endfor %}    "
   ]
  }
 ],
 "metadata": {
  "kernelspec": {
   "display_name": "Python 3 (ipykernel)",
   "language": "python",
   "name": "python3"
  },
  "language_info": {
   "codemirror_mode": {
    "name": "ipython",
    "version": 3
   },
   "file_extension": ".py",
   "mimetype": "text/x-python",
   "name": "python",
   "nbconvert_exporter": "python",
   "pygments_lexer": "ipython3",
   "version": "3.10.4"
  }
 },
 "nbformat": 4,
 "nbformat_minor": 5
}