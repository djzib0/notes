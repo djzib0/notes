{
 "cells": [
  {
   "cell_type": "markdown",
   "id": "91dc7bf6",
   "metadata": {},
   "source": [
    "## Django-filter"
   ]
  },
  {
   "cell_type": "markdown",
   "id": "44aa276e",
   "metadata": {},
   "source": [
    "Zainstalować pakiet \"pip install django-filter\"\n",
    "\n",
    "1. W pliku settings.py dodać do INSTALLED_APPS - \"django_filters\"\n",
    "2. Stworzyć nowy plik w katalogu aplikacji - filters.py\n",
    "3. W pliku filter.py zaimportować django_filters oraz modele\n",
    "4. Stworzyć klasę:"
   ]
  },
  {
   "cell_type": "code",
   "execution_count": null,
   "id": "719ab931",
   "metadata": {},
   "outputs": [],
   "source": [
    "class nameFilter(django_filters.FilterSet):\n",
    "    class Meta:\n",
    "        model = nazwa_modelu\n",
    "        fields = '__all__' # lub analogicznie jak w Formularzach wybrane pola\n",
    "        exclude = ['wybrane_pola'] # analogicznie jak w Formularzach"
   ]
  },
  {
   "cell_type": "code",
   "execution_count": null,
   "id": "1d4f7dca",
   "metadata": {},
   "outputs": [],
   "source": []
  }
 ],
 "metadata": {
  "kernelspec": {
   "display_name": "Python 3 (ipykernel)",
   "language": "python",
   "name": "python3"
  },
  "language_info": {
   "codemirror_mode": {
    "name": "ipython",
    "version": 3
   },
   "file_extension": ".py",
   "mimetype": "text/x-python",
   "name": "python",
   "nbconvert_exporter": "python",
   "pygments_lexer": "ipython3",
   "version": "3.10.4"
  }
 },
 "nbformat": 4,
 "nbformat_minor": 5
}
